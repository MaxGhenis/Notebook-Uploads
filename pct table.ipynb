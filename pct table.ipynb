{
 "cells": [
  {
   "cell_type": "code",
   "execution_count": 1,
   "metadata": {
    "collapsed": true
   },
   "outputs": [],
   "source": [
    "from taxcalc import *"
   ]
  },
  {
   "cell_type": "code",
   "execution_count": 2,
   "metadata": {
    "collapsed": true
   },
   "outputs": [],
   "source": [
    "reform = {\n",
    "    2017: {\n",
    "        '_STD': [[12700, 25400, 12700, 18700, 25400]],\n",
    "        '_II_rt7': [.35]\n",
    "    }\n",
    "}"
   ]
  },
  {
   "cell_type": "code",
   "execution_count": 3,
   "metadata": {
    "collapsed": false
   },
   "outputs": [
    {
     "name": "stdout",
     "output_type": "stream",
     "text": [
      "You loaded data for 2009.\n",
      "Tax-Calculator startup automatically extrapolated your data to 2013.\n"
     ]
    }
   ],
   "source": [
    "calc = Calculator(records=Records(), policy=Policy())\n",
    "calc.advance_to_year(2017)\n",
    "calc.calc_all()"
   ]
  },
  {
   "cell_type": "code",
   "execution_count": 5,
   "metadata": {
    "collapsed": false
   },
   "outputs": [
    {
     "name": "stdout",
     "output_type": "stream",
     "text": [
      "You loaded data for 2009.\n",
      "Tax-Calculator startup automatically extrapolated your data to 2013.\n"
     ]
    }
   ],
   "source": [
    "pol_x = Policy()\n",
    "pol_x.implement_reform(reform)\n",
    "calc_x = Calculator(records=Records(), policy=pol_x)\n",
    "calc_x.advance_to_year(2017)\n",
    "calc_x.calc_all()"
   ]
  },
  {
   "cell_type": "code",
   "execution_count": 6,
   "metadata": {
    "collapsed": false
   },
   "outputs": [
    {
     "data": {
      "text/html": [
       "<div>\n",
       "<table border=\"1\" class=\"dataframe\">\n",
       "  <thead>\n",
       "    <tr style=\"text-align: right;\">\n",
       "      <th></th>\n",
       "      <th>tax_cut</th>\n",
       "      <th>tax_inc</th>\n",
       "      <th>count</th>\n",
       "      <th>mean</th>\n",
       "      <th>tot_change</th>\n",
       "      <th>perc_inc</th>\n",
       "      <th>perc_cut</th>\n",
       "      <th>share_of_change</th>\n",
       "      <th>aftertax_perc</th>\n",
       "    </tr>\n",
       "  </thead>\n",
       "  <tbody>\n",
       "    <tr>\n",
       "      <th>0</th>\n",
       "      <td>2,813</td>\n",
       "      <td>0</td>\n",
       "      <td>17,041,816</td>\n",
       "      <td>-1</td>\n",
       "      <td>-9,308,851</td>\n",
       "      <td>0.00%</td>\n",
       "      <td>0.02%</td>\n",
       "      <td>0.01%</td>\n",
       "      <td>0.00%</td>\n",
       "    </tr>\n",
       "    <tr>\n",
       "      <th>1</th>\n",
       "      <td>2,603,855</td>\n",
       "      <td>0</td>\n",
       "      <td>17,040,415</td>\n",
       "      <td>-24</td>\n",
       "      <td>-407,013,712</td>\n",
       "      <td>0.00%</td>\n",
       "      <td>15.28%</td>\n",
       "      <td>0.33%</td>\n",
       "      <td>-0.28%</td>\n",
       "    </tr>\n",
       "    <tr>\n",
       "      <th>2</th>\n",
       "      <td>5,158,766</td>\n",
       "      <td>0</td>\n",
       "      <td>17,041,505</td>\n",
       "      <td>-129</td>\n",
       "      <td>-2,199,662,465</td>\n",
       "      <td>0.00%</td>\n",
       "      <td>30.27%</td>\n",
       "      <td>1.78%</td>\n",
       "      <td>-0.96%</td>\n",
       "    </tr>\n",
       "    <tr>\n",
       "      <th>3</th>\n",
       "      <td>7,928,076</td>\n",
       "      <td>0</td>\n",
       "      <td>17,044,022</td>\n",
       "      <td>-262</td>\n",
       "      <td>-4,464,320,090</td>\n",
       "      <td>0.00%</td>\n",
       "      <td>46.52%</td>\n",
       "      <td>3.61%</td>\n",
       "      <td>-1.32%</td>\n",
       "    </tr>\n",
       "    <tr>\n",
       "      <th>4</th>\n",
       "      <td>11,879,722</td>\n",
       "      <td>0</td>\n",
       "      <td>17,041,666</td>\n",
       "      <td>-516</td>\n",
       "      <td>-8,789,263,452</td>\n",
       "      <td>0.00%</td>\n",
       "      <td>69.71%</td>\n",
       "      <td>7.10%</td>\n",
       "      <td>-1.86%</td>\n",
       "    </tr>\n",
       "    <tr>\n",
       "      <th>5</th>\n",
       "      <td>13,243,230</td>\n",
       "      <td>0</td>\n",
       "      <td>17,042,127</td>\n",
       "      <td>-727</td>\n",
       "      <td>-12,391,569,827</td>\n",
       "      <td>0.00%</td>\n",
       "      <td>77.71%</td>\n",
       "      <td>10.01%</td>\n",
       "      <td>-1.97%</td>\n",
       "    </tr>\n",
       "    <tr>\n",
       "      <th>6</th>\n",
       "      <td>14,222,150</td>\n",
       "      <td>0</td>\n",
       "      <td>17,040,903</td>\n",
       "      <td>-1,043</td>\n",
       "      <td>-17,767,435,870</td>\n",
       "      <td>0.00%</td>\n",
       "      <td>83.46%</td>\n",
       "      <td>14.36%</td>\n",
       "      <td>-2.14%</td>\n",
       "    </tr>\n",
       "    <tr>\n",
       "      <th>7</th>\n",
       "      <td>13,760,538</td>\n",
       "      <td>0</td>\n",
       "      <td>17,042,185</td>\n",
       "      <td>-1,218</td>\n",
       "      <td>-20,763,409,837</td>\n",
       "      <td>0.00%</td>\n",
       "      <td>80.74%</td>\n",
       "      <td>16.78%</td>\n",
       "      <td>-1.89%</td>\n",
       "    </tr>\n",
       "    <tr>\n",
       "      <th>8</th>\n",
       "      <td>12,018,904</td>\n",
       "      <td>0</td>\n",
       "      <td>17,042,904</td>\n",
       "      <td>-1,315</td>\n",
       "      <td>-22,419,614,844</td>\n",
       "      <td>0.00%</td>\n",
       "      <td>70.52%</td>\n",
       "      <td>18.12%</td>\n",
       "      <td>-1.41%</td>\n",
       "    </tr>\n",
       "    <tr>\n",
       "      <th>9</th>\n",
       "      <td>5,836,014</td>\n",
       "      <td>0</td>\n",
       "      <td>17,041,967</td>\n",
       "      <td>-2,027</td>\n",
       "      <td>-34,541,827,080</td>\n",
       "      <td>0.00%</td>\n",
       "      <td>34.24%</td>\n",
       "      <td>27.91%</td>\n",
       "      <td>-0.50%</td>\n",
       "    </tr>\n",
       "    <tr>\n",
       "      <th>sums</th>\n",
       "      <td>86,654,068</td>\n",
       "      <td>0</td>\n",
       "      <td>170,419,510</td>\n",
       "      <td>n/a</td>\n",
       "      <td>-123,753,426,028</td>\n",
       "      <td>n/a</td>\n",
       "      <td>n/a</td>\n",
       "      <td>100.00%</td>\n",
       "      <td>n/a</td>\n",
       "    </tr>\n",
       "  </tbody>\n",
       "</table>\n",
       "</div>"
      ],
      "text/plain": [
       "        tax_cut  tax_inc       count     mean       tot_change perc_inc  \\\n",
       "0         2,813        0  17,041,816       -1       -9,308,851    0.00%   \n",
       "1     2,603,855        0  17,040,415      -24     -407,013,712    0.00%   \n",
       "2     5,158,766        0  17,041,505     -129   -2,199,662,465    0.00%   \n",
       "3     7,928,076        0  17,044,022     -262   -4,464,320,090    0.00%   \n",
       "4    11,879,722        0  17,041,666     -516   -8,789,263,452    0.00%   \n",
       "5    13,243,230        0  17,042,127     -727  -12,391,569,827    0.00%   \n",
       "6    14,222,150        0  17,040,903   -1,043  -17,767,435,870    0.00%   \n",
       "7    13,760,538        0  17,042,185   -1,218  -20,763,409,837    0.00%   \n",
       "8    12,018,904        0  17,042,904   -1,315  -22,419,614,844    0.00%   \n",
       "9     5,836,014        0  17,041,967   -2,027  -34,541,827,080    0.00%   \n",
       "sums 86,654,068        0 170,419,510      n/a -123,753,426,028      n/a   \n",
       "\n",
       "     perc_cut share_of_change aftertax_perc  \n",
       "0       0.02%           0.01%         0.00%  \n",
       "1      15.28%           0.33%        -0.28%  \n",
       "2      30.27%           1.78%        -0.96%  \n",
       "3      46.52%           3.61%        -1.32%  \n",
       "4      69.71%           7.10%        -1.86%  \n",
       "5      77.71%          10.01%        -1.97%  \n",
       "6      83.46%          14.36%        -2.14%  \n",
       "7      80.74%          16.78%        -1.89%  \n",
       "8      70.52%          18.12%        -1.41%  \n",
       "9      34.24%          27.91%        -0.50%  \n",
       "sums      n/a         100.00%           n/a  "
      ]
     },
     "execution_count": 6,
     "metadata": {},
     "output_type": "execute_result"
    }
   ],
   "source": [
    "utils.create_difference_table(calc.records, calc_x.records, 'weighted_deciles')"
   ]
  },
  {
   "cell_type": "code",
   "execution_count": 9,
   "metadata": {
    "collapsed": true
   },
   "outputs": [],
   "source": [
    "res = utils.results(calc.records)\n",
    "res = utils.add_weighted_income_bins(res)"
   ]
  },
  {
   "cell_type": "code",
   "execution_count": 14,
   "metadata": {
    "collapsed": false
   },
   "outputs": [],
   "source": [
    "res_group = res.groupby('bins')"
   ]
  },
  {
   "cell_type": "code",
   "execution_count": 17,
   "metadata": {
    "collapsed": false
   },
   "outputs": [
    {
     "name": "stdout",
     "output_type": "stream",
     "text": [
      "Average Expanded Income by decile\n"
     ]
    },
    {
     "data": {
      "text/plain": [
       "bins\n",
       "1      -6,694\n",
       "2       8,807\n",
       "3      15,943\n",
       "4      23,438\n",
       "5      32,816\n",
       "6      44,317\n",
       "7      59,254\n",
       "8      81,104\n",
       "9     120,974\n",
       "10    367,045\n",
       "dtype: float64"
      ]
     },
     "execution_count": 17,
     "metadata": {},
     "output_type": "execute_result"
    }
   ],
   "source": [
    "print 'Average Expanded Income by decile'\n",
    "res_group.apply(utils.weighted_mean, 'expanded_income')"
   ]
  },
  {
   "cell_type": "code",
   "execution_count": null,
   "metadata": {
    "collapsed": true
   },
   "outputs": [],
   "source": []
  }
 ],
 "metadata": {
  "kernelspec": {
   "display_name": "Python [conda root]",
   "language": "python",
   "name": "conda-root-py"
  },
  "language_info": {
   "codemirror_mode": {
    "name": "ipython",
    "version": 2
   },
   "file_extension": ".py",
   "mimetype": "text/x-python",
   "name": "python",
   "nbconvert_exporter": "python",
   "pygments_lexer": "ipython2",
   "version": "2.7.13"
  }
 },
 "nbformat": 4,
 "nbformat_minor": 2
}
