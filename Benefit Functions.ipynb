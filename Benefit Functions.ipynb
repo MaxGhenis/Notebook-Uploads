{
 "cells": [
  {
   "cell_type": "code",
   "execution_count": 1,
   "metadata": {},
   "outputs": [
    {
     "data": {
      "text/html": [
       "\n",
       "    <div class=\"bk-root\">\n",
       "        <a href=\"https://bokeh.pydata.org\" target=\"_blank\" class=\"bk-logo bk-logo-small bk-logo-notebook\"></a>\n",
       "        <span id=\"740a0a89-494e-42f3-a59f-6c7fb3999eb8\">Loading BokehJS ...</span>\n",
       "    </div>"
      ]
     },
     "metadata": {},
     "output_type": "display_data"
    },
    {
     "data": {
      "application/javascript": [
       "\n",
       "(function(root) {\n",
       "  function now() {\n",
       "    return new Date();\n",
       "  }\n",
       "\n",
       "  var force = true;\n",
       "\n",
       "  if (typeof (root._bokeh_onload_callbacks) === \"undefined\" || force === true) {\n",
       "    root._bokeh_onload_callbacks = [];\n",
       "    root._bokeh_is_loading = undefined;\n",
       "  }\n",
       "\n",
       "  var JS_MIME_TYPE = 'application/javascript';\n",
       "  var HTML_MIME_TYPE = 'text/html';\n",
       "  var EXEC_MIME_TYPE = 'application/vnd.bokehjs_exec.v0+json';\n",
       "  var CLASS_NAME = 'output_bokeh rendered_html';\n",
       "\n",
       "  /**\n",
       "   * Render data to the DOM node\n",
       "   */\n",
       "  function render(props, node) {\n",
       "    var script = document.createElement(\"script\");\n",
       "    node.appendChild(script);\n",
       "  }\n",
       "\n",
       "  /**\n",
       "   * Handle when an output is cleared or removed\n",
       "   */\n",
       "  function handleClearOutput(event, handle) {\n",
       "    var cell = handle.cell;\n",
       "\n",
       "    var id = cell.output_area._bokeh_element_id;\n",
       "    var server_id = cell.output_area._bokeh_server_id;\n",
       "    // Clean up Bokeh references\n",
       "    if (id !== undefined) {\n",
       "      Bokeh.index[id].model.document.clear();\n",
       "      delete Bokeh.index[id];\n",
       "    }\n",
       "\n",
       "    if (server_id !== undefined) {\n",
       "      // Clean up Bokeh references\n",
       "      var cmd = \"from bokeh.io.state import curstate; print(curstate().uuid_to_server['\" + server_id + \"'].get_sessions()[0].document.roots[0]._id)\";\n",
       "      cell.notebook.kernel.execute(cmd, {\n",
       "        iopub: {\n",
       "          output: function(msg) {\n",
       "            var element_id = msg.content.text.trim();\n",
       "            Bokeh.index[element_id].model.document.clear();\n",
       "            delete Bokeh.index[element_id];\n",
       "          }\n",
       "        }\n",
       "      });\n",
       "      // Destroy server and session\n",
       "      var cmd = \"import bokeh.io.notebook as ion; ion.destroy_server('\" + server_id + \"')\";\n",
       "      cell.notebook.kernel.execute(cmd);\n",
       "    }\n",
       "  }\n",
       "\n",
       "  /**\n",
       "   * Handle when a new output is added\n",
       "   */\n",
       "  function handleAddOutput(event, handle) {\n",
       "    var output_area = handle.output_area;\n",
       "    var output = handle.output;\n",
       "\n",
       "    // limit handleAddOutput to display_data with EXEC_MIME_TYPE content only\n",
       "    if ((output.output_type != \"display_data\") || (!output.data.hasOwnProperty(EXEC_MIME_TYPE))) {\n",
       "      return\n",
       "    }\n",
       "\n",
       "    var toinsert = output_area.element.find(`.${CLASS_NAME.split(' ')[0]}`);\n",
       "\n",
       "    if (output.metadata[EXEC_MIME_TYPE][\"id\"] !== undefined) {\n",
       "      toinsert[0].firstChild.textContent = output.data[JS_MIME_TYPE];\n",
       "      // store reference to embed id on output_area\n",
       "      output_area._bokeh_element_id = output.metadata[EXEC_MIME_TYPE][\"id\"];\n",
       "    }\n",
       "    if (output.metadata[EXEC_MIME_TYPE][\"server_id\"] !== undefined) {\n",
       "      var bk_div = document.createElement(\"div\");\n",
       "      bk_div.innerHTML = output.data[HTML_MIME_TYPE];\n",
       "      var script_attrs = bk_div.children[0].attributes;\n",
       "      for (var i = 0; i < script_attrs.length; i++) {\n",
       "        toinsert[0].firstChild.setAttribute(script_attrs[i].name, script_attrs[i].value);\n",
       "      }\n",
       "      // store reference to server id on output_area\n",
       "      output_area._bokeh_server_id = output.metadata[EXEC_MIME_TYPE][\"server_id\"];\n",
       "    }\n",
       "  }\n",
       "\n",
       "  function register_renderer(events, OutputArea) {\n",
       "\n",
       "    function append_mime(data, metadata, element) {\n",
       "      // create a DOM node to render to\n",
       "      var toinsert = this.create_output_subarea(\n",
       "        metadata,\n",
       "        CLASS_NAME,\n",
       "        EXEC_MIME_TYPE\n",
       "      );\n",
       "      this.keyboard_manager.register_events(toinsert);\n",
       "      // Render to node\n",
       "      var props = {data: data, metadata: metadata[EXEC_MIME_TYPE]};\n",
       "      render(props, toinsert[0]);\n",
       "      element.append(toinsert);\n",
       "      return toinsert\n",
       "    }\n",
       "\n",
       "    /* Handle when an output is cleared or removed */\n",
       "    events.on('clear_output.CodeCell', handleClearOutput);\n",
       "    events.on('delete.Cell', handleClearOutput);\n",
       "\n",
       "    /* Handle when a new output is added */\n",
       "    events.on('output_added.OutputArea', handleAddOutput);\n",
       "\n",
       "    /**\n",
       "     * Register the mime type and append_mime function with output_area\n",
       "     */\n",
       "    OutputArea.prototype.register_mime_type(EXEC_MIME_TYPE, append_mime, {\n",
       "      /* Is output safe? */\n",
       "      safe: true,\n",
       "      /* Index of renderer in `output_area.display_order` */\n",
       "      index: 0\n",
       "    });\n",
       "  }\n",
       "\n",
       "  // register the mime type if in Jupyter Notebook environment and previously unregistered\n",
       "  if (root.Jupyter !== undefined) {\n",
       "    var events = require('base/js/events');\n",
       "    var OutputArea = require('notebook/js/outputarea').OutputArea;\n",
       "\n",
       "    if (OutputArea.prototype.mime_types().indexOf(EXEC_MIME_TYPE) == -1) {\n",
       "      register_renderer(events, OutputArea);\n",
       "    }\n",
       "  }\n",
       "\n",
       "  \n",
       "  if (typeof (root._bokeh_timeout) === \"undefined\" || force === true) {\n",
       "    root._bokeh_timeout = Date.now() + 5000;\n",
       "    root._bokeh_failed_load = false;\n",
       "  }\n",
       "\n",
       "  var NB_LOAD_WARNING = {'data': {'text/html':\n",
       "     \"<div style='background-color: #fdd'>\\n\"+\n",
       "     \"<p>\\n\"+\n",
       "     \"BokehJS does not appear to have successfully loaded. If loading BokehJS from CDN, this \\n\"+\n",
       "     \"may be due to a slow or bad network connection. Possible fixes:\\n\"+\n",
       "     \"</p>\\n\"+\n",
       "     \"<ul>\\n\"+\n",
       "     \"<li>re-rerun `output_notebook()` to attempt to load from CDN again, or</li>\\n\"+\n",
       "     \"<li>use INLINE resources instead, as so:</li>\\n\"+\n",
       "     \"</ul>\\n\"+\n",
       "     \"<code>\\n\"+\n",
       "     \"from bokeh.resources import INLINE\\n\"+\n",
       "     \"output_notebook(resources=INLINE)\\n\"+\n",
       "     \"</code>\\n\"+\n",
       "     \"</div>\"}};\n",
       "\n",
       "  function display_loaded() {\n",
       "    var el = document.getElementById(\"740a0a89-494e-42f3-a59f-6c7fb3999eb8\");\n",
       "    if (el != null) {\n",
       "      el.textContent = \"BokehJS is loading...\";\n",
       "    }\n",
       "    if (root.Bokeh !== undefined) {\n",
       "      if (el != null) {\n",
       "        el.textContent = \"BokehJS \" + root.Bokeh.version + \" successfully loaded.\";\n",
       "      }\n",
       "    } else if (Date.now() < root._bokeh_timeout) {\n",
       "      setTimeout(display_loaded, 100)\n",
       "    }\n",
       "  }\n",
       "\n",
       "\n",
       "  function run_callbacks() {\n",
       "    try {\n",
       "      root._bokeh_onload_callbacks.forEach(function(callback) { callback() });\n",
       "    }\n",
       "    finally {\n",
       "      delete root._bokeh_onload_callbacks\n",
       "    }\n",
       "    console.info(\"Bokeh: all callbacks have finished\");\n",
       "  }\n",
       "\n",
       "  function load_libs(js_urls, callback) {\n",
       "    root._bokeh_onload_callbacks.push(callback);\n",
       "    if (root._bokeh_is_loading > 0) {\n",
       "      console.log(\"Bokeh: BokehJS is being loaded, scheduling callback at\", now());\n",
       "      return null;\n",
       "    }\n",
       "    if (js_urls == null || js_urls.length === 0) {\n",
       "      run_callbacks();\n",
       "      return null;\n",
       "    }\n",
       "    console.log(\"Bokeh: BokehJS not loaded, scheduling load and callback at\", now());\n",
       "    root._bokeh_is_loading = js_urls.length;\n",
       "    for (var i = 0; i < js_urls.length; i++) {\n",
       "      var url = js_urls[i];\n",
       "      var s = document.createElement('script');\n",
       "      s.src = url;\n",
       "      s.async = false;\n",
       "      s.onreadystatechange = s.onload = function() {\n",
       "        root._bokeh_is_loading--;\n",
       "        if (root._bokeh_is_loading === 0) {\n",
       "          console.log(\"Bokeh: all BokehJS libraries loaded\");\n",
       "          run_callbacks()\n",
       "        }\n",
       "      };\n",
       "      s.onerror = function() {\n",
       "        console.warn(\"failed to load library \" + url);\n",
       "      };\n",
       "      console.log(\"Bokeh: injecting script tag for BokehJS library: \", url);\n",
       "      document.getElementsByTagName(\"head\")[0].appendChild(s);\n",
       "    }\n",
       "  };var element = document.getElementById(\"740a0a89-494e-42f3-a59f-6c7fb3999eb8\");\n",
       "  if (element == null) {\n",
       "    console.log(\"Bokeh: ERROR: autoload.js configured with elementid '740a0a89-494e-42f3-a59f-6c7fb3999eb8' but no matching script tag was found. \")\n",
       "    return false;\n",
       "  }\n",
       "\n",
       "  var js_urls = [\"https://cdn.pydata.org/bokeh/release/bokeh-0.12.10.min.js\", \"https://cdn.pydata.org/bokeh/release/bokeh-widgets-0.12.10.min.js\", \"https://cdn.pydata.org/bokeh/release/bokeh-tables-0.12.10.min.js\", \"https://cdn.pydata.org/bokeh/release/bokeh-gl-0.12.10.min.js\"];\n",
       "\n",
       "  var inline_js = [\n",
       "    function(Bokeh) {\n",
       "      Bokeh.set_log_level(\"info\");\n",
       "    },\n",
       "    \n",
       "    function(Bokeh) {\n",
       "      \n",
       "    },\n",
       "    function(Bokeh) {\n",
       "      console.log(\"Bokeh: injecting CSS: https://cdn.pydata.org/bokeh/release/bokeh-0.12.10.min.css\");\n",
       "      Bokeh.embed.inject_css(\"https://cdn.pydata.org/bokeh/release/bokeh-0.12.10.min.css\");\n",
       "      console.log(\"Bokeh: injecting CSS: https://cdn.pydata.org/bokeh/release/bokeh-widgets-0.12.10.min.css\");\n",
       "      Bokeh.embed.inject_css(\"https://cdn.pydata.org/bokeh/release/bokeh-widgets-0.12.10.min.css\");\n",
       "      console.log(\"Bokeh: injecting CSS: https://cdn.pydata.org/bokeh/release/bokeh-tables-0.12.10.min.css\");\n",
       "      Bokeh.embed.inject_css(\"https://cdn.pydata.org/bokeh/release/bokeh-tables-0.12.10.min.css\");\n",
       "    }\n",
       "  ];\n",
       "\n",
       "  function run_inline_js() {\n",
       "    \n",
       "    if ((root.Bokeh !== undefined) || (force === true)) {\n",
       "      for (var i = 0; i < inline_js.length; i++) {\n",
       "        inline_js[i].call(root, root.Bokeh);\n",
       "      }if (force === true) {\n",
       "        display_loaded();\n",
       "      }} else if (Date.now() < root._bokeh_timeout) {\n",
       "      setTimeout(run_inline_js, 100);\n",
       "    } else if (!root._bokeh_failed_load) {\n",
       "      console.log(\"Bokeh: BokehJS failed to load within specified timeout.\");\n",
       "      root._bokeh_failed_load = true;\n",
       "    } else if (force !== true) {\n",
       "      var cell = $(document.getElementById(\"740a0a89-494e-42f3-a59f-6c7fb3999eb8\")).parents('.cell').data().cell;\n",
       "      cell.output_area.append_execute_result(NB_LOAD_WARNING)\n",
       "    }\n",
       "\n",
       "  }\n",
       "\n",
       "  if (root._bokeh_is_loading === 0) {\n",
       "    console.log(\"Bokeh: BokehJS loaded, going straight to plotting\");\n",
       "    run_inline_js();\n",
       "  } else {\n",
       "    load_libs(js_urls, function() {\n",
       "      console.log(\"Bokeh: BokehJS plotting callback run at\", now());\n",
       "      run_inline_js();\n",
       "    });\n",
       "  }\n",
       "}(window));"
      ],
      "application/vnd.bokehjs_load.v0+json": "\n(function(root) {\n  function now() {\n    return new Date();\n  }\n\n  var force = true;\n\n  if (typeof (root._bokeh_onload_callbacks) === \"undefined\" || force === true) {\n    root._bokeh_onload_callbacks = [];\n    root._bokeh_is_loading = undefined;\n  }\n\n  \n\n  \n  if (typeof (root._bokeh_timeout) === \"undefined\" || force === true) {\n    root._bokeh_timeout = Date.now() + 5000;\n    root._bokeh_failed_load = false;\n  }\n\n  var NB_LOAD_WARNING = {'data': {'text/html':\n     \"<div style='background-color: #fdd'>\\n\"+\n     \"<p>\\n\"+\n     \"BokehJS does not appear to have successfully loaded. If loading BokehJS from CDN, this \\n\"+\n     \"may be due to a slow or bad network connection. Possible fixes:\\n\"+\n     \"</p>\\n\"+\n     \"<ul>\\n\"+\n     \"<li>re-rerun `output_notebook()` to attempt to load from CDN again, or</li>\\n\"+\n     \"<li>use INLINE resources instead, as so:</li>\\n\"+\n     \"</ul>\\n\"+\n     \"<code>\\n\"+\n     \"from bokeh.resources import INLINE\\n\"+\n     \"output_notebook(resources=INLINE)\\n\"+\n     \"</code>\\n\"+\n     \"</div>\"}};\n\n  function display_loaded() {\n    var el = document.getElementById(\"740a0a89-494e-42f3-a59f-6c7fb3999eb8\");\n    if (el != null) {\n      el.textContent = \"BokehJS is loading...\";\n    }\n    if (root.Bokeh !== undefined) {\n      if (el != null) {\n        el.textContent = \"BokehJS \" + root.Bokeh.version + \" successfully loaded.\";\n      }\n    } else if (Date.now() < root._bokeh_timeout) {\n      setTimeout(display_loaded, 100)\n    }\n  }\n\n\n  function run_callbacks() {\n    try {\n      root._bokeh_onload_callbacks.forEach(function(callback) { callback() });\n    }\n    finally {\n      delete root._bokeh_onload_callbacks\n    }\n    console.info(\"Bokeh: all callbacks have finished\");\n  }\n\n  function load_libs(js_urls, callback) {\n    root._bokeh_onload_callbacks.push(callback);\n    if (root._bokeh_is_loading > 0) {\n      console.log(\"Bokeh: BokehJS is being loaded, scheduling callback at\", now());\n      return null;\n    }\n    if (js_urls == null || js_urls.length === 0) {\n      run_callbacks();\n      return null;\n    }\n    console.log(\"Bokeh: BokehJS not loaded, scheduling load and callback at\", now());\n    root._bokeh_is_loading = js_urls.length;\n    for (var i = 0; i < js_urls.length; i++) {\n      var url = js_urls[i];\n      var s = document.createElement('script');\n      s.src = url;\n      s.async = false;\n      s.onreadystatechange = s.onload = function() {\n        root._bokeh_is_loading--;\n        if (root._bokeh_is_loading === 0) {\n          console.log(\"Bokeh: all BokehJS libraries loaded\");\n          run_callbacks()\n        }\n      };\n      s.onerror = function() {\n        console.warn(\"failed to load library \" + url);\n      };\n      console.log(\"Bokeh: injecting script tag for BokehJS library: \", url);\n      document.getElementsByTagName(\"head\")[0].appendChild(s);\n    }\n  };var element = document.getElementById(\"740a0a89-494e-42f3-a59f-6c7fb3999eb8\");\n  if (element == null) {\n    console.log(\"Bokeh: ERROR: autoload.js configured with elementid '740a0a89-494e-42f3-a59f-6c7fb3999eb8' but no matching script tag was found. \")\n    return false;\n  }\n\n  var js_urls = [\"https://cdn.pydata.org/bokeh/release/bokeh-0.12.10.min.js\", \"https://cdn.pydata.org/bokeh/release/bokeh-widgets-0.12.10.min.js\", \"https://cdn.pydata.org/bokeh/release/bokeh-tables-0.12.10.min.js\", \"https://cdn.pydata.org/bokeh/release/bokeh-gl-0.12.10.min.js\"];\n\n  var inline_js = [\n    function(Bokeh) {\n      Bokeh.set_log_level(\"info\");\n    },\n    \n    function(Bokeh) {\n      \n    },\n    function(Bokeh) {\n      console.log(\"Bokeh: injecting CSS: https://cdn.pydata.org/bokeh/release/bokeh-0.12.10.min.css\");\n      Bokeh.embed.inject_css(\"https://cdn.pydata.org/bokeh/release/bokeh-0.12.10.min.css\");\n      console.log(\"Bokeh: injecting CSS: https://cdn.pydata.org/bokeh/release/bokeh-widgets-0.12.10.min.css\");\n      Bokeh.embed.inject_css(\"https://cdn.pydata.org/bokeh/release/bokeh-widgets-0.12.10.min.css\");\n      console.log(\"Bokeh: injecting CSS: https://cdn.pydata.org/bokeh/release/bokeh-tables-0.12.10.min.css\");\n      Bokeh.embed.inject_css(\"https://cdn.pydata.org/bokeh/release/bokeh-tables-0.12.10.min.css\");\n    }\n  ];\n\n  function run_inline_js() {\n    \n    if ((root.Bokeh !== undefined) || (force === true)) {\n      for (var i = 0; i < inline_js.length; i++) {\n        inline_js[i].call(root, root.Bokeh);\n      }if (force === true) {\n        display_loaded();\n      }} else if (Date.now() < root._bokeh_timeout) {\n      setTimeout(run_inline_js, 100);\n    } else if (!root._bokeh_failed_load) {\n      console.log(\"Bokeh: BokehJS failed to load within specified timeout.\");\n      root._bokeh_failed_load = true;\n    } else if (force !== true) {\n      var cell = $(document.getElementById(\"740a0a89-494e-42f3-a59f-6c7fb3999eb8\")).parents('.cell').data().cell;\n      cell.output_area.append_execute_result(NB_LOAD_WARNING)\n    }\n\n  }\n\n  if (root._bokeh_is_loading === 0) {\n    console.log(\"Bokeh: BokehJS loaded, going straight to plotting\");\n    run_inline_js();\n  } else {\n    load_libs(js_urls, function() {\n      console.log(\"Bokeh: BokehJS plotting callback run at\", now());\n      run_inline_js();\n    });\n  }\n}(window));"
     },
     "metadata": {},
     "output_type": "display_data"
    }
   ],
   "source": [
    "from taxcalc import *\n",
    "from bokeh.plotting import figure\n",
    "from bokeh.io import show, output_notebook, push_notebook\n",
    "from bokeh.models import HoverTool, ColumnDataSource, NumeralTickFormatter\n",
    "from bokeh.models.widgets import Select\n",
    "from bokeh.models.annotations import LabelSet\n",
    "from bokeh.layouts import row\n",
    "from notebookfunctions import distribution, percentile, weighted_sum\n",
    "from ipywidgets import interactive, Dropdown\n",
    "from IPython.display import display\n",
    "import pandas as pd\n",
    "import numpy as np\n",
    "import copy\n",
    "output_notebook()"
   ]
  },
  {
   "cell_type": "code",
   "execution_count": 2,
   "metadata": {},
   "outputs": [],
   "source": [
    "ben_name_list = ['Medicare', 'Medicaid', 'Veterans Benefits', 'SNAP', 'SSI', 'Social Security']\n",
    "ben_part_names = ['mcare_part', 'mcaid_part', 'vb_part', 'snap_part', 'ssi_part', 'ss_part']\n",
    "years = [year for year in range(2014, 2027)]\n",
    "participation_index = [i for i in range(1, 101)]\n",
    "bin_axis = ['{}-{}%'.format(i - 10, i) for i in range(10, 110, 10)]"
   ]
  },
  {
   "cell_type": "markdown",
   "metadata": {},
   "source": [
    "##### Functions used for plot updating"
   ]
  },
  {
   "cell_type": "code",
   "execution_count": 3,
   "metadata": {},
   "outputs": [],
   "source": [
    "# function to update the total benefit plot\n",
    "def total_bar_update(ben):\n",
    "    init_bar.data_source.data['top'] = ben_total_cds.data[ben]\n",
    "    total_fig.title.text = 'Total {} Benefit by Year'.format(ben)\n",
    "    push_notebook(handle=value_handle)"
   ]
  },
  {
   "cell_type": "code",
   "execution_count": 4,
   "metadata": {},
   "outputs": [],
   "source": [
    "# function to update participation rate year\n",
    "def participation_rate_update(year):\n",
    "    mcare_part.data_source.data['Medicare'] = participation_rates[year]['Medicare']\n",
    "    mcaid_part.data_source.data['Medicaid'] = participation_rates[year]['Medicaid']\n",
    "    ss_part.data_source.data['Social Security'] = participation_rates[year]['Social Security']\n",
    "    snap_part.data_source.data['SNAP'] = participation_rates[year]['SNAP']\n",
    "    ssi_part.data_source.data['SSI'] = participation_rates[year]['SSI']\n",
    "    vb_part.data_source.data['Veterans Benefits'] = participation_rates[year]['Veterans Benefits']\n",
    "    part_fig.title.text = 'Participation Rates by AGI Percentile for {}'.format(year)\n",
    "    push_notebook(handle=part_rates)"
   ]
  },
  {
   "cell_type": "code",
   "execution_count": 5,
   "metadata": {},
   "outputs": [],
   "source": [
    "# function to update average benefit for all\n",
    "def aba_update(year):\n",
    "    mcare_aba.data_source.data['Medicare'] = avg_ben_all[year]['Medicare']\n",
    "    mcaid_aba.data_source.data['Medicaid'] = avg_ben_all[year]['Medicaid']\n",
    "    ss_aba.data_source.data['Social Security'] = avg_ben_all[year]['Social Security']\n",
    "    snap_aba.data_source.data['SNAP'] = avg_ben_all[year]['SNAP']\n",
    "    ssi_aba.data_source.data['SSI'] = avg_ben_all[year]['SSI']\n",
    "    vb_aba.data_source.data['Veterans Benefits'] = avg_ben_all[year]['Veterans Benefits']\n",
    "    avg_ben_all_fig.title.text = 'Average Benefit by AGI Percentile for {}'.format(year)\n",
    "    push_notebook(handle=aba_fig)"
   ]
  },
  {
   "cell_type": "code",
   "execution_count": 6,
   "metadata": {},
   "outputs": [],
   "source": [
    "# function to update average benefit for participants\n",
    "def abp_update(year):\n",
    "    mcare_abp.data_source.data['Medicare'] = avg_ben_participants[year]['Medicare']\n",
    "    mcaid_abp.data_source.data['Medicaid'] = avg_ben_participants[year]['Medicaid']\n",
    "    ss_abp.data_source.data['Social Security'] = avg_ben_participants[year]['Social Security']\n",
    "    snap_abp.data_source.data['SNAP'] = avg_ben_participants[year]['SNAP']\n",
    "    ssi_abp.data_source.data['SSI'] = avg_ben_participants[year]['SSI']\n",
    "    vb_abp.data_source.data['Veterans Benefits'] = avg_ben_participants[year]['Veterans Benefits']\n",
    "    avg_ben_part_fig.title.text = 'Average Benefit for Participants by AGI Percentile for {}'.format(year)\n",
    "    push_notebook(handle=abp_fig)"
   ]
  },
  {
   "cell_type": "code",
   "execution_count": 7,
   "metadata": {},
   "outputs": [],
   "source": [
    "# function to update the total benefit by bin plot\n",
    "def bin_total_bar_update(year, ben):\n",
    "    ben_total_bar.data_source.data['top'] = ben_totals_bin[year][ben]\n",
    "    ben_total_fig.title.text = 'Total {} Benefits by AGI Percentile Bin {}'.format(ben, year)\n",
    "    push_notebook(handle=bin_total_handle)"
   ]
  },
  {
   "cell_type": "code",
   "execution_count": 8,
   "metadata": {},
   "outputs": [],
   "source": [
    "# function to update the average benefit by bin plot\n",
    "def bin_avg_bar_update(year, ben):\n",
    "    ben_avg_bar.data_source.data['top'] = ben_avg_bin[year][ben]\n",
    "    ben_avg_fig.title.text = 'Average {} Benefits by AGI Percentile Bin for {}'.format(ben, year)\n",
    "    push_notebook(handle=bin_avg_handle)"
   ]
  },
  {
   "cell_type": "markdown",
   "metadata": {},
   "source": [
    "###### Dropdowns for plots"
   ]
  },
  {
   "cell_type": "code",
   "execution_count": 9,
   "metadata": {},
   "outputs": [],
   "source": [
    "# total benefits by year dropdown\n",
    "total_dropdown = Dropdown(options=ben_name_list, value='Medicare', description='Benefit')"
   ]
  },
  {
   "cell_type": "code",
   "execution_count": 10,
   "metadata": {},
   "outputs": [],
   "source": [
    "# Participation rates by year dropdown\n",
    "year_dropdown = Dropdown(options=years, value=2014, description='Year')"
   ]
  },
  {
   "cell_type": "code",
   "execution_count": 11,
   "metadata": {},
   "outputs": [],
   "source": [
    "# average benefits for all dropdown\n",
    "year_dropdown2 = Dropdown(options=years, value=2014, description='Year')"
   ]
  },
  {
   "cell_type": "code",
   "execution_count": 12,
   "metadata": {},
   "outputs": [],
   "source": [
    "# average benefits for participants dropdown\n",
    "year_dropdown3 = Dropdown(options=years, value=2014, description='Year')"
   ]
  },
  {
   "cell_type": "code",
   "execution_count": 13,
   "metadata": {},
   "outputs": [],
   "source": [
    "# total benefits by AGI bin dropdown\n",
    "year_dropdown4 = Dropdown(options=years, value=2014, description='Year')\n",
    "bin_total_dropdown = Dropdown(options=ben_name_list, value='Medicare', description='Benefit')"
   ]
  },
  {
   "cell_type": "code",
   "execution_count": 14,
   "metadata": {},
   "outputs": [],
   "source": [
    "# average benefits by AGI dropdown\n",
    "year_dropdown5 = Dropdown(options=years, value=2014, description='Year')\n",
    "bin_avg_dropdown = Dropdown(options=ben_name_list, value='Medicare', description='Benefit')"
   ]
  },
  {
   "cell_type": "markdown",
   "metadata": {},
   "source": [
    "### Calculations for benefits plots"
   ]
  },
  {
   "cell_type": "code",
   "execution_count": 15,
   "metadata": {},
   "outputs": [
    {
     "name": "stdout",
     "output_type": "stream",
     "text": [
      "You loaded data for 2014.\n",
      "Your data include the following unused variables that will be ignored:\n",
      "  total_ben\n",
      "Tax-Calculator startup automatically extrapolated your data to 2014.\n"
     ]
    }
   ],
   "source": [
    "# calculator used to create the data for plotting\n",
    "calc_plots = Calculator(records=Records.cps_constructor(), policy=Policy())"
   ]
  },
  {
   "cell_type": "code",
   "execution_count": 16,
   "metadata": {},
   "outputs": [],
   "source": [
    "# dictionaries that will hold plot data\n",
    "benefit_total_years = {'Medicare': [], 'Medicaid': [],\n",
    "                       'Veterans Benefits': [], 'SNAP': [],\n",
    "                       'SSI': [], 'Social Security': [],\n",
    "                       'year': [year for year in range(2014, 2027)]}  # sum of each benefit by year\n",
    "participation_rates = {}  # participation rates for each benefit by year\n",
    "avg_ben_all = {}  # average benefit for everyone by AGI percentile\n",
    "avg_ben_participants = {}  # average benefit by AGI percentile for just participants\n",
    "ben_totals_bin = {}  # total benefits by year by AGI bin\n",
    "ben_avg_bin = {}  # average benefits by year by AGI bin\n",
    "# loop through each year to get data needed for benefits plots\n",
    "for year in range(2014, 2027):\n",
    "    calc_plots.advance_to_year(year)\n",
    "    calc_plots.calc_all()\n",
    "    # DataFrame to hold all the needed data\n",
    "    ben_df = pd.DataFrame({'s006': calc_plots.records.s006,\n",
    "                           'Medicare': calc_plots.records.mcare_ben,\n",
    "                           'Medicaid': calc_plots.records.mcaid_ben,\n",
    "                           'Veterans Benefits': calc_plots.records.vet_ben,\n",
    "                           'SNAP': calc_plots.records.snap_ben,\n",
    "                           'SSI': calc_plots.records.ssi_ben,\n",
    "                           'Social Security': calc_plots.records.ss_ben,\n",
    "                           'AGI': calc_plots.records.c00100})\n",
    "    # create dummies for participation\n",
    "    ben_df['mcare_part'] = np.where(ben_df['Medicare'] > 0, 1, 0)\n",
    "    ben_df['mcaid_part'] = np.where(ben_df['Medicaid'] > 0, 1, 0)\n",
    "    ben_df['vb_part'] = np.where(ben_df['Veterans Benefits'] > 0, 1, 0)\n",
    "    ben_df['snap_part'] = np.where(ben_df['SNAP'] > 0, 1, 0)\n",
    "    ben_df['ssi_part'] = np.where(ben_df['SSI'] > 0, 1, 0)\n",
    "    ben_df['ss_part'] = np.where(ben_df['Social Security'] > 0, 1, 0)\n",
    "    \n",
    "    # initialize keys in certain dictionaries\n",
    "    participation_rates[year] = {}\n",
    "    avg_ben_all[year] = {}\n",
    "    avg_ben_participants[year] = {}\n",
    "    ben_totals_bin[year] = {}\n",
    "    ben_avg_bin[year] = {}\n",
    "\n",
    "    # loop through benefit names to add to dictionaries\n",
    "    for i in range(0, len(ben_name_list)):\n",
    "        ben = ben_name_list[i]\n",
    "        ben_part = ben_part_names[i]\n",
    "        # add weighted sum for each benefit to their list\n",
    "        benefit_total_years[ben].append(weighted_sum(ben_df, ben))\n",
    "        # add mean participation rates by benefit\n",
    "        participation_rates[year][ben] = percentile(ben_df, ben_part, 100, 'AGI')\n",
    "        participation_rates[year]['index'] = [i for i in range(1, 101)]\n",
    "        # add average benefit by percentile for all\n",
    "        avg_ben_all[year][ben] = percentile(ben_df, ben, 100, 'AGI')\n",
    "        # add average benefit by percentile for participants\n",
    "        sub_df = copy.deepcopy(ben_df[ben_df[ben_part] == 1])\n",
    "        avg_ben_participants[year][ben] = percentile(sub_df, ben, 100, 'AGI')\n",
    "        ben_totals_bin[year][ben] = percentile(ben_df, ben, 10, 'AGI', result_type='sum')\n",
    "        ben_avg_bin[year][ben] = percentile(ben_df, ben, 10, 'AGI')"
   ]
  },
  {
   "cell_type": "code",
   "execution_count": 17,
   "metadata": {},
   "outputs": [],
   "source": [
    "# add info to dictionaries as needed\n",
    "\n",
    "benefit_total_years['year'] = years\n",
    "benefit_total_years['top'] = [i * 0 for i in years]\n",
    "\n",
    "avg_ben_all[2014]['index'] = participation_index\n",
    "avg_ben_participants[2014]['index'] = participation_index\n",
    "\n",
    "ben_totals_bin[2014]['index'] = bin_axis\n",
    "ben_avg_bin[2014]['index'] = bin_axis\n",
    "ben_totals_bin[2014]['top'] = ben_totals_bin[2014]['Medicaid']\n",
    "ben_avg_bin[2014]['top'] = ben_avg_bin[2014]['Medicaid']"
   ]
  },
  {
   "cell_type": "code",
   "execution_count": 18,
   "metadata": {},
   "outputs": [],
   "source": [
    "# create starting Column Data Sources\n",
    "ben_total_cds = ColumnDataSource(benefit_total_years)\n",
    "participation_rates_cds = ColumnDataSource(participation_rates[2014])\n",
    "avg_ben_all_cds = ColumnDataSource(avg_ben_all[2014])\n",
    "avg_ben_participants_cds = ColumnDataSource(avg_ben_participants[2014])\n",
    "ben_totals_bin_cds = ColumnDataSource(ben_totals_bin[2014])\n",
    "ben_avg_bin_cds = ColumnDataSource(ben_avg_bin[2014])"
   ]
  },
  {
   "cell_type": "markdown",
   "metadata": {},
   "source": [
    "# Total Benefits by Year"
   ]
  },
  {
   "cell_type": "code",
   "execution_count": 19,
   "metadata": {},
   "outputs": [],
   "source": [
    "total_fig = figure(title='Total Benefit by Year',\n",
    "                   y_range=(0.0, 1e12))\n",
    "init_bar = total_fig.vbar(x='year', width=0.75, bottom=0, top='top', source=ben_total_cds)\n",
    "\n",
    "hover = HoverTool(tooltips=[('Value', '@top{$ 0.00 a}')])\n",
    "total_fig.add_tools(hover)\n",
    "\n",
    "total_fig.yaxis[0].formatter = NumeralTickFormatter(format='$0.00a')\n",
    "total_fig.xaxis.minor_tick_line_color = None\n",
    "total_fig.xaxis.axis_label = 'Year'\n",
    "total_fig.yaxis.axis_label = 'Total Benefit'"
   ]
  },
  {
   "cell_type": "code",
   "execution_count": 41,
   "metadata": {
    "scrolled": false
   },
   "outputs": [
    {
     "data": {
      "text/html": [
       "\n",
       "<div class=\"bk-root\">\n",
       "    <div class=\"bk-plotdiv\" id=\"20c8074c-0d8d-48c6-9676-7bef154d9689\"></div>\n",
       "</div>"
      ]
     },
     "metadata": {},
     "output_type": "display_data"
    },
    {
     "data": {
      "application/javascript": [
       "(function(root) {\n",
       "  function embed_document(root) {\n",
       "    var docs_json = {\"fd7833d8-b0af-46ef-85ad-54ae2b960407\":{\"roots\":{\"references\":[{\"attributes\":{\"data_source\":{\"id\":\"232c2714-f7be-4920-8c1b-107c68f1e808\",\"type\":\"ColumnDataSource\"},\"glyph\":{\"id\":\"e7d2b7f5-1ff5-46b7-a60f-95530e1546ec\",\"type\":\"VBar\"},\"hover_glyph\":null,\"muted_glyph\":null,\"nonselection_glyph\":{\"id\":\"cbb2abaa-434c-4acc-8a69-143ae7df3e8c\",\"type\":\"VBar\"},\"selection_glyph\":null,\"view\":{\"id\":\"5c8c462b-a407-4c6e-96b7-cea5d9949ea6\",\"type\":\"CDSView\"}},\"id\":\"075fdb9b-f203-4bc2-89c0-255b1b2cccf9\",\"type\":\"GlyphRenderer\"},{\"attributes\":{\"axis_label\":\"Total Benefit\",\"formatter\":{\"id\":\"18496c74-eef5-4756-8561-b34bd3d8b0eb\",\"type\":\"NumeralTickFormatter\"},\"plot\":{\"id\":\"48448d06-8070-4fd5-8370-88e1514cfa9c\",\"subtype\":\"Figure\",\"type\":\"Plot\"},\"ticker\":{\"id\":\"935b68b4-0e0f-4bb3-8e1f-a4faada12aa7\",\"type\":\"BasicTicker\"}},\"id\":\"281c0e82-a573-4b0f-9543-d045a9330140\",\"type\":\"LinearAxis\"},{\"attributes\":{\"dimension\":1,\"plot\":{\"id\":\"48448d06-8070-4fd5-8370-88e1514cfa9c\",\"subtype\":\"Figure\",\"type\":\"Plot\"},\"ticker\":{\"id\":\"935b68b4-0e0f-4bb3-8e1f-a4faada12aa7\",\"type\":\"BasicTicker\"}},\"id\":\"9d783e84-64c5-4434-b574-5e117079e920\",\"type\":\"Grid\"},{\"attributes\":{\"callback\":null,\"column_names\":[\"Veterans Benefits\",\"SNAP\",\"Social Security\",\"Medicaid\",\"top\",\"Medicare\",\"year\",\"SSI\"],\"data\":{\"Medicaid\":[368572083338.75323,368572049019.66876,373547801321.9079,378590683584.64606,383701599727.00555,388881656281.4183,394131561970.8458,399452272964.7486,404844913102.09436,410310500317.35657,415849531408.98914,421463416815.36896,427153185676.42584],\"Medicare\":[576125531224.8356,576125602617.9791,583903344161.9059,591785932874.2122,599775017058.5729,607872102816.1533,616078312487.6881,624395374654.389,632824595110.7053,641367828004.775,650026165931.5925,658801777593.7727,667695401921.0392],\"SNAP\":[82993415518.3923,82993417926.66284,84113822701.24446,85249362303.31003,86400229587.78313,87566631209.2572,88748784359.0963,89946890584.14224,91161168040.68922,92391850462.31523,93639140081.72003,94903267068.98866,96184459741.54358],\"SSI\":[54094631241.22421,54094632343.19407,54824905497.05089,55565043338.42453,56315189959.038925,57075419353.940186,57845949269.16215,58626886095.93685,59418328613.34109,60220478479.00133,61033454181.27935,61857411218.101135,62692477629.38306],\"Social Security\":[849193591829.5245,849193588196.8757,860657790179.8269,872276572956.5858,884052441714.7411,895986974173.2551,908082783163.8641,920341959861.4932,932766558738.9689,945358919394.8075,958121134967.9806,971055952976.266,984165078917.9235],\"Veterans Benefits\":[146835166041.32385,146835126266.07266,148817401464.67825,150826473648.35568,152862669140.98874,154926230293.18732,157017788567.13565,159137526899.30814,161285865202.09833,163463251638.6787,165670021288.3494,167906554812.85956,170173289372.92944],\"top\":[576125531224.8356,576125602617.9791,583903344161.9059,591785932874.2122,599775017058.5729,607872102816.1533,616078312487.6881,624395374654.389,632824595110.7053,641367828004.775,650026165931.5925,658801777593.7727,667695401921.0392],\"year\":[2014,2015,2016,2017,2018,2019,2020,2021,2022,2023,2024,2025,2026]}},\"id\":\"232c2714-f7be-4920-8c1b-107c68f1e808\",\"type\":\"ColumnDataSource\"},{\"attributes\":{},\"id\":\"055a2e77-4260-417a-9033-c598bf91d899\",\"type\":\"BasicTickFormatter\"},{\"attributes\":{},\"id\":\"b1fdeb50-c5ab-499c-b72e-d4d7dcda3a52\",\"type\":\"SaveTool\"},{\"attributes\":{\"fill_color\":{\"value\":\"#1f77b4\"},\"line_color\":{\"value\":\"#1f77b4\"},\"top\":{\"field\":\"top\"},\"width\":{\"value\":0.75},\"x\":{\"field\":\"year\"}},\"id\":\"e7d2b7f5-1ff5-46b7-a60f-95530e1546ec\",\"type\":\"VBar\"},{\"attributes\":{\"callback\":null,\"end\":1000000000000.0},\"id\":\"cd3dc65d-c163-40ad-a8fc-e11a2f3c43f3\",\"type\":\"Range1d\"},{\"attributes\":{\"active_drag\":\"auto\",\"active_inspect\":\"auto\",\"active_scroll\":\"auto\",\"active_tap\":\"auto\",\"tools\":[{\"id\":\"a8997588-2b85-4187-8cfb-9d23be334c7f\",\"type\":\"PanTool\"},{\"id\":\"10754b3e-1a81-46c9-84b0-31fe90f3e139\",\"type\":\"WheelZoomTool\"},{\"id\":\"cf1da1bb-cebd-4e60-b85e-9f7217e72e7d\",\"type\":\"BoxZoomTool\"},{\"id\":\"b1fdeb50-c5ab-499c-b72e-d4d7dcda3a52\",\"type\":\"SaveTool\"},{\"id\":\"ddff82c7-9926-491f-b864-edb1f49df545\",\"type\":\"ResetTool\"},{\"id\":\"258542d3-704a-4efa-9f4c-acf349e1e6e9\",\"type\":\"HelpTool\"},{\"id\":\"7b6f4424-3afa-45a1-88be-24d349926c55\",\"type\":\"HoverTool\"}]},\"id\":\"f854e008-f9a2-47df-af5a-37b1c686566b\",\"type\":\"Toolbar\"},{\"attributes\":{},\"id\":\"258542d3-704a-4efa-9f4c-acf349e1e6e9\",\"type\":\"HelpTool\"},{\"attributes\":{},\"id\":\"d157cb36-bf7d-426b-b0d7-0d7b0d8eac08\",\"type\":\"BasicTicker\"},{\"attributes\":{\"plot\":null,\"text\":\"Total Medicare Benefit by Year\"},\"id\":\"a97fdc25-5f53-4019-b402-6eebcca25e6e\",\"type\":\"Title\"},{\"attributes\":{\"callback\":null,\"tooltips\":[[\"Value\",\"@top{$ 0.00 a}\"]]},\"id\":\"7b6f4424-3afa-45a1-88be-24d349926c55\",\"type\":\"HoverTool\"},{\"attributes\":{},\"id\":\"a8997588-2b85-4187-8cfb-9d23be334c7f\",\"type\":\"PanTool\"},{\"attributes\":{\"fill_alpha\":{\"value\":0.1},\"fill_color\":{\"value\":\"#1f77b4\"},\"line_alpha\":{\"value\":0.1},\"line_color\":{\"value\":\"#1f77b4\"},\"top\":{\"field\":\"top\"},\"width\":{\"value\":0.75},\"x\":{\"field\":\"year\"}},\"id\":\"cbb2abaa-434c-4acc-8a69-143ae7df3e8c\",\"type\":\"VBar\"},{\"attributes\":{},\"id\":\"935b68b4-0e0f-4bb3-8e1f-a4faada12aa7\",\"type\":\"BasicTicker\"},{\"attributes\":{},\"id\":\"003d048a-406f-40fc-bf01-881207b39646\",\"type\":\"LinearScale\"},{\"attributes\":{\"plot\":{\"id\":\"48448d06-8070-4fd5-8370-88e1514cfa9c\",\"subtype\":\"Figure\",\"type\":\"Plot\"},\"ticker\":{\"id\":\"d157cb36-bf7d-426b-b0d7-0d7b0d8eac08\",\"type\":\"BasicTicker\"}},\"id\":\"516993a6-983a-436f-942a-7eaeae66ac40\",\"type\":\"Grid\"},{\"attributes\":{\"bottom_units\":\"screen\",\"fill_alpha\":{\"value\":0.5},\"fill_color\":{\"value\":\"lightgrey\"},\"left_units\":\"screen\",\"level\":\"overlay\",\"line_alpha\":{\"value\":1.0},\"line_color\":{\"value\":\"black\"},\"line_dash\":[4,4],\"line_width\":{\"value\":2},\"plot\":null,\"render_mode\":\"css\",\"right_units\":\"screen\",\"top_units\":\"screen\"},\"id\":\"f6cfd5df-6631-49e4-beb9-f8b083d49bb5\",\"type\":\"BoxAnnotation\"},{\"attributes\":{\"format\":\"$0.00a\"},\"id\":\"18496c74-eef5-4756-8561-b34bd3d8b0eb\",\"type\":\"NumeralTickFormatter\"},{\"attributes\":{},\"id\":\"10754b3e-1a81-46c9-84b0-31fe90f3e139\",\"type\":\"WheelZoomTool\"},{\"attributes\":{},\"id\":\"a557ceae-1cdd-4acb-9ee9-f5b5449aff61\",\"type\":\"LinearScale\"},{\"attributes\":{\"overlay\":{\"id\":\"f6cfd5df-6631-49e4-beb9-f8b083d49bb5\",\"type\":\"BoxAnnotation\"}},\"id\":\"cf1da1bb-cebd-4e60-b85e-9f7217e72e7d\",\"type\":\"BoxZoomTool\"},{\"attributes\":{},\"id\":\"ddff82c7-9926-491f-b864-edb1f49df545\",\"type\":\"ResetTool\"},{\"attributes\":{\"axis_label\":\"Year\",\"formatter\":{\"id\":\"055a2e77-4260-417a-9033-c598bf91d899\",\"type\":\"BasicTickFormatter\"},\"minor_tick_line_color\":{\"value\":null},\"plot\":{\"id\":\"48448d06-8070-4fd5-8370-88e1514cfa9c\",\"subtype\":\"Figure\",\"type\":\"Plot\"},\"ticker\":{\"id\":\"d157cb36-bf7d-426b-b0d7-0d7b0d8eac08\",\"type\":\"BasicTicker\"}},\"id\":\"73d11561-12e9-48b0-b65a-5a2108bc3440\",\"type\":\"LinearAxis\"},{\"attributes\":{\"source\":{\"id\":\"232c2714-f7be-4920-8c1b-107c68f1e808\",\"type\":\"ColumnDataSource\"}},\"id\":\"5c8c462b-a407-4c6e-96b7-cea5d9949ea6\",\"type\":\"CDSView\"},{\"attributes\":{\"callback\":null},\"id\":\"e6d236ba-ac85-4430-bf2f-f0afa6b3cba1\",\"type\":\"DataRange1d\"},{\"attributes\":{\"below\":[{\"id\":\"73d11561-12e9-48b0-b65a-5a2108bc3440\",\"type\":\"LinearAxis\"}],\"left\":[{\"id\":\"281c0e82-a573-4b0f-9543-d045a9330140\",\"type\":\"LinearAxis\"}],\"renderers\":[{\"id\":\"73d11561-12e9-48b0-b65a-5a2108bc3440\",\"type\":\"LinearAxis\"},{\"id\":\"516993a6-983a-436f-942a-7eaeae66ac40\",\"type\":\"Grid\"},{\"id\":\"281c0e82-a573-4b0f-9543-d045a9330140\",\"type\":\"LinearAxis\"},{\"id\":\"9d783e84-64c5-4434-b574-5e117079e920\",\"type\":\"Grid\"},{\"id\":\"f6cfd5df-6631-49e4-beb9-f8b083d49bb5\",\"type\":\"BoxAnnotation\"},{\"id\":\"075fdb9b-f203-4bc2-89c0-255b1b2cccf9\",\"type\":\"GlyphRenderer\"}],\"title\":{\"id\":\"a97fdc25-5f53-4019-b402-6eebcca25e6e\",\"type\":\"Title\"},\"toolbar\":{\"id\":\"f854e008-f9a2-47df-af5a-37b1c686566b\",\"type\":\"Toolbar\"},\"x_range\":{\"id\":\"e6d236ba-ac85-4430-bf2f-f0afa6b3cba1\",\"type\":\"DataRange1d\"},\"x_scale\":{\"id\":\"a557ceae-1cdd-4acb-9ee9-f5b5449aff61\",\"type\":\"LinearScale\"},\"y_range\":{\"id\":\"cd3dc65d-c163-40ad-a8fc-e11a2f3c43f3\",\"type\":\"Range1d\"},\"y_scale\":{\"id\":\"003d048a-406f-40fc-bf01-881207b39646\",\"type\":\"LinearScale\"}},\"id\":\"48448d06-8070-4fd5-8370-88e1514cfa9c\",\"subtype\":\"Figure\",\"type\":\"Plot\"}],\"root_ids\":[\"48448d06-8070-4fd5-8370-88e1514cfa9c\"]},\"title\":\"Bokeh Application\",\"version\":\"0.12.10\"}};\n",
       "    var render_items = [{\"docid\":\"fd7833d8-b0af-46ef-85ad-54ae2b960407\",\"elementid\":\"20c8074c-0d8d-48c6-9676-7bef154d9689\",\"modelid\":\"48448d06-8070-4fd5-8370-88e1514cfa9c\",\"notebook_comms_target\":\"0f0b2ecf-1914-4011-bafd-c0f19e8cbada\"}];\n",
       "\n",
       "    root.Bokeh.embed.embed_items(docs_json, render_items);\n",
       "  }\n",
       "\n",
       "  if (root.Bokeh !== undefined) {\n",
       "    embed_document(root);\n",
       "  } else {\n",
       "    var attempts = 0;\n",
       "    var timer = setInterval(function(root) {\n",
       "      if (root.Bokeh !== undefined) {\n",
       "        embed_document(root);\n",
       "        clearInterval(timer);\n",
       "      }\n",
       "      attempts++;\n",
       "      if (attempts > 100) {\n",
       "        console.log(\"Bokeh: ERROR: Unable to embed document because BokehJS library is missing\")\n",
       "        clearInterval(timer);\n",
       "      }\n",
       "    }, 10, root)\n",
       "  }\n",
       "})(window);"
      ],
      "application/vnd.bokehjs_exec.v0+json": ""
     },
     "metadata": {
      "application/vnd.bokehjs_exec.v0+json": {
       "id": "48448d06-8070-4fd5-8370-88e1514cfa9c"
      }
     },
     "output_type": "display_data"
    },
    {
     "data": {
      "application/vnd.jupyter.widget-view+json": {
       "model_id": "9150b399b3cd4109bee39660f095bab4"
      }
     },
     "metadata": {},
     "output_type": "display_data"
    }
   ],
   "source": [
    "value_handle = show(total_fig, notebook_handle=True)\n",
    "interactive(total_bar_update, ben=total_dropdown)"
   ]
  },
  {
   "cell_type": "markdown",
   "metadata": {},
   "source": [
    "# Participation Rates by Program"
   ]
  },
  {
   "cell_type": "code",
   "execution_count": 21,
   "metadata": {},
   "outputs": [],
   "source": [
    "part_fig = figure(title='Participation Rates by AGI Percentile for 2014')\n",
    "mcare_part = part_fig.line(x='index', y='Medicare', legend='Medicare ', line_width=2,\n",
    "                           source=participation_rates_cds)\n",
    "mcaid_part = part_fig.line(x='index', y='Medicaid', legend='Medicaid ', line_width=2, color='red',\n",
    "                           source=participation_rates_cds)\n",
    "ss_part = part_fig.line(x='index', y='Social Security', legend='Social Security ', line_width=2, color='green',\n",
    "                        source=participation_rates_cds)\n",
    "snap_part = part_fig.line(x='index', y='SNAP', legend='SNAP ', line_width=2, color='orange',\n",
    "                          source=participation_rates_cds)\n",
    "ssi_part = part_fig.line(x='index', y='SSI', legend='SSI ', line_width=2, color='purple',\n",
    "                         source=participation_rates_cds)\n",
    "vb_part = part_fig.line(x='index', y='Veterans Benefits', legend='Veterans Benefits ', line_width=2, color='pink',\n",
    "                        source=participation_rates_cds)\n",
    "hover_part = HoverTool(tooltips=[('Rate', '$y{0.0%}'), ('Percentile', '@index%')])\n",
    "part_fig.add_tools(hover_part)\n",
    "\n",
    "part_fig.yaxis.axis_label = 'Rate'\n",
    "part_fig.xaxis.axis_label = 'AGI Percentile'"
   ]
  },
  {
   "cell_type": "code",
   "execution_count": 40,
   "metadata": {},
   "outputs": [
    {
     "data": {
      "text/html": [
       "\n",
       "<div class=\"bk-root\">\n",
       "    <div class=\"bk-plotdiv\" id=\"a724c1a9-f0c0-49a8-bdd3-90b560c31840\"></div>\n",
       "</div>"
      ]
     },
     "metadata": {},
     "output_type": "display_data"
    },
    {
     "data": {
      "application/javascript": [
       "(function(root) {\n",
       "  function embed_document(root) {\n",
       "    var docs_json = {\"76179234-363d-44ce-9713-e52a8bc365f0\":{\"roots\":{\"references\":[{\"attributes\":{\"callback\":null},\"id\":\"6845659b-49dc-4e91-b68d-a2326873405c\",\"type\":\"DataRange1d\"},{\"attributes\":{},\"id\":\"f423e7d1-0552-4253-ada0-8f594995295c\",\"type\":\"HelpTool\"},{\"attributes\":{\"source\":{\"id\":\"f415072c-c134-4110-8a1a-8bf2d6c08a39\",\"type\":\"ColumnDataSource\"}},\"id\":\"7eb65d05-3990-4bde-bd72-a0df1e419fa1\",\"type\":\"CDSView\"},{\"attributes\":{\"line_alpha\":{\"value\":0.1},\"line_color\":{\"value\":\"#1f77b4\"},\"line_width\":{\"value\":2},\"x\":{\"field\":\"index\"},\"y\":{\"field\":\"SSI\"}},\"id\":\"ced25d8a-7407-4d94-81be-086238f1b323\",\"type\":\"Line\"},{\"attributes\":{\"data_source\":{\"id\":\"f415072c-c134-4110-8a1a-8bf2d6c08a39\",\"type\":\"ColumnDataSource\"},\"glyph\":{\"id\":\"90963cdb-be99-42bc-8547-be1244bb6fe0\",\"type\":\"Line\"},\"hover_glyph\":null,\"muted_glyph\":null,\"nonselection_glyph\":{\"id\":\"07700ce3-883a-4176-8c67-f16ab1b71cd2\",\"type\":\"Line\"},\"selection_glyph\":null,\"view\":{\"id\":\"034e8673-61fc-4184-b811-2049da7c2ba4\",\"type\":\"CDSView\"}},\"id\":\"fcd25277-79d3-4d6d-8eab-449fdf49460c\",\"type\":\"GlyphRenderer\"},{\"attributes\":{},\"id\":\"adbecb6b-37e7-48c4-a658-9bccc66dd808\",\"type\":\"BasicTicker\"},{\"attributes\":{},\"id\":\"722d2b12-a6ff-4c08-a1b2-7db5ac140488\",\"type\":\"ResetTool\"},{\"attributes\":{},\"id\":\"5a481f79-185c-48ca-8178-e5c0885fb927\",\"type\":\"LinearScale\"},{\"attributes\":{\"line_color\":{\"value\":\"green\"},\"line_width\":{\"value\":2},\"x\":{\"field\":\"index\"},\"y\":{\"field\":\"Social Security\"}},\"id\":\"424504b3-1a9a-4167-ad55-ed09062a6137\",\"type\":\"Line\"},{\"attributes\":{\"callback\":null,\"column_names\":[\"index\",\"Veterans Benefits\",\"SNAP\",\"Social Security\",\"Medicaid\",\"Medicare\",\"SSI\"],\"data\":{\"Medicaid\":{\"__ndarray__\":\"ad1iPzcR1D87wNu6d97ZP5tBFj8pzNo/ssPnBn6A1z/cOAsB8rDXP9ThCUCst9k/x39jtw2v2D8dsSjiDv3XP1+KYfhHC9s/cYWzfzKX2j9pVk6Pgx7XP5NR0Nyo0sw/AZvHRtgCyz8wq+0xtNXIPzbD/qzyGco/Gi92GZYEyT+qwigvycXJPzvi42zuQcg/1yV4NxOtxT8yxYu/7bLHP8d+EV4FwcY/bypekS1KyT9VgPL/9ITIP2B2aBiEA8g/bwYRKQuFyj+HL2bKjbjJP98sj7nroMo/8f55lAClxz/XJxS5KFXKP4iT8gbDIMs/bXIpszacyz9ugqClHU3LP9TjXaXk08o/01hw9UYazD9dwYCJC3vNPypQZws7lss/Qdt+wH37yj89yV7L38TKPzvXM77DLss/AhNH1Se/yj9FBDjr2rTMPxLJsnccAcs/FoByt0e/yT/Z44rFBY3IP3W74vYdpso/xK2aDIozyj9A0reHNirJPyGwyfE24sk/Y0/rHRiCyD/NS+4k9+fGP8H3KUiMMMY/gTg8YZptxj90Uciv65PFP6AA1TpcFsQ/TG1nGP/OxD93prQehiLEP9PCNJpWfsQ/rdRYwDorxD8ZaXWxVsLDP52do+qJA8Q/8VeAs27Qwj8QfneTpXXBP24BgskAQ78/uHRoOMnAwD+d0tEZY3PAPwDLAiChwb4/2vIkyLjpvD+34tBNJP28P9L59lXxnbw/rNbUPUHZuj+Cn3uTyAC8PyE5EolN4Lg/itz16K8Wtj85Srk9lVS1P3Ovk1NUFbk/Mok5OpM3uT8mAzCNeMm2PyXX7k1z9LU/NjVbuNs2sj/iG314HgC0P5J3tJ0Fu7I/OGbq8Ne2sj8+/p5ormKyP0oYeS+ilLM/lcfz4UOfsT+ZfHhRaD+xP2umqZrBubM/ldrgeppEsD9KZiYo3K2wP9LBE7EWzKk/FYSOX+hdrj/NeJBOMTCpP9q0u8DsSqs/wrNZNQzbqj9OiSftmwirP3lC77z9OK0/W6Lsn8fNqT/1i8r+POSsPy7jtJdh4qk/BUYx9iF9sD8=\",\"dtype\":\"float64\",\"shape\":[100]},\"Medicare\":{\"__ndarray__\":\"vTGeojK04T+zEBUlnc7iP2wVr3QDRuI/rFt2fXAD5D/UaWjKHNPjP2JxT7zmIOM/NZzMdDJp4z+EvXQgdEXjP4K+tbOkw+I/4B8uRv/i4T9Hu6Mbr5LjPzmAoTYe0eQ/7SkmaSWJ5T9V8RuMmF7iP4E7Kkf0YeA/jkQmUrKz3T9sH/atmx/fP7LV1NOzvts/zUx7qKOF3T8bNTivfw3ZP4JPgNOfado/YXY9S/NP2j9js+HSs7fXPzrwVXN5sNg/jU5CVau81z8NdJuvXpfXP16AWXdpuNY/EXy/Wq0g1z9gUq6c8Y/RP6AZ73nXSs8/qExonzP+0j/wI8gt7gfSP3IBp8S0iM8/m0MAYPDSzD/2WUymGxPMP6B3tBs6VMY/NPcbw9ugyD8LvtyJw6THPzMERi3HXMU/tggM65HRwj8rEdVfUlTDP8XMDwTc3b4/C3hYztsUwD9FcRIUWcHAPz6sD5uGtr4/3y//wx4UvT/97M3Tb1W8P1VKDEFxGbg/q0J7m/wVwD8OGfebHDi6P+UA2OHuPLw/mNZpMvzTuT/7kvoUQO6yPxcK+aFSubs/664BJX6lvD89B6Q/eWO5P8SDgMCflrw/tfIuG6G4tD8e2rTO2uq2P6Og0Kp1BLo/x02YPnO+uT81hD1gqKO1P+3JS8MGLbc/7fePrd07uT+t3TukaRa1P82vnj2vBLs/K7Ntj1Xctj8i5kO7mCy3P4JhUJrQlbo/CWc6t+rSvz9zuYDQzLm7P52BHd30u74/tjnP9c9Jvz+L2mI1C3W9P9j5X9AkaL0/wssUL0nYvD/mPVJ07nS/P0TjKVwoWL8/QqLkmS0QwT9x+5kDwiC7P+0fjoTheME/9Q6ZnT8GwT9lPLcgEpe/P+IJMcLYvsA/lnZEquRBvT94ibrhabO9P8dsCAFJNbk/cLa7t9vDvT8s6enUZgC6Pyx6GcaqCL4/lT5n1LUkuj/rtP8Ycl+8P2R8jj1iN70/63rdx9Jqvj/8h3Vhrf68PxdH5X/pS70/SdrEy9Javz9YB9Do7qu/P+2qRfA/dsI/dXA5jMGOyj8=\",\"dtype\":\"float64\",\"shape\":[100]},\"SNAP\":{\"__ndarray__\":\"ME5UN9um3D/IzY2v3PfhP3BEvZg7LOE/0BcwP6ZH4T85mDrYOpriP0D1+G/d9+E/WgGXnzP34D/aqE2d92TgP2xOBj6FaeI/eP8jnGpK4T9xYiI2WYjgP1bubos9B90/iu7ingtB2T8xYXqMGCfXP7OT8rx9/9U/KWdtKvDg0z9qnNZyhMDSPyDU/Vl/39E/J+Lqu12c0D9Fhcdcz/XQPw0O/clXMNA/mT1l6aDO0D9WRi/5dULRP8uwwq8zvc8/y6MAj97M0D84LONAZuPQP534notsDc8/zZPxJmPZzz9MUfubdRXRP6HnxWR9S80/2LjkGLZj0D+x0mqEOPjQP2U0/B5aj9A/WXsEw6cP0T9juzzLa17RP8fGw91IIdA/B07Dh9M50D/ov2P8OizOP9lVqoP/xcw//+sI5RgDzT/eSmybM+fKP5k46BfYs8c/BS7yKYQHyT/ux4WDzDbHP55u27NdVMY/n447gNmexD83o762WabDPzfEUChq4MI/rRfV7PkKxT/WHfo52kDCP9s31sJKhLo/IxUAnNUyvD+93EvhwUO2P5sQ3B1w9rY/mjk/kcW/tj+gS5S1joy1P5bHkojGUbY/1sxB8dXXtT8w30898pe3P9xEfEMWP7U/rQWXzM2usj+aZwyV6oKwP0Ppkn1CYa4/ax09kae3qz//pErFBwiuP+WdSp3hp64/3xat9a5jqT99W2y3YOCiPyE4ZoEAcaM/yM7mlp25oj9pl3u8N6WlP57W26wzK6A/L0PcTtu3nD9VQGkLtVeePwOfSbIChpo/0EwW5gcklj/A7oON+XeUP5H/0kbzxZI/qsaZNxsijz+Y+/pVKBCEP7l+sUH1EYs/NyYlAPPNjD9evFPrkBCEP0CHUK0sr34/CGwBdg83hj9Vq/DcmAF+P3WLf35hN3g/H1D+pKIIdT+7gk6ReWJ8PzmZlIhjW34/3jcWrtErhT8e8Aztq0WBP9Wiwrk2TGs/7YPXwWQ4eD/mc8/aSxyCP6atVB/TgX8/8xPHw3l/gD87Ohm9O+p2P55qHO/4VHo/Vv/kCEk9iz8=\",\"dtype\":\"float64\",\"shape\":[100]},\"SSI\":{\"__ndarray__\":\"fQIXUOTdwz9JnZ23TIDMP0INEZnpGMo/zy1l6bPmyT/HffWNYxjLP+0/Mz4rI8w/XF9VCfJ8yj+3rVIsfAHNP6ccCpSEPdA/BxJalQw9zD/l4kx5S+nKP/x+CEWsiL4/Jhd3e5DBuD8d9YeXuXO0Pz07ME00lLI/5TG10+jXrT+Wj6e+1zewP8asbuDweKY/oRNGGtwJpj8CBAGDJJyjP6wpCcJVLqM/fSDlIBbupT9rGlugeMKjP1yKwo1qtaI/PDP03OJipD+/wkBjPTegP1dBjZVrSaI/Xp43y8vcnj+HgkVGuxOgP4ZfTShrOJw/rFH8wB7PpD+ZU8ZUFf+eP14h4MpM45o/ZSeuzxRBnT9K1THn8PqePxNBINJsA5U/UZOB/I1lmD/X6DLVgAWePyR4ALuc4Zg/F0HX4eTvmz9+47FVRn6SPyUbO/JvhJk/Msv17hNVnD+dAhn2BLeUP4g4dEqjFJU/1HdFXoDmmj+9LIl5zL2UP1vTRDyaT5I/qGwEXIbCkj8JxL04pGWVP/1/R+3Mn5A/t3cfJ8zKkz9+QHJNkWuRPy34iA15YI0/G/Bo237ilT8sSfzmO/WRP5dlVfiuT5A/CH99EgiWlD97L3NtpP6NP0u9xZOBc5I/lII2LCUalD8dfOuyaVGQP/yXmCAERIE/rA1DnLRFkD9WVGCZAfaLP9Jp6YY544g/lHCm7LRBhz+d4/NJ2k6QPwkIqmFTxIw/DmsHvkyvhT8jGoZvzLGBP3K3dV4Q/ng/J0/Cht/XcT/ueMPhvMxjPzA5fcM7ym4/GEW2bOG0XT80DMYetulfP/UwaN0kRXA/AwfAGC34Vz8LskYMPcBrP/iBH0yIZVY/8XfUakuyVj8GJTYgvGZcP8K3ocrJqFg/oPwHeEENRz+t+ff7Ug9xP+KHPuiO+1s/Vi3ETVmwXD/p10srkA9jP1CEOryZxls/L/6/ub2JVj+rriFg5cdkP7powbtv9Gs/9GFqxs2IVD8/5BupJ1BpP8Ot1uqvSmE/zrNmkGMCYD8GOeY3bw1kPxrn4nJBZEY/vDmuF/eOdj8=\",\"dtype\":\"float64\",\"shape\":[100]},\"Social Security\":{\"__ndarray__\":\"yyYi2bh85j+Cp2HC3DzmP9XTQqBGSOU/+d7Zhr5b5z/q2SltFZHnP5rt7oU4UOY/GB1KU3b/5j9fIUujYcXmP05mO1EvKOY/tH7ZSW3X5T8IzsrKnpjmP/i7Zo+oSuc/DwDBkScW6D8OR+vhuDbkPxNICTwb9uE/tGWdIIDY3z8jmVHFhgXhPxpnb7RCzd0/POfOPx+13z9X+74z9FXbP48dZajWN90/nUx0zXXE3D++TAzHdcHZP91k1azCKds/2LBBLVIU2j8UXF4nDvrZPwu1sLyfc9k/BYnJ2KhK2T/MJqfETO3TPx5SI7k079E/FTlAyZGH1T/PGAtIL2bUP4lnIz1bC9I/0RUHNELC0D/7uRfCZgvQP4lGE1iioco/li/Z+YLQyz8DWxEzu6LMP0b95B1bK8g/Zis8UJ8Pxj/9aJA3Mc7GP3W2IL6Ye8E/7LVac+K/wj+K0GhfbILDP5PptXvjqsE/xa2MJRVZwD+QKhKyhvzAP83cWpkwLbw/wH/3CGfjwz9+ItpSwny+P10N6+UeGsE/t7r+As7zvz9HZV5f9we4PxBHu8NoscA/g48UnBXBwD/sbkLTL0q/P6QObiR+n8E/lHtnxkMsuj9mNTCNN9W9P3ZTnoKd/78/QVg0lwdYwD8EzgkQ1Vy5P1sj5rPvw7w/l3qERdaMvj+GJl3O+x27P95LX2HmN8E/yzCp41eOvj9JnmmemEK/P/wO8niAN78/Yi0YpEZEwz+ebJG8n+PAPygbiYNtx8I/f4vjYe99wj+38ZPA8s/CP6/qvhX4n8E/Y85TwCm9wT95PJOrsTjDP3WmL89cycI/j2unD8vNwz8Ns4fLSoXAP6N8KYMyxMM//O+Hu7nEwz/cVKtV+WPDP5sNHh7bQ8M/RNhBOV/IwD9LlgpOaszBPxk30uhQy74/JIWKpHjmwT+hwzAMaT2+P2JZSxblKsI/sqjMcQISwD9OKzyN0HzBPzyMLVNV98A/UP7ORlOSwD88aNYnT8PAP7AycEFHdcA/ix5I6RFewT+VY0RUXNrBP0KFcTfi7cM/UgoTuLIkzD8=\",\"dtype\":\"float64\",\"shape\":[100]},\"Veterans Benefits\":{\"__ndarray__\":\"k9hYTAnurD/yeiPTKFGnPwlhaDA1lac/28xLFdcOrT8hI3d+h2WvPxs+XiUxNqk/wVjxQBxwpD+4BPJOnt6vP6mZA22jLaQ/5czAvzpepD/eHpQkccWoP3birBtGKLU/LnGbGgBMsj8HnHRPegixP7mrB1vlZaY/6XVztPeuqT+ftkZBjfepPy87vvOJyqo/LSG+S/1Lpj/7WpfN8baiPyzD50tW8aM//ylPYxbRpT83dD0D+nyiP2mPCeEmtag/Z0R9YoSFpj/TxpKoJhakP16syTQTzas/vIBzsS4YpD/+LRJo4gWjPxWRyRXDwp0//4d7TnKMoz8LDhh2hLmlP68oqmWLIaI/ofxhqjK7nD88u3FvWvOZP82Qa9n3vpc/tKkPqoLMlz9SS6Dl75idP8yTl68JY5c/twQPn65hkD9GuyK2onqZP27xKFa2dI0/z0C1gHtbij/jnXfHneWSP6g1NzaYjZY/+VQlmoDejD9EASLocoGXP6iUbVXaCo0/Ao1bg4qmkT/saOIQ6meRP712KfR5u5E/JOUPvbCulD/w3/Js5pyRP1bQr0nxApM/+31r04UokD9Kn34DsHmXP/+2i5UmcZI/c8Jz3oKYkj83blYmdPSRP92l2DUd2pQ/n682ak1elD+DChyuC4KUP6SdBmRsFZQ/2oY4v5YIkT/3uiUAHP+MP7gQjPYie5Q/jYrx+g0nmT/VxFjsLveYP8z710hTHpM/Kevigr3KlT8QlyKIJ9mVP+FrFnP075Q/6PflURmNlT/hW1PwKXOZP0spDEZGP5o/bzrp3caTmT8Aot/QjiKcPwtwWrDp+ps/uAZN1xM6mj8x5WoqC02ZP0OkTfXnT5o/yK9fKIuLmD91699hnGuWP8ik+gWeJaA/uRtq53Ihlz9eyD4qa/qfP5jLsD4ospQ/jV3wXfZLnD8kwz7v5/iYP5y7+bpS0ZY/AhYtGxyimT+z3JtYHJqdP+0VUo1O1Jk/B0BUbG9Ukz+E2twlLn6MP1K4VHed3ZM/vgGNEfKtlT/GGc9YMkWUP8jYUdB7apI/4lv7FEWemD8=\",\"dtype\":\"float64\",\"shape\":[100]},\"index\":[1,2,3,4,5,6,7,8,9,10,11,12,13,14,15,16,17,18,19,20,21,22,23,24,25,26,27,28,29,30,31,32,33,34,35,36,37,38,39,40,41,42,43,44,45,46,47,48,49,50,51,52,53,54,55,56,57,58,59,60,61,62,63,64,65,66,67,68,69,70,71,72,73,74,75,76,77,78,79,80,81,82,83,84,85,86,87,88,89,90,91,92,93,94,95,96,97,98,99,100]}},\"id\":\"f415072c-c134-4110-8a1a-8bf2d6c08a39\",\"type\":\"ColumnDataSource\"},{\"attributes\":{},\"id\":\"e0e9ddc8-af4c-4a66-acc7-ee20bd8292e4\",\"type\":\"BasicTicker\"},{\"attributes\":{\"line_alpha\":{\"value\":0.1},\"line_color\":{\"value\":\"#1f77b4\"},\"line_width\":{\"value\":2},\"x\":{\"field\":\"index\"},\"y\":{\"field\":\"Medicaid\"}},\"id\":\"43046807-298e-40a0-a930-79d7e83c206b\",\"type\":\"Line\"},{\"attributes\":{\"axis_label\":\"Rate\",\"formatter\":{\"id\":\"fbed7dfd-3f9c-4edd-9004-31181d31e3f0\",\"type\":\"BasicTickFormatter\"},\"plot\":{\"id\":\"7309d2ea-631d-417f-983e-80a962aef561\",\"subtype\":\"Figure\",\"type\":\"Plot\"},\"ticker\":{\"id\":\"e0e9ddc8-af4c-4a66-acc7-ee20bd8292e4\",\"type\":\"BasicTicker\"}},\"id\":\"75cfbd21-306a-4818-9d12-c477905633a1\",\"type\":\"LinearAxis\"},{\"attributes\":{\"plot\":{\"id\":\"7309d2ea-631d-417f-983e-80a962aef561\",\"subtype\":\"Figure\",\"type\":\"Plot\"},\"ticker\":{\"id\":\"adbecb6b-37e7-48c4-a658-9bccc66dd808\",\"type\":\"BasicTicker\"}},\"id\":\"8c2f4250-f521-47db-b90e-bc84cc7a2c79\",\"type\":\"Grid\"},{\"attributes\":{\"line_alpha\":{\"value\":0.1},\"line_color\":{\"value\":\"#1f77b4\"},\"line_width\":{\"value\":2},\"x\":{\"field\":\"index\"},\"y\":{\"field\":\"Veterans Benefits\"}},\"id\":\"c7ef8dbf-e641-4070-8e82-d3af31a15421\",\"type\":\"Line\"},{\"attributes\":{\"source\":{\"id\":\"f415072c-c134-4110-8a1a-8bf2d6c08a39\",\"type\":\"ColumnDataSource\"}},\"id\":\"d69c55d2-7c10-4360-96ea-c87f96aa294c\",\"type\":\"CDSView\"},{\"attributes\":{\"label\":{\"value\":\"Veterans Benefits \"},\"renderers\":[{\"id\":\"d8d1e4be-749c-4078-a1b6-df04d1aeceb4\",\"type\":\"GlyphRenderer\"}]},\"id\":\"af15656e-ccb8-402b-a37f-df155b7dbe1f\",\"type\":\"LegendItem\"},{\"attributes\":{\"line_color\":{\"value\":\"#1f77b4\"},\"line_width\":{\"value\":2},\"x\":{\"field\":\"index\"},\"y\":{\"field\":\"Medicare\"}},\"id\":\"90963cdb-be99-42bc-8547-be1244bb6fe0\",\"type\":\"Line\"},{\"attributes\":{\"line_color\":{\"value\":\"red\"},\"line_width\":{\"value\":2},\"x\":{\"field\":\"index\"},\"y\":{\"field\":\"Medicaid\"}},\"id\":\"b3205608-7cee-4c39-b5e6-813bbbaf336e\",\"type\":\"Line\"},{\"attributes\":{\"data_source\":{\"id\":\"f415072c-c134-4110-8a1a-8bf2d6c08a39\",\"type\":\"ColumnDataSource\"},\"glyph\":{\"id\":\"424504b3-1a9a-4167-ad55-ed09062a6137\",\"type\":\"Line\"},\"hover_glyph\":null,\"muted_glyph\":null,\"nonselection_glyph\":{\"id\":\"eca8522a-1287-4be1-a421-5555c0527c97\",\"type\":\"Line\"},\"selection_glyph\":null,\"view\":{\"id\":\"c52da40b-ef88-4fbb-8b64-a5d62511b850\",\"type\":\"CDSView\"}},\"id\":\"edfc238f-3a66-48e9-be1e-e8a97820c8fa\",\"type\":\"GlyphRenderer\"},{\"attributes\":{\"items\":[{\"id\":\"2c8a8d9f-ee99-474f-ac1a-1d4f18533daf\",\"type\":\"LegendItem\"},{\"id\":\"b844ee49-0a8c-43de-8241-d52e2e417817\",\"type\":\"LegendItem\"},{\"id\":\"5de42862-c495-46d7-b2d9-627479dcc9d2\",\"type\":\"LegendItem\"},{\"id\":\"4b16c850-2d34-473b-86bf-bfc9c2d1a913\",\"type\":\"LegendItem\"},{\"id\":\"7e5ac7d1-523d-4dbe-89ca-49469ca4623d\",\"type\":\"LegendItem\"},{\"id\":\"af15656e-ccb8-402b-a37f-df155b7dbe1f\",\"type\":\"LegendItem\"}],\"plot\":{\"id\":\"7309d2ea-631d-417f-983e-80a962aef561\",\"subtype\":\"Figure\",\"type\":\"Plot\"}},\"id\":\"33d184e5-8515-41f5-805e-fa4aced59485\",\"type\":\"Legend\"},{\"attributes\":{},\"id\":\"079043ba-7d6c-4666-ad3e-201dcaa7c77a\",\"type\":\"SaveTool\"},{\"attributes\":{},\"id\":\"cfce534d-f986-4474-8648-f145c6145c3f\",\"type\":\"BasicTickFormatter\"},{\"attributes\":{\"line_alpha\":{\"value\":0.1},\"line_color\":{\"value\":\"#1f77b4\"},\"line_width\":{\"value\":2},\"x\":{\"field\":\"index\"},\"y\":{\"field\":\"Medicare\"}},\"id\":\"07700ce3-883a-4176-8c67-f16ab1b71cd2\",\"type\":\"Line\"},{\"attributes\":{\"source\":{\"id\":\"f415072c-c134-4110-8a1a-8bf2d6c08a39\",\"type\":\"ColumnDataSource\"}},\"id\":\"c52da40b-ef88-4fbb-8b64-a5d62511b850\",\"type\":\"CDSView\"},{\"attributes\":{\"active_drag\":\"auto\",\"active_inspect\":\"auto\",\"active_scroll\":\"auto\",\"active_tap\":\"auto\",\"tools\":[{\"id\":\"54728b2a-bc45-4c93-8524-f0b632f6195b\",\"type\":\"PanTool\"},{\"id\":\"42f2c217-9743-4250-b271-ef153ab1d691\",\"type\":\"WheelZoomTool\"},{\"id\":\"42949199-d183-4b81-88f7-3152a72ccc07\",\"type\":\"BoxZoomTool\"},{\"id\":\"079043ba-7d6c-4666-ad3e-201dcaa7c77a\",\"type\":\"SaveTool\"},{\"id\":\"722d2b12-a6ff-4c08-a1b2-7db5ac140488\",\"type\":\"ResetTool\"},{\"id\":\"f423e7d1-0552-4253-ada0-8f594995295c\",\"type\":\"HelpTool\"},{\"id\":\"6a8fcef0-9d1d-400a-b73a-458d12c8d4c6\",\"type\":\"HoverTool\"}]},\"id\":\"3389125d-1601-4ebf-b338-92482394f751\",\"type\":\"Toolbar\"},{\"attributes\":{\"label\":{\"value\":\"Medicare \"},\"renderers\":[{\"id\":\"fcd25277-79d3-4d6d-8eab-449fdf49460c\",\"type\":\"GlyphRenderer\"}]},\"id\":\"2c8a8d9f-ee99-474f-ac1a-1d4f18533daf\",\"type\":\"LegendItem\"},{\"attributes\":{\"bottom_units\":\"screen\",\"fill_alpha\":{\"value\":0.5},\"fill_color\":{\"value\":\"lightgrey\"},\"left_units\":\"screen\",\"level\":\"overlay\",\"line_alpha\":{\"value\":1.0},\"line_color\":{\"value\":\"black\"},\"line_dash\":[4,4],\"line_width\":{\"value\":2},\"plot\":null,\"render_mode\":\"css\",\"right_units\":\"screen\",\"top_units\":\"screen\"},\"id\":\"4b178b99-03d9-4775-8afc-455ac46249d4\",\"type\":\"BoxAnnotation\"},{\"attributes\":{\"source\":{\"id\":\"f415072c-c134-4110-8a1a-8bf2d6c08a39\",\"type\":\"ColumnDataSource\"}},\"id\":\"034e8673-61fc-4184-b811-2049da7c2ba4\",\"type\":\"CDSView\"},{\"attributes\":{},\"id\":\"54728b2a-bc45-4c93-8524-f0b632f6195b\",\"type\":\"PanTool\"},{\"attributes\":{\"dimension\":1,\"plot\":{\"id\":\"7309d2ea-631d-417f-983e-80a962aef561\",\"subtype\":\"Figure\",\"type\":\"Plot\"},\"ticker\":{\"id\":\"e0e9ddc8-af4c-4a66-acc7-ee20bd8292e4\",\"type\":\"BasicTicker\"}},\"id\":\"23dfce5c-a618-4c1c-bbe3-36bad5d3834e\",\"type\":\"Grid\"},{\"attributes\":{\"source\":{\"id\":\"f415072c-c134-4110-8a1a-8bf2d6c08a39\",\"type\":\"ColumnDataSource\"}},\"id\":\"9ca99e1b-9af0-4cdd-aef7-41c0c393bf52\",\"type\":\"CDSView\"},{\"attributes\":{\"axis_label\":\"AGI Percentile\",\"formatter\":{\"id\":\"cfce534d-f986-4474-8648-f145c6145c3f\",\"type\":\"BasicTickFormatter\"},\"plot\":{\"id\":\"7309d2ea-631d-417f-983e-80a962aef561\",\"subtype\":\"Figure\",\"type\":\"Plot\"},\"ticker\":{\"id\":\"adbecb6b-37e7-48c4-a658-9bccc66dd808\",\"type\":\"BasicTicker\"}},\"id\":\"50e0ece5-36cc-486c-924c-2807e203f2f7\",\"type\":\"LinearAxis\"},{\"attributes\":{\"overlay\":{\"id\":\"4b178b99-03d9-4775-8afc-455ac46249d4\",\"type\":\"BoxAnnotation\"}},\"id\":\"42949199-d183-4b81-88f7-3152a72ccc07\",\"type\":\"BoxZoomTool\"},{\"attributes\":{},\"id\":\"fbed7dfd-3f9c-4edd-9004-31181d31e3f0\",\"type\":\"BasicTickFormatter\"},{\"attributes\":{\"data_source\":{\"id\":\"f415072c-c134-4110-8a1a-8bf2d6c08a39\",\"type\":\"ColumnDataSource\"},\"glyph\":{\"id\":\"c645f3a2-5441-4459-8524-8249b5d162ba\",\"type\":\"Line\"},\"hover_glyph\":null,\"muted_glyph\":null,\"nonselection_glyph\":{\"id\":\"c7ef8dbf-e641-4070-8e82-d3af31a15421\",\"type\":\"Line\"},\"selection_glyph\":null,\"view\":{\"id\":\"7eb65d05-3990-4bde-bd72-a0df1e419fa1\",\"type\":\"CDSView\"}},\"id\":\"d8d1e4be-749c-4078-a1b6-df04d1aeceb4\",\"type\":\"GlyphRenderer\"},{\"attributes\":{\"line_alpha\":{\"value\":0.1},\"line_color\":{\"value\":\"#1f77b4\"},\"line_width\":{\"value\":2},\"x\":{\"field\":\"index\"},\"y\":{\"field\":\"SNAP\"}},\"id\":\"2cdcb21b-b692-4542-b263-275e120f0499\",\"type\":\"Line\"},{\"attributes\":{\"label\":{\"value\":\"Medicaid \"},\"renderers\":[{\"id\":\"937f5136-2f1f-44e0-be49-afaf506c5af6\",\"type\":\"GlyphRenderer\"}]},\"id\":\"b844ee49-0a8c-43de-8241-d52e2e417817\",\"type\":\"LegendItem\"},{\"attributes\":{},\"id\":\"42f2c217-9743-4250-b271-ef153ab1d691\",\"type\":\"WheelZoomTool\"},{\"attributes\":{\"callback\":null},\"id\":\"a22aada5-40f8-439b-a20c-d37feef0ae04\",\"type\":\"DataRange1d\"},{\"attributes\":{\"plot\":null,\"text\":\"Participation Rates by AGI Percentile for 2014\"},\"id\":\"98cace18-5156-4208-8f44-a19731f5b545\",\"type\":\"Title\"},{\"attributes\":{\"label\":{\"value\":\"Social Security \"},\"renderers\":[{\"id\":\"edfc238f-3a66-48e9-be1e-e8a97820c8fa\",\"type\":\"GlyphRenderer\"}]},\"id\":\"5de42862-c495-46d7-b2d9-627479dcc9d2\",\"type\":\"LegendItem\"},{\"attributes\":{\"label\":{\"value\":\"SSI \"},\"renderers\":[{\"id\":\"8a401ab3-4593-47fa-a9b6-9aaf5850183f\",\"type\":\"GlyphRenderer\"}]},\"id\":\"7e5ac7d1-523d-4dbe-89ca-49469ca4623d\",\"type\":\"LegendItem\"},{\"attributes\":{},\"id\":\"489c483a-253c-46bc-9f29-a050841b577f\",\"type\":\"LinearScale\"},{\"attributes\":{\"line_color\":{\"value\":\"purple\"},\"line_width\":{\"value\":2},\"x\":{\"field\":\"index\"},\"y\":{\"field\":\"SSI\"}},\"id\":\"6adcf2bd-2ab5-4efe-b066-a228a4e6cffb\",\"type\":\"Line\"},{\"attributes\":{\"source\":{\"id\":\"f415072c-c134-4110-8a1a-8bf2d6c08a39\",\"type\":\"ColumnDataSource\"}},\"id\":\"4d280291-1444-4ab7-a68d-e010877c109a\",\"type\":\"CDSView\"},{\"attributes\":{\"line_color\":{\"value\":\"orange\"},\"line_width\":{\"value\":2},\"x\":{\"field\":\"index\"},\"y\":{\"field\":\"SNAP\"}},\"id\":\"32d9c4f0-0715-44f4-af87-57c0b625a0ad\",\"type\":\"Line\"},{\"attributes\":{\"data_source\":{\"id\":\"f415072c-c134-4110-8a1a-8bf2d6c08a39\",\"type\":\"ColumnDataSource\"},\"glyph\":{\"id\":\"32d9c4f0-0715-44f4-af87-57c0b625a0ad\",\"type\":\"Line\"},\"hover_glyph\":null,\"muted_glyph\":null,\"nonselection_glyph\":{\"id\":\"2cdcb21b-b692-4542-b263-275e120f0499\",\"type\":\"Line\"},\"selection_glyph\":null,\"view\":{\"id\":\"4d280291-1444-4ab7-a68d-e010877c109a\",\"type\":\"CDSView\"}},\"id\":\"d0b94c1a-4bec-458c-b6a8-8b61a3a09a5c\",\"type\":\"GlyphRenderer\"},{\"attributes\":{\"callback\":null,\"tooltips\":[[\"Rate\",\"$y{0.0%}\"],[\"Percentile\",\"@index%\"]]},\"id\":\"6a8fcef0-9d1d-400a-b73a-458d12c8d4c6\",\"type\":\"HoverTool\"},{\"attributes\":{\"label\":{\"value\":\"SNAP \"},\"renderers\":[{\"id\":\"d0b94c1a-4bec-458c-b6a8-8b61a3a09a5c\",\"type\":\"GlyphRenderer\"}]},\"id\":\"4b16c850-2d34-473b-86bf-bfc9c2d1a913\",\"type\":\"LegendItem\"},{\"attributes\":{\"data_source\":{\"id\":\"f415072c-c134-4110-8a1a-8bf2d6c08a39\",\"type\":\"ColumnDataSource\"},\"glyph\":{\"id\":\"b3205608-7cee-4c39-b5e6-813bbbaf336e\",\"type\":\"Line\"},\"hover_glyph\":null,\"muted_glyph\":null,\"nonselection_glyph\":{\"id\":\"43046807-298e-40a0-a930-79d7e83c206b\",\"type\":\"Line\"},\"selection_glyph\":null,\"view\":{\"id\":\"d69c55d2-7c10-4360-96ea-c87f96aa294c\",\"type\":\"CDSView\"}},\"id\":\"937f5136-2f1f-44e0-be49-afaf506c5af6\",\"type\":\"GlyphRenderer\"},{\"attributes\":{\"line_color\":{\"value\":\"pink\"},\"line_width\":{\"value\":2},\"x\":{\"field\":\"index\"},\"y\":{\"field\":\"Veterans Benefits\"}},\"id\":\"c645f3a2-5441-4459-8524-8249b5d162ba\",\"type\":\"Line\"},{\"attributes\":{\"line_alpha\":{\"value\":0.1},\"line_color\":{\"value\":\"#1f77b4\"},\"line_width\":{\"value\":2},\"x\":{\"field\":\"index\"},\"y\":{\"field\":\"Social Security\"}},\"id\":\"eca8522a-1287-4be1-a421-5555c0527c97\",\"type\":\"Line\"},{\"attributes\":{\"data_source\":{\"id\":\"f415072c-c134-4110-8a1a-8bf2d6c08a39\",\"type\":\"ColumnDataSource\"},\"glyph\":{\"id\":\"6adcf2bd-2ab5-4efe-b066-a228a4e6cffb\",\"type\":\"Line\"},\"hover_glyph\":null,\"muted_glyph\":null,\"nonselection_glyph\":{\"id\":\"ced25d8a-7407-4d94-81be-086238f1b323\",\"type\":\"Line\"},\"selection_glyph\":null,\"view\":{\"id\":\"9ca99e1b-9af0-4cdd-aef7-41c0c393bf52\",\"type\":\"CDSView\"}},\"id\":\"8a401ab3-4593-47fa-a9b6-9aaf5850183f\",\"type\":\"GlyphRenderer\"},{\"attributes\":{\"below\":[{\"id\":\"50e0ece5-36cc-486c-924c-2807e203f2f7\",\"type\":\"LinearAxis\"}],\"left\":[{\"id\":\"75cfbd21-306a-4818-9d12-c477905633a1\",\"type\":\"LinearAxis\"}],\"renderers\":[{\"id\":\"50e0ece5-36cc-486c-924c-2807e203f2f7\",\"type\":\"LinearAxis\"},{\"id\":\"8c2f4250-f521-47db-b90e-bc84cc7a2c79\",\"type\":\"Grid\"},{\"id\":\"75cfbd21-306a-4818-9d12-c477905633a1\",\"type\":\"LinearAxis\"},{\"id\":\"23dfce5c-a618-4c1c-bbe3-36bad5d3834e\",\"type\":\"Grid\"},{\"id\":\"4b178b99-03d9-4775-8afc-455ac46249d4\",\"type\":\"BoxAnnotation\"},{\"id\":\"33d184e5-8515-41f5-805e-fa4aced59485\",\"type\":\"Legend\"},{\"id\":\"fcd25277-79d3-4d6d-8eab-449fdf49460c\",\"type\":\"GlyphRenderer\"},{\"id\":\"937f5136-2f1f-44e0-be49-afaf506c5af6\",\"type\":\"GlyphRenderer\"},{\"id\":\"edfc238f-3a66-48e9-be1e-e8a97820c8fa\",\"type\":\"GlyphRenderer\"},{\"id\":\"d0b94c1a-4bec-458c-b6a8-8b61a3a09a5c\",\"type\":\"GlyphRenderer\"},{\"id\":\"8a401ab3-4593-47fa-a9b6-9aaf5850183f\",\"type\":\"GlyphRenderer\"},{\"id\":\"d8d1e4be-749c-4078-a1b6-df04d1aeceb4\",\"type\":\"GlyphRenderer\"}],\"title\":{\"id\":\"98cace18-5156-4208-8f44-a19731f5b545\",\"type\":\"Title\"},\"toolbar\":{\"id\":\"3389125d-1601-4ebf-b338-92482394f751\",\"type\":\"Toolbar\"},\"x_range\":{\"id\":\"6845659b-49dc-4e91-b68d-a2326873405c\",\"type\":\"DataRange1d\"},\"x_scale\":{\"id\":\"5a481f79-185c-48ca-8178-e5c0885fb927\",\"type\":\"LinearScale\"},\"y_range\":{\"id\":\"a22aada5-40f8-439b-a20c-d37feef0ae04\",\"type\":\"DataRange1d\"},\"y_scale\":{\"id\":\"489c483a-253c-46bc-9f29-a050841b577f\",\"type\":\"LinearScale\"}},\"id\":\"7309d2ea-631d-417f-983e-80a962aef561\",\"subtype\":\"Figure\",\"type\":\"Plot\"}],\"root_ids\":[\"7309d2ea-631d-417f-983e-80a962aef561\"]},\"title\":\"Bokeh Application\",\"version\":\"0.12.10\"}};\n",
       "    var render_items = [{\"docid\":\"76179234-363d-44ce-9713-e52a8bc365f0\",\"elementid\":\"a724c1a9-f0c0-49a8-bdd3-90b560c31840\",\"modelid\":\"7309d2ea-631d-417f-983e-80a962aef561\",\"notebook_comms_target\":\"602e899d-e214-4066-84ad-26e37bacca25\"}];\n",
       "\n",
       "    root.Bokeh.embed.embed_items(docs_json, render_items);\n",
       "  }\n",
       "\n",
       "  if (root.Bokeh !== undefined) {\n",
       "    embed_document(root);\n",
       "  } else {\n",
       "    var attempts = 0;\n",
       "    var timer = setInterval(function(root) {\n",
       "      if (root.Bokeh !== undefined) {\n",
       "        embed_document(root);\n",
       "        clearInterval(timer);\n",
       "      }\n",
       "      attempts++;\n",
       "      if (attempts > 100) {\n",
       "        console.log(\"Bokeh: ERROR: Unable to embed document because BokehJS library is missing\")\n",
       "        clearInterval(timer);\n",
       "      }\n",
       "    }, 10, root)\n",
       "  }\n",
       "})(window);"
      ],
      "application/vnd.bokehjs_exec.v0+json": ""
     },
     "metadata": {
      "application/vnd.bokehjs_exec.v0+json": {
       "id": "7309d2ea-631d-417f-983e-80a962aef561"
      }
     },
     "output_type": "display_data"
    },
    {
     "data": {
      "application/vnd.jupyter.widget-view+json": {
       "model_id": "96b137eb6dcc45debdc3349a8c96ce17"
      }
     },
     "metadata": {},
     "output_type": "display_data"
    }
   ],
   "source": [
    "part_rates = show(part_fig, notebook_handle=True)\n",
    "interactive(participation_rate_update, year=year_dropdown)"
   ]
  },
  {
   "cell_type": "markdown",
   "metadata": {},
   "source": [
    "# Average Benefits for All"
   ]
  },
  {
   "cell_type": "code",
   "execution_count": 23,
   "metadata": {},
   "outputs": [],
   "source": [
    "avg_ben_all_fig = figure(title='Average Benefit by AGI Percentile for 2014')\n",
    "mcare_aba = avg_ben_all_fig.line(x='index', y='Medicare', legend='Medicare ', line_width=2,\n",
    "                                 source=avg_ben_all_cds)\n",
    "mcaid_aba = avg_ben_all_fig.line(x='index', y='Medicaid', legend='Medicaid ', line_width=2, color='red',\n",
    "                                 source=avg_ben_all_cds)\n",
    "ss_aba = avg_ben_all_fig.line(x='index', y='Social Security', legend='Social Security ', line_width=2, color='green',\n",
    "                              source=avg_ben_all_cds)\n",
    "snap_aba = avg_ben_all_fig.line(x='index', y='SNAP', legend='SNAP ', line_width=2, color='orange',\n",
    "                                source=avg_ben_all_cds)\n",
    "ssi_aba = avg_ben_all_fig.line(x='index', y='SSI', legend='SSI ', line_width=2, color='purple',\n",
    "                               source=avg_ben_all_cds)\n",
    "vb_aba = avg_ben_all_fig.line(x='index', y='Veterans Benefits', legend='Veterans Benefits ', line_width=2, color='pink',\n",
    "                              source=avg_ben_all_cds)\n",
    "hover_aba = HoverTool(tooltips=[('Benefit', '$y{$0,0.00}'), ('Percentile', '@index%')])\n",
    "avg_ben_all_fig.add_tools(hover_aba)\n",
    "\n",
    "avg_ben_all_fig.xaxis.axis_label = 'Percentile'\n",
    "avg_ben_all_fig.yaxis.axis_label = 'Average Benefit'"
   ]
  },
  {
   "cell_type": "code",
   "execution_count": 39,
   "metadata": {},
   "outputs": [
    {
     "data": {
      "text/html": [
       "\n",
       "<div class=\"bk-root\">\n",
       "    <div class=\"bk-plotdiv\" id=\"af01ec0c-8b67-4bb7-b53b-e41c5d2a3076\"></div>\n",
       "</div>"
      ]
     },
     "metadata": {},
     "output_type": "display_data"
    },
    {
     "data": {
      "application/javascript": [
       "(function(root) {\n",
       "  function embed_document(root) {\n",
       "    var docs_json = {\"999d0b9d-8246-4a1b-aa14-7fec24d28a46\":{\"roots\":{\"references\":[{\"attributes\":{\"plot\":{\"id\":\"ff8b7250-77e1-42ba-9dc7-003f2cc6a572\",\"subtype\":\"Figure\",\"type\":\"Plot\"},\"ticker\":{\"id\":\"6476ae47-b8ed-4a7c-9176-85de15292cad\",\"type\":\"BasicTicker\"}},\"id\":\"b8d1308f-b7b8-4cd9-83fd-f66b29becb7f\",\"type\":\"Grid\"},{\"attributes\":{},\"id\":\"69c7330a-426e-4603-81d4-5f43f00b3fc6\",\"type\":\"ResetTool\"},{\"attributes\":{},\"id\":\"3470baf7-b7db-49a2-90a8-c1c1f1ef3b22\",\"type\":\"PanTool\"},{\"attributes\":{\"line_alpha\":{\"value\":0.1},\"line_color\":{\"value\":\"#1f77b4\"},\"line_width\":{\"value\":2},\"x\":{\"field\":\"index\"},\"y\":{\"field\":\"Social Security\"}},\"id\":\"e9ec4a2f-3200-4c17-a3ac-db3521f02854\",\"type\":\"Line\"},{\"attributes\":{\"line_alpha\":{\"value\":0.1},\"line_color\":{\"value\":\"#1f77b4\"},\"line_width\":{\"value\":2},\"x\":{\"field\":\"index\"},\"y\":{\"field\":\"SNAP\"}},\"id\":\"9caf37e6-2dcf-4cf7-a01e-03e7d12af598\",\"type\":\"Line\"},{\"attributes\":{\"source\":{\"id\":\"5dcaf78e-5406-4a03-926f-9d2d00425507\",\"type\":\"ColumnDataSource\"}},\"id\":\"6110093d-023e-42d1-85f5-e755a8b5ae94\",\"type\":\"CDSView\"},{\"attributes\":{\"label\":{\"value\":\"SNAP \"},\"renderers\":[{\"id\":\"2c949648-fb49-4788-8f9f-2a83258b2fff\",\"type\":\"GlyphRenderer\"}]},\"id\":\"cecd4aed-90d7-44a9-bdba-672e2ae4391f\",\"type\":\"LegendItem\"},{\"attributes\":{\"data_source\":{\"id\":\"5dcaf78e-5406-4a03-926f-9d2d00425507\",\"type\":\"ColumnDataSource\"},\"glyph\":{\"id\":\"66a6c792-791f-4e0c-9269-17847cba2bca\",\"type\":\"Line\"},\"hover_glyph\":null,\"muted_glyph\":null,\"nonselection_glyph\":{\"id\":\"9caf37e6-2dcf-4cf7-a01e-03e7d12af598\",\"type\":\"Line\"},\"selection_glyph\":null,\"view\":{\"id\":\"6110093d-023e-42d1-85f5-e755a8b5ae94\",\"type\":\"CDSView\"}},\"id\":\"2c949648-fb49-4788-8f9f-2a83258b2fff\",\"type\":\"GlyphRenderer\"},{\"attributes\":{\"items\":[{\"id\":\"374c1ada-09c3-456a-add0-d21bfaceaa84\",\"type\":\"LegendItem\"},{\"id\":\"d8540117-f1fc-4b0b-ba9d-6822004affde\",\"type\":\"LegendItem\"},{\"id\":\"31b340d7-3fa5-4913-8a02-c3c8b2da01f8\",\"type\":\"LegendItem\"},{\"id\":\"cecd4aed-90d7-44a9-bdba-672e2ae4391f\",\"type\":\"LegendItem\"},{\"id\":\"48e987c3-1472-4f4c-b106-725823fbef4c\",\"type\":\"LegendItem\"},{\"id\":\"01fedaf2-f990-4395-97ed-3be14e89f76d\",\"type\":\"LegendItem\"}],\"plot\":{\"id\":\"ff8b7250-77e1-42ba-9dc7-003f2cc6a572\",\"subtype\":\"Figure\",\"type\":\"Plot\"}},\"id\":\"f6d45ce6-808e-4fa2-a7e7-01c891dc3bee\",\"type\":\"Legend\"},{\"attributes\":{\"callback\":null,\"column_names\":[\"index\",\"Veterans Benefits\",\"SNAP\",\"Social Security\",\"Medicaid\",\"Medicare\",\"SSI\"],\"data\":{\"Medicaid\":{\"__ndarray__\":\"dy/1tva+skCYLTHOIDe2QMl+o3WjILlAZYLvJm5ju0DJy87LQgq8QIhfMSaiirtAb0t+thbwvEDpkngXJZC6QAPmr9Z3uLhAsM89be5zt0D+kp/5CIOzQJTQZEFjuq9AvuVM6mv8pEAVW64JRWymQG2s9BOxOaJAXvTynDigo0DVxggtwPOlQIBaRCUt4Z1AfkXxG9JCoUApx1rZDvijQI3FFnZ1S6FAtv/sh1kHoECz/ilHRVOdQCpSvuROKaJAaMlA1HOAoUDgAqaIVRegQMLiUX0TUaNAbY8Wd5BgokCwIZx3wiOhQDg/rGtcxaJAUosaCmczpUAO46psJ9+mQPhugQBAiaBApRHcxI1BoUA8r29Kd7KnQJjnuS1PK6NA37mFn033pkB+FgJqtfSiQEESU3E6XaJADZc+xCu+oEBBCFsuYFClQMgqHFX746BABU1dDs6Lo0AWCFOEbLChQJGthkMww6RAFWb/+iC8pEBQR5CjgLWiQPw4SkrnaqNAlEbm9GanokCfuAzp3mSgQF4JOJwKGqRATkkABIbUnUAGOPKjO72jQPEvGkRPKJ5AwvALsfL3nUDU0B8NuRmhQLKPHfx7nKVAFB34CXiKoEBn2daM/6ufQLa2uV8ql5pA0QmcrhnEn0DPxgIt2l6bQKqEouVSVZRA1O6VBaaxmEBQY8XZqvqbQOwmW+r2uJJAs8GzR2EolUBARTqXQQCTQA4loxkFm5ZA+Za5GpYvkUBP1mHWMCKQQBg780LUwZZASHZr9Tv9jUDDQZr6q1eOQPNmS24uaY1A6EcAClp4kkA+TFD6Zy+MQPgzQF2JtI9A8kZfLUrmj0AFCfEvst+RQBcQKEBGdYVAA3HfpS3Qh0BWoPXG4RKMQCVhj5mzXYxARmbUhNQlhUDU46J69YGFQEv5Xhz3Vo9AeeSg3Py6hEB93jSNDhCFQNDoh1HlT4BAcJMFLl/YhEByXt719nmAQA+5btWwjHlAiZhXe3TReEA5nNCdkWSAQCX1O08493pAff13lgUVgUAdy3rv3naFQH/5OrEVkYRA7Cqj0yfDjkA=\",\"dtype\":\"float64\",\"shape\":[100]},\"Medicare\":{\"__ndarray__\":\"0zRXS9DTv0CJ5r+g8grDQGMM8stI075A2YxedxbPv0CZbaMUKBDCQCnAjRlcVMJAhHiYkJXiwEAwIPh0lEDAQGyinRyRG8RApncnO1+4wEDxe7IcPfjBQMZ9p1+w58JA7TnRi9OQw0BhivRaudK/QIU1dxcTx79A+mgoY8CJu0Dc6yC/+Wu/QHL3yUK9J7xATa1cG5XkvEDds0Kdcn+2QCw0yuMcsLhAmTMpGcyPu0DwiqjerX+3QIXaoJB6+7dAoMnk7cTttUAmBRhNCLW0QF3IhTg/1rRAYCKcgGyas0D+Mbe+bOKxQHKCJ5zE/69AN8d7iPPxsEAcpKU/DdKuQB8tl6qFWa9AIcRV0kbeqkCD5QtHH8KuQBkTAzj5OqVAqowvp7r1pkC7muDx2CWoQD91dEgLA6ZAybJYWmK8oEA5/2tid86hQN+Iym9QfplAZFnTrnU1nkAApbC0xjmbQGwKdWUpTphAB12+4kN/nUAxY3B+2QCaQA6m6OkKiZZAXY9CmcIaoEAFjtMKM6aYQFHgkYJQS5VAUtrR78XelkDiAjdiKPyWQAzuftfz+pVAFKQj17Nvm0AOvysSvKCWQGyjtnKjdJhAx9W9m08MkkDkJEquBs+QQCc/EKNhSJhAyt6Ij2e/lkDnrO48rmaQQJwfPCrOHpNA50QFxjo2lkDZpp+CUIiTQNNd4XUJGZRA4WX5J2gVkkAvq1e6HpaXQE3Q4nVk9JNAPDBq7TqPnUAh0JHolkSWQNBoMMYyrJlAhgFhYP0gm0AhplBldweYQAVzWOylQ5pAArQ3G2LqnEC2i2Qj2GCWQFTPdUNbR5ZAb5OKZE6znkBEK1m+6AuTQEgGbF8w4p5AzDTlvCohnECZLGclK86VQPiCF/5G5p1AOn5LYOLlmUDSr/bPPtaXQK4n95SDGZhAR3Fx5/qjlEDcPjRFfOuVQMqLdUARlJZA8gvO5zYTk0D4r+F4X1qZQMjYBWOmo5tAnMlVs5KOm0At96SKWSOZQAPGFKQi4JhA992pefaknEBU2aYepReUQHdZCUsaqKBAigMs5TJzpkA=\",\"dtype\":\"float64\",\"shape\":[100]},\"SNAP\":{\"__ndarray__\":\"K4ySiAC4kkCodmu+XA2YQPB+4pKSUpdArgt2KFsll0BYH4JsrVaYQDo3/Bn7uJlAsK/4mY/El0AuRfgD56aXQEvI4JBZSJdAepPOTn6ymECyJB4esLmWQFtdr9jjLpNAQtJwwPTSkEDQ7sAxrkuQQDR3Pw72IZBAz+q7LfQCjkCQ2A0vl36MQJTjWYdmsYpAN39b8O2MiUAr84fEu7iIQEBZ9C6jeIdATAZlmUPtiEB1poQeq1KKQFj5HRHLQYlAHmFbCUL0iEBB5HBLrS2KQB5eEkkyBohAYxOHj/VYiECnutSbLa+IQGfKkV+mhoZAl8kXzkLWiEB8Bpk+jw+KQALdIwGVUIhAkCXLGIugh0A/e7f5HdWKQBkoJukYLIdAGh+g3puth0CyHjFupPWEQCt0Fnk9GIVAmtdrUXgghUCX/joMWnOEQEBZVAwX64BAxgvHGC13gUA8P+VfnwuAQKElT+z3yX5AB7BtHCkxfkAs3vfVS4p7QJneK6CqHXxAdY2SEqprfkCT3JYm3lt5QOH6Ktrr1nJAeFiIbH2yc0A2o6dJJGtwQPJ2TWkEvHBA+r9BFVPkbEA4JaARkFBtQMYBeW1ImXBAPh0ZaHPVbUCb398MvSpxQHjNMTtV2mtAYLDK9dtiaUDsg24r0kBkQMHhmlUhvGVAwWBPCO0uYUCzTzQRAnVjQCBs3UYH6WNAHbA84kPhYkA4lbiEinNbQClHCxakBl9AWergzSFCV0ByoXUbMJRbQGYHtVIglFdA8qQFmt8jU0Cr/8IDWuZSQK2lzM553FJAVMSMARYIS0COAn0udxlKQL+cMyLIoEtAWXmW7UY7R0AEeSSCZQg8QExjdQcEJUBAGVuKUQHzREDENdGkLGs8QN0OvBz5KjZANiw93IJ5O0ABYfbLR780QC4XhSPaqylA6thn11T6MkCJc/Tujo02QCP1Q94TJThAFsJwEOaOPkAGT7tOc1MzQO4ya5Fp6hlAfQbFCAZWK0Bdo41xEGc2QJjZA56nOTdAYLRYnwZHM0CVDZwMcHEpQCFURRM9MytAmDWlGuthQkA=\",\"dtype\":\"float64\",\"shape\":[100]},\"SSI\":{\"__ndarray__\":\"7y7ojFBHk0AcfXFSn96bQP10u62E3phAWmhB+jgFnUAjUABxoV2gQPXzBx43/J5AbMs1Iluxl0AJeRqPLsuaQGaFTKwpv5hAUshzI7nllUCpUj3aO5uWQA02uQahgYxAXMyacudShUDj+itsvBWCQC2ZjMpOUIJAGZWdidxxfkCX+Nb5aSuAQHNAbPZQjXRA4HEPs/TYdkAz4JeSLtVzQFTg4iHa9XNAwKb+b8SXdUA71Gl+xNBxQASaFte6JHJA68L8XU9Vc0BG2G7gCkBuQJ2TMLvXsXFA0eiS93JrbUDYecMfVjhxQOIH+m1U7W5AmhSAuPkLdkDDkRQHMstvQLRMFasPTWpAU2PqDhZ7aUAu/2YGuBNwQAYgrIXk+2JAUl8GAy85ZkAWWRatqbdvQEOhXsxE02ZATQpCXDJjakD93F5yqadjQFgTevElBG5AM1oudAgmaUAht7C3CS5mQNiaJZZm3WdA88mcV3+ibEDy0cfvwQljQO2EFPqCAWJAAGg5B78IY0AUO+73Hc9mQPGhxiJ4EmJAFnQTQLGcZEDMmmCRq1FgQIbOK9xoklxA26e4tqLfY0B5Z8ULHRRgQEl+C8oIh2BAatotuLUpZEATTxVeAIVcQNyJEJpYc2NA316HHnwJYkC9EyBLeRxiQL1jju4EHE1A+CLvTYEVY0DL3nRrLOJZQDW5wskl31lAGAyCOHsuVkBoCZOyd+9iQGHURIsrr1lAAeflYHRiVkAchksv/45TQMvBhCuQlkdAR6ILFXaoRUAZDrApmVM0QM6nclJ/8jxA75ls3YV0NEByYHNmnhE5QJ2pivWgTkBAVpJwVpm0I0BaKKABXIc+QIQZiTL5zCpAiD9SJ3jbKEDXV1bFPFUyQEW0yH3VZSdAEZR5ZDA0EUAcg0mdLYY+QLDnE20uWzFAxsietdHkK0BzVsPJWgU3QHiepIXOjDNASbc0B0b5JkCS3AwJQ90yQKicDGxhDzlAsN578pC+JkBu65Y6nok4QCVj4OVaSTJA5gT/Egk/KEBnB7KIJoQuQNT68b/vhxRAZQAb19BiTkA=\",\"dtype\":\"float64\",\"shape\":[100]},\"Social Security\":{\"__ndarray__\":\"3DNrC1fNxkDQ6mAtm1bFQLmZb04zIsRAdCAnCYcJxEBCfY6og1XEQGTKZXbtPcVABjEr3rYGxEA3obKGzPrEQE8AHXLXzsVAczNQEDu5xED6W4CXPZTGQHWfUiz738dAkFbkG2EuzEA4MGfYQZnGQAe1A3asJcRAA6K3+r10wkAn+NY4VAvEQHZSdpmfz8FAHdk7dLunw0CXwmNqAYXAQIIGHbWyvMJAS4yjbeqnwUBK3dnbvM2/QHgc5BiPL8FASKG4bFuEwEDPTRPfNr/AQAGA+4sUPMBAROAhSP8AwEDO2DbsTGS4QNwoYPaL57ZAkNGnEOBFu0DTgp3PRyi6QN/kgBP/CLZApQshNqQwtEDVxtb8hMqzQJHZ0clELrBAOMzXx1ghsUDHQQ/FBYaxQMaG/c7dhq5A7RKK7+9aq0DI2S58NO6rQLFNuU+uUqVAYNkl0EdXqEA0anKmzFyoQHh0W/rzKKZAMaAWAa2upECPrkUYYm6kQKPF4FrUc6FAuIzVQwhVqUB5UnRORTaiQOI6YwcpBKVA5mk07gPnokAo3KSXhOibQNtjUPr2naRA6b1KPi1jpEC0V8FmAxGkQFxAWHgcw6RA+t7V4uDan0Arm6QFioWhQCnsr3EVpqNAVIyCGknKokCIkQ7kH0ieQKVEFLj3taFAtvzh2pfYokC/7WPAUJeeQM1AEyldEKRAIwj7YqTpoUCCu1a3If6iQO/T/jnRaqNA/BlY/GfUqEDzOjmokEClQOKmLM/h26ZAPJaR+1ExpUAI3tyFSpSmQOizdZGQhKZAW66rTjXCpUCmaHRhLhKoQHNoF+YQgadAU0qzPTAbqkAopPERjp+lQAHEFsedmKtAF2BGSlC9q0BNbdI7SDuqQBAJDgSWNqtAQZlQdQkUqEAvMKRgWTmpQDS3Js6wg6VAoFvdSF3+qUCdqp42OhunQMv+8mhoiapA7PGktQfWp0C8dIO+0+WoQKC4NxcNeqhAl1UqAtEZqkCeE//sfLmoQJPB5vRMkKpAk06uec8eq0AW2vHM4kqsQDOeYcABNa9A7U59wxCZtkA=\",\"dtype\":\"float64\",\"shape\":[100]},\"Veterans Benefits\":{\"__ndarray__\":\"PoE8DqWPlkCqiRo7K9ibQKOUr51qmpBAj5OWS8kjl0DOe8HGIXuVQI+ulFUTB5RAQYwQP+mUmEDaINIYBk+YQP6X7sNIw6BAc/1jDOHjlkBVQYkZtVacQBRsBhbaY6RAe0a0aO4lokDOOWyKtUSfQDEu+k71NZVAxqp+060imkBzEZMhM6WXQB82Nb+4wpVArZXbmmcsk0BUvyK49CCQQAvxmv4OcZBAIgkU/Dqdk0C+ifIaXPOPQGnNt9nNPZRAoMRsKEE5k0CiPlNy1mKTQBCpDeir+phAnPt18hg9kUBkJLhMSNqQQKnHQAB6QopAiM8PpR0zkUDtMuncymeTQOdnFrPc/I1Aqfpmu+/WjEDiI34rcz+GQNAJ5oOtFoZAyxYxM+u0gkA6nD0mmaKJQDGqm6+k+oNAQppgKa0WfkDH0lr65QeGQLKHuc7O03lAUk1B0u1tekClLorYCNaAQKrH9vCIG4RA3/pI5K+5eUDbAooYPriFQItpqsYYLnpAul2LujYwgEDgeGWcHYOAQHHIj82cqX9A249gC+86gkDeKzlIZ+eAQJQkatbp+IBACRmMlWO1e0Dy7t2M5/GFQCf0K9/u3YBA8LieSZH8gECPIe6Sdrd+QMyPX6DEqoJAE+4bCVQHgkBudGAQrWCDQPAv5qlSj4BAAUN29tQXe0D6DCeMVSZ6QBvN8RXYj4NAPZhoeWcMiEB0bcARZKiGQHb/Dpv+2IBA0YIvImx9gkBReUGO1QKEQG3KEVoeqIJACDtfOYeUhUAQyGpsVo+HQIYFTS5iXIdA+rp8xNETh0CJyR5hgnKIQIYF2/bOyoZAxBuGnZeKh0DK6nd75t2GQIGXOYAqDYZAQeOC5siEhUBtfXQolniDQClMZpnJyYtAnyiWKkWeg0BgI0q3PUmRQKsLRuv0kIRAakLRU1T4iUDxmie2BF2JQOQuhJMRKIJA9pkYrHlkh0BdJq40+uKLQKwiT8Om1odAGw1A2UD8gUDhdl+l5s92QL/o9kZgeYdA5hvuEz2CiEA70woy9DaEQC7udzpI5n1Adyhr4Qt+hEA=\",\"dtype\":\"float64\",\"shape\":[100]},\"index\":[1,2,3,4,5,6,7,8,9,10,11,12,13,14,15,16,17,18,19,20,21,22,23,24,25,26,27,28,29,30,31,32,33,34,35,36,37,38,39,40,41,42,43,44,45,46,47,48,49,50,51,52,53,54,55,56,57,58,59,60,61,62,63,64,65,66,67,68,69,70,71,72,73,74,75,76,77,78,79,80,81,82,83,84,85,86,87,88,89,90,91,92,93,94,95,96,97,98,99,100]}},\"id\":\"5dcaf78e-5406-4a03-926f-9d2d00425507\",\"type\":\"ColumnDataSource\"},{\"attributes\":{\"data_source\":{\"id\":\"5dcaf78e-5406-4a03-926f-9d2d00425507\",\"type\":\"ColumnDataSource\"},\"glyph\":{\"id\":\"6821f6cc-2188-404a-9372-02b63afb5dfc\",\"type\":\"Line\"},\"hover_glyph\":null,\"muted_glyph\":null,\"nonselection_glyph\":{\"id\":\"aa07634c-d238-4121-a522-1ac05de477d5\",\"type\":\"Line\"},\"selection_glyph\":null,\"view\":{\"id\":\"c012ec0e-8d9e-48e0-b6d8-d256ed37c056\",\"type\":\"CDSView\"}},\"id\":\"12216569-267f-462f-992d-f2887eace37f\",\"type\":\"GlyphRenderer\"},{\"attributes\":{\"line_color\":{\"value\":\"#1f77b4\"},\"line_width\":{\"value\":2},\"x\":{\"field\":\"index\"},\"y\":{\"field\":\"Medicare\"}},\"id\":\"6821f6cc-2188-404a-9372-02b63afb5dfc\",\"type\":\"Line\"},{\"attributes\":{\"line_color\":{\"value\":\"pink\"},\"line_width\":{\"value\":2},\"x\":{\"field\":\"index\"},\"y\":{\"field\":\"Veterans Benefits\"}},\"id\":\"13416339-82e5-476d-9238-726b58a91b3d\",\"type\":\"Line\"},{\"attributes\":{\"line_color\":{\"value\":\"purple\"},\"line_width\":{\"value\":2},\"x\":{\"field\":\"index\"},\"y\":{\"field\":\"SSI\"}},\"id\":\"e9c06a44-3578-4ba1-88c4-7371030ef402\",\"type\":\"Line\"},{\"attributes\":{},\"id\":\"82a4a164-f43a-4159-8977-05e24d61ef4e\",\"type\":\"LinearScale\"},{\"attributes\":{},\"id\":\"79fb611a-d6dd-4e54-9169-bbe896d22d65\",\"type\":\"LinearScale\"},{\"attributes\":{\"axis_label\":\"Percentile\",\"formatter\":{\"id\":\"8fa15f27-5c74-46bf-998b-1d352bd814e1\",\"type\":\"BasicTickFormatter\"},\"plot\":{\"id\":\"ff8b7250-77e1-42ba-9dc7-003f2cc6a572\",\"subtype\":\"Figure\",\"type\":\"Plot\"},\"ticker\":{\"id\":\"6476ae47-b8ed-4a7c-9176-85de15292cad\",\"type\":\"BasicTicker\"}},\"id\":\"0c85d72e-7656-4b3f-b8ce-21615f621491\",\"type\":\"LinearAxis\"},{\"attributes\":{\"callback\":null},\"id\":\"b6e1e608-94a4-4ca3-b8a8-711268539c2c\",\"type\":\"DataRange1d\"},{\"attributes\":{\"callback\":null},\"id\":\"83a71e73-98b4-41c5-8620-2b5a73256894\",\"type\":\"DataRange1d\"},{\"attributes\":{\"source\":{\"id\":\"5dcaf78e-5406-4a03-926f-9d2d00425507\",\"type\":\"ColumnDataSource\"}},\"id\":\"37d00d78-39a9-4363-a3a5-326a73c794cd\",\"type\":\"CDSView\"},{\"attributes\":{\"line_alpha\":{\"value\":0.1},\"line_color\":{\"value\":\"#1f77b4\"},\"line_width\":{\"value\":2},\"x\":{\"field\":\"index\"},\"y\":{\"field\":\"SSI\"}},\"id\":\"94c73a13-7459-41d5-b3b3-a60b85d613ea\",\"type\":\"Line\"},{\"attributes\":{},\"id\":\"6476ae47-b8ed-4a7c-9176-85de15292cad\",\"type\":\"BasicTicker\"},{\"attributes\":{\"data_source\":{\"id\":\"5dcaf78e-5406-4a03-926f-9d2d00425507\",\"type\":\"ColumnDataSource\"},\"glyph\":{\"id\":\"e9c06a44-3578-4ba1-88c4-7371030ef402\",\"type\":\"Line\"},\"hover_glyph\":null,\"muted_glyph\":null,\"nonselection_glyph\":{\"id\":\"94c73a13-7459-41d5-b3b3-a60b85d613ea\",\"type\":\"Line\"},\"selection_glyph\":null,\"view\":{\"id\":\"37d00d78-39a9-4363-a3a5-326a73c794cd\",\"type\":\"CDSView\"}},\"id\":\"dc1ca033-2529-4c44-b776-fcb33556642e\",\"type\":\"GlyphRenderer\"},{\"attributes\":{\"axis_label\":\"Average Benefit\",\"formatter\":{\"id\":\"d724b39e-0eb0-4f7c-bcfe-7cfcdf7900f0\",\"type\":\"BasicTickFormatter\"},\"plot\":{\"id\":\"ff8b7250-77e1-42ba-9dc7-003f2cc6a572\",\"subtype\":\"Figure\",\"type\":\"Plot\"},\"ticker\":{\"id\":\"5dbc6f71-d03c-457b-8eff-87480a4d0af1\",\"type\":\"BasicTicker\"}},\"id\":\"816b2a9a-d8c1-4314-80a6-3640c7b66fef\",\"type\":\"LinearAxis\"},{\"attributes\":{\"bottom_units\":\"screen\",\"fill_alpha\":{\"value\":0.5},\"fill_color\":{\"value\":\"lightgrey\"},\"left_units\":\"screen\",\"level\":\"overlay\",\"line_alpha\":{\"value\":1.0},\"line_color\":{\"value\":\"black\"},\"line_dash\":[4,4],\"line_width\":{\"value\":2},\"plot\":null,\"render_mode\":\"css\",\"right_units\":\"screen\",\"top_units\":\"screen\"},\"id\":\"4c1022e3-0d31-481e-9002-7cd992ee723e\",\"type\":\"BoxAnnotation\"},{\"attributes\":{},\"id\":\"5dbc6f71-d03c-457b-8eff-87480a4d0af1\",\"type\":\"BasicTicker\"},{\"attributes\":{\"line_color\":{\"value\":\"orange\"},\"line_width\":{\"value\":2},\"x\":{\"field\":\"index\"},\"y\":{\"field\":\"SNAP\"}},\"id\":\"66a6c792-791f-4e0c-9269-17847cba2bca\",\"type\":\"Line\"},{\"attributes\":{\"label\":{\"value\":\"Medicaid \"},\"renderers\":[{\"id\":\"3121d61a-e055-4cc5-9ba7-bdbd40771363\",\"type\":\"GlyphRenderer\"}]},\"id\":\"d8540117-f1fc-4b0b-ba9d-6822004affde\",\"type\":\"LegendItem\"},{\"attributes\":{\"dimension\":1,\"plot\":{\"id\":\"ff8b7250-77e1-42ba-9dc7-003f2cc6a572\",\"subtype\":\"Figure\",\"type\":\"Plot\"},\"ticker\":{\"id\":\"5dbc6f71-d03c-457b-8eff-87480a4d0af1\",\"type\":\"BasicTicker\"}},\"id\":\"69716427-5abb-4faa-82d5-3cdfdfd23dab\",\"type\":\"Grid\"},{\"attributes\":{\"line_alpha\":{\"value\":0.1},\"line_color\":{\"value\":\"#1f77b4\"},\"line_width\":{\"value\":2},\"x\":{\"field\":\"index\"},\"y\":{\"field\":\"Medicare\"}},\"id\":\"aa07634c-d238-4121-a522-1ac05de477d5\",\"type\":\"Line\"},{\"attributes\":{\"label\":{\"value\":\"Medicare \"},\"renderers\":[{\"id\":\"12216569-267f-462f-992d-f2887eace37f\",\"type\":\"GlyphRenderer\"}]},\"id\":\"374c1ada-09c3-456a-add0-d21bfaceaa84\",\"type\":\"LegendItem\"},{\"attributes\":{\"source\":{\"id\":\"5dcaf78e-5406-4a03-926f-9d2d00425507\",\"type\":\"ColumnDataSource\"}},\"id\":\"953b0e14-6833-4682-a743-14230e0910e7\",\"type\":\"CDSView\"},{\"attributes\":{\"label\":{\"value\":\"Social Security \"},\"renderers\":[{\"id\":\"aa723702-0dde-41c1-971b-c869ff65268f\",\"type\":\"GlyphRenderer\"}]},\"id\":\"31b340d7-3fa5-4913-8a02-c3c8b2da01f8\",\"type\":\"LegendItem\"},{\"attributes\":{\"active_drag\":\"auto\",\"active_inspect\":\"auto\",\"active_scroll\":\"auto\",\"active_tap\":\"auto\",\"tools\":[{\"id\":\"3470baf7-b7db-49a2-90a8-c1c1f1ef3b22\",\"type\":\"PanTool\"},{\"id\":\"e981873e-7b3a-492c-97de-b08038e28da4\",\"type\":\"WheelZoomTool\"},{\"id\":\"2b7be89b-e471-4d7b-8f83-015e8d4cd18f\",\"type\":\"BoxZoomTool\"},{\"id\":\"2137fc08-b21a-4b37-bcb4-b25defcd5fc6\",\"type\":\"SaveTool\"},{\"id\":\"69c7330a-426e-4603-81d4-5f43f00b3fc6\",\"type\":\"ResetTool\"},{\"id\":\"bb8e981c-c003-440d-b413-ce49132e2874\",\"type\":\"HelpTool\"},{\"id\":\"4a09d2d4-2371-4ddd-828c-09e73e812efd\",\"type\":\"HoverTool\"}]},\"id\":\"16ce2f89-b76d-4ae7-89f2-8fe680f828ba\",\"type\":\"Toolbar\"},{\"attributes\":{\"label\":{\"value\":\"Veterans Benefits \"},\"renderers\":[{\"id\":\"279f06c8-b65f-422b-b1ae-dc4db3764451\",\"type\":\"GlyphRenderer\"}]},\"id\":\"01fedaf2-f990-4395-97ed-3be14e89f76d\",\"type\":\"LegendItem\"},{\"attributes\":{\"source\":{\"id\":\"5dcaf78e-5406-4a03-926f-9d2d00425507\",\"type\":\"ColumnDataSource\"}},\"id\":\"c012ec0e-8d9e-48e0-b6d8-d256ed37c056\",\"type\":\"CDSView\"},{\"attributes\":{\"line_color\":{\"value\":\"green\"},\"line_width\":{\"value\":2},\"x\":{\"field\":\"index\"},\"y\":{\"field\":\"Social Security\"}},\"id\":\"e947eb50-e974-4383-8eeb-e0dde36e1b6d\",\"type\":\"Line\"},{\"attributes\":{\"line_alpha\":{\"value\":0.1},\"line_color\":{\"value\":\"#1f77b4\"},\"line_width\":{\"value\":2},\"x\":{\"field\":\"index\"},\"y\":{\"field\":\"Medicaid\"}},\"id\":\"c8b9853e-8b60-4a45-aad9-221ba4f88f5d\",\"type\":\"Line\"},{\"attributes\":{\"data_source\":{\"id\":\"5dcaf78e-5406-4a03-926f-9d2d00425507\",\"type\":\"ColumnDataSource\"},\"glyph\":{\"id\":\"8061d1f1-c71e-4657-bf30-afb397ca310a\",\"type\":\"Line\"},\"hover_glyph\":null,\"muted_glyph\":null,\"nonselection_glyph\":{\"id\":\"c8b9853e-8b60-4a45-aad9-221ba4f88f5d\",\"type\":\"Line\"},\"selection_glyph\":null,\"view\":{\"id\":\"d0dee2f4-cd84-4855-8ed2-f500dc81461e\",\"type\":\"CDSView\"}},\"id\":\"3121d61a-e055-4cc5-9ba7-bdbd40771363\",\"type\":\"GlyphRenderer\"},{\"attributes\":{\"source\":{\"id\":\"5dcaf78e-5406-4a03-926f-9d2d00425507\",\"type\":\"ColumnDataSource\"}},\"id\":\"da39f3b7-41ff-4ab8-8632-b99d7c6833f1\",\"type\":\"CDSView\"},{\"attributes\":{\"overlay\":{\"id\":\"4c1022e3-0d31-481e-9002-7cd992ee723e\",\"type\":\"BoxAnnotation\"}},\"id\":\"2b7be89b-e471-4d7b-8f83-015e8d4cd18f\",\"type\":\"BoxZoomTool\"},{\"attributes\":{\"label\":{\"value\":\"SSI \"},\"renderers\":[{\"id\":\"dc1ca033-2529-4c44-b776-fcb33556642e\",\"type\":\"GlyphRenderer\"}]},\"id\":\"48e987c3-1472-4f4c-b106-725823fbef4c\",\"type\":\"LegendItem\"},{\"attributes\":{\"below\":[{\"id\":\"0c85d72e-7656-4b3f-b8ce-21615f621491\",\"type\":\"LinearAxis\"}],\"left\":[{\"id\":\"816b2a9a-d8c1-4314-80a6-3640c7b66fef\",\"type\":\"LinearAxis\"}],\"renderers\":[{\"id\":\"0c85d72e-7656-4b3f-b8ce-21615f621491\",\"type\":\"LinearAxis\"},{\"id\":\"b8d1308f-b7b8-4cd9-83fd-f66b29becb7f\",\"type\":\"Grid\"},{\"id\":\"816b2a9a-d8c1-4314-80a6-3640c7b66fef\",\"type\":\"LinearAxis\"},{\"id\":\"69716427-5abb-4faa-82d5-3cdfdfd23dab\",\"type\":\"Grid\"},{\"id\":\"4c1022e3-0d31-481e-9002-7cd992ee723e\",\"type\":\"BoxAnnotation\"},{\"id\":\"f6d45ce6-808e-4fa2-a7e7-01c891dc3bee\",\"type\":\"Legend\"},{\"id\":\"12216569-267f-462f-992d-f2887eace37f\",\"type\":\"GlyphRenderer\"},{\"id\":\"3121d61a-e055-4cc5-9ba7-bdbd40771363\",\"type\":\"GlyphRenderer\"},{\"id\":\"aa723702-0dde-41c1-971b-c869ff65268f\",\"type\":\"GlyphRenderer\"},{\"id\":\"2c949648-fb49-4788-8f9f-2a83258b2fff\",\"type\":\"GlyphRenderer\"},{\"id\":\"dc1ca033-2529-4c44-b776-fcb33556642e\",\"type\":\"GlyphRenderer\"},{\"id\":\"279f06c8-b65f-422b-b1ae-dc4db3764451\",\"type\":\"GlyphRenderer\"}],\"title\":{\"id\":\"1301b882-4127-4c6f-b7d8-e2d47e53eb8f\",\"type\":\"Title\"},\"toolbar\":{\"id\":\"16ce2f89-b76d-4ae7-89f2-8fe680f828ba\",\"type\":\"Toolbar\"},\"x_range\":{\"id\":\"83a71e73-98b4-41c5-8620-2b5a73256894\",\"type\":\"DataRange1d\"},\"x_scale\":{\"id\":\"79fb611a-d6dd-4e54-9169-bbe896d22d65\",\"type\":\"LinearScale\"},\"y_range\":{\"id\":\"b6e1e608-94a4-4ca3-b8a8-711268539c2c\",\"type\":\"DataRange1d\"},\"y_scale\":{\"id\":\"82a4a164-f43a-4159-8977-05e24d61ef4e\",\"type\":\"LinearScale\"}},\"id\":\"ff8b7250-77e1-42ba-9dc7-003f2cc6a572\",\"subtype\":\"Figure\",\"type\":\"Plot\"},{\"attributes\":{\"line_alpha\":{\"value\":0.1},\"line_color\":{\"value\":\"#1f77b4\"},\"line_width\":{\"value\":2},\"x\":{\"field\":\"index\"},\"y\":{\"field\":\"Veterans Benefits\"}},\"id\":\"a71ac7d8-b710-4139-8c99-5231d21d5590\",\"type\":\"Line\"},{\"attributes\":{},\"id\":\"d724b39e-0eb0-4f7c-bcfe-7cfcdf7900f0\",\"type\":\"BasicTickFormatter\"},{\"attributes\":{},\"id\":\"bb8e981c-c003-440d-b413-ce49132e2874\",\"type\":\"HelpTool\"},{\"attributes\":{},\"id\":\"e981873e-7b3a-492c-97de-b08038e28da4\",\"type\":\"WheelZoomTool\"},{\"attributes\":{\"source\":{\"id\":\"5dcaf78e-5406-4a03-926f-9d2d00425507\",\"type\":\"ColumnDataSource\"}},\"id\":\"d0dee2f4-cd84-4855-8ed2-f500dc81461e\",\"type\":\"CDSView\"},{\"attributes\":{\"plot\":null,\"text\":\"Average Benefit by AGI Percentile for 2014\"},\"id\":\"1301b882-4127-4c6f-b7d8-e2d47e53eb8f\",\"type\":\"Title\"},{\"attributes\":{},\"id\":\"8fa15f27-5c74-46bf-998b-1d352bd814e1\",\"type\":\"BasicTickFormatter\"},{\"attributes\":{\"callback\":null,\"tooltips\":[[\"Benefit\",\"$y{$0,0.00}\"],[\"Percentile\",\"@index%\"]]},\"id\":\"4a09d2d4-2371-4ddd-828c-09e73e812efd\",\"type\":\"HoverTool\"},{\"attributes\":{},\"id\":\"2137fc08-b21a-4b37-bcb4-b25defcd5fc6\",\"type\":\"SaveTool\"},{\"attributes\":{\"data_source\":{\"id\":\"5dcaf78e-5406-4a03-926f-9d2d00425507\",\"type\":\"ColumnDataSource\"},\"glyph\":{\"id\":\"e947eb50-e974-4383-8eeb-e0dde36e1b6d\",\"type\":\"Line\"},\"hover_glyph\":null,\"muted_glyph\":null,\"nonselection_glyph\":{\"id\":\"e9ec4a2f-3200-4c17-a3ac-db3521f02854\",\"type\":\"Line\"},\"selection_glyph\":null,\"view\":{\"id\":\"953b0e14-6833-4682-a743-14230e0910e7\",\"type\":\"CDSView\"}},\"id\":\"aa723702-0dde-41c1-971b-c869ff65268f\",\"type\":\"GlyphRenderer\"},{\"attributes\":{\"data_source\":{\"id\":\"5dcaf78e-5406-4a03-926f-9d2d00425507\",\"type\":\"ColumnDataSource\"},\"glyph\":{\"id\":\"13416339-82e5-476d-9238-726b58a91b3d\",\"type\":\"Line\"},\"hover_glyph\":null,\"muted_glyph\":null,\"nonselection_glyph\":{\"id\":\"a71ac7d8-b710-4139-8c99-5231d21d5590\",\"type\":\"Line\"},\"selection_glyph\":null,\"view\":{\"id\":\"da39f3b7-41ff-4ab8-8632-b99d7c6833f1\",\"type\":\"CDSView\"}},\"id\":\"279f06c8-b65f-422b-b1ae-dc4db3764451\",\"type\":\"GlyphRenderer\"},{\"attributes\":{\"line_color\":{\"value\":\"red\"},\"line_width\":{\"value\":2},\"x\":{\"field\":\"index\"},\"y\":{\"field\":\"Medicaid\"}},\"id\":\"8061d1f1-c71e-4657-bf30-afb397ca310a\",\"type\":\"Line\"}],\"root_ids\":[\"ff8b7250-77e1-42ba-9dc7-003f2cc6a572\"]},\"title\":\"Bokeh Application\",\"version\":\"0.12.10\"}};\n",
       "    var render_items = [{\"docid\":\"999d0b9d-8246-4a1b-aa14-7fec24d28a46\",\"elementid\":\"af01ec0c-8b67-4bb7-b53b-e41c5d2a3076\",\"modelid\":\"ff8b7250-77e1-42ba-9dc7-003f2cc6a572\",\"notebook_comms_target\":\"0a4fa573-4768-4de4-8c9e-7951011b474d\"}];\n",
       "\n",
       "    root.Bokeh.embed.embed_items(docs_json, render_items);\n",
       "  }\n",
       "\n",
       "  if (root.Bokeh !== undefined) {\n",
       "    embed_document(root);\n",
       "  } else {\n",
       "    var attempts = 0;\n",
       "    var timer = setInterval(function(root) {\n",
       "      if (root.Bokeh !== undefined) {\n",
       "        embed_document(root);\n",
       "        clearInterval(timer);\n",
       "      }\n",
       "      attempts++;\n",
       "      if (attempts > 100) {\n",
       "        console.log(\"Bokeh: ERROR: Unable to embed document because BokehJS library is missing\")\n",
       "        clearInterval(timer);\n",
       "      }\n",
       "    }, 10, root)\n",
       "  }\n",
       "})(window);"
      ],
      "application/vnd.bokehjs_exec.v0+json": ""
     },
     "metadata": {
      "application/vnd.bokehjs_exec.v0+json": {
       "id": "ff8b7250-77e1-42ba-9dc7-003f2cc6a572"
      }
     },
     "output_type": "display_data"
    },
    {
     "data": {
      "application/vnd.jupyter.widget-view+json": {
       "model_id": "73587399261340bda6afe6ea6b4170db"
      }
     },
     "metadata": {},
     "output_type": "display_data"
    }
   ],
   "source": [
    "aba_fig = show(avg_ben_all_fig, notebook_handle=True)\n",
    "interactive(aba_update, year=year_dropdown2)"
   ]
  },
  {
   "cell_type": "markdown",
   "metadata": {},
   "source": [
    "# Average Benefit for Participants"
   ]
  },
  {
   "cell_type": "code",
   "execution_count": 25,
   "metadata": {},
   "outputs": [],
   "source": [
    "avg_ben_part_fig = figure(title='Average Benefit for Participants by AGI Percentile for 2014',\n",
    "                          width=800, y_range=(0, 45000))\n",
    "mcare_abp = avg_ben_part_fig.line(x='index', y='Medicare', legend='Medicare ',\n",
    "                                  line_width=2,\n",
    "                                  source=avg_ben_participants_cds)\n",
    "mcaid_abp = avg_ben_part_fig.line(x='index', y='Medicaid', legend='Medicaid ',\n",
    "                                  line_width=2, color='red',\n",
    "                                  source=avg_ben_participants_cds)\n",
    "ss_abp = avg_ben_part_fig.line(x='index', y='Social Security', legend='Social Security ',\n",
    "                               line_width=2, color='green',\n",
    "                               source=avg_ben_participants_cds)\n",
    "snap_abp = avg_ben_part_fig.line(x='index', y='SNAP', legend='SNAP ',\n",
    "                                 line_width=2, color='orange',\n",
    "                                 source=avg_ben_participants_cds)\n",
    "ssi_abp = avg_ben_part_fig.line(x='index', y='SSI', legend='SSI ',\n",
    "                                line_width=2, color='purple',\n",
    "                                source=avg_ben_participants_cds)\n",
    "vb_abp = avg_ben_part_fig.line(x='index', y='Veterans Benefits', legend='Veterans Benefits ',\n",
    "                               line_width=2, color='pink',\n",
    "                               source=avg_ben_participants_cds)\n",
    "hover_abp = HoverTool(tooltips=[('Benefit', '$y{$0,0.00}'), ('Percentile', '@index%')])\n",
    "avg_ben_part_fig.add_tools(hover_abp)\n",
    "\n",
    "avg_ben_part_fig.legend.orientation = 'horizontal'\n",
    "avg_ben_part_fig.legend.location = 'top_center'\n",
    "\n",
    "avg_ben_part_fig.xaxis.axis_label = 'Percentile'\n",
    "avg_ben_part_fig.yaxis.axis_label = 'Average Benefit'"
   ]
  },
  {
   "cell_type": "code",
   "execution_count": 38,
   "metadata": {},
   "outputs": [
    {
     "data": {
      "text/html": [
       "\n",
       "<div class=\"bk-root\">\n",
       "    <div class=\"bk-plotdiv\" id=\"6ae43dbb-fa8a-4c3f-b738-aef035c7488b\"></div>\n",
       "</div>"
      ]
     },
     "metadata": {},
     "output_type": "display_data"
    },
    {
     "data": {
      "application/javascript": [
       "(function(root) {\n",
       "  function embed_document(root) {\n",
       "    var docs_json = {\"06b8adff-f32d-4724-8b9a-b920ed695ca0\":{\"roots\":{\"references\":[{\"attributes\":{\"label\":{\"value\":\"Medicare \"},\"renderers\":[{\"id\":\"e029f7ff-b61f-4b46-9784-47d74a3a52d8\",\"type\":\"GlyphRenderer\"}]},\"id\":\"9f7611df-c0af-4663-a02a-f06387d644f7\",\"type\":\"LegendItem\"},{\"attributes\":{\"label\":{\"value\":\"SSI \"},\"renderers\":[{\"id\":\"513b66b8-bc28-4419-b92a-54be61c569ee\",\"type\":\"GlyphRenderer\"}]},\"id\":\"ef69c4a9-4440-4879-8ba1-fed0d2ee8ebb\",\"type\":\"LegendItem\"},{\"attributes\":{},\"id\":\"9aad075d-dc49-4ad2-a7b7-55091b17e345\",\"type\":\"LinearScale\"},{\"attributes\":{\"line_alpha\":{\"value\":0.1},\"line_color\":{\"value\":\"#1f77b4\"},\"line_width\":{\"value\":2},\"x\":{\"field\":\"index\"},\"y\":{\"field\":\"Veterans Benefits\"}},\"id\":\"110223cf-ec3e-459f-a647-54e0ac95672d\",\"type\":\"Line\"},{\"attributes\":{\"line_color\":{\"value\":\"purple\"},\"line_width\":{\"value\":2},\"x\":{\"field\":\"index\"},\"y\":{\"field\":\"SSI\"}},\"id\":\"2aae7ff5-d77d-45a1-9987-3731565419f1\",\"type\":\"Line\"},{\"attributes\":{\"line_alpha\":{\"value\":0.1},\"line_color\":{\"value\":\"#1f77b4\"},\"line_width\":{\"value\":2},\"x\":{\"field\":\"index\"},\"y\":{\"field\":\"SNAP\"}},\"id\":\"006ef518-aad7-41da-8dc9-d8f4918d0fe3\",\"type\":\"Line\"},{\"attributes\":{\"line_alpha\":{\"value\":0.1},\"line_color\":{\"value\":\"#1f77b4\"},\"line_width\":{\"value\":2},\"x\":{\"field\":\"index\"},\"y\":{\"field\":\"Medicaid\"}},\"id\":\"da28b1b5-bf87-4e65-84c2-9511ddc474b8\",\"type\":\"Line\"},{\"attributes\":{\"items\":[{\"id\":\"9f7611df-c0af-4663-a02a-f06387d644f7\",\"type\":\"LegendItem\"},{\"id\":\"edc924c7-1bd5-4f53-be50-173ca9795cef\",\"type\":\"LegendItem\"},{\"id\":\"f7b10620-b61b-454d-8879-4d5cc6aced29\",\"type\":\"LegendItem\"},{\"id\":\"b15c0ab3-d96b-4c85-be72-9d34ec4fb361\",\"type\":\"LegendItem\"},{\"id\":\"ef69c4a9-4440-4879-8ba1-fed0d2ee8ebb\",\"type\":\"LegendItem\"},{\"id\":\"278e59aa-1e5e-4afe-9d33-f3f0011a92ab\",\"type\":\"LegendItem\"}],\"location\":\"top_center\",\"orientation\":\"horizontal\",\"plot\":{\"id\":\"d3d089c7-e7a3-4003-a600-b5a52638b8bc\",\"subtype\":\"Figure\",\"type\":\"Plot\"}},\"id\":\"8005d8e5-5906-48e5-b602-e3d10dff611b\",\"type\":\"Legend\"},{\"attributes\":{\"line_color\":{\"value\":\"orange\"},\"line_width\":{\"value\":2},\"x\":{\"field\":\"index\"},\"y\":{\"field\":\"SNAP\"}},\"id\":\"2ce60c4c-1a16-497b-8f5b-699ffdf895b4\",\"type\":\"Line\"},{\"attributes\":{\"line_color\":{\"value\":\"#1f77b4\"},\"line_width\":{\"value\":2},\"x\":{\"field\":\"index\"},\"y\":{\"field\":\"Medicare\"}},\"id\":\"a0781318-c762-4a77-8d3a-3e591d3860a7\",\"type\":\"Line\"},{\"attributes\":{\"source\":{\"id\":\"238ceef6-7da4-44cc-b763-ffff7a52e12d\",\"type\":\"ColumnDataSource\"}},\"id\":\"a81d82fd-421a-4349-8d57-37aa3566a47a\",\"type\":\"CDSView\"},{\"attributes\":{\"callback\":null,\"end\":45000},\"id\":\"468b2463-8e2b-4f60-a766-ed93d65221b6\",\"type\":\"Range1d\"},{\"attributes\":{\"line_color\":{\"value\":\"green\"},\"line_width\":{\"value\":2},\"x\":{\"field\":\"index\"},\"y\":{\"field\":\"Social Security\"}},\"id\":\"cb0c41b1-c2a4-4aa5-8220-632c62aa3b8a\",\"type\":\"Line\"},{\"attributes\":{},\"id\":\"14bb71f3-0c2f-4448-b45f-ec3d6afb712f\",\"type\":\"ResetTool\"},{\"attributes\":{\"data_source\":{\"id\":\"238ceef6-7da4-44cc-b763-ffff7a52e12d\",\"type\":\"ColumnDataSource\"},\"glyph\":{\"id\":\"2aae7ff5-d77d-45a1-9987-3731565419f1\",\"type\":\"Line\"},\"hover_glyph\":null,\"muted_glyph\":null,\"nonselection_glyph\":{\"id\":\"e19f9e62-f377-4f20-8f01-603eeca5f254\",\"type\":\"Line\"},\"selection_glyph\":null,\"view\":{\"id\":\"bab986cf-e3ca-43e7-91fe-44c1bbd69344\",\"type\":\"CDSView\"}},\"id\":\"513b66b8-bc28-4419-b92a-54be61c569ee\",\"type\":\"GlyphRenderer\"},{\"attributes\":{},\"id\":\"b0424c80-fd6a-4d5b-8be3-6fee0b8bb159\",\"type\":\"LinearScale\"},{\"attributes\":{},\"id\":\"8b2c123f-85ad-4ee0-ae27-d40aa8d9fae7\",\"type\":\"PanTool\"},{\"attributes\":{},\"id\":\"051aad17-2f67-4250-bdf9-05d554a5d17c\",\"type\":\"SaveTool\"},{\"attributes\":{\"line_alpha\":{\"value\":0.1},\"line_color\":{\"value\":\"#1f77b4\"},\"line_width\":{\"value\":2},\"x\":{\"field\":\"index\"},\"y\":{\"field\":\"SSI\"}},\"id\":\"e19f9e62-f377-4f20-8f01-603eeca5f254\",\"type\":\"Line\"},{\"attributes\":{},\"id\":\"39ba5000-5db5-46db-89a5-5deeb886b509\",\"type\":\"WheelZoomTool\"},{\"attributes\":{\"data_source\":{\"id\":\"238ceef6-7da4-44cc-b763-ffff7a52e12d\",\"type\":\"ColumnDataSource\"},\"glyph\":{\"id\":\"a0781318-c762-4a77-8d3a-3e591d3860a7\",\"type\":\"Line\"},\"hover_glyph\":null,\"muted_glyph\":null,\"nonselection_glyph\":{\"id\":\"49a8c3ba-3bc4-42c0-9932-3f13bd409b4a\",\"type\":\"Line\"},\"selection_glyph\":null,\"view\":{\"id\":\"4da903ca-f575-411b-911b-a0854efd1b63\",\"type\":\"CDSView\"}},\"id\":\"e029f7ff-b61f-4b46-9784-47d74a3a52d8\",\"type\":\"GlyphRenderer\"},{\"attributes\":{},\"id\":\"dfd8f177-3795-4352-84ea-d5dcc54ef869\",\"type\":\"BasicTicker\"},{\"attributes\":{\"line_color\":{\"value\":\"red\"},\"line_width\":{\"value\":2},\"x\":{\"field\":\"index\"},\"y\":{\"field\":\"Medicaid\"}},\"id\":\"bdfdbcff-e5d1-442a-8e3b-e9503f8ded75\",\"type\":\"Line\"},{\"attributes\":{},\"id\":\"5ed82442-a848-42d9-9950-f7f71f05e54a\",\"type\":\"HelpTool\"},{\"attributes\":{\"axis_label\":\"Average Benefit\",\"formatter\":{\"id\":\"eeae73ad-c329-408b-b22e-6fc925354169\",\"type\":\"BasicTickFormatter\"},\"plot\":{\"id\":\"d3d089c7-e7a3-4003-a600-b5a52638b8bc\",\"subtype\":\"Figure\",\"type\":\"Plot\"},\"ticker\":{\"id\":\"dfd8f177-3795-4352-84ea-d5dcc54ef869\",\"type\":\"BasicTicker\"}},\"id\":\"cc858b37-5361-4e12-8c6b-5b3146e23786\",\"type\":\"LinearAxis\"},{\"attributes\":{\"callback\":null,\"tooltips\":[[\"Benefit\",\"$y{$0,0.00}\"],[\"Percentile\",\"@index%\"]]},\"id\":\"dc401f65-86d3-44ea-899c-7eaf895f5983\",\"type\":\"HoverTool\"},{\"attributes\":{},\"id\":\"ce388467-01cf-4402-b55c-89651586a8eb\",\"type\":\"BasicTickFormatter\"},{\"attributes\":{\"callback\":null,\"column_names\":[\"index\",\"Veterans Benefits\",\"SNAP\",\"Social Security\",\"Medicaid\",\"Medicare\",\"SSI\"],\"data\":{\"Medicaid\":{\"__ndarray__\":\"Sz2lV671z0BLRrZjBxHQQKtkmp8Vu9BAco813FYLzkByO066al3QQDNPKyI68dRAB8DXGUdp0kBIHKFqxtHGQHfXy0Zjos9AlRq4xOfly0D0aazHDxjKQG3+AARy/dFAzLCCcV6Xz0Daj/iozhnOQLUIn4D7rNBAs6Kc9oWK0ECkqMK13CXLQLtlSnaZNsxAH9WEK0Cyz0AWCaorMhzQQJpFCygzCNNA6fvlvUgi0UAzyIP+TRnSQPwq+f5MgstAKKZQERJP1EA53lDccUHQQNaINK39Y8pAyk0XI019zUDJmHlcpeTHQBt7ouvq/sNAVWz/FqCgy0CtGv5aoUjKQFgh+oEczMNAuf9KPrkvyUBJcV2X18DLQPJftzQrC8dAEkHflMK7xEASMO7MByHDQOBLtJKwWsVAwTr2uVJ1yUDObEWL4tfCQNXrsegVusRA7J9X8U5tx0DyESsujI/KQA0JTp0wbsNAicUz3ab1x0COa6GtdsbDQH25z7pJGclA3ETH3NbTy0BTNn/5NAHGQC/dYrShdMNAw7rNfYCkwUCXLK3BKB/NQPQ/XOCknMhAmKWWVhwDykD34urZDX/IQDVHhsGkbsRAc6KmSyRExUDK5gTgakzCQHp7jBL9s8ZAIVVv9H1Cx0BJYRnxw+fEQJLsqNh2HshAZM5FfrFTyECFSYDJ5DfHQAJzwynGh8lA0C9SvfiSyUC4YG10BtXHQGXjrUgM9chAYQDTvcZiyEBjDhpf9I7FQHTpJOOALs1AZ2yfd+lzxUD3lRmwFonMQFwVbPtUU8lAYPa5LsH5x0D2PF4jE5DMQGneu4HG881A+xlW59xpyEDWMODGM87IQIK7QurN28lAhOfHJwJryUBTURAJuwHFQHRgftHtZclAtPBtd3eTxkCk4O2X06nDQLkQ2HfJnspAVdeu6tA/wkBbTth4u9nKQLa+QOEiwMNA6Q0fitT9xUAv1PW+CNrIQPmE/rmR6MhACoHrY+G3xUAmPucrJzfEQFieIaxIs8ZAKLDxXOwoxECcLIQud7/CQOPgcyXSxMFAQ6t01UOSykA=\",\"dtype\":\"float64\",\"shape\":[100]},\"Medicare\":{\"__ndarray__\":\"nxO7RLnFzUANHr8jwuzKQI/OqBkT7M1AItkXQgc00ECmqb5TE5jKQMrS/n3DaM1AVpDNY2Kjy0B0C92AXADNQGAOf4WmfdBA/n1UdfB/zkAAdB+2qG7MQPx+dg+mi8lASl3/N2ClzkDoDnyYfC/OQMak/ZYHLclAynbxmkLcy0BP8PhUDVnIQCI666IY18xArd397kj0zkD8+1xo4ePPQD6yETmAf9BAV36h0is30EBYky0zG5PQQCPY/E6jDspAkBduc6ZYzUByZRApMMzNQOyTFX9A5MpAR/O8DLoSzUCDJPumZ2bQQE0YxJxsKslAee9UuIoSzUC9JTpDUmvNQJ9YY+LHMs1AIm9Nn8Cmx0Bo5p+cer/PQB9jLUoU9c1AfqwfUVb8ykBfxRnY68DQQCmyMOTtB81AJ4aULIhn0EBaSSWnarTMQNv1bn0md9BA8RetUbUTzkBexa0/VBjRQEf8Xt5YZstAxZgjZ+mo0EDQJA1v6BHOQMTYkBwPkM5AYGLpCOMmzkD5LbFEXEHPQN0ye8fM99BApEY+v0duzUBssU3Qdv3QQLstjAEMY89Afo3vu6hAz0CnUGbo8kjNQEaj+vOF38lAzX0yoVnSzUBrx5l38pvMQEumc+O14cpA4dLsGIAD0EDc2KidoW3RQMT0VkOjl8pAEX+zXgVFzUAeEMkDDnXLQHFELW7Ljc9AuiDxwVVg0EDuNizRF2DQQN9MB+uL/s1AkDdiYXGCz0A4i3vdf/rOQOFmODpj2s1A/FlcNCl/zECuEyMz9c3JQAqvSjjVPc5AVTj3Z3vtz0C8Bmc0Yd/JQIlfOvQhvs5AtgHuQql+zEAN21RTvNzJQL3dHf7dz81AO8p9BAtEykAd3euQVlvKQIoBWXg0pMtA9SFiunv0y0Bzxhv6LTvLQNdv0iy8J8tA47tvZUaDy0DuOrz7c0rKQHpVrV/VlMlAyhE4cnT6x0C4xZSrcqrMQHPDFRszbMpADBh/ASUBykB61rxBwGrHQHhjUeyqFM1AXYiOAsAtzEBVxltvh3/MQNO6AmED7shA2kAAum6jykA=\",\"dtype\":\"float64\",\"shape\":[100]},\"SNAP\":{\"__ndarray__\":\"Zyv0A8XRpEAo8w5aztakQPuZQPIIoaVARleniYiFpUDbnbwUavGjQJduaxl6HadArTK9Wr7ipkBBTOe9MRylQLxldUEQlKVA2hvb0K9mqEBi6sXMN5KkQBXjSB5khqVAXRUPWlFmpEBSvjA131OkQLX2hxaMQKRAfYYACEevpEByJkcVBXalQDim1lr/XqVA8NGPba8ppUDWLoCvsNOnQH+aZPfB26ZAzJCQeTkPpkB1LwovxCqnQFHAzLfSkqZAM8Z/Gp19pkA+eLPRYbymQOQMLkVh06ZALNs7D+bHpkB15pkWNWSlQEDdqN3PfqdAHgXrEIsEpkA2LIymwEylQCkMkWL4qaVA7IMKMmUJpUBF+eMAr6mkQH3H365x06RAH0SQF5TJpEDF4+TmMUumQFRoxWVE56VA0v+q1lF0pkA7bAHGhmCmQKUN6dh246ZAilzE13ZLqECtihNR1QWoQOM2WGmkc6dAP1u0JhrdqECIs1/AYJioQBe8Lz2gn6dAvowVb5xKqEA/FAT2JWSoQH2vEBF3paZAxZwZOYnvp0C9LXm0LbimQAZ0L2qW/ahATdTHKnDxp0BV4/u9KmKpQMMGMXdkbKlAp9n1XOJcp0B3ZsFp6PmoQGoNU//koadAe7c4yuQ9qUC2e1eFdYWnQF6QvN4xY6hAjcd4/0WQp0A8/eMADPenQLERbBSGkahAbdb7+L4+qUBmazGflFuoQH/OQhFbVqdADmXbZNHqpkANROic+FynQFi9GWkpOadAG54TwtAXqED4tbIefuCmQKuBYbmuIqdAtKrOAJZDp0A8Db8/8iemQGh/TZSyj6dAfATwTaC/p0CdlYD3xhaoQM9UzmmyhqdAfCXsYX7lpkAGChD2UuWlQLnvbt5zLqZAG/SSkbU7pkCeNcInDw6nQIW4pMBfEKdA0ipUWBSpp0DrWIuvilmmQIbuPsn7iaZAE0V8J3wpp0D4uI039mqmQIedKTpn+KVAR9A3rJljpkCeTFAl7wWmQClO0rDwkKRAlX8UYyORpUBAF9aBG+2lQDCWW9JpMqZAb3HhXxIipUA=\",\"dtype\":\"float64\",\"shape\":[100]},\"SSI\":{\"__ndarray__\":\"6+c5GnIruEDoShOYWey6QKuvgxpeR7lA98UB6SMIvEBnNcAR+ga9QNyvvZAzesBA5LYTFkNPv0CIRbpdSbG/QIsn3aqXz8BAdwFMeyxvwUBYjcSCz268QPvx41Ra0LxAix5i+rm6uUBJxdQYqKu9QLWzy6mtGb1AwW2wM44PwEDAJeeQIYm7QKRn5UAPeL5AnZkUyeCEukBVD9egNla5QDqsqVjZqLpAAXvdW+viu0BfJkJClBC6QJ0H7GmzH7tAPTHlkHVivEAu04RiwaC/QHjmzgIstLxAaLOZmR2hu0AtqMIxqNq5QIW/N153MrxAFDuGLwzrv0A0VIidOyO+QKI0d3qmLsBADaIns58lwkCxEWJ+RN29QDPYQFZje8NAXtxS1WXdvkCjElegGGy+QL/S/TMZYMBA9virPWsrwEDZTs99i7G9QLWuziuxPL1AEVLS1ublwEAFYWrAnB3AQLpVsAcZy79ACBqM5THbwEDplN/0Ajq/QBTCnPb8isBATPac1V7kwEBG60kW2ra9QBaQF2Z9Er9AX4tZHUcNxECYgO6K7/6/QPYknPf73sBAB5x+5WoXwUCffTLLHYW/QNgvLv/JRb1Ab/j9YBjtvkCQXFKv1/68QMQ52eoLDL9AO0xElv83t0B3ohSWn/W5QJFRx3M76r5Ad2V4gYwmwEBrMEk01+W9QFjehJfTE8FAm8yhTsOuwEDLOhpFHca9QFdD5xBjSb5ABrRxH/PuvkAcFxHM79PBQDWPHUtuaMBAJ98ui8QHvUD4/nMbaJC+QEGU1YPUxL1Awa5pehQhvUAN0NX5fsbAQLdRmH4eQ8BAfmR2V8trwEBW6cT4v8HAQNivL4IEucBA5reQZ5vxvEBM9Lb208S+QCCQcMu/Sr1AxdhF5J4FwEAl33/cfF7AQNk8ECdz68BABtPGe2VPwUB6FGMp+/y/QGqMvZTcpr5A3Pvtb2SMwUCU0H/ZWB+/QBw39Cx0W75AJrUengDbvkDTjwWlwIu/QPw+hiCpRb9ATR/SpniLwEDSOHbE7dPAQGVRfKjtD8FAQoUchWXcwEA=\",\"dtype\":\"float64\",\"shape\":[100]},\"Social Security\":{\"__ndarray__\":\"gMk+oY6N0kCW3eVS0MvNQCo0nYoUXc5A9BqfoBGnzUDq7azrzsnMQFrZvlw5hs1Ar96+A2qzzEB4RtLrUH7OQCWQPLxBIs5AHsZ1U8PHzUDs5F/niFHOQHo2xQ+Ukc1ATU0dk807zEDZEPhb4e3MQCyLo+hmws1AXX6biOmCzUDfN4ilLbbNQABNURIKNc1AqntuQbhBzkBpYw30QLvNQBiWbG5DQs5Ab7CU1o0wzUB0GGjn8IzNQN6+MOlTEM5A/BZqGezkzUCZlR/9jZXMQIQCNZ/DEc5AylPLgICNz0CFF1HQvxXQQEpK+/N1hNBA27v+bHyG0EAYuyfpMYHRQA2BAbiXTNRAMg+EOZ1P0kCgbivhkHvRQBfSN6vCGNJAjNGImJTN0UCw96yVtzTSQNTOSso2qtJAPl0P91xK0kC6qK6BphPSQCmJokScfNNAdA3N7qY000DVdZT+K2rTQJgcRed719NABWWkVWqH00Ax02qB/YHTQEASLTnjWdRA6aOIT91B1ECRzta2SJLTQMapevFMQ9RAtfemqMjg0kD95pAy8pDUQGuq/V/2oNRAk4HIWo7800BzEoDXbffUQMlOWZjPo9RAuyCqodsC1ED1v67u3VzUQJW0Isyp1NNAr2AAXXbp1EAnwVBdETLTQAhPzNZx89RAKJclqQFC1EDqB4V2dBHTQCOG7/sCpdNArlfCQ9HA00BXy1Wlkm/TQDh4gmOXYNNAtQFZqngo1EBM+hFFUtjTQEcKjN/GEdRANJJnfdbf00An/rKQDNvTQJv6E4fYDNRAORP454Sa00DVpwixMKnSQPUF4nzC3tNAW9kIJN6h00B8kChn2zHTQP0dF+Qsx9JAVPPjF89M00CsPFKZB3nSQDuHM33r29NA6gzpyKWR1EAIhJRVvdDSQHrx2lTdo9NAyTZ96JPP00AZdkHzVYfUQAwPJ++9l9VAQHRJJXYX1kDz4lPut0fWQOb9X4mow9ZASk5SxIIh10B7qM9vm/7XQEunobYJ1dZAeYUCfBCv2EA9Yz9vvgHZQGLqDJg0F9lA3iTVHPKT2UA=\",\"dtype\":\"float64\",\"shape\":[100]},\"Veterans Benefits\":{\"__ndarray__\":\"mWP14FEF3UBO1VpfdrHfQKNd6wtdiN5AybMbwD/B3kAC97i6n9vfQEPdrwWIQd9Aaq4Vi1+w3kD1xWskUzrfQLNMxa4Z0d1AwMzIdOmO2kBF8hho5RfhQOju6nREG+BAy/zSJbpS30AUbnZ2eo3dQL2FJzIW59xAY+weeh9/3kCmE8xGiGzcQGsCTMhvQd1AiCfqdZFK3UAOUscZh8DfQJ40F7ay6N9AcYyeAJnd4ECRgh91o+HeQKuGPI0ExNtAfl+Z9He/30AgItKd4ardQLx1BUN75t1AmIVJ3voJ4UAi0r4Rs2jbQOJKxA6oPt9AyvYCUQr42kDpBBAxORrZQAQk3iAE7ttAwK593zDC2kAk7UDTdITaQDqNOOuvCNtAWQUaBixW3EBokC2iG/XcQGH/AV4xc9pAvO5e/oOi20DqQcJMCpXaQBAewiSjb9pAW+y2i9cb4ED+0jFnFTTfQMKHF5nZ3NlAM1/X2qHG2kBkpsIyOYneQKQa2G795dpAzeQhs/Gx3EA1FORo8MzaQJLRy5LgGt1AY0ZVwzDu2kDmrq9qz03fQETP+pI5QttAME0hlE8I3ECp0imAaI/aQG8KClKKHdxAvZM9duHc3kCHka5KsVfaQBfRDImrKN1A1lKcIe7E3EBWpYOTKafdQK9PP1FOf9xA/lNkQAh13kBfsr4j0tnbQLMZaryJ99xAkpyWQ/kB3UBhwsNoSVrdQBEBqRjdQ91ATBq6qxmb3EDYw2WFD0bdQCWWeNf4QNpAPqYYY7vA20DLFYymtWPeQMc87H8nW95AX8HTh0zz2kC30au3DTzdQEnESrtvvN5AwaUJAb+q3kA8HDeUMurbQP5oQIEVfdxAbr9x++ZE3EC75KlwO+3YQDK5WeiU8dxA7SbsJctx3ECZ3pkgfSXdQKwBbZUV0NpAn8ZlaFtZ20B+iefYpsjcQPEiyWOQa+FACCls4T+C3ECSJ0opFl3gQKMB/H0RottA32aOOqll20DPNQ7+hADfQOquiPQ2gdxA/ZJ78pL54EBZZIIGIlzhQLDXwO9eTN5AeiGmbewp2kA=\",\"dtype\":\"float64\",\"shape\":[100]},\"index\":[1,2,3,4,5,6,7,8,9,10,11,12,13,14,15,16,17,18,19,20,21,22,23,24,25,26,27,28,29,30,31,32,33,34,35,36,37,38,39,40,41,42,43,44,45,46,47,48,49,50,51,52,53,54,55,56,57,58,59,60,61,62,63,64,65,66,67,68,69,70,71,72,73,74,75,76,77,78,79,80,81,82,83,84,85,86,87,88,89,90,91,92,93,94,95,96,97,98,99,100]}},\"id\":\"238ceef6-7da4-44cc-b763-ffff7a52e12d\",\"type\":\"ColumnDataSource\"},{\"attributes\":{\"active_drag\":\"auto\",\"active_inspect\":\"auto\",\"active_scroll\":\"auto\",\"active_tap\":\"auto\",\"tools\":[{\"id\":\"8b2c123f-85ad-4ee0-ae27-d40aa8d9fae7\",\"type\":\"PanTool\"},{\"id\":\"39ba5000-5db5-46db-89a5-5deeb886b509\",\"type\":\"WheelZoomTool\"},{\"id\":\"b4aab13c-a067-4e10-a8c7-e16df4d9b29c\",\"type\":\"BoxZoomTool\"},{\"id\":\"051aad17-2f67-4250-bdf9-05d554a5d17c\",\"type\":\"SaveTool\"},{\"id\":\"14bb71f3-0c2f-4448-b45f-ec3d6afb712f\",\"type\":\"ResetTool\"},{\"id\":\"5ed82442-a848-42d9-9950-f7f71f05e54a\",\"type\":\"HelpTool\"},{\"id\":\"dc401f65-86d3-44ea-899c-7eaf895f5983\",\"type\":\"HoverTool\"}]},\"id\":\"afee24db-e5af-4908-9e69-aa93415a921d\",\"type\":\"Toolbar\"},{\"attributes\":{\"plot\":{\"id\":\"d3d089c7-e7a3-4003-a600-b5a52638b8bc\",\"subtype\":\"Figure\",\"type\":\"Plot\"},\"ticker\":{\"id\":\"f6cb7e08-3f45-44f6-9d09-24d1ce2dce2f\",\"type\":\"BasicTicker\"}},\"id\":\"9a33ce37-0eec-4d2b-9c7d-9643477acd1e\",\"type\":\"Grid\"},{\"attributes\":{},\"id\":\"eeae73ad-c329-408b-b22e-6fc925354169\",\"type\":\"BasicTickFormatter\"},{\"attributes\":{\"label\":{\"value\":\"Social Security \"},\"renderers\":[{\"id\":\"645bc91d-d06b-4812-a4b4-343066374fa7\",\"type\":\"GlyphRenderer\"}]},\"id\":\"f7b10620-b61b-454d-8879-4d5cc6aced29\",\"type\":\"LegendItem\"},{\"attributes\":{},\"id\":\"f6cb7e08-3f45-44f6-9d09-24d1ce2dce2f\",\"type\":\"BasicTicker\"},{\"attributes\":{\"line_alpha\":{\"value\":0.1},\"line_color\":{\"value\":\"#1f77b4\"},\"line_width\":{\"value\":2},\"x\":{\"field\":\"index\"},\"y\":{\"field\":\"Medicare\"}},\"id\":\"49a8c3ba-3bc4-42c0-9932-3f13bd409b4a\",\"type\":\"Line\"},{\"attributes\":{\"bottom_units\":\"screen\",\"fill_alpha\":{\"value\":0.5},\"fill_color\":{\"value\":\"lightgrey\"},\"left_units\":\"screen\",\"level\":\"overlay\",\"line_alpha\":{\"value\":1.0},\"line_color\":{\"value\":\"black\"},\"line_dash\":[4,4],\"line_width\":{\"value\":2},\"plot\":null,\"render_mode\":\"css\",\"right_units\":\"screen\",\"top_units\":\"screen\"},\"id\":\"395773a2-fd59-4c8e-8099-d2e02e4d543b\",\"type\":\"BoxAnnotation\"},{\"attributes\":{\"data_source\":{\"id\":\"238ceef6-7da4-44cc-b763-ffff7a52e12d\",\"type\":\"ColumnDataSource\"},\"glyph\":{\"id\":\"bdfdbcff-e5d1-442a-8e3b-e9503f8ded75\",\"type\":\"Line\"},\"hover_glyph\":null,\"muted_glyph\":null,\"nonselection_glyph\":{\"id\":\"da28b1b5-bf87-4e65-84c2-9511ddc474b8\",\"type\":\"Line\"},\"selection_glyph\":null,\"view\":{\"id\":\"4dfb3cf4-5c70-49ce-b4ee-12e9ca241e1b\",\"type\":\"CDSView\"}},\"id\":\"34d93d29-f93d-4b9a-8a9a-87d05d71929d\",\"type\":\"GlyphRenderer\"},{\"attributes\":{\"line_color\":{\"value\":\"pink\"},\"line_width\":{\"value\":2},\"x\":{\"field\":\"index\"},\"y\":{\"field\":\"Veterans Benefits\"}},\"id\":\"7505acc5-a09e-4a2c-b78c-1888fcb8b565\",\"type\":\"Line\"},{\"attributes\":{\"below\":[{\"id\":\"73e08b01-f588-43e2-abee-b3a773904137\",\"type\":\"LinearAxis\"}],\"left\":[{\"id\":\"cc858b37-5361-4e12-8c6b-5b3146e23786\",\"type\":\"LinearAxis\"}],\"plot_width\":800,\"renderers\":[{\"id\":\"73e08b01-f588-43e2-abee-b3a773904137\",\"type\":\"LinearAxis\"},{\"id\":\"9a33ce37-0eec-4d2b-9c7d-9643477acd1e\",\"type\":\"Grid\"},{\"id\":\"cc858b37-5361-4e12-8c6b-5b3146e23786\",\"type\":\"LinearAxis\"},{\"id\":\"684e3979-7993-4cb0-8174-e58815d229d5\",\"type\":\"Grid\"},{\"id\":\"395773a2-fd59-4c8e-8099-d2e02e4d543b\",\"type\":\"BoxAnnotation\"},{\"id\":\"8005d8e5-5906-48e5-b602-e3d10dff611b\",\"type\":\"Legend\"},{\"id\":\"e029f7ff-b61f-4b46-9784-47d74a3a52d8\",\"type\":\"GlyphRenderer\"},{\"id\":\"34d93d29-f93d-4b9a-8a9a-87d05d71929d\",\"type\":\"GlyphRenderer\"},{\"id\":\"645bc91d-d06b-4812-a4b4-343066374fa7\",\"type\":\"GlyphRenderer\"},{\"id\":\"242793e2-73ad-477f-89b9-9c68c54f7891\",\"type\":\"GlyphRenderer\"},{\"id\":\"513b66b8-bc28-4419-b92a-54be61c569ee\",\"type\":\"GlyphRenderer\"},{\"id\":\"280b4b55-9ce1-40db-90ef-ea3f77d629af\",\"type\":\"GlyphRenderer\"}],\"title\":{\"id\":\"5895297d-fe6d-42ea-bf6c-024072b00848\",\"type\":\"Title\"},\"toolbar\":{\"id\":\"afee24db-e5af-4908-9e69-aa93415a921d\",\"type\":\"Toolbar\"},\"x_range\":{\"id\":\"77c51f7d-bbf4-4540-a6ed-1ba316ed3d20\",\"type\":\"DataRange1d\"},\"x_scale\":{\"id\":\"b0424c80-fd6a-4d5b-8be3-6fee0b8bb159\",\"type\":\"LinearScale\"},\"y_range\":{\"id\":\"468b2463-8e2b-4f60-a766-ed93d65221b6\",\"type\":\"Range1d\"},\"y_scale\":{\"id\":\"9aad075d-dc49-4ad2-a7b7-55091b17e345\",\"type\":\"LinearScale\"}},\"id\":\"d3d089c7-e7a3-4003-a600-b5a52638b8bc\",\"subtype\":\"Figure\",\"type\":\"Plot\"},{\"attributes\":{\"label\":{\"value\":\"SNAP \"},\"renderers\":[{\"id\":\"242793e2-73ad-477f-89b9-9c68c54f7891\",\"type\":\"GlyphRenderer\"}]},\"id\":\"b15c0ab3-d96b-4c85-be72-9d34ec4fb361\",\"type\":\"LegendItem\"},{\"attributes\":{\"source\":{\"id\":\"238ceef6-7da4-44cc-b763-ffff7a52e12d\",\"type\":\"ColumnDataSource\"}},\"id\":\"4dfb3cf4-5c70-49ce-b4ee-12e9ca241e1b\",\"type\":\"CDSView\"},{\"attributes\":{\"axis_label\":\"Percentile\",\"formatter\":{\"id\":\"ce388467-01cf-4402-b55c-89651586a8eb\",\"type\":\"BasicTickFormatter\"},\"plot\":{\"id\":\"d3d089c7-e7a3-4003-a600-b5a52638b8bc\",\"subtype\":\"Figure\",\"type\":\"Plot\"},\"ticker\":{\"id\":\"f6cb7e08-3f45-44f6-9d09-24d1ce2dce2f\",\"type\":\"BasicTicker\"}},\"id\":\"73e08b01-f588-43e2-abee-b3a773904137\",\"type\":\"LinearAxis\"},{\"attributes\":{\"callback\":null},\"id\":\"77c51f7d-bbf4-4540-a6ed-1ba316ed3d20\",\"type\":\"DataRange1d\"},{\"attributes\":{\"source\":{\"id\":\"238ceef6-7da4-44cc-b763-ffff7a52e12d\",\"type\":\"ColumnDataSource\"}},\"id\":\"4da903ca-f575-411b-911b-a0854efd1b63\",\"type\":\"CDSView\"},{\"attributes\":{\"dimension\":1,\"plot\":{\"id\":\"d3d089c7-e7a3-4003-a600-b5a52638b8bc\",\"subtype\":\"Figure\",\"type\":\"Plot\"},\"ticker\":{\"id\":\"dfd8f177-3795-4352-84ea-d5dcc54ef869\",\"type\":\"BasicTicker\"}},\"id\":\"684e3979-7993-4cb0-8174-e58815d229d5\",\"type\":\"Grid\"},{\"attributes\":{\"label\":{\"value\":\"Veterans Benefits \"},\"renderers\":[{\"id\":\"280b4b55-9ce1-40db-90ef-ea3f77d629af\",\"type\":\"GlyphRenderer\"}]},\"id\":\"278e59aa-1e5e-4afe-9d33-f3f0011a92ab\",\"type\":\"LegendItem\"},{\"attributes\":{\"data_source\":{\"id\":\"238ceef6-7da4-44cc-b763-ffff7a52e12d\",\"type\":\"ColumnDataSource\"},\"glyph\":{\"id\":\"7505acc5-a09e-4a2c-b78c-1888fcb8b565\",\"type\":\"Line\"},\"hover_glyph\":null,\"muted_glyph\":null,\"nonselection_glyph\":{\"id\":\"110223cf-ec3e-459f-a647-54e0ac95672d\",\"type\":\"Line\"},\"selection_glyph\":null,\"view\":{\"id\":\"33319a3d-bda9-4b5d-8a10-a79e4f709b66\",\"type\":\"CDSView\"}},\"id\":\"280b4b55-9ce1-40db-90ef-ea3f77d629af\",\"type\":\"GlyphRenderer\"},{\"attributes\":{\"line_alpha\":{\"value\":0.1},\"line_color\":{\"value\":\"#1f77b4\"},\"line_width\":{\"value\":2},\"x\":{\"field\":\"index\"},\"y\":{\"field\":\"Social Security\"}},\"id\":\"bee8b9cb-6174-4937-af6c-09a25f862ace\",\"type\":\"Line\"},{\"attributes\":{\"plot\":null,\"text\":\"Average Benefit for Participants by AGI Percentile for 2014\"},\"id\":\"5895297d-fe6d-42ea-bf6c-024072b00848\",\"type\":\"Title\"},{\"attributes\":{\"overlay\":{\"id\":\"395773a2-fd59-4c8e-8099-d2e02e4d543b\",\"type\":\"BoxAnnotation\"}},\"id\":\"b4aab13c-a067-4e10-a8c7-e16df4d9b29c\",\"type\":\"BoxZoomTool\"},{\"attributes\":{\"source\":{\"id\":\"238ceef6-7da4-44cc-b763-ffff7a52e12d\",\"type\":\"ColumnDataSource\"}},\"id\":\"33319a3d-bda9-4b5d-8a10-a79e4f709b66\",\"type\":\"CDSView\"},{\"attributes\":{\"data_source\":{\"id\":\"238ceef6-7da4-44cc-b763-ffff7a52e12d\",\"type\":\"ColumnDataSource\"},\"glyph\":{\"id\":\"2ce60c4c-1a16-497b-8f5b-699ffdf895b4\",\"type\":\"Line\"},\"hover_glyph\":null,\"muted_glyph\":null,\"nonselection_glyph\":{\"id\":\"006ef518-aad7-41da-8dc9-d8f4918d0fe3\",\"type\":\"Line\"},\"selection_glyph\":null,\"view\":{\"id\":\"56642bee-80b4-43c9-b60a-fc8659867ac4\",\"type\":\"CDSView\"}},\"id\":\"242793e2-73ad-477f-89b9-9c68c54f7891\",\"type\":\"GlyphRenderer\"},{\"attributes\":{\"label\":{\"value\":\"Medicaid \"},\"renderers\":[{\"id\":\"34d93d29-f93d-4b9a-8a9a-87d05d71929d\",\"type\":\"GlyphRenderer\"}]},\"id\":\"edc924c7-1bd5-4f53-be50-173ca9795cef\",\"type\":\"LegendItem\"},{\"attributes\":{\"data_source\":{\"id\":\"238ceef6-7da4-44cc-b763-ffff7a52e12d\",\"type\":\"ColumnDataSource\"},\"glyph\":{\"id\":\"cb0c41b1-c2a4-4aa5-8220-632c62aa3b8a\",\"type\":\"Line\"},\"hover_glyph\":null,\"muted_glyph\":null,\"nonselection_glyph\":{\"id\":\"bee8b9cb-6174-4937-af6c-09a25f862ace\",\"type\":\"Line\"},\"selection_glyph\":null,\"view\":{\"id\":\"a81d82fd-421a-4349-8d57-37aa3566a47a\",\"type\":\"CDSView\"}},\"id\":\"645bc91d-d06b-4812-a4b4-343066374fa7\",\"type\":\"GlyphRenderer\"},{\"attributes\":{\"source\":{\"id\":\"238ceef6-7da4-44cc-b763-ffff7a52e12d\",\"type\":\"ColumnDataSource\"}},\"id\":\"bab986cf-e3ca-43e7-91fe-44c1bbd69344\",\"type\":\"CDSView\"},{\"attributes\":{\"source\":{\"id\":\"238ceef6-7da4-44cc-b763-ffff7a52e12d\",\"type\":\"ColumnDataSource\"}},\"id\":\"56642bee-80b4-43c9-b60a-fc8659867ac4\",\"type\":\"CDSView\"}],\"root_ids\":[\"d3d089c7-e7a3-4003-a600-b5a52638b8bc\"]},\"title\":\"Bokeh Application\",\"version\":\"0.12.10\"}};\n",
       "    var render_items = [{\"docid\":\"06b8adff-f32d-4724-8b9a-b920ed695ca0\",\"elementid\":\"6ae43dbb-fa8a-4c3f-b738-aef035c7488b\",\"modelid\":\"d3d089c7-e7a3-4003-a600-b5a52638b8bc\",\"notebook_comms_target\":\"c02ea4fd-f491-4491-9f12-2f8093abfb50\"}];\n",
       "\n",
       "    root.Bokeh.embed.embed_items(docs_json, render_items);\n",
       "  }\n",
       "\n",
       "  if (root.Bokeh !== undefined) {\n",
       "    embed_document(root);\n",
       "  } else {\n",
       "    var attempts = 0;\n",
       "    var timer = setInterval(function(root) {\n",
       "      if (root.Bokeh !== undefined) {\n",
       "        embed_document(root);\n",
       "        clearInterval(timer);\n",
       "      }\n",
       "      attempts++;\n",
       "      if (attempts > 100) {\n",
       "        console.log(\"Bokeh: ERROR: Unable to embed document because BokehJS library is missing\")\n",
       "        clearInterval(timer);\n",
       "      }\n",
       "    }, 10, root)\n",
       "  }\n",
       "})(window);"
      ],
      "application/vnd.bokehjs_exec.v0+json": ""
     },
     "metadata": {
      "application/vnd.bokehjs_exec.v0+json": {
       "id": "d3d089c7-e7a3-4003-a600-b5a52638b8bc"
      }
     },
     "output_type": "display_data"
    },
    {
     "data": {
      "application/vnd.jupyter.widget-view+json": {
       "model_id": "caf34b585e414d90b4d9104993fcd298"
      }
     },
     "metadata": {},
     "output_type": "display_data"
    }
   ],
   "source": [
    "abp_fig = show(avg_ben_part_fig, notebook_handle=True)\n",
    "interactive(abp_update, year=year_dropdown3)"
   ]
  },
  {
   "cell_type": "markdown",
   "metadata": {},
   "source": [
    "# Benefit Total By AGI Bin by Year"
   ]
  },
  {
   "cell_type": "code",
   "execution_count": 27,
   "metadata": {},
   "outputs": [],
   "source": [
    "ben_total_fig = figure(title='Total Medicaid Benefits by AGI Percentile Bin for 2014',\n",
    "                       x_range=bin_axis)\n",
    "ben_total_bar = ben_total_fig.vbar(x='index', width=0.75, bottom=0, top='top', source=ben_totals_bin_cds)\n",
    "\n",
    "hover_btb = HoverTool(tooltips=[('Value', '@top{$ 0.00 a}')])\n",
    "ben_total_fig.add_tools(hover_btb)\n",
    "\n",
    "ben_total_fig.yaxis[0].formatter = NumeralTickFormatter(format='$0.00a')\n",
    "ben_total_fig.xaxis.minor_tick_line_color = None\n",
    "\n",
    "ben_total_fig.xaxis.axis_label = 'AGI Percentile Bin'\n",
    "ben_total_fig.yaxis.axis_label = 'Total Benefits'"
   ]
  },
  {
   "cell_type": "code",
   "execution_count": 36,
   "metadata": {},
   "outputs": [
    {
     "data": {
      "text/html": [
       "\n",
       "<div class=\"bk-root\">\n",
       "    <div class=\"bk-plotdiv\" id=\"1c262a99-2cf8-4bbf-b76a-1ac84bed8374\"></div>\n",
       "</div>"
      ]
     },
     "metadata": {},
     "output_type": "display_data"
    },
    {
     "data": {
      "application/javascript": [
       "(function(root) {\n",
       "  function embed_document(root) {\n",
       "    var docs_json = {\"794e3c9f-2b68-42c2-8779-c8805b0817f8\":{\"roots\":{\"references\":[{\"attributes\":{},\"id\":\"d0b587ab-e801-49a9-b56c-041dbe1ebc75\",\"type\":\"BasicTicker\"},{\"attributes\":{\"callback\":null,\"factors\":[\"0-10%\",\"10-20%\",\"20-30%\",\"30-40%\",\"40-50%\",\"50-60%\",\"60-70%\",\"70-80%\",\"80-90%\",\"90-100%\"]},\"id\":\"ce55a8f3-dc05-481e-8b1b-21f3bfbe2a30\",\"type\":\"FactorRange\"},{\"attributes\":{\"active_drag\":\"auto\",\"active_inspect\":\"auto\",\"active_scroll\":\"auto\",\"active_tap\":\"auto\",\"tools\":[{\"id\":\"47fd911d-4738-4f7f-b1c7-42006e5ec4a1\",\"type\":\"PanTool\"},{\"id\":\"a2ba84c7-9368-4855-8de2-59bf878f4f0a\",\"type\":\"WheelZoomTool\"},{\"id\":\"654769c0-dfa6-4b8d-a6bb-671bf1d37954\",\"type\":\"BoxZoomTool\"},{\"id\":\"b617cf51-1094-41f6-b5d8-cb9a1cf06697\",\"type\":\"SaveTool\"},{\"id\":\"d28c216d-09eb-4f24-8fd1-002b012ff434\",\"type\":\"ResetTool\"},{\"id\":\"72150aec-5ee3-4d3d-83c2-ddf94b71bdc2\",\"type\":\"HelpTool\"},{\"id\":\"87fc77cf-1fa0-4ce4-8d00-519958b4457e\",\"type\":\"HoverTool\"}]},\"id\":\"ec625ebf-d943-4121-a990-65f9bb376d28\",\"type\":\"Toolbar\"},{\"attributes\":{},\"id\":\"72150aec-5ee3-4d3d-83c2-ddf94b71bdc2\",\"type\":\"HelpTool\"},{\"attributes\":{},\"id\":\"b617cf51-1094-41f6-b5d8-cb9a1cf06697\",\"type\":\"SaveTool\"},{\"attributes\":{\"fill_alpha\":{\"value\":0.1},\"fill_color\":{\"value\":\"#1f77b4\"},\"line_alpha\":{\"value\":0.1},\"line_color\":{\"value\":\"#1f77b4\"},\"top\":{\"field\":\"top\"},\"width\":{\"value\":0.75},\"x\":{\"field\":\"index\"}},\"id\":\"e480dd9b-0a04-41b2-a8cb-decf0637daf4\",\"type\":\"VBar\"},{\"attributes\":{\"callback\":null},\"id\":\"d3248682-61a2-4a32-abb0-6d86fb4e751b\",\"type\":\"DataRange1d\"},{\"attributes\":{\"data_source\":{\"id\":\"18647c1a-dd2c-4822-9b7f-4bf943b98ea5\",\"type\":\"ColumnDataSource\"},\"glyph\":{\"id\":\"f930edf6-36e3-4449-9e98-68b3b4e1165a\",\"type\":\"VBar\"},\"hover_glyph\":null,\"muted_glyph\":null,\"nonselection_glyph\":{\"id\":\"e480dd9b-0a04-41b2-a8cb-decf0637daf4\",\"type\":\"VBar\"},\"selection_glyph\":null,\"view\":{\"id\":\"9e6f56c1-08b3-4142-a4b9-5151fcdaf928\",\"type\":\"CDSView\"}},\"id\":\"c09f1393-e09e-4551-a590-c513e6f36565\",\"type\":\"GlyphRenderer\"},{\"attributes\":{\"callback\":null,\"column_names\":[\"index\",\"Veterans Benefits\",\"SNAP\",\"Social Security\",\"Medicaid\",\"top\",\"Medicare\",\"SSI\"],\"data\":{\"Medicaid\":{\"__ndarray__\":\"8DCXQG5HOEL4FnPJyJUmQs/rhDCE4SBCTYNgy9U8I0I6EQoUEn4iQhb/OEBEdSBCSv/Nx41yFkLwVXPm2SYQQhXVolL9vQZC8qUISrq6AUI=\",\"dtype\":\"float64\",\"shape\":[10]},\"Medicare\":{\"__ndarray__\":\"8VyRcWrgQEJKa9/HLng+QjjQQePgEzVCtTYSPeNdKUISZz3WFwQbQmDimL3+qxVCnWB29GeNFELV44iB0DAYQluSRylNSRhChPQR6xLoGkI=\",\"dtype\":\"float64\",\"shape\":[10]},\"SNAP\":{\"__ndarray__\":\"xQMC1UzzFkL/5RZ20qsOQs9LKSvS/gdCcUKvf6ztBkIzkRcDaY/+QT9Z4Zjgye9BN5796J7d4UGgYMHnVkDQQfzVIG1jdrhB49Bds2BDs0E=\",\"dtype\":\"float64\",\"shape\":[10]},\"SSI\":{\"__ndarray__\":\"6TMmQyjoGEKag6AcKgwEQhb/eYoIOfFBnv6AFKtt60Hsc/OGNTfmQTa+b8vTFeFBBLxor2u220GoiKN3lF7AQefWOri8AbBB6qe1p3y8s0E=\",\"dtype\":\"float64\",\"shape\":[10]},\"Social Security\":{\"__ndarray__\":\"qgdtxIB8RELVxTVLZExEQpbS3lgt3D5CJCj/G5z9MkLiHJFuuJ0lQnBO5gmBXSJC/8PqvZcwIkL0MKM6VSAmQqNPWjpm0yhCFTGE9A95K0I=\",\"dtype\":\"float64\",\"shape\":[10]},\"Veterans Benefits\":{\"__ndarray__\":\"umFTpvGUF0KVOF+wEzgZQmfRw4z3zhFCrAl7Y6PgCEJHnbejlRgAQo5rK0qTsQBCmDwU9+u4AUIpriN3d8cFQlKswiej3QZCNxaF7Kk/BEI=\",\"dtype\":\"float64\",\"shape\":[10]},\"index\":[\"0-10%\",\"10-20%\",\"20-30%\",\"30-40%\",\"40-50%\",\"50-60%\",\"60-70%\",\"70-80%\",\"80-90%\",\"90-100%\"],\"top\":{\"__ndarray__\":\"8VyRcWrgQEJKa9/HLng+QjjQQePgEzVCtTYSPeNdKUISZz3WFwQbQmDimL3+qxVCnWB29GeNFELV44iB0DAYQluSRylNSRhChPQR6xLoGkI=\",\"dtype\":\"float64\",\"shape\":[10]}}},\"id\":\"18647c1a-dd2c-4822-9b7f-4bf943b98ea5\",\"type\":\"ColumnDataSource\"},{\"attributes\":{},\"id\":\"47fd911d-4738-4f7f-b1c7-42006e5ec4a1\",\"type\":\"PanTool\"},{\"attributes\":{},\"id\":\"a2ba84c7-9368-4855-8de2-59bf878f4f0a\",\"type\":\"WheelZoomTool\"},{\"attributes\":{},\"id\":\"1fade260-7940-4506-aead-287435aeec33\",\"type\":\"CategoricalTicker\"},{\"attributes\":{\"source\":{\"id\":\"18647c1a-dd2c-4822-9b7f-4bf943b98ea5\",\"type\":\"ColumnDataSource\"}},\"id\":\"9e6f56c1-08b3-4142-a4b9-5151fcdaf928\",\"type\":\"CDSView\"},{\"attributes\":{\"fill_color\":{\"value\":\"#1f77b4\"},\"line_color\":{\"value\":\"#1f77b4\"},\"top\":{\"field\":\"top\"},\"width\":{\"value\":0.75},\"x\":{\"field\":\"index\"}},\"id\":\"f930edf6-36e3-4449-9e98-68b3b4e1165a\",\"type\":\"VBar\"},{\"attributes\":{},\"id\":\"09372057-5706-4e06-8164-c71415d7ea0c\",\"type\":\"LinearScale\"},{\"attributes\":{\"callback\":null,\"tooltips\":[[\"Value\",\"@top{$ 0.00 a}\"]]},\"id\":\"87fc77cf-1fa0-4ce4-8d00-519958b4457e\",\"type\":\"HoverTool\"},{\"attributes\":{},\"id\":\"224824df-78b4-49f3-9aa8-876cbcf99b8e\",\"type\":\"CategoricalScale\"},{\"attributes\":{\"axis_label\":\"AGI Percentile Bin\",\"formatter\":{\"id\":\"0066d2df-fb9e-4b75-9083-205fab330eb6\",\"type\":\"CategoricalTickFormatter\"},\"minor_tick_line_color\":{\"value\":null},\"plot\":{\"id\":\"80e45ec2-d480-47a5-b7c2-3878ca615b5a\",\"subtype\":\"Figure\",\"type\":\"Plot\"},\"ticker\":{\"id\":\"1fade260-7940-4506-aead-287435aeec33\",\"type\":\"CategoricalTicker\"}},\"id\":\"1c255462-4f82-4615-a99f-dbee7f097f8f\",\"type\":\"CategoricalAxis\"},{\"attributes\":{\"overlay\":{\"id\":\"95779ea5-1420-4992-ac72-4b415ed94186\",\"type\":\"BoxAnnotation\"}},\"id\":\"654769c0-dfa6-4b8d-a6bb-671bf1d37954\",\"type\":\"BoxZoomTool\"},{\"attributes\":{\"bottom_units\":\"screen\",\"fill_alpha\":{\"value\":0.5},\"fill_color\":{\"value\":\"lightgrey\"},\"left_units\":\"screen\",\"level\":\"overlay\",\"line_alpha\":{\"value\":1.0},\"line_color\":{\"value\":\"black\"},\"line_dash\":[4,4],\"line_width\":{\"value\":2},\"plot\":null,\"render_mode\":\"css\",\"right_units\":\"screen\",\"top_units\":\"screen\"},\"id\":\"95779ea5-1420-4992-ac72-4b415ed94186\",\"type\":\"BoxAnnotation\"},{\"attributes\":{},\"id\":\"d28c216d-09eb-4f24-8fd1-002b012ff434\",\"type\":\"ResetTool\"},{\"attributes\":{\"plot\":null,\"text\":\"Total Medicare Benefits by AGI Percentile Bin 2014\"},\"id\":\"e871c13b-3c9f-41fb-8d0e-a21f56ee2250\",\"type\":\"Title\"},{\"attributes\":{},\"id\":\"0066d2df-fb9e-4b75-9083-205fab330eb6\",\"type\":\"CategoricalTickFormatter\"},{\"attributes\":{\"axis_label\":\"Total Benefits\",\"formatter\":{\"id\":\"1655893e-abbb-4cbf-8f79-55cfd3e747e5\",\"type\":\"NumeralTickFormatter\"},\"plot\":{\"id\":\"80e45ec2-d480-47a5-b7c2-3878ca615b5a\",\"subtype\":\"Figure\",\"type\":\"Plot\"},\"ticker\":{\"id\":\"d0b587ab-e801-49a9-b56c-041dbe1ebc75\",\"type\":\"BasicTicker\"}},\"id\":\"75993f04-6807-4c68-a1b3-b59ce0d498ad\",\"type\":\"LinearAxis\"},{\"attributes\":{\"format\":\"$0.00a\"},\"id\":\"1655893e-abbb-4cbf-8f79-55cfd3e747e5\",\"type\":\"NumeralTickFormatter\"},{\"attributes\":{\"below\":[{\"id\":\"1c255462-4f82-4615-a99f-dbee7f097f8f\",\"type\":\"CategoricalAxis\"}],\"left\":[{\"id\":\"75993f04-6807-4c68-a1b3-b59ce0d498ad\",\"type\":\"LinearAxis\"}],\"renderers\":[{\"id\":\"1c255462-4f82-4615-a99f-dbee7f097f8f\",\"type\":\"CategoricalAxis\"},{\"id\":\"d449d1c4-6538-48b3-bac7-b53579693358\",\"type\":\"Grid\"},{\"id\":\"75993f04-6807-4c68-a1b3-b59ce0d498ad\",\"type\":\"LinearAxis\"},{\"id\":\"befb3861-1521-46d1-ba94-c736fc29fe18\",\"type\":\"Grid\"},{\"id\":\"95779ea5-1420-4992-ac72-4b415ed94186\",\"type\":\"BoxAnnotation\"},{\"id\":\"c09f1393-e09e-4551-a590-c513e6f36565\",\"type\":\"GlyphRenderer\"}],\"title\":{\"id\":\"e871c13b-3c9f-41fb-8d0e-a21f56ee2250\",\"type\":\"Title\"},\"toolbar\":{\"id\":\"ec625ebf-d943-4121-a990-65f9bb376d28\",\"type\":\"Toolbar\"},\"x_range\":{\"id\":\"ce55a8f3-dc05-481e-8b1b-21f3bfbe2a30\",\"type\":\"FactorRange\"},\"x_scale\":{\"id\":\"224824df-78b4-49f3-9aa8-876cbcf99b8e\",\"type\":\"CategoricalScale\"},\"y_range\":{\"id\":\"d3248682-61a2-4a32-abb0-6d86fb4e751b\",\"type\":\"DataRange1d\"},\"y_scale\":{\"id\":\"09372057-5706-4e06-8164-c71415d7ea0c\",\"type\":\"LinearScale\"}},\"id\":\"80e45ec2-d480-47a5-b7c2-3878ca615b5a\",\"subtype\":\"Figure\",\"type\":\"Plot\"},{\"attributes\":{\"plot\":{\"id\":\"80e45ec2-d480-47a5-b7c2-3878ca615b5a\",\"subtype\":\"Figure\",\"type\":\"Plot\"},\"ticker\":{\"id\":\"1fade260-7940-4506-aead-287435aeec33\",\"type\":\"CategoricalTicker\"}},\"id\":\"d449d1c4-6538-48b3-bac7-b53579693358\",\"type\":\"Grid\"},{\"attributes\":{\"dimension\":1,\"plot\":{\"id\":\"80e45ec2-d480-47a5-b7c2-3878ca615b5a\",\"subtype\":\"Figure\",\"type\":\"Plot\"},\"ticker\":{\"id\":\"d0b587ab-e801-49a9-b56c-041dbe1ebc75\",\"type\":\"BasicTicker\"}},\"id\":\"befb3861-1521-46d1-ba94-c736fc29fe18\",\"type\":\"Grid\"}],\"root_ids\":[\"80e45ec2-d480-47a5-b7c2-3878ca615b5a\"]},\"title\":\"Bokeh Application\",\"version\":\"0.12.10\"}};\n",
       "    var render_items = [{\"docid\":\"794e3c9f-2b68-42c2-8779-c8805b0817f8\",\"elementid\":\"1c262a99-2cf8-4bbf-b76a-1ac84bed8374\",\"modelid\":\"80e45ec2-d480-47a5-b7c2-3878ca615b5a\",\"notebook_comms_target\":\"2b032ee5-258a-4376-a43d-c02a472ce6f1\"}];\n",
       "\n",
       "    root.Bokeh.embed.embed_items(docs_json, render_items);\n",
       "  }\n",
       "\n",
       "  if (root.Bokeh !== undefined) {\n",
       "    embed_document(root);\n",
       "  } else {\n",
       "    var attempts = 0;\n",
       "    var timer = setInterval(function(root) {\n",
       "      if (root.Bokeh !== undefined) {\n",
       "        embed_document(root);\n",
       "        clearInterval(timer);\n",
       "      }\n",
       "      attempts++;\n",
       "      if (attempts > 100) {\n",
       "        console.log(\"Bokeh: ERROR: Unable to embed document because BokehJS library is missing\")\n",
       "        clearInterval(timer);\n",
       "      }\n",
       "    }, 10, root)\n",
       "  }\n",
       "})(window);"
      ],
      "application/vnd.bokehjs_exec.v0+json": ""
     },
     "metadata": {
      "application/vnd.bokehjs_exec.v0+json": {
       "id": "80e45ec2-d480-47a5-b7c2-3878ca615b5a"
      }
     },
     "output_type": "display_data"
    },
    {
     "data": {
      "application/vnd.jupyter.widget-view+json": {
       "model_id": "7dde666bfcbe4081bab652ab9dc6bd9b"
      }
     },
     "metadata": {},
     "output_type": "display_data"
    }
   ],
   "source": [
    "bin_total_handle = show(ben_total_fig, notebook_handle=True)\n",
    "interactive(bin_total_bar_update, year=year_dropdown4, ben=bin_total_dropdown)"
   ]
  },
  {
   "cell_type": "markdown",
   "metadata": {},
   "source": [
    "# Average Benefit by AGI Bin and Year\n",
    "Among Participants"
   ]
  },
  {
   "cell_type": "code",
   "execution_count": 29,
   "metadata": {},
   "outputs": [],
   "source": [
    "ben_avg_fig = figure(title='Average Medicaid Benefits by AGI Percentile Bin for 2014',\n",
    "                     x_range=bin_axis)\n",
    "ben_avg_bar = ben_avg_fig.vbar(x='index', width=0.75, bottom=0, top='top', source=ben_avg_bin_cds)\n",
    "\n",
    "hover_bab = HoverTool(tooltips=[('Value', '@top{$ 0.00 a}')])\n",
    "ben_avg_fig.add_tools(hover_bab)\n",
    "\n",
    "ben_avg_fig.yaxis[0].formatter = NumeralTickFormatter(format='$0.00a')\n",
    "ben_avg_fig.xaxis.minor_tick_line_color = None\n",
    "ben_avg_fig.xaxis.axis_label = 'AGI Percentile Bin'\n",
    "ben_avg_fig.yaxis.axis_label = 'Average Benefits'"
   ]
  },
  {
   "cell_type": "code",
   "execution_count": 37,
   "metadata": {},
   "outputs": [
    {
     "data": {
      "text/html": [
       "\n",
       "<div class=\"bk-root\">\n",
       "    <div class=\"bk-plotdiv\" id=\"fcda2325-05cf-47d6-80c2-f6e2dbf41c00\"></div>\n",
       "</div>"
      ]
     },
     "metadata": {},
     "output_type": "display_data"
    },
    {
     "data": {
      "application/javascript": [
       "(function(root) {\n",
       "  function embed_document(root) {\n",
       "    var docs_json = {\"01da378d-68bd-43fa-bb30-a6e8459bf509\":{\"roots\":{\"references\":[{\"attributes\":{\"data_source\":{\"id\":\"21813a61-be8b-4f0f-be68-94297cda5800\",\"type\":\"ColumnDataSource\"},\"glyph\":{\"id\":\"9763fc62-f55e-4386-ad02-7a6f3472a02c\",\"type\":\"VBar\"},\"hover_glyph\":null,\"muted_glyph\":null,\"nonselection_glyph\":{\"id\":\"4da13c4f-43c1-4512-b4fd-c86684247a0c\",\"type\":\"VBar\"},\"selection_glyph\":null,\"view\":{\"id\":\"225a8f2d-273d-4aea-b469-a148daafe0c8\",\"type\":\"CDSView\"}},\"id\":\"8d3a03f2-2748-4155-a36f-6f7eece221a9\",\"type\":\"GlyphRenderer\"},{\"attributes\":{\"dimension\":1,\"plot\":{\"id\":\"bbd8bfd6-2e9f-4fc3-a2fe-7fca7fe402fb\",\"subtype\":\"Figure\",\"type\":\"Plot\"},\"ticker\":{\"id\":\"6f3a2177-fbcf-4cd6-8408-510e8164f428\",\"type\":\"BasicTicker\"}},\"id\":\"0dfeefba-5e9f-458a-8049-962e06b15408\",\"type\":\"Grid\"},{\"attributes\":{},\"id\":\"89ec5b77-a08b-4aa3-abf9-dd9671fe468f\",\"type\":\"ResetTool\"},{\"attributes\":{},\"id\":\"112cf5d5-7454-474e-9cf9-0ee8641ce126\",\"type\":\"CategoricalTickFormatter\"},{\"attributes\":{\"format\":\"$0.00a\"},\"id\":\"5021f9b7-367b-44d6-b3fc-b59a6a2ecabf\",\"type\":\"NumeralTickFormatter\"},{\"attributes\":{\"fill_color\":{\"value\":\"#1f77b4\"},\"line_color\":{\"value\":\"#1f77b4\"},\"top\":{\"field\":\"top\"},\"width\":{\"value\":0.75},\"x\":{\"field\":\"index\"}},\"id\":\"9763fc62-f55e-4386-ad02-7a6f3472a02c\",\"type\":\"VBar\"},{\"attributes\":{},\"id\":\"982db65d-2b0f-4af9-a44d-0b2dd4a7e0d4\",\"type\":\"PanTool\"},{\"attributes\":{},\"id\":\"010942fc-5d2d-43d0-bc58-543b74eaa6cc\",\"type\":\"SaveTool\"},{\"attributes\":{},\"id\":\"6f3a2177-fbcf-4cd6-8408-510e8164f428\",\"type\":\"BasicTicker\"},{\"attributes\":{\"active_drag\":\"auto\",\"active_inspect\":\"auto\",\"active_scroll\":\"auto\",\"active_tap\":\"auto\",\"tools\":[{\"id\":\"982db65d-2b0f-4af9-a44d-0b2dd4a7e0d4\",\"type\":\"PanTool\"},{\"id\":\"5a59932f-bdf7-4cb1-81aa-67e9f46bc86e\",\"type\":\"WheelZoomTool\"},{\"id\":\"2ffeb400-1794-460c-b1c3-739114406c1b\",\"type\":\"BoxZoomTool\"},{\"id\":\"010942fc-5d2d-43d0-bc58-543b74eaa6cc\",\"type\":\"SaveTool\"},{\"id\":\"89ec5b77-a08b-4aa3-abf9-dd9671fe468f\",\"type\":\"ResetTool\"},{\"id\":\"57934a3e-bfe7-4091-856b-e99f9ca30362\",\"type\":\"HelpTool\"},{\"id\":\"2d35eb7b-0510-4392-bca4-43acda8fd9fb\",\"type\":\"HoverTool\"}]},\"id\":\"81ac264f-5deb-494f-8136-fdabb0b284c6\",\"type\":\"Toolbar\"},{\"attributes\":{\"callback\":null,\"column_names\":[\"index\",\"Veterans Benefits\",\"SNAP\",\"Social Security\",\"Medicaid\",\"top\",\"Medicare\",\"SSI\"],\"data\":{\"Medicaid\":{\"__ndarray__\":\"T22aTtxGuUC8zEhq9pWmQNkSKpHEWqFA66rIcb3Go0DLEIQ63AKjQIDY7L1z66BAR5Dv/+oUl0BPCD3nhpmQQKAEI9ycYYdAf36Vabg5gkA=\",\"dtype\":\"float64\",\"shape\":[10]},\"Medicare\":{\"__ndarray__\":\"8E9EmspCwUClXCJylIC/QMY9+oZtq7VAUs28oboTqkBD2lmIFsabQOaCneyeR5ZAwURbUe0glUBWCn82Wd6YQA7idNoI+JhAJNnBAM2om0A=\",\"dtype\":\"float64\",\"shape\":[10]},\"SNAP\":{\"__ndarray__\":\"0b/YK1d4l0BuevkF18ePQEDMVfkpq4hA6SwUOAmSh0BAiHfr2mp/QKnksF4TV3BA08Mrvq5fYkCWMO72RLFQQBaCk4FjJjlAdcDzTlvNM0A=\",\"dtype\":\"float64\",\"shape\":[10]},\"SSI\":{\"__ndarray__\":\"bs6gDZ01mkAYR1F7+2aDQK7oMonAtHFAM9mQ3UkybED7Ssnru9ZmQHis6kWEkGFAb7Rye459XEDsS3im4NNAQCiQBsLmdDBAHF9Fv9pJNEA=\",\"dtype\":\"float64\",\"shape\":[10]},\"Social Security\":{\"__ndarray__\":\"6v5SknXxxEBMof6FQPzEQD8mXwUQur9AhLZrh76Fs0BEJ7yp8DimQCgayZBi4aJAdyck5UyzokAt/DDL4b6mQCFMqH4DhqlA7Twikdg9rEA=\",\"dtype\":\"float64\",\"shape\":[10]},\"Veterans Benefits\":{\"__ndarray__\":\"yPksg02yl0AxrcdsQXmaQEWc53nhTpJAHVKj7viSiUDftMyAKoyAQNlHsttzKYFAKbH+MEU4gkB8vRk/h2OGQGiNnGMmgodALivqnLPQhEA=\",\"dtype\":\"float64\",\"shape\":[10]},\"index\":[\"0-10%\",\"10-20%\",\"20-30%\",\"30-40%\",\"40-50%\",\"50-60%\",\"60-70%\",\"70-80%\",\"80-90%\",\"90-100%\"],\"top\":{\"__ndarray__\":\"kyj1/tlil0Cvo2omR+iPQIhNoe9TtYhAAUaufCOah0D63WTCuyt/QGaHjWgtO3BAJzqQ7ueGYkBVtJlNtZ1QQL7YvV9VyztAJRVqu0H2NEA=\",\"dtype\":\"float64\",\"shape\":[10]}}},\"id\":\"21813a61-be8b-4f0f-be68-94297cda5800\",\"type\":\"ColumnDataSource\"},{\"attributes\":{\"fill_alpha\":{\"value\":0.1},\"fill_color\":{\"value\":\"#1f77b4\"},\"line_alpha\":{\"value\":0.1},\"line_color\":{\"value\":\"#1f77b4\"},\"top\":{\"field\":\"top\"},\"width\":{\"value\":0.75},\"x\":{\"field\":\"index\"}},\"id\":\"4da13c4f-43c1-4512-b4fd-c86684247a0c\",\"type\":\"VBar\"},{\"attributes\":{\"plot\":null,\"text\":\"Average SNAP Benefits by AGI Percentile Bin for 2015\"},\"id\":\"81023bf3-864d-43a1-88f9-5b9e2118d127\",\"type\":\"Title\"},{\"attributes\":{},\"id\":\"10402c97-5610-46d8-9e84-3d189a61c068\",\"type\":\"CategoricalScale\"},{\"attributes\":{\"plot\":{\"id\":\"bbd8bfd6-2e9f-4fc3-a2fe-7fca7fe402fb\",\"subtype\":\"Figure\",\"type\":\"Plot\"},\"ticker\":{\"id\":\"401a7f77-1cd7-47a6-af41-7d2063b27655\",\"type\":\"CategoricalTicker\"}},\"id\":\"33c7df68-c47c-494c-ab14-2ea8f448d61f\",\"type\":\"Grid\"},{\"attributes\":{\"axis_label\":\"Average Benefits\",\"formatter\":{\"id\":\"5021f9b7-367b-44d6-b3fc-b59a6a2ecabf\",\"type\":\"NumeralTickFormatter\"},\"plot\":{\"id\":\"bbd8bfd6-2e9f-4fc3-a2fe-7fca7fe402fb\",\"subtype\":\"Figure\",\"type\":\"Plot\"},\"ticker\":{\"id\":\"6f3a2177-fbcf-4cd6-8408-510e8164f428\",\"type\":\"BasicTicker\"}},\"id\":\"a7c52f9b-0fcf-4681-8628-bcd8570aadb6\",\"type\":\"LinearAxis\"},{\"attributes\":{\"callback\":null,\"tooltips\":[[\"Value\",\"@top{$ 0.00 a}\"]]},\"id\":\"2d35eb7b-0510-4392-bca4-43acda8fd9fb\",\"type\":\"HoverTool\"},{\"attributes\":{\"callback\":null},\"id\":\"d063dda8-b5da-4af4-8c2f-12f108c68d0c\",\"type\":\"DataRange1d\"},{\"attributes\":{},\"id\":\"401a7f77-1cd7-47a6-af41-7d2063b27655\",\"type\":\"CategoricalTicker\"},{\"attributes\":{\"callback\":null,\"factors\":[\"0-10%\",\"10-20%\",\"20-30%\",\"30-40%\",\"40-50%\",\"50-60%\",\"60-70%\",\"70-80%\",\"80-90%\",\"90-100%\"]},\"id\":\"454dd997-bd78-4fc4-a0e6-0e2fb68d1ea8\",\"type\":\"FactorRange\"},{\"attributes\":{},\"id\":\"27812f5e-0729-4bb1-84da-88a6cea6714c\",\"type\":\"LinearScale\"},{\"attributes\":{\"source\":{\"id\":\"21813a61-be8b-4f0f-be68-94297cda5800\",\"type\":\"ColumnDataSource\"}},\"id\":\"225a8f2d-273d-4aea-b469-a148daafe0c8\",\"type\":\"CDSView\"},{\"attributes\":{\"below\":[{\"id\":\"bf0995e3-e592-4f9a-9490-f7ed50c64914\",\"type\":\"CategoricalAxis\"}],\"left\":[{\"id\":\"a7c52f9b-0fcf-4681-8628-bcd8570aadb6\",\"type\":\"LinearAxis\"}],\"renderers\":[{\"id\":\"bf0995e3-e592-4f9a-9490-f7ed50c64914\",\"type\":\"CategoricalAxis\"},{\"id\":\"33c7df68-c47c-494c-ab14-2ea8f448d61f\",\"type\":\"Grid\"},{\"id\":\"a7c52f9b-0fcf-4681-8628-bcd8570aadb6\",\"type\":\"LinearAxis\"},{\"id\":\"0dfeefba-5e9f-458a-8049-962e06b15408\",\"type\":\"Grid\"},{\"id\":\"a154e897-cce1-4fc4-ad0f-7a107dccb321\",\"type\":\"BoxAnnotation\"},{\"id\":\"8d3a03f2-2748-4155-a36f-6f7eece221a9\",\"type\":\"GlyphRenderer\"}],\"title\":{\"id\":\"81023bf3-864d-43a1-88f9-5b9e2118d127\",\"type\":\"Title\"},\"toolbar\":{\"id\":\"81ac264f-5deb-494f-8136-fdabb0b284c6\",\"type\":\"Toolbar\"},\"x_range\":{\"id\":\"454dd997-bd78-4fc4-a0e6-0e2fb68d1ea8\",\"type\":\"FactorRange\"},\"x_scale\":{\"id\":\"10402c97-5610-46d8-9e84-3d189a61c068\",\"type\":\"CategoricalScale\"},\"y_range\":{\"id\":\"d063dda8-b5da-4af4-8c2f-12f108c68d0c\",\"type\":\"DataRange1d\"},\"y_scale\":{\"id\":\"27812f5e-0729-4bb1-84da-88a6cea6714c\",\"type\":\"LinearScale\"}},\"id\":\"bbd8bfd6-2e9f-4fc3-a2fe-7fca7fe402fb\",\"subtype\":\"Figure\",\"type\":\"Plot\"},{\"attributes\":{},\"id\":\"57934a3e-bfe7-4091-856b-e99f9ca30362\",\"type\":\"HelpTool\"},{\"attributes\":{\"bottom_units\":\"screen\",\"fill_alpha\":{\"value\":0.5},\"fill_color\":{\"value\":\"lightgrey\"},\"left_units\":\"screen\",\"level\":\"overlay\",\"line_alpha\":{\"value\":1.0},\"line_color\":{\"value\":\"black\"},\"line_dash\":[4,4],\"line_width\":{\"value\":2},\"plot\":null,\"render_mode\":\"css\",\"right_units\":\"screen\",\"top_units\":\"screen\"},\"id\":\"a154e897-cce1-4fc4-ad0f-7a107dccb321\",\"type\":\"BoxAnnotation\"},{\"attributes\":{\"axis_label\":\"AGI Percentile Bin\",\"formatter\":{\"id\":\"112cf5d5-7454-474e-9cf9-0ee8641ce126\",\"type\":\"CategoricalTickFormatter\"},\"minor_tick_line_color\":{\"value\":null},\"plot\":{\"id\":\"bbd8bfd6-2e9f-4fc3-a2fe-7fca7fe402fb\",\"subtype\":\"Figure\",\"type\":\"Plot\"},\"ticker\":{\"id\":\"401a7f77-1cd7-47a6-af41-7d2063b27655\",\"type\":\"CategoricalTicker\"}},\"id\":\"bf0995e3-e592-4f9a-9490-f7ed50c64914\",\"type\":\"CategoricalAxis\"},{\"attributes\":{},\"id\":\"5a59932f-bdf7-4cb1-81aa-67e9f46bc86e\",\"type\":\"WheelZoomTool\"},{\"attributes\":{\"overlay\":{\"id\":\"a154e897-cce1-4fc4-ad0f-7a107dccb321\",\"type\":\"BoxAnnotation\"}},\"id\":\"2ffeb400-1794-460c-b1c3-739114406c1b\",\"type\":\"BoxZoomTool\"}],\"root_ids\":[\"bbd8bfd6-2e9f-4fc3-a2fe-7fca7fe402fb\"]},\"title\":\"Bokeh Application\",\"version\":\"0.12.10\"}};\n",
       "    var render_items = [{\"docid\":\"01da378d-68bd-43fa-bb30-a6e8459bf509\",\"elementid\":\"fcda2325-05cf-47d6-80c2-f6e2dbf41c00\",\"modelid\":\"bbd8bfd6-2e9f-4fc3-a2fe-7fca7fe402fb\",\"notebook_comms_target\":\"0b7ca07c-6af4-481d-8bd0-3232198b9990\"}];\n",
       "\n",
       "    root.Bokeh.embed.embed_items(docs_json, render_items);\n",
       "  }\n",
       "\n",
       "  if (root.Bokeh !== undefined) {\n",
       "    embed_document(root);\n",
       "  } else {\n",
       "    var attempts = 0;\n",
       "    var timer = setInterval(function(root) {\n",
       "      if (root.Bokeh !== undefined) {\n",
       "        embed_document(root);\n",
       "        clearInterval(timer);\n",
       "      }\n",
       "      attempts++;\n",
       "      if (attempts > 100) {\n",
       "        console.log(\"Bokeh: ERROR: Unable to embed document because BokehJS library is missing\")\n",
       "        clearInterval(timer);\n",
       "      }\n",
       "    }, 10, root)\n",
       "  }\n",
       "})(window);"
      ],
      "application/vnd.bokehjs_exec.v0+json": ""
     },
     "metadata": {
      "application/vnd.bokehjs_exec.v0+json": {
       "id": "bbd8bfd6-2e9f-4fc3-a2fe-7fca7fe402fb"
      }
     },
     "output_type": "display_data"
    },
    {
     "data": {
      "application/vnd.jupyter.widget-view+json": {
       "model_id": "235200248f074324b0222cdd0cb33f7f"
      }
     },
     "metadata": {},
     "output_type": "display_data"
    }
   ],
   "source": [
    "bin_avg_handle = show(ben_avg_fig, notebook_handle=True)\n",
    "interactive(bin_avg_bar_update, year=year_dropdown5, ben=bin_avg_dropdown)"
   ]
  },
  {
   "cell_type": "markdown",
   "metadata": {},
   "source": [
    "# Sample Reforms"
   ]
  },
  {
   "cell_type": "code",
   "execution_count": 31,
   "metadata": {},
   "outputs": [
    {
     "name": "stdout",
     "output_type": "stream",
     "text": [
      "You loaded data for 2014.\n",
      "Your data include the following unused variables that will be ignored:\n",
      "  total_ben\n",
      "Tax-Calculator startup automatically extrapolated your data to 2014.\n"
     ]
    }
   ],
   "source": [
    "# baseline calculator\n",
    "pol = Policy()\n",
    "rec = Records.cps_constructor()\n",
    "calc = Calculator(policy=pol, records=rec)\n",
    "calc.advance_to_year(2018)\n",
    "calc.calc_all()"
   ]
  },
  {
   "cell_type": "markdown",
   "metadata": {},
   "source": [
    "## Repeal SSI, SNAP, Other Benefits"
   ]
  },
  {
   "cell_type": "code",
   "execution_count": 32,
   "metadata": {},
   "outputs": [
    {
     "name": "stdout",
     "output_type": "stream",
     "text": [
      "You loaded data for 2014.\n",
      "Your data include the following unused variables that will be ignored:\n",
      "  total_ben\n",
      "Tax-Calculator startup automatically extrapolated your data to 2014.\n"
     ]
    }
   ],
   "source": [
    "# reform calculator\n",
    "pol2 = Policy()\n",
    "reform = {\n",
    "    2018: {'_BEN_Benefit_switch': [[False, False, True, True, True, True, False]]}\n",
    "}\n",
    "pol2.implement_reform(reform)\n",
    "rec2 = Records.cps_constructor()\n",
    "calc2 = Calculator(policy=pol2, records=rec2)\n",
    "calc2.advance_to_year(2018)\n",
    "calc2.calc_all()"
   ]
  },
  {
   "cell_type": "code",
   "execution_count": 33,
   "metadata": {},
   "outputs": [
    {
     "name": "stdout",
     "output_type": "stream",
     "text": [
      "Baseline Benefits:   2163269869190.04\n",
      "Reform Benefits:     2020391727641.31\n",
      "-------------------------------------\n",
      "Change in Benefits:  -142878141548.73\n"
     ]
    }
   ],
   "source": [
    "baseline_benefits = (calc.records.ben_total * calc.records.s006).sum()\n",
    "reform_benefits = (calc2.records.ben_total * calc2.records.s006).sum()\n",
    "change = reform_benefits - baseline_benefits\n",
    "print ('Baseline Benefits: {:18.2f}'.format(baseline_benefits))\n",
    "print ('Reform Benefits: {:20.2f}'.format(reform_benefits))\n",
    "print ('-' * 37)\n",
    "print ('Change in Benefits: {:17.2f}'.format(change))"
   ]
  },
  {
   "cell_type": "markdown",
   "metadata": {},
   "source": [
    "## Apply Welfare Multiples"
   ]
  },
  {
   "cell_type": "code",
   "execution_count": 34,
   "metadata": {},
   "outputs": [
    {
     "name": "stdout",
     "output_type": "stream",
     "text": [
      "You loaded data for 2014.\n",
      "Your data include the following unused variables that will be ignored:\n",
      "  total_ben\n",
      "Tax-Calculator startup automatically extrapolated your data to 2014.\n"
     ]
    }
   ],
   "source": [
    "# reform calculator\n",
    "pol3 = Policy()\n",
    "reform2 = {\n",
    "    2018: {\n",
    "        '_BEN_Vet_mult': [0.95],\n",
    "        '_BEN_Medicaid_mult': [0.30],\n",
    "        '_BEN_Medicare_mult': [0.75]\n",
    "    }\n",
    "}\n",
    "pol3.implement_reform(reform2)\n",
    "rec3 = Records.cps_constructor()\n",
    "calc3 = Calculator(policy=pol3, records=rec3)\n",
    "calc3.advance_to_year(2018)\n",
    "calc3.calc_all()"
   ]
  },
  {
   "cell_type": "code",
   "execution_count": 35,
   "metadata": {},
   "outputs": [
    {
     "name": "stdout",
     "output_type": "stream",
     "text": [
      "Total Benefits:           2163269869190.04\n",
      "Benefits After Multiples: 1737091861659.44\n",
      "----------------------------------------------\n",
      "Difference:               -426178007530.60\n"
     ]
    }
   ],
   "source": [
    "total_benefits = (calc3.records.ben_total * calc3.records.s006).sum()\n",
    "mult_benefits = (calc3.records.ben_welfare * calc3.records.s006).sum()\n",
    "change = mult_benefits - total_benefits\n",
    "print ('Total Benefits: {:26.2f}'.format(total_benefits))\n",
    "print ('Benefits After Multiples: {:.2f}'.format(mult_benefits))\n",
    "print ('-' * 46)\n",
    "print ('Difference: {:30.2f}'.format(change))"
   ]
  },
  {
   "cell_type": "code",
   "execution_count": null,
   "metadata": {},
   "outputs": [],
   "source": []
  }
 ],
 "metadata": {
  "kernelspec": {
   "display_name": "Python [conda env:taxcalc-dev]",
   "language": "python",
   "name": "conda-env-taxcalc-dev-py"
  },
  "language_info": {
   "codemirror_mode": {
    "name": "ipython",
    "version": 3
   },
   "file_extension": ".py",
   "mimetype": "text/x-python",
   "name": "python",
   "nbconvert_exporter": "python",
   "pygments_lexer": "ipython3",
   "version": "3.5.2"
  }
 },
 "nbformat": 4,
 "nbformat_minor": 2
}
