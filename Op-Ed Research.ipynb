{
 "cells": [
  {
   "cell_type": "code",
   "execution_count": 53,
   "metadata": {
    "collapsed": true
   },
   "outputs": [],
   "source": [
    "import pandas as pd\n",
    "import numpy as np\n",
    "import copy"
   ]
  },
  {
   "cell_type": "code",
   "execution_count": 61,
   "metadata": {
    "collapsed": true
   },
   "outputs": [],
   "source": [
    "# read in CPS data\n",
    "cps = pd.read_csv('cps_2015_aug.csv')\n",
    "# combine child tax credit and additonal child tax credit\n",
    "cps['ctc_crd_total'] = cps.ctc_crd + cps.actc_crd\n",
    "# list of all benefit variables\n",
    "ben_vars = [('snap_impute', 'SNAP'), ('MedicaidX', 'Medicaid'), ('eit_cred', 'EITC'),\n",
    "            ('f_mv_sl', 'school lunch'), ('hengval', 'energy assistance'),\n",
    "            ('ctc_crd_total', 'child tax credit')]\n",
    "# find total benefits\n",
    "cps['tot_ben'] = 0\n",
    "for var in ben_vars:\n",
    "    cps['tot_ben'] += cps[var[0]]"
   ]
  },
  {
   "cell_type": "code",
   "execution_count": 62,
   "metadata": {},
   "outputs": [
    {
     "name": "stdout",
     "output_type": "stream",
     "text": [
      "There are 7809 families that fit the criteria\n"
     ]
    }
   ],
   "source": [
    "# break down to families with a female reference person, no husband, 2 kids under 18\n",
    "fam_cps = cps[(cps.fkind == 3) & (cps.fhusbidx == 0) & (cps.fownu18 == 2)]\n",
    "print 'There are {} families that fit the criteria'.format(len(fam_cps))"
   ]
  },
  {
   "cell_type": "code",
   "execution_count": 63,
   "metadata": {},
   "outputs": [
    {
     "name": "stdout",
     "output_type": "stream",
     "text": [
      "There are 6 people that fit the criteria\n"
     ]
    }
   ],
   "source": [
    "# narrow CPS down further to only those working 52 hours a wk, making $8/hour, and are 35 years old\n",
    "per_cps = copy.deepcopy(fam_cps[(fam_cps.wkswork == 52) & (fam_cps.a_hrspay >= 8) & (fam_cps.a_age == 35)])\n",
    "print 'There are {} people that fit the criteria'.format(len(per_cps))"
   ]
  },
  {
   "cell_type": "code",
   "execution_count": 64,
   "metadata": {
    "collapsed": true
   },
   "outputs": [],
   "source": [
    "def weighted_avg(sub_cps, var):\n",
    "    vals = []\n",
    "    weights = []\n",
    "    for seq, seq2 in zip(sub_cps.h_seq, sub_cps.pf_seq):\n",
    "        vals.append(cps[var][(cps.h_seq == seq) & (cps.pf_seq == seq2)].sum())\n",
    "        weights.append(cps.fsup_wgt[(cps.h_seq == seq) & (cps.pf_seq == seq2)].sum())\n",
    "    vals = np.array(vals)\n",
    "    weights = np.array(weights)\n",
    "    return (vals * weights).sum() / weights.sum()"
   ]
  },
  {
   "cell_type": "code",
   "execution_count": 65,
   "metadata": {},
   "outputs": [
    {
     "name": "stdout",
     "output_type": "stream",
     "text": [
      "The average SNAP benefit is 2077.71277381\n",
      "The average Medicaid benefit is 14326.5721988\n",
      "The average EITC benefit is 2554.17697953\n",
      "The average school lunch benefit is 1316.03118198\n",
      "The average energy assistance benefit is 857.696299494\n",
      "The average child tax credit benefit is 1880.87551396\n",
      "The average total benefit is 23013.0649475\n"
     ]
    }
   ],
   "source": [
    "# find weighted average of all benefits\n",
    "ben_vars.append(('tot_ben', 'total'))\n",
    "for var in ben_vars:\n",
    "    print 'The average {} benefit is {}'.format(var[1], weighted_avg(per_cps, var[0]))"
   ]
  },
  {
   "cell_type": "code",
   "execution_count": null,
   "metadata": {
    "collapsed": true
   },
   "outputs": [],
   "source": []
  }
 ],
 "metadata": {
  "kernelspec": {
   "display_name": "Python [conda root]",
   "language": "python",
   "name": "conda-root-py"
  },
  "language_info": {
   "codemirror_mode": {
    "name": "ipython",
    "version": 2
   },
   "file_extension": ".py",
   "mimetype": "text/x-python",
   "name": "python",
   "nbconvert_exporter": "python",
   "pygments_lexer": "ipython2",
   "version": "2.7.13"
  }
 },
 "nbformat": 4,
 "nbformat_minor": 2
}
