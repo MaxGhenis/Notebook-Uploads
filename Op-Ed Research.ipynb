{
 "cells": [
  {
   "cell_type": "code",
   "execution_count": 28,
   "metadata": {
    "collapsed": true
   },
   "outputs": [],
   "source": [
    "import pandas as pd\n",
    "import numpy as np\n",
    "import copy"
   ]
  },
  {
   "cell_type": "code",
   "execution_count": 29,
   "metadata": {
    "collapsed": true
   },
   "outputs": [],
   "source": [
    "# read in CPS data\n",
    "cps = pd.read_csv('cps_2015_aug.csv')"
   ]
  },
  {
   "cell_type": "code",
   "execution_count": 30,
   "metadata": {},
   "outputs": [
    {
     "name": "stdout",
     "output_type": "stream",
     "text": [
      "There are 7809 families that fit the criteria\n"
     ]
    }
   ],
   "source": [
    "# break down to families with a female reference person, no husband, 2 kids under 18\n",
    "fam_cps = cps[(cps.fkind == 3) & (cps.fhusbidx == 0) & (cps.fownu18 == 2)]\n",
    "print 'There are {} families that fit the criteria'.format(len(fam_cps))"
   ]
  },
  {
   "cell_type": "code",
   "execution_count": 31,
   "metadata": {},
   "outputs": [
    {
     "name": "stdout",
     "output_type": "stream",
     "text": [
      "There are 6 people that fit the criteria\n"
     ]
    }
   ],
   "source": [
    "# narrow CPS down further to only those working 52 hours a wk, making $8/hour, and are 35 years old\n",
    "per_cps = copy.deepcopy(fam_cps[(fam_cps.wkswork == 52) & (fam_cps.a_hrspay >= 8) & (fam_cps.a_age == 35)])\n",
    "print 'There are {} people that fit the criteria'.format(len(per_cps))"
   ]
  },
  {
   "cell_type": "code",
   "execution_count": 32,
   "metadata": {
    "collapsed": true
   },
   "outputs": [],
   "source": [
    "def weighted_avg(cps, var):\n",
    "    return (cps.fsup_wgt * cps[var]).sum() / cps.fsup_wgt.sum()"
   ]
  },
  {
   "cell_type": "code",
   "execution_count": 33,
   "metadata": {},
   "outputs": [],
   "source": [
    "# Find weighted average of all benefits\n",
    "\n",
    "# combine child tax credit and additonal child tax credit\n",
    "per_cps['ctc_crd_total'] = per_cps.ctc_crd + per_cps.actc_crd\n",
    "# list of all benefit variables\n",
    "ben_vars = [('snap_impute', 'SNAP'), ('mcaid', 'Medicaid'), ('eit_cred', 'EITC'),\n",
    "            ('f_mv_sl', 'school lunch'), ('hengval', 'energy assistance'),\n",
    "            ('ctc_crd_total', 'child tax credit')]\n",
    "# find total benefits\n",
    "per_cps['tot_ben'] = 0\n",
    "for var in ben_vars:\n",
    "    per_cps['tot_ben'] += per_cps[var[0]]"
   ]
  },
  {
   "cell_type": "code",
   "execution_count": 34,
   "metadata": {},
   "outputs": [
    {
     "name": "stdout",
     "output_type": "stream",
     "text": [
      "The average SNAP benefit is 692.570924602\n",
      "The average Medicaid benefit is 1.53577737569\n",
      "The average EITC benefit is 2554.17697953\n",
      "The average school lunch benefit is 438.677060659\n",
      "The average energy assistance benefit is 285.898766498\n",
      "The average child tax credit benefit is 1880.87551396\n",
      "The average total benefit is 5853.73502262\n"
     ]
    }
   ],
   "source": [
    "# find weighted average of all benefits\n",
    "ben_vars.append(('tot_ben', 'total'))\n",
    "for var in ben_vars:\n",
    "    print 'The average {} benefit is {}'.format(var[1], weighted_avg(per_cps, var[0]))"
   ]
  },
  {
   "cell_type": "code",
   "execution_count": null,
   "metadata": {
    "collapsed": true
   },
   "outputs": [],
   "source": []
  }
 ],
 "metadata": {
  "kernelspec": {
   "display_name": "Python [conda root]",
   "language": "python",
   "name": "conda-root-py"
  },
  "language_info": {
   "codemirror_mode": {
    "name": "ipython",
    "version": 2
   },
   "file_extension": ".py",
   "mimetype": "text/x-python",
   "name": "python",
   "nbconvert_exporter": "python",
   "pygments_lexer": "ipython2",
   "version": "2.7.13"
  }
 },
 "nbformat": 4,
 "nbformat_minor": 2
}
