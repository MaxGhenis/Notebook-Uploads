{
 "cells": [
  {
   "cell_type": "code",
   "execution_count": 1,
   "metadata": {
    "collapsed": false
   },
   "outputs": [],
   "source": [
    "from taxcalc import *\n",
    "import numpy as np\n",
    "import pandas as pd\n",
    "from pandas import DataFrame\n",
    "import copy"
   ]
  },
  {
   "cell_type": "code",
   "execution_count": 2,
   "metadata": {
    "collapsed": false
   },
   "outputs": [],
   "source": [
    "# settings\n",
    "# Change year here if running simulations for any other year\n",
    "sim_year = 2017\n",
    "agi_brackets = [(-1e14, 50000), (50000, 100000), (100000, 1e14)]\n",
    "# list of dictionaries for each elasticity\n",
    "elasticities = [\n",
    "    {'lower': -0.5, 'middle': -0.5, 'upper': -0.5},\n",
    "    {'lower': -1.0, 'middle': -1.0, 'upper': -1.0},\n",
    "    {'lower': -2.236, 'middle': -1.490, 'upper': -1.182}]"
   ]
  },
  {
   "cell_type": "code",
   "execution_count": 3,
   "metadata": {
    "collapsed": true
   },
   "outputs": [],
   "source": [
    "# lists for each output\n",
    "base_list = list()\n",
    "std_list = list()\n",
    "charitable_list = list()\n",
    "lower_mtr_list = list()\n",
    "std_mtr_list = list()\n",
    "std_charitable_list = list()\n",
    "all_three_list = list()"
   ]
  },
  {
   "cell_type": "code",
   "execution_count": 4,
   "metadata": {
    "collapsed": true
   },
   "outputs": [],
   "source": [
    "# Reform dictionaries\n",
    "\n",
    "# 2: raise standard deduction\n",
    "std_reform = {\n",
    "    sim_year: {\n",
    "        '_STD': [[11000, 22000, 11000, 11000, 22000]]\n",
    "    }\n",
    "}\n",
    "\n",
    "# 3: allow non-itemizers charitable deduction\n",
    "charitable_reform = {\n",
    "    sim_year: {\n",
    "        '_STD_allow_charity_ded_nonitemizers': [True]\n",
    "    }\n",
    "}\n",
    "\n",
    "# 4: lower top MTR to 35%\n",
    "mtr_reform = {\n",
    "    sim_year: {\n",
    "        '_II_rt7': [0.35]\n",
    "    }\n",
    "}"
   ]
  },
  {
   "cell_type": "code",
   "execution_count": 5,
   "metadata": {
    "collapsed": false
   },
   "outputs": [
    {
     "data": {
      "text/plain": [
       "0     389.598564\n",
       "1     974.564405\n",
       "2    1801.177687\n",
       "dtype: float64"
      ]
     },
     "execution_count": 5,
     "metadata": {},
     "output_type": "execute_result"
    }
   ],
   "source": [
    "# average charitable contributions by AGI level\n",
    "contribs = pd.Series([342.96, 857.90, 1585.56])\n",
    "recs = Records()\n",
    "pol = Policy()\n",
    "\n",
    "# blow-up contributions to 2013 levels\n",
    "for year in range(2010, 2014):\n",
    "    contribs *= recs.gfactors.factor_value('ATXPY', year)\n",
    "contribs"
   ]
  },
  {
   "cell_type": "code",
   "execution_count": 6,
   "metadata": {
    "collapsed": false
   },
   "outputs": [
    {
     "name": "stdout",
     "output_type": "stream",
     "text": [
      "You loaded data for 2009.\n",
      "Tax-Calculator startup automatically extrapolated your data to 2013.\n"
     ]
    }
   ],
   "source": [
    "# intitalize calculator - used to assign charitable giving to non-itemizers\n",
    "calc = Calculator(records=recs, policy=pol)\n",
    "calc.calc_all()"
   ]
  },
  {
   "cell_type": "code",
   "execution_count": 7,
   "metadata": {
    "collapsed": true
   },
   "outputs": [],
   "source": [
    "# assign contribution amounts to non-itemizers based on AGI\n",
    "calc.records.e19800 = np.where((calc.records.c00100 < 50000) & (calc.records.c04470 == 0),\n",
    "                               contribs[0], calc.records.e19800)\n",
    "calc.records.e19800 = np.where((calc.records.c00100 >= 50000) & (calc.records.c00100 < 100000) &\n",
    "                               (calc.records.c04470 == 0),\n",
    "                               contribs[1], calc.records.e19800)\n",
    "calc.records.e19800 = np.where((calc.records.c00100 > 100000) & (calc.records.c04470 == 0),\n",
    "                               contribs[2], calc.records.e19800)\n",
    "charitable_array = copy.deepcopy(calc.records.e19800)"
   ]
  },
  {
   "cell_type": "code",
   "execution_count": 8,
   "metadata": {
    "collapsed": true
   },
   "outputs": [],
   "source": [
    "# generate output table\n",
    "# Total charitable giving only consists of cash contributions. Non-cash can be easily added\n",
    "\n",
    "def table(calc_table):\n",
    "    \n",
    "    dictionary = {'Revenue': [],\n",
    "                  'Total Giving': [], \n",
    "                  'Total Giving: Itemizers': [], \n",
    "                  'Total Giving: Non-Itemizers': [], \n",
    "                  'Number of Itemizers': [], \n",
    "                  'Number of Non-Itemizers': []}\n",
    "    # Loop through each AGI income bin to get values\n",
    "    for item in agi_brackets:\n",
    "        \n",
    "        val = calc_table.records._combined[(calc_table.records.c00100 >= item[0])&\n",
    "                                           (calc_table.records.c00100 < item[1])]\n",
    "        val *= calc_table.records.s006[(calc_table.records.c00100 >= item[0])&\n",
    "                                       (calc_table.records.c00100 < item[1])]\n",
    "        dictionary['Revenue'].append(val.sum() / 1000000)\n",
    "        \n",
    "        val = calc_table.records.e19800[(calc_table.records.c00100 >= item[0])&\n",
    "                                        (calc_table.records.c00100 < item[1])]\n",
    "        val *= calc_table.records.s006[(calc_table.records.c00100 >= item[0])&\n",
    "                                       (calc_table.records.c00100 < item[1])]\n",
    "        dictionary['Total Giving'].append(float(val.sum()) / 1000000)\n",
    "        \n",
    "        val = calc_table.records.e19800[(calc_table.records.c00100 >= item[0])&\n",
    "                                        (calc_table.records.c00100 < item[1])&\n",
    "                                        (calc_table.records.c04470 > 0)]\n",
    "        val *= calc_table.records.s006[(calc_table.records.c00100 >= item[0])&\n",
    "                                       (calc_table.records.c00100 < item[1])&\n",
    "                                       (calc_table.records.c04470 > 0)]\n",
    "        dictionary['Total Giving: Itemizers'].append(float(val.sum()) / 1000000)\n",
    "        \n",
    "        val = calc_table.records.s006[(calc_table.records.c00100 >= item[0])&\n",
    "                                      (calc_table.records.c00100 < item[1])&\n",
    "                                      (calc_table.records.c04470 > 0)]\n",
    "        dictionary['Number of Itemizers'].append(float(val.sum()) / 1000000)\n",
    "\n",
    "        val = calc_table.records.e19800[(calc_table.records.c00100 >= item[0])&\n",
    "                                        (calc_table.records.c00100 < item[1])&\n",
    "                                        (calc_table.records.c04470 == 0)]\n",
    "        val *= calc_table.records.s006[(calc_table.records.c00100 >= item[0])&\n",
    "                                       (calc_table.records.c00100 < item[1])&\n",
    "                                       (calc_table.records.c04470 == 0)]\n",
    "        dictionary['Total Giving: Non-Itemizers'].append(float(val.sum()) / 1000000)\n",
    "        \n",
    "        val = calc_table.records.s006[(calc_table.records.c00100 >= item[0])&\n",
    "                                      (calc_table.records.c00100 < item[1])&\n",
    "                                      (calc_table.records.c04470 == 0)]\n",
    "        dictionary['Number of Non-Itemizers'].append(float(val.sum()) / 1000000)\n",
    "    # Add total rows\n",
    "    for key in dictionary.keys():\n",
    "        dictionary[key].append(sum(dictionary[key]))\n",
    "        \n",
    "    df = DataFrame.from_dict(dictionary)\n",
    "    df.index = ['$0-50K', '$50K-100K', '$100K+', 'All']\n",
    "    df = df.round(2)\n",
    "    del dictionary\n",
    "        \n",
    "    return(df)"
   ]
  },
  {
   "cell_type": "markdown",
   "metadata": {},
   "source": [
    "# Begin Simulations"
   ]
  },
  {
   "cell_type": "code",
   "execution_count": 10,
   "metadata": {
    "collapsed": false
   },
   "outputs": [],
   "source": [
    "# baseline function - no policy changes, but with elasticities\n",
    "def base(elast):\n",
    "    \"\"\"\n",
    "    elast: dictionary of elasticities\n",
    "    returns DF to make the table we're interested in\n",
    "    \"\"\"\n",
    "    # Calculator with no reforms\n",
    "    recs_no = Records()\n",
    "    pol_no = Policy()\n",
    "    calc_noref = Calculator(records=recs_no, policy=pol_no, verbose=False)\n",
    "    calc_noref.records.e19800 = copy.deepcopy(charitable_array)\n",
    "    calc_noref.advance_to_year(sim_year)\n",
    "    \n",
    "    # Set calculator\n",
    "    recs_base = Records()\n",
    "    pol_base = Policy()\n",
    "    beh_base = Behavior()\n",
    "    calc_base = Calculator(records=recs_base, policy=pol_base, behavior=beh_base,\n",
    "                          verbose=False)\n",
    "    beh_base.update_behavior({\n",
    "        sim_year: {\n",
    "            '_BE_charity': [[elast['lower'], elast['middle'], elast['upper']]]\n",
    "        }\n",
    "    })\n",
    "    calc_base.records.e19800 = copy.deepcopy(charitable_array)\n",
    "    \n",
    "    # assuming we're doing the analysis for 2017\n",
    "    calc_base.advance_to_year(sim_year)\n",
    "    \n",
    "    # create calculator with behavioral response\n",
    "    calc_base_beh = Behavior.response(calc_noref, calc_base)\n",
    "    \n",
    "    # Create and append DF with information interested in\n",
    "    base_list.append(table(calc_base_beh))"
   ]
  },
  {
   "cell_type": "code",
   "execution_count": 11,
   "metadata": {
    "collapsed": true
   },
   "outputs": [],
   "source": [
    "# increase value of the standard deduction ($11,000 for individuals and $22,000 for joint filers,\n",
    "# following the Camp proposal)\n",
    "def std(elast):\n",
    "    \n",
    "    # Calculator with no reforms\n",
    "    recs_no = Records()\n",
    "    pol_no = Policy()\n",
    "    calc_noref = Calculator(records=recs_no, policy=pol_no, verbose=False)\n",
    "    calc_noref.records.e19800 = copy.deepcopy(charitable_array)\n",
    "    calc_noref.advance_to_year(sim_year)\n",
    "    \n",
    "    recs_std = Records()\n",
    "    pol_std = Policy()\n",
    "    pol_std.implement_reform(std_reform)\n",
    "    beh_std = Behavior()\n",
    "    calc_std = Calculator(records=recs_std, policy=pol_std, behavior=beh_std,\n",
    "                          verbose=False)\n",
    "    beh_std.update_behavior({\n",
    "        sim_year: {\n",
    "            '_BE_charity': [[elast['lower'], elast['middle'], elast['upper']]]\n",
    "        }\n",
    "    })\n",
    "    calc_std.records.e19800 = copy.deepcopy(charitable_array)\n",
    "    calc_std.advance_to_year(sim_year)\n",
    "    \n",
    "    # Create calculator with behavioral reform\n",
    "    calc_std_beh = Behavior.response(calc_noref, calc_std)\n",
    "    \n",
    "    # create and append DF with information interested in\n",
    "    std_list.append(table(calc_std_beh))"
   ]
  },
  {
   "cell_type": "code",
   "execution_count": 12,
   "metadata": {
    "collapsed": true
   },
   "outputs": [],
   "source": [
    "# ability for non-itemizers to itemize charitable deductions \n",
    "def charitable(elast):\n",
    "    \n",
    "    # Calculator with no reforms\n",
    "    recs_no = Records()\n",
    "    pol_no = Policy()\n",
    "    calc_noref = Calculator(records=recs_no, policy=pol_no, verbose=False)\n",
    "    calc_noref.records.e19800 = copy.deepcopy(charitable_array)\n",
    "    calc_noref.advance_to_year(sim_year)\n",
    "    \n",
    "    recs_charitable = Records()\n",
    "    pol_charitable = Policy()\n",
    "    pol_charitable.implement_reform(charitable_reform)\n",
    "    beh_charitable = Behavior()\n",
    "    calc_charitable = Calculator(records=recs_charitable, policy=pol_charitable, behavior=beh_charitable,\n",
    "                                 verbose=False)\n",
    "    beh_charitable.update_behavior({\n",
    "        sim_year: {\n",
    "            '_BE_charity': [[elast['lower'], elast['middle'], elast['upper']]]\n",
    "        }\n",
    "    })\n",
    "    calc_charitable.records.e19800 = copy.deepcopy(charitable_array)\n",
    "    calc_charitable.advance_to_year(sim_year)\n",
    "    \n",
    "    # Create calculator with behaviroal reform\n",
    "    calc_charitable_beh = Behavior.response(calc_noref, calc_charitable)\n",
    "    \n",
    "    # Create and append DF with information interested in\n",
    "    charitable_list.append(table(calc_charitable_beh))"
   ]
  },
  {
   "cell_type": "code",
   "execution_count": 13,
   "metadata": {
    "collapsed": true
   },
   "outputs": [],
   "source": [
    "# decrease of the highest marginal tax rate to 35% \n",
    "def lower_mtr(elast):\n",
    "    \n",
    "    # Calculator with no reforms\n",
    "    recs_no = Records()\n",
    "    pol_no = Policy()\n",
    "    calc_noref = Calculator(records=recs_no, policy=pol_no, verbose=False)\n",
    "    calc_noref.records.e19800 = copy.deepcopy(charitable_array)\n",
    "    calc_noref.advance_to_year(sim_year)\n",
    "    \n",
    "    recs_mtr = Records()\n",
    "    pol_mtr = Policy()\n",
    "    pol_mtr.implement_reform(mtr_reform)\n",
    "    beh_mtr = Behavior()\n",
    "    calc_mtr = Calculator(records=recs_mtr, policy = pol_mtr, behavior=beh_mtr,\n",
    "                          verbose=False)\n",
    "    beh_mtr.update_behavior({\n",
    "        sim_year: {\n",
    "            '_BE_charity': [[elast['lower'], elast['middle'], elast['upper']]]\n",
    "        }\n",
    "    })\n",
    "    calc_mtr.records.e19800 = copy.deepcopy(charitable_array)\n",
    "    calc_mtr.advance_to_year(sim_year)\n",
    "    \n",
    "    # Calculator with behavioral reform\n",
    "    calc_mtr_beh = Behavior.response(calc_noref, calc_mtr)\n",
    "    \n",
    "    # Create and append DF with information interested\n",
    "    lower_mtr_list.append(table(calc_mtr_beh))"
   ]
  },
  {
   "cell_type": "code",
   "execution_count": 14,
   "metadata": {
    "collapsed": true
   },
   "outputs": [],
   "source": [
    "# standard deduction change and the marginal rate decrease\n",
    "def std_mtr(elast):\n",
    "    \n",
    "    # Calculator with no reforms\n",
    "    recs_no = Records()\n",
    "    pol_no = Policy()\n",
    "    calc_noref = Calculator(records=recs_no, policy=pol_no, verbose=False)\n",
    "    calc_noref.records.e19800 = copy.deepcopy(charitable_array)\n",
    "    calc_noref.advance_to_year(sim_year)\n",
    "    \n",
    "    recs_std_mtr = Records()\n",
    "    pol_std_mtr = Policy()\n",
    "    pol_std_mtr.implement_reform(std_reform)\n",
    "    pol_std_mtr.implement_reform(mtr_reform)\n",
    "    beh_std_mtr = Behavior()\n",
    "    calc_std_mtr = Calculator(records=recs_std_mtr, policy=pol_std_mtr, behavior=beh_std_mtr,\n",
    "                              verbose=False)\n",
    "    calc_std_mtr.records.e19800 = copy.deepcopy(charitable_array)\n",
    "    beh_std_mtr.update_behavior({\n",
    "        sim_year: {\n",
    "            '_BE_charity': [[elast['lower'], elast['middle'], elast['upper']]]\n",
    "        }\n",
    "    })\n",
    "    calc_std_mtr.advance_to_year(sim_year)\n",
    "    \n",
    "    # Calculator with behavioral reform\n",
    "    calc_std_mtr_beh = Behavior.response(calc_noref, calc_std_mtr)\n",
    "    \n",
    "    # Create and append df with information interested in\n",
    "    std_mtr_list.append(table(calc_std_mtr_beh))"
   ]
  },
  {
   "cell_type": "code",
   "execution_count": 15,
   "metadata": {
    "collapsed": true
   },
   "outputs": [],
   "source": [
    "# standard deduction change AND the non-itemizer deduction change\n",
    "def std_charitable(elast):\n",
    "    \n",
    "    # Calculator with no reforms\n",
    "    recs_no = Records()\n",
    "    pol_no = Policy()\n",
    "    calc_noref = Calculator(records=recs_no, policy=pol_no, verbose=False)\n",
    "    calc_noref.records.e19800 = copy.deepcopy(charitable_array)\n",
    "    calc_noref.advance_to_year(sim_year)\n",
    "    \n",
    "    recs_std_charitable = Records()\n",
    "    pol_std_charitable = Policy()\n",
    "    pol_std_charitable.implement_reform(std_reform)\n",
    "    pol_std_charitable.implement_reform(charitable_reform)\n",
    "    beh_std_charitable = Behavior()\n",
    "    calc_std_charitable = Calculator(records=recs_std_charitable, policy=pol_std_charitable,\n",
    "                                     behavior=beh_std_charitable, verbose=False)\n",
    "    calc_std_charitable.records.e19800 = copy.deepcopy(charitable_array)\n",
    "    beh_std_charitable.update_behavior({\n",
    "        sim_year: {\n",
    "            '_BE_charity': [[elast['lower'], elast['middle'], elast['upper']]]\n",
    "        }\n",
    "    })\n",
    "    calc_std_charitable.advance_to_year(sim_year)\n",
    "    \n",
    "    # Calculator with behavioral response\n",
    "    calc_std_charitable_beh = Behavior.response(calc_noref, calc_std_charitable)\n",
    "    \n",
    "    # Create and append DF with information\n",
    "    std_charitable_list.append(table(calc_std_charitable_beh))"
   ]
  },
  {
   "cell_type": "code",
   "execution_count": 16,
   "metadata": {
    "collapsed": true
   },
   "outputs": [],
   "source": [
    "# all three changes (standard deduction increase, non-itemizer deductions, and marginal tax rate decrease)\n",
    "def all_three(elast):\n",
    "    \n",
    "    # Calculator with no reforms\n",
    "    recs_no = Records()\n",
    "    pol_no = Policy()\n",
    "    calc_noref = Calculator(records=recs_no, policy=pol_no, verbose=False)\n",
    "    calc_noref.records.e19800 = copy.deepcopy(charitable_array)\n",
    "    calc_noref.advance_to_year(sim_year)\n",
    "    \n",
    "    recs_three = Records()\n",
    "    pol_three = Policy()\n",
    "    pol_three.implement_reform(std_reform)\n",
    "    pol_three.implement_reform(charitable_reform)\n",
    "    pol_three.implement_reform(mtr_reform)\n",
    "    beh_three = Behavior()\n",
    "    calc_three = Calculator(records=recs_three, policy=pol_three, behavior=beh_three,\n",
    "                            verbose=False)\n",
    "    calc_three.records.e19800 = copy.deepcopy(charitable_array)\n",
    "    beh_three.update_behavior({\n",
    "        sim_year: {\n",
    "            '_BE_charity': [[elast['lower'], elast['middle'], elast['upper']]]\n",
    "        }\n",
    "    })\n",
    "    calc_three.advance_to_year(sim_year)\n",
    "    \n",
    "    # Calculator with behavior reform\n",
    "    calc_three_beh = Behavior.response(calc_noref, calc_three)\n",
    "    \n",
    "    # Create and append DF with information\n",
    "    all_three_list.append(table(calc_three_beh))"
   ]
  },
  {
   "cell_type": "code",
   "execution_count": 17,
   "metadata": {
    "collapsed": false
   },
   "outputs": [
    {
     "name": "stderr",
     "output_type": "stream",
     "text": [
      "taxcalc/behavior.py:306: RuntimeWarning: invalid value encountered in divide\n",
      "  delta_income * calc.records.e00200 / agi_m_ided,\n",
      "taxcalc/behavior.py:310: RuntimeWarning: invalid value encountered in divide\n",
      "  delta_income * other_income / agi_m_ided,\n",
      "taxcalc/behavior.py:313: RuntimeWarning: invalid value encountered in divide\n",
      "  delta_income * ided / agi_m_ided,\n"
     ]
    }
   ],
   "source": [
    "# loop through each branch of elasticites, calling each function\n",
    "for item in elasticities:\n",
    "    base(item)\n",
    "    std(item)\n",
    "    charitable(item)\n",
    "    lower_mtr(item)\n",
    "    std_mtr(item)\n",
    "    std_charitable(item)\n",
    "    all_three(item)"
   ]
  },
  {
   "cell_type": "markdown",
   "metadata": {},
   "source": [
    "# Output (In Millions)"
   ]
  },
  {
   "cell_type": "markdown",
   "metadata": {},
   "source": [
    "Each table is in the form of a DataFrame and is ready to be exported if need be"
   ]
  },
  {
   "cell_type": "markdown",
   "metadata": {},
   "source": [
    "# baseline function"
   ]
  },
  {
   "cell_type": "code",
   "execution_count": 18,
   "metadata": {
    "collapsed": false,
    "scrolled": true
   },
   "outputs": [
    {
     "data": {
      "text/html": [
       "<div>\n",
       "<table border=\"1\" class=\"dataframe\">\n",
       "  <thead>\n",
       "    <tr style=\"text-align: right;\">\n",
       "      <th></th>\n",
       "      <th>Number of Itemizers</th>\n",
       "      <th>Number of Non-Itemizers</th>\n",
       "      <th>Revenue</th>\n",
       "      <th>Total Giving</th>\n",
       "      <th>Total Giving: Itemizers</th>\n",
       "      <th>Total Giving: Non-Itemizers</th>\n",
       "    </tr>\n",
       "  </thead>\n",
       "  <tbody>\n",
       "    <tr>\n",
       "      <th>$0-50K</th>\n",
       "      <td>7.45</td>\n",
       "      <td>100.64</td>\n",
       "      <td>206210.44</td>\n",
       "      <td>55624.30</td>\n",
       "      <td>10646.29</td>\n",
       "      <td>44978.01</td>\n",
       "    </tr>\n",
       "    <tr>\n",
       "      <th>$50K-100K</th>\n",
       "      <td>13.99</td>\n",
       "      <td>18.41</td>\n",
       "      <td>477849.84</td>\n",
       "      <td>48952.55</td>\n",
       "      <td>31849.59</td>\n",
       "      <td>17102.97</td>\n",
       "    </tr>\n",
       "    <tr>\n",
       "      <th>$100K+</th>\n",
       "      <td>23.85</td>\n",
       "      <td>6.08</td>\n",
       "      <td>2108967.48</td>\n",
       "      <td>140300.51</td>\n",
       "      <td>129942.15</td>\n",
       "      <td>10358.36</td>\n",
       "    </tr>\n",
       "    <tr>\n",
       "      <th>All</th>\n",
       "      <td>45.29</td>\n",
       "      <td>125.13</td>\n",
       "      <td>2793027.75</td>\n",
       "      <td>244877.37</td>\n",
       "      <td>172438.03</td>\n",
       "      <td>72439.34</td>\n",
       "    </tr>\n",
       "  </tbody>\n",
       "</table>\n",
       "</div>"
      ],
      "text/plain": [
       "           Number of Itemizers  Number of Non-Itemizers     Revenue  \\\n",
       "$0-50K                    7.45                   100.64   206210.44   \n",
       "$50K-100K                13.99                    18.41   477849.84   \n",
       "$100K+                   23.85                     6.08  2108967.48   \n",
       "All                      45.29                   125.13  2793027.75   \n",
       "\n",
       "           Total Giving  Total Giving: Itemizers  Total Giving: Non-Itemizers  \n",
       "$0-50K         55624.30                 10646.29                     44978.01  \n",
       "$50K-100K      48952.55                 31849.59                     17102.97  \n",
       "$100K+        140300.51                129942.15                     10358.36  \n",
       "All           244877.37                172438.03                     72439.34  "
      ]
     },
     "execution_count": 18,
     "metadata": {},
     "output_type": "execute_result"
    }
   ],
   "source": [
    "# baseline function\n",
    "# elasticity: {'lower': -0.5, 'middle': -0.5, 'upper': -0.5}\n",
    "base_list[0]"
   ]
  },
  {
   "cell_type": "code",
   "execution_count": 19,
   "metadata": {
    "collapsed": false
   },
   "outputs": [
    {
     "data": {
      "text/html": [
       "<div>\n",
       "<table border=\"1\" class=\"dataframe\">\n",
       "  <thead>\n",
       "    <tr style=\"text-align: right;\">\n",
       "      <th></th>\n",
       "      <th>Number of Itemizers</th>\n",
       "      <th>Number of Non-Itemizers</th>\n",
       "      <th>Revenue</th>\n",
       "      <th>Total Giving</th>\n",
       "      <th>Total Giving: Itemizers</th>\n",
       "      <th>Total Giving: Non-Itemizers</th>\n",
       "    </tr>\n",
       "  </thead>\n",
       "  <tbody>\n",
       "    <tr>\n",
       "      <th>$0-50K</th>\n",
       "      <td>7.45</td>\n",
       "      <td>100.64</td>\n",
       "      <td>206210.44</td>\n",
       "      <td>55624.30</td>\n",
       "      <td>10646.29</td>\n",
       "      <td>44978.01</td>\n",
       "    </tr>\n",
       "    <tr>\n",
       "      <th>$50K-100K</th>\n",
       "      <td>13.99</td>\n",
       "      <td>18.41</td>\n",
       "      <td>477849.84</td>\n",
       "      <td>48952.55</td>\n",
       "      <td>31849.59</td>\n",
       "      <td>17102.97</td>\n",
       "    </tr>\n",
       "    <tr>\n",
       "      <th>$100K+</th>\n",
       "      <td>23.85</td>\n",
       "      <td>6.08</td>\n",
       "      <td>2108967.48</td>\n",
       "      <td>140300.51</td>\n",
       "      <td>129942.15</td>\n",
       "      <td>10358.36</td>\n",
       "    </tr>\n",
       "    <tr>\n",
       "      <th>All</th>\n",
       "      <td>45.29</td>\n",
       "      <td>125.13</td>\n",
       "      <td>2793027.75</td>\n",
       "      <td>244877.37</td>\n",
       "      <td>172438.03</td>\n",
       "      <td>72439.34</td>\n",
       "    </tr>\n",
       "  </tbody>\n",
       "</table>\n",
       "</div>"
      ],
      "text/plain": [
       "           Number of Itemizers  Number of Non-Itemizers     Revenue  \\\n",
       "$0-50K                    7.45                   100.64   206210.44   \n",
       "$50K-100K                13.99                    18.41   477849.84   \n",
       "$100K+                   23.85                     6.08  2108967.48   \n",
       "All                      45.29                   125.13  2793027.75   \n",
       "\n",
       "           Total Giving  Total Giving: Itemizers  Total Giving: Non-Itemizers  \n",
       "$0-50K         55624.30                 10646.29                     44978.01  \n",
       "$50K-100K      48952.55                 31849.59                     17102.97  \n",
       "$100K+        140300.51                129942.15                     10358.36  \n",
       "All           244877.37                172438.03                     72439.34  "
      ]
     },
     "execution_count": 19,
     "metadata": {},
     "output_type": "execute_result"
    }
   ],
   "source": [
    "# baseline function\n",
    "# elasticity: {'lower': -1.0, 'middle': -1.0, 'upper': -1.0}\n",
    "base_list[1]"
   ]
  },
  {
   "cell_type": "code",
   "execution_count": 20,
   "metadata": {
    "collapsed": false,
    "scrolled": false
   },
   "outputs": [
    {
     "data": {
      "text/html": [
       "<div>\n",
       "<table border=\"1\" class=\"dataframe\">\n",
       "  <thead>\n",
       "    <tr style=\"text-align: right;\">\n",
       "      <th></th>\n",
       "      <th>Number of Itemizers</th>\n",
       "      <th>Number of Non-Itemizers</th>\n",
       "      <th>Revenue</th>\n",
       "      <th>Total Giving</th>\n",
       "      <th>Total Giving: Itemizers</th>\n",
       "      <th>Total Giving: Non-Itemizers</th>\n",
       "    </tr>\n",
       "  </thead>\n",
       "  <tbody>\n",
       "    <tr>\n",
       "      <th>$0-50K</th>\n",
       "      <td>7.45</td>\n",
       "      <td>100.64</td>\n",
       "      <td>206210.44</td>\n",
       "      <td>55624.30</td>\n",
       "      <td>10646.29</td>\n",
       "      <td>44978.01</td>\n",
       "    </tr>\n",
       "    <tr>\n",
       "      <th>$50K-100K</th>\n",
       "      <td>13.99</td>\n",
       "      <td>18.41</td>\n",
       "      <td>477849.84</td>\n",
       "      <td>48952.55</td>\n",
       "      <td>31849.59</td>\n",
       "      <td>17102.97</td>\n",
       "    </tr>\n",
       "    <tr>\n",
       "      <th>$100K+</th>\n",
       "      <td>23.85</td>\n",
       "      <td>6.08</td>\n",
       "      <td>2108967.48</td>\n",
       "      <td>140300.51</td>\n",
       "      <td>129942.15</td>\n",
       "      <td>10358.36</td>\n",
       "    </tr>\n",
       "    <tr>\n",
       "      <th>All</th>\n",
       "      <td>45.29</td>\n",
       "      <td>125.13</td>\n",
       "      <td>2793027.75</td>\n",
       "      <td>244877.37</td>\n",
       "      <td>172438.03</td>\n",
       "      <td>72439.34</td>\n",
       "    </tr>\n",
       "  </tbody>\n",
       "</table>\n",
       "</div>"
      ],
      "text/plain": [
       "           Number of Itemizers  Number of Non-Itemizers     Revenue  \\\n",
       "$0-50K                    7.45                   100.64   206210.44   \n",
       "$50K-100K                13.99                    18.41   477849.84   \n",
       "$100K+                   23.85                     6.08  2108967.48   \n",
       "All                      45.29                   125.13  2793027.75   \n",
       "\n",
       "           Total Giving  Total Giving: Itemizers  Total Giving: Non-Itemizers  \n",
       "$0-50K         55624.30                 10646.29                     44978.01  \n",
       "$50K-100K      48952.55                 31849.59                     17102.97  \n",
       "$100K+        140300.51                129942.15                     10358.36  \n",
       "All           244877.37                172438.03                     72439.34  "
      ]
     },
     "execution_count": 20,
     "metadata": {},
     "output_type": "execute_result"
    }
   ],
   "source": [
    "# baseline function\n",
    "# elasticity: {'lower': -2.236, 'middle': -1.490, 'upper': -1.182}\n",
    "base_list[2]"
   ]
  },
  {
   "cell_type": "markdown",
   "metadata": {},
   "source": [
    "# increase value of the standard deduction"
   ]
  },
  {
   "cell_type": "code",
   "execution_count": 21,
   "metadata": {
    "collapsed": false,
    "scrolled": true
   },
   "outputs": [
    {
     "data": {
      "text/html": [
       "<div>\n",
       "<table border=\"1\" class=\"dataframe\">\n",
       "  <thead>\n",
       "    <tr style=\"text-align: right;\">\n",
       "      <th></th>\n",
       "      <th>Number of Itemizers</th>\n",
       "      <th>Number of Non-Itemizers</th>\n",
       "      <th>Revenue</th>\n",
       "      <th>Total Giving</th>\n",
       "      <th>Total Giving: Itemizers</th>\n",
       "      <th>Total Giving: Non-Itemizers</th>\n",
       "    </tr>\n",
       "  </thead>\n",
       "  <tbody>\n",
       "    <tr>\n",
       "      <th>$0-50K</th>\n",
       "      <td>3.57</td>\n",
       "      <td>104.52</td>\n",
       "      <td>184714.26</td>\n",
       "      <td>55331.69</td>\n",
       "      <td>5597.96</td>\n",
       "      <td>49733.73</td>\n",
       "    </tr>\n",
       "    <tr>\n",
       "      <th>$50K-100K</th>\n",
       "      <td>8.11</td>\n",
       "      <td>24.29</td>\n",
       "      <td>453012.48</td>\n",
       "      <td>47865.26</td>\n",
       "      <td>21286.80</td>\n",
       "      <td>26578.46</td>\n",
       "    </tr>\n",
       "    <tr>\n",
       "      <th>$100K+</th>\n",
       "      <td>17.73</td>\n",
       "      <td>12.20</td>\n",
       "      <td>2091078.69</td>\n",
       "      <td>138338.39</td>\n",
       "      <td>118003.67</td>\n",
       "      <td>20334.72</td>\n",
       "    </tr>\n",
       "    <tr>\n",
       "      <th>All</th>\n",
       "      <td>29.41</td>\n",
       "      <td>141.01</td>\n",
       "      <td>2728805.43</td>\n",
       "      <td>241535.34</td>\n",
       "      <td>144888.43</td>\n",
       "      <td>96646.92</td>\n",
       "    </tr>\n",
       "  </tbody>\n",
       "</table>\n",
       "</div>"
      ],
      "text/plain": [
       "           Number of Itemizers  Number of Non-Itemizers     Revenue  \\\n",
       "$0-50K                    3.57                   104.52   184714.26   \n",
       "$50K-100K                 8.11                    24.29   453012.48   \n",
       "$100K+                   17.73                    12.20  2091078.69   \n",
       "All                      29.41                   141.01  2728805.43   \n",
       "\n",
       "           Total Giving  Total Giving: Itemizers  Total Giving: Non-Itemizers  \n",
       "$0-50K         55331.69                  5597.96                     49733.73  \n",
       "$50K-100K      47865.26                 21286.80                     26578.46  \n",
       "$100K+        138338.39                118003.67                     20334.72  \n",
       "All           241535.34                144888.43                     96646.92  "
      ]
     },
     "execution_count": 21,
     "metadata": {},
     "output_type": "execute_result"
    }
   ],
   "source": [
    "# increase value of the standard deduction ($11,000 for individuals and $22,000 for joint filers,\n",
    "# following the Camp proposal)\n",
    "# elasticity: {'lower': -0.5, 'middle': -0.5, 'upper': -0.5}\n",
    "std_list[0]"
   ]
  },
  {
   "cell_type": "code",
   "execution_count": 22,
   "metadata": {
    "collapsed": false
   },
   "outputs": [
    {
     "data": {
      "text/html": [
       "<div>\n",
       "<table border=\"1\" class=\"dataframe\">\n",
       "  <thead>\n",
       "    <tr style=\"text-align: right;\">\n",
       "      <th></th>\n",
       "      <th>Number of Itemizers</th>\n",
       "      <th>Number of Non-Itemizers</th>\n",
       "      <th>Revenue</th>\n",
       "      <th>Total Giving</th>\n",
       "      <th>Total Giving: Itemizers</th>\n",
       "      <th>Total Giving: Non-Itemizers</th>\n",
       "    </tr>\n",
       "  </thead>\n",
       "  <tbody>\n",
       "    <tr>\n",
       "      <th>$0-50K</th>\n",
       "      <td>3.57</td>\n",
       "      <td>104.52</td>\n",
       "      <td>184714.26</td>\n",
       "      <td>55624.30</td>\n",
       "      <td>5597.96</td>\n",
       "      <td>50026.34</td>\n",
       "    </tr>\n",
       "    <tr>\n",
       "      <th>$50K-100K</th>\n",
       "      <td>8.11</td>\n",
       "      <td>24.29</td>\n",
       "      <td>453012.48</td>\n",
       "      <td>48952.55</td>\n",
       "      <td>21286.80</td>\n",
       "      <td>27665.76</td>\n",
       "    </tr>\n",
       "    <tr>\n",
       "      <th>$100K+</th>\n",
       "      <td>17.73</td>\n",
       "      <td>12.20</td>\n",
       "      <td>2091078.69</td>\n",
       "      <td>140300.51</td>\n",
       "      <td>118003.67</td>\n",
       "      <td>22296.84</td>\n",
       "    </tr>\n",
       "    <tr>\n",
       "      <th>All</th>\n",
       "      <td>29.41</td>\n",
       "      <td>141.01</td>\n",
       "      <td>2728805.43</td>\n",
       "      <td>244877.37</td>\n",
       "      <td>144888.43</td>\n",
       "      <td>99988.94</td>\n",
       "    </tr>\n",
       "  </tbody>\n",
       "</table>\n",
       "</div>"
      ],
      "text/plain": [
       "           Number of Itemizers  Number of Non-Itemizers     Revenue  \\\n",
       "$0-50K                    3.57                   104.52   184714.26   \n",
       "$50K-100K                 8.11                    24.29   453012.48   \n",
       "$100K+                   17.73                    12.20  2091078.69   \n",
       "All                      29.41                   141.01  2728805.43   \n",
       "\n",
       "           Total Giving  Total Giving: Itemizers  Total Giving: Non-Itemizers  \n",
       "$0-50K         55624.30                  5597.96                     50026.34  \n",
       "$50K-100K      48952.55                 21286.80                     27665.76  \n",
       "$100K+        140300.51                118003.67                     22296.84  \n",
       "All           244877.37                144888.43                     99988.94  "
      ]
     },
     "execution_count": 22,
     "metadata": {},
     "output_type": "execute_result"
    }
   ],
   "source": [
    "# increase value of the standard deduction ($11,000 for individuals and $22,000 for joint filers,\n",
    "# following the Camp proposal)\n",
    "# elasticity: {'lower': -1.0, 'middle': -1.0, 'upper': -1.0}\n",
    "std_list[1]"
   ]
  },
  {
   "cell_type": "code",
   "execution_count": 23,
   "metadata": {
    "collapsed": false,
    "scrolled": true
   },
   "outputs": [
    {
     "data": {
      "text/html": [
       "<div>\n",
       "<table border=\"1\" class=\"dataframe\">\n",
       "  <thead>\n",
       "    <tr style=\"text-align: right;\">\n",
       "      <th></th>\n",
       "      <th>Number of Itemizers</th>\n",
       "      <th>Number of Non-Itemizers</th>\n",
       "      <th>Revenue</th>\n",
       "      <th>Total Giving</th>\n",
       "      <th>Total Giving: Itemizers</th>\n",
       "      <th>Total Giving: Non-Itemizers</th>\n",
       "    </tr>\n",
       "  </thead>\n",
       "  <tbody>\n",
       "    <tr>\n",
       "      <th>$0-50K</th>\n",
       "      <td>3.57</td>\n",
       "      <td>104.52</td>\n",
       "      <td>184714.26</td>\n",
       "      <td>54315.74</td>\n",
       "      <td>5597.96</td>\n",
       "      <td>48717.78</td>\n",
       "    </tr>\n",
       "    <tr>\n",
       "      <th>$50K-100K</th>\n",
       "      <td>8.11</td>\n",
       "      <td>24.29</td>\n",
       "      <td>453012.48</td>\n",
       "      <td>45712.42</td>\n",
       "      <td>21286.80</td>\n",
       "      <td>24425.62</td>\n",
       "    </tr>\n",
       "    <tr>\n",
       "      <th>$100K+</th>\n",
       "      <td>17.73</td>\n",
       "      <td>12.20</td>\n",
       "      <td>2091078.69</td>\n",
       "      <td>135662.07</td>\n",
       "      <td>118003.67</td>\n",
       "      <td>17658.39</td>\n",
       "    </tr>\n",
       "    <tr>\n",
       "      <th>All</th>\n",
       "      <td>29.41</td>\n",
       "      <td>141.01</td>\n",
       "      <td>2728805.43</td>\n",
       "      <td>235690.23</td>\n",
       "      <td>144888.43</td>\n",
       "      <td>90801.80</td>\n",
       "    </tr>\n",
       "  </tbody>\n",
       "</table>\n",
       "</div>"
      ],
      "text/plain": [
       "           Number of Itemizers  Number of Non-Itemizers     Revenue  \\\n",
       "$0-50K                    3.57                   104.52   184714.26   \n",
       "$50K-100K                 8.11                    24.29   453012.48   \n",
       "$100K+                   17.73                    12.20  2091078.69   \n",
       "All                      29.41                   141.01  2728805.43   \n",
       "\n",
       "           Total Giving  Total Giving: Itemizers  Total Giving: Non-Itemizers  \n",
       "$0-50K         54315.74                  5597.96                     48717.78  \n",
       "$50K-100K      45712.42                 21286.80                     24425.62  \n",
       "$100K+        135662.07                118003.67                     17658.39  \n",
       "All           235690.23                144888.43                     90801.80  "
      ]
     },
     "execution_count": 23,
     "metadata": {},
     "output_type": "execute_result"
    }
   ],
   "source": [
    "# increase value of the standard deduction ($11,000 for individuals and $22,000 for joint filers,\n",
    "# following the Camp proposal)\n",
    "# elasticity: {'lower': -2.236, 'middle': -1.490, 'upper': -1.182}\n",
    "std_list[2]"
   ]
  },
  {
   "cell_type": "markdown",
   "metadata": {},
   "source": [
    "# ability for non-itemizers to itemize charitable deductions "
   ]
  },
  {
   "cell_type": "code",
   "execution_count": 24,
   "metadata": {
    "collapsed": false,
    "scrolled": true
   },
   "outputs": [
    {
     "data": {
      "text/html": [
       "<div>\n",
       "<table border=\"1\" class=\"dataframe\">\n",
       "  <thead>\n",
       "    <tr style=\"text-align: right;\">\n",
       "      <th></th>\n",
       "      <th>Number of Itemizers</th>\n",
       "      <th>Number of Non-Itemizers</th>\n",
       "      <th>Revenue</th>\n",
       "      <th>Total Giving</th>\n",
       "      <th>Total Giving: Itemizers</th>\n",
       "      <th>Total Giving: Non-Itemizers</th>\n",
       "    </tr>\n",
       "  </thead>\n",
       "  <tbody>\n",
       "    <tr>\n",
       "      <th>$0-50K</th>\n",
       "      <td>6.20</td>\n",
       "      <td>101.89</td>\n",
       "      <td>203486.26</td>\n",
       "      <td>56717.69</td>\n",
       "      <td>5333.49</td>\n",
       "      <td>51384.20</td>\n",
       "    </tr>\n",
       "    <tr>\n",
       "      <th>$50K-100K</th>\n",
       "      <td>11.87</td>\n",
       "      <td>20.53</td>\n",
       "      <td>473426.92</td>\n",
       "      <td>50498.43</td>\n",
       "      <td>19284.69</td>\n",
       "      <td>31213.75</td>\n",
       "    </tr>\n",
       "    <tr>\n",
       "      <th>$100K+</th>\n",
       "      <td>22.29</td>\n",
       "      <td>7.64</td>\n",
       "      <td>2104540.29</td>\n",
       "      <td>141428.53</td>\n",
       "      <td>114463.59</td>\n",
       "      <td>26964.95</td>\n",
       "    </tr>\n",
       "    <tr>\n",
       "      <th>All</th>\n",
       "      <td>40.35</td>\n",
       "      <td>130.07</td>\n",
       "      <td>2781453.47</td>\n",
       "      <td>248644.66</td>\n",
       "      <td>139081.77</td>\n",
       "      <td>109562.89</td>\n",
       "    </tr>\n",
       "  </tbody>\n",
       "</table>\n",
       "</div>"
      ],
      "text/plain": [
       "           Number of Itemizers  Number of Non-Itemizers     Revenue  \\\n",
       "$0-50K                    6.20                   101.89   203486.26   \n",
       "$50K-100K                11.87                    20.53   473426.92   \n",
       "$100K+                   22.29                     7.64  2104540.29   \n",
       "All                      40.35                   130.07  2781453.47   \n",
       "\n",
       "           Total Giving  Total Giving: Itemizers  Total Giving: Non-Itemizers  \n",
       "$0-50K         56717.69                  5333.49                     51384.20  \n",
       "$50K-100K      50498.43                 19284.69                     31213.75  \n",
       "$100K+        141428.53                114463.59                     26964.95  \n",
       "All           248644.66                139081.77                    109562.89  "
      ]
     },
     "execution_count": 24,
     "metadata": {},
     "output_type": "execute_result"
    }
   ],
   "source": [
    "# ability for non-itemizers to itemize charitable deductions \n",
    "# elasticity: {'lower': -0.5, 'middle': -0.5, 'upper': -0.5}\n",
    "charitable_list[0]"
   ]
  },
  {
   "cell_type": "code",
   "execution_count": 25,
   "metadata": {
    "collapsed": false
   },
   "outputs": [
    {
     "data": {
      "text/html": [
       "<div>\n",
       "<table border=\"1\" class=\"dataframe\">\n",
       "  <thead>\n",
       "    <tr style=\"text-align: right;\">\n",
       "      <th></th>\n",
       "      <th>Number of Itemizers</th>\n",
       "      <th>Number of Non-Itemizers</th>\n",
       "      <th>Revenue</th>\n",
       "      <th>Total Giving</th>\n",
       "      <th>Total Giving: Itemizers</th>\n",
       "      <th>Total Giving: Non-Itemizers</th>\n",
       "    </tr>\n",
       "  </thead>\n",
       "  <tbody>\n",
       "    <tr>\n",
       "      <th>$0-50K</th>\n",
       "      <td>6.20</td>\n",
       "      <td>101.89</td>\n",
       "      <td>203634.24</td>\n",
       "      <td>55624.30</td>\n",
       "      <td>5333.49</td>\n",
       "      <td>50290.81</td>\n",
       "    </tr>\n",
       "    <tr>\n",
       "      <th>$50K-100K</th>\n",
       "      <td>11.87</td>\n",
       "      <td>20.53</td>\n",
       "      <td>473747.78</td>\n",
       "      <td>48952.55</td>\n",
       "      <td>19284.69</td>\n",
       "      <td>29667.87</td>\n",
       "    </tr>\n",
       "    <tr>\n",
       "      <th>$100K+</th>\n",
       "      <td>22.29</td>\n",
       "      <td>7.64</td>\n",
       "      <td>2104892.58</td>\n",
       "      <td>140300.51</td>\n",
       "      <td>114463.59</td>\n",
       "      <td>25836.92</td>\n",
       "    </tr>\n",
       "    <tr>\n",
       "      <th>All</th>\n",
       "      <td>40.35</td>\n",
       "      <td>130.07</td>\n",
       "      <td>2782274.60</td>\n",
       "      <td>244877.37</td>\n",
       "      <td>139081.77</td>\n",
       "      <td>105795.60</td>\n",
       "    </tr>\n",
       "  </tbody>\n",
       "</table>\n",
       "</div>"
      ],
      "text/plain": [
       "           Number of Itemizers  Number of Non-Itemizers     Revenue  \\\n",
       "$0-50K                    6.20                   101.89   203634.24   \n",
       "$50K-100K                11.87                    20.53   473747.78   \n",
       "$100K+                   22.29                     7.64  2104892.58   \n",
       "All                      40.35                   130.07  2782274.60   \n",
       "\n",
       "           Total Giving  Total Giving: Itemizers  Total Giving: Non-Itemizers  \n",
       "$0-50K         55624.30                  5333.49                     50290.81  \n",
       "$50K-100K      48952.55                 19284.69                     29667.87  \n",
       "$100K+        140300.51                114463.59                     25836.92  \n",
       "All           244877.37                139081.77                    105795.60  "
      ]
     },
     "execution_count": 25,
     "metadata": {},
     "output_type": "execute_result"
    }
   ],
   "source": [
    "# ability for non-itemizers to itemize charitable deductions\n",
    "# elasticity: {'lower': -1.0, 'middle': -1.0, 'upper': -1.0}\n",
    "charitable_list[1]"
   ]
  },
  {
   "cell_type": "code",
   "execution_count": 26,
   "metadata": {
    "collapsed": false
   },
   "outputs": [
    {
     "data": {
      "text/html": [
       "<div>\n",
       "<table border=\"1\" class=\"dataframe\">\n",
       "  <thead>\n",
       "    <tr style=\"text-align: right;\">\n",
       "      <th></th>\n",
       "      <th>Number of Itemizers</th>\n",
       "      <th>Number of Non-Itemizers</th>\n",
       "      <th>Revenue</th>\n",
       "      <th>Total Giving</th>\n",
       "      <th>Total Giving: Itemizers</th>\n",
       "      <th>Total Giving: Non-Itemizers</th>\n",
       "    </tr>\n",
       "  </thead>\n",
       "  <tbody>\n",
       "    <tr>\n",
       "      <th>$0-50K</th>\n",
       "      <td>6.20</td>\n",
       "      <td>101.89</td>\n",
       "      <td>202977.64</td>\n",
       "      <td>60513.92</td>\n",
       "      <td>5333.49</td>\n",
       "      <td>55180.43</td>\n",
       "    </tr>\n",
       "    <tr>\n",
       "      <th>$50K-100K</th>\n",
       "      <td>11.87</td>\n",
       "      <td>20.53</td>\n",
       "      <td>472798.57</td>\n",
       "      <td>53559.28</td>\n",
       "      <td>19284.69</td>\n",
       "      <td>34274.59</td>\n",
       "    </tr>\n",
       "    <tr>\n",
       "      <th>$100K+</th>\n",
       "      <td>22.29</td>\n",
       "      <td>7.64</td>\n",
       "      <td>2104116.83</td>\n",
       "      <td>142967.16</td>\n",
       "      <td>114463.59</td>\n",
       "      <td>28503.57</td>\n",
       "    </tr>\n",
       "    <tr>\n",
       "      <th>All</th>\n",
       "      <td>40.35</td>\n",
       "      <td>130.07</td>\n",
       "      <td>2779893.04</td>\n",
       "      <td>257040.36</td>\n",
       "      <td>139081.77</td>\n",
       "      <td>117958.59</td>\n",
       "    </tr>\n",
       "  </tbody>\n",
       "</table>\n",
       "</div>"
      ],
      "text/plain": [
       "           Number of Itemizers  Number of Non-Itemizers     Revenue  \\\n",
       "$0-50K                    6.20                   101.89   202977.64   \n",
       "$50K-100K                11.87                    20.53   472798.57   \n",
       "$100K+                   22.29                     7.64  2104116.83   \n",
       "All                      40.35                   130.07  2779893.04   \n",
       "\n",
       "           Total Giving  Total Giving: Itemizers  Total Giving: Non-Itemizers  \n",
       "$0-50K         60513.92                  5333.49                     55180.43  \n",
       "$50K-100K      53559.28                 19284.69                     34274.59  \n",
       "$100K+        142967.16                114463.59                     28503.57  \n",
       "All           257040.36                139081.77                    117958.59  "
      ]
     },
     "execution_count": 26,
     "metadata": {},
     "output_type": "execute_result"
    }
   ],
   "source": [
    "# ability for non-itemizers to itemize charitable deductions\n",
    "# elasticity: {'lower': -2.236, 'middle': -1.490, 'upper': -1.182}\n",
    "charitable_list[2]"
   ]
  },
  {
   "cell_type": "markdown",
   "metadata": {},
   "source": [
    "# decrease of the highest marginal tax rate to 35% # Lower MTR Results"
   ]
  },
  {
   "cell_type": "code",
   "execution_count": 27,
   "metadata": {
    "collapsed": false
   },
   "outputs": [
    {
     "data": {
      "text/html": [
       "<div>\n",
       "<table border=\"1\" class=\"dataframe\">\n",
       "  <thead>\n",
       "    <tr style=\"text-align: right;\">\n",
       "      <th></th>\n",
       "      <th>Number of Itemizers</th>\n",
       "      <th>Number of Non-Itemizers</th>\n",
       "      <th>Revenue</th>\n",
       "      <th>Total Giving</th>\n",
       "      <th>Total Giving: Itemizers</th>\n",
       "      <th>Total Giving: Non-Itemizers</th>\n",
       "    </tr>\n",
       "  </thead>\n",
       "  <tbody>\n",
       "    <tr>\n",
       "      <th>$0-50K</th>\n",
       "      <td>7.45</td>\n",
       "      <td>100.64</td>\n",
       "      <td>206210.44</td>\n",
       "      <td>55624.30</td>\n",
       "      <td>10646.29</td>\n",
       "      <td>44978.01</td>\n",
       "    </tr>\n",
       "    <tr>\n",
       "      <th>$50K-100K</th>\n",
       "      <td>13.99</td>\n",
       "      <td>18.41</td>\n",
       "      <td>477849.84</td>\n",
       "      <td>48952.55</td>\n",
       "      <td>31849.59</td>\n",
       "      <td>17102.97</td>\n",
       "    </tr>\n",
       "    <tr>\n",
       "      <th>$100K+</th>\n",
       "      <td>23.85</td>\n",
       "      <td>6.08</td>\n",
       "      <td>2084483.73</td>\n",
       "      <td>139562.00</td>\n",
       "      <td>129209.21</td>\n",
       "      <td>10352.79</td>\n",
       "    </tr>\n",
       "    <tr>\n",
       "      <th>All</th>\n",
       "      <td>45.29</td>\n",
       "      <td>125.13</td>\n",
       "      <td>2768544.01</td>\n",
       "      <td>244138.85</td>\n",
       "      <td>171705.08</td>\n",
       "      <td>72433.77</td>\n",
       "    </tr>\n",
       "  </tbody>\n",
       "</table>\n",
       "</div>"
      ],
      "text/plain": [
       "           Number of Itemizers  Number of Non-Itemizers     Revenue  \\\n",
       "$0-50K                    7.45                   100.64   206210.44   \n",
       "$50K-100K                13.99                    18.41   477849.84   \n",
       "$100K+                   23.85                     6.08  2084483.73   \n",
       "All                      45.29                   125.13  2768544.01   \n",
       "\n",
       "           Total Giving  Total Giving: Itemizers  Total Giving: Non-Itemizers  \n",
       "$0-50K         55624.30                 10646.29                     44978.01  \n",
       "$50K-100K      48952.55                 31849.59                     17102.97  \n",
       "$100K+        139562.00                129209.21                     10352.79  \n",
       "All           244138.85                171705.08                     72433.77  "
      ]
     },
     "execution_count": 27,
     "metadata": {},
     "output_type": "execute_result"
    }
   ],
   "source": [
    "# decrease of the highest marginal tax rate to 35% \n",
    "# elasticity: {'lower': -0.5, 'middle': -0.5, 'upper': -0.5}\n",
    "lower_mtr_list[0]"
   ]
  },
  {
   "cell_type": "code",
   "execution_count": 28,
   "metadata": {
    "collapsed": false
   },
   "outputs": [
    {
     "data": {
      "text/html": [
       "<div>\n",
       "<table border=\"1\" class=\"dataframe\">\n",
       "  <thead>\n",
       "    <tr style=\"text-align: right;\">\n",
       "      <th></th>\n",
       "      <th>Number of Itemizers</th>\n",
       "      <th>Number of Non-Itemizers</th>\n",
       "      <th>Revenue</th>\n",
       "      <th>Total Giving</th>\n",
       "      <th>Total Giving: Itemizers</th>\n",
       "      <th>Total Giving: Non-Itemizers</th>\n",
       "    </tr>\n",
       "  </thead>\n",
       "  <tbody>\n",
       "    <tr>\n",
       "      <th>$0-50K</th>\n",
       "      <td>7.45</td>\n",
       "      <td>100.64</td>\n",
       "      <td>206210.44</td>\n",
       "      <td>55624.30</td>\n",
       "      <td>10646.29</td>\n",
       "      <td>44978.01</td>\n",
       "    </tr>\n",
       "    <tr>\n",
       "      <th>$50K-100K</th>\n",
       "      <td>13.99</td>\n",
       "      <td>18.41</td>\n",
       "      <td>477849.84</td>\n",
       "      <td>48952.55</td>\n",
       "      <td>31849.59</td>\n",
       "      <td>17102.97</td>\n",
       "    </tr>\n",
       "    <tr>\n",
       "      <th>$100K+</th>\n",
       "      <td>23.85</td>\n",
       "      <td>6.08</td>\n",
       "      <td>2084180.59</td>\n",
       "      <td>140300.51</td>\n",
       "      <td>129953.67</td>\n",
       "      <td>10346.84</td>\n",
       "    </tr>\n",
       "    <tr>\n",
       "      <th>All</th>\n",
       "      <td>45.29</td>\n",
       "      <td>125.13</td>\n",
       "      <td>2768240.87</td>\n",
       "      <td>244877.37</td>\n",
       "      <td>172449.55</td>\n",
       "      <td>72427.82</td>\n",
       "    </tr>\n",
       "  </tbody>\n",
       "</table>\n",
       "</div>"
      ],
      "text/plain": [
       "           Number of Itemizers  Number of Non-Itemizers     Revenue  \\\n",
       "$0-50K                    7.45                   100.64   206210.44   \n",
       "$50K-100K                13.99                    18.41   477849.84   \n",
       "$100K+                   23.85                     6.08  2084180.59   \n",
       "All                      45.29                   125.13  2768240.87   \n",
       "\n",
       "           Total Giving  Total Giving: Itemizers  Total Giving: Non-Itemizers  \n",
       "$0-50K         55624.30                 10646.29                     44978.01  \n",
       "$50K-100K      48952.55                 31849.59                     17102.97  \n",
       "$100K+        140300.51                129953.67                     10346.84  \n",
       "All           244877.37                172449.55                     72427.82  "
      ]
     },
     "execution_count": 28,
     "metadata": {},
     "output_type": "execute_result"
    }
   ],
   "source": [
    "# decrease of the highest marginal tax rate to 35% \n",
    "# elasticity: {'lower': -1.0, 'middle': -1.0, 'upper': -1.0}\n",
    "lower_mtr_list[1]"
   ]
  },
  {
   "cell_type": "code",
   "execution_count": 29,
   "metadata": {
    "collapsed": false
   },
   "outputs": [
    {
     "data": {
      "text/html": [
       "<div>\n",
       "<table border=\"1\" class=\"dataframe\">\n",
       "  <thead>\n",
       "    <tr style=\"text-align: right;\">\n",
       "      <th></th>\n",
       "      <th>Number of Itemizers</th>\n",
       "      <th>Number of Non-Itemizers</th>\n",
       "      <th>Revenue</th>\n",
       "      <th>Total Giving</th>\n",
       "      <th>Total Giving: Itemizers</th>\n",
       "      <th>Total Giving: Non-Itemizers</th>\n",
       "    </tr>\n",
       "  </thead>\n",
       "  <tbody>\n",
       "    <tr>\n",
       "      <th>$0-50K</th>\n",
       "      <td>7.45</td>\n",
       "      <td>100.64</td>\n",
       "      <td>206210.44</td>\n",
       "      <td>55624.30</td>\n",
       "      <td>10646.29</td>\n",
       "      <td>44978.01</td>\n",
       "    </tr>\n",
       "    <tr>\n",
       "      <th>$50K-100K</th>\n",
       "      <td>13.99</td>\n",
       "      <td>18.41</td>\n",
       "      <td>477849.84</td>\n",
       "      <td>48952.55</td>\n",
       "      <td>31849.59</td>\n",
       "      <td>17102.97</td>\n",
       "    </tr>\n",
       "    <tr>\n",
       "      <th>$100K+</th>\n",
       "      <td>23.85</td>\n",
       "      <td>6.08</td>\n",
       "      <td>2084897.78</td>\n",
       "      <td>138554.66</td>\n",
       "      <td>128194.21</td>\n",
       "      <td>10360.45</td>\n",
       "    </tr>\n",
       "    <tr>\n",
       "      <th>All</th>\n",
       "      <td>45.29</td>\n",
       "      <td>125.13</td>\n",
       "      <td>2768958.06</td>\n",
       "      <td>243131.52</td>\n",
       "      <td>170690.09</td>\n",
       "      <td>72441.43</td>\n",
       "    </tr>\n",
       "  </tbody>\n",
       "</table>\n",
       "</div>"
      ],
      "text/plain": [
       "           Number of Itemizers  Number of Non-Itemizers     Revenue  \\\n",
       "$0-50K                    7.45                   100.64   206210.44   \n",
       "$50K-100K                13.99                    18.41   477849.84   \n",
       "$100K+                   23.85                     6.08  2084897.78   \n",
       "All                      45.29                   125.13  2768958.06   \n",
       "\n",
       "           Total Giving  Total Giving: Itemizers  Total Giving: Non-Itemizers  \n",
       "$0-50K         55624.30                 10646.29                     44978.01  \n",
       "$50K-100K      48952.55                 31849.59                     17102.97  \n",
       "$100K+        138554.66                128194.21                     10360.45  \n",
       "All           243131.52                170690.09                     72441.43  "
      ]
     },
     "execution_count": 29,
     "metadata": {},
     "output_type": "execute_result"
    }
   ],
   "source": [
    "# decrease of the highest marginal tax rate to 35% \n",
    "# elasticity: {'lower': -2.236, 'middle': -1.490, 'upper': -1.182}\n",
    "lower_mtr_list[2]"
   ]
  },
  {
   "cell_type": "markdown",
   "metadata": {},
   "source": [
    "# standard deduction change and the marginal rate decrease"
   ]
  },
  {
   "cell_type": "code",
   "execution_count": 30,
   "metadata": {
    "collapsed": false,
    "scrolled": true
   },
   "outputs": [
    {
     "data": {
      "text/html": [
       "<div>\n",
       "<table border=\"1\" class=\"dataframe\">\n",
       "  <thead>\n",
       "    <tr style=\"text-align: right;\">\n",
       "      <th></th>\n",
       "      <th>Number of Itemizers</th>\n",
       "      <th>Number of Non-Itemizers</th>\n",
       "      <th>Revenue</th>\n",
       "      <th>Total Giving</th>\n",
       "      <th>Total Giving: Itemizers</th>\n",
       "      <th>Total Giving: Non-Itemizers</th>\n",
       "    </tr>\n",
       "  </thead>\n",
       "  <tbody>\n",
       "    <tr>\n",
       "      <th>$0-50K</th>\n",
       "      <td>3.57</td>\n",
       "      <td>104.52</td>\n",
       "      <td>184714.26</td>\n",
       "      <td>55331.69</td>\n",
       "      <td>5597.96</td>\n",
       "      <td>49733.73</td>\n",
       "    </tr>\n",
       "    <tr>\n",
       "      <th>$50K-100K</th>\n",
       "      <td>8.11</td>\n",
       "      <td>24.29</td>\n",
       "      <td>453012.48</td>\n",
       "      <td>47865.26</td>\n",
       "      <td>21286.80</td>\n",
       "      <td>26578.46</td>\n",
       "    </tr>\n",
       "    <tr>\n",
       "      <th>$100K+</th>\n",
       "      <td>17.74</td>\n",
       "      <td>12.19</td>\n",
       "      <td>2066646.04</td>\n",
       "      <td>137605.81</td>\n",
       "      <td>117271.46</td>\n",
       "      <td>20334.35</td>\n",
       "    </tr>\n",
       "    <tr>\n",
       "      <th>All</th>\n",
       "      <td>29.41</td>\n",
       "      <td>141.00</td>\n",
       "      <td>2704372.78</td>\n",
       "      <td>240802.76</td>\n",
       "      <td>144156.21</td>\n",
       "      <td>96646.55</td>\n",
       "    </tr>\n",
       "  </tbody>\n",
       "</table>\n",
       "</div>"
      ],
      "text/plain": [
       "           Number of Itemizers  Number of Non-Itemizers     Revenue  \\\n",
       "$0-50K                    3.57                   104.52   184714.26   \n",
       "$50K-100K                 8.11                    24.29   453012.48   \n",
       "$100K+                   17.74                    12.19  2066646.04   \n",
       "All                      29.41                   141.00  2704372.78   \n",
       "\n",
       "           Total Giving  Total Giving: Itemizers  Total Giving: Non-Itemizers  \n",
       "$0-50K         55331.69                  5597.96                     49733.73  \n",
       "$50K-100K      47865.26                 21286.80                     26578.46  \n",
       "$100K+        137605.81                117271.46                     20334.35  \n",
       "All           240802.76                144156.21                     96646.55  "
      ]
     },
     "execution_count": 30,
     "metadata": {},
     "output_type": "execute_result"
    }
   ],
   "source": [
    "# standard deduction change and the marginal rate decrease\n",
    "# elasticity: {'lower': -0.5, 'middle': -0.5, 'upper': -0.5}\n",
    "std_mtr_list[0]"
   ]
  },
  {
   "cell_type": "code",
   "execution_count": 31,
   "metadata": {
    "collapsed": false
   },
   "outputs": [
    {
     "data": {
      "text/html": [
       "<div>\n",
       "<table border=\"1\" class=\"dataframe\">\n",
       "  <thead>\n",
       "    <tr style=\"text-align: right;\">\n",
       "      <th></th>\n",
       "      <th>Number of Itemizers</th>\n",
       "      <th>Number of Non-Itemizers</th>\n",
       "      <th>Revenue</th>\n",
       "      <th>Total Giving</th>\n",
       "      <th>Total Giving: Itemizers</th>\n",
       "      <th>Total Giving: Non-Itemizers</th>\n",
       "    </tr>\n",
       "  </thead>\n",
       "  <tbody>\n",
       "    <tr>\n",
       "      <th>$0-50K</th>\n",
       "      <td>3.57</td>\n",
       "      <td>104.52</td>\n",
       "      <td>184714.26</td>\n",
       "      <td>55624.30</td>\n",
       "      <td>5597.96</td>\n",
       "      <td>50026.34</td>\n",
       "    </tr>\n",
       "    <tr>\n",
       "      <th>$50K-100K</th>\n",
       "      <td>8.11</td>\n",
       "      <td>24.29</td>\n",
       "      <td>453012.48</td>\n",
       "      <td>48952.55</td>\n",
       "      <td>21286.80</td>\n",
       "      <td>27665.76</td>\n",
       "    </tr>\n",
       "    <tr>\n",
       "      <th>$100K+</th>\n",
       "      <td>17.74</td>\n",
       "      <td>12.19</td>\n",
       "      <td>2066344.85</td>\n",
       "      <td>140300.51</td>\n",
       "      <td>118019.07</td>\n",
       "      <td>22281.44</td>\n",
       "    </tr>\n",
       "    <tr>\n",
       "      <th>All</th>\n",
       "      <td>29.42</td>\n",
       "      <td>141.00</td>\n",
       "      <td>2704071.59</td>\n",
       "      <td>244877.37</td>\n",
       "      <td>144903.83</td>\n",
       "      <td>99973.54</td>\n",
       "    </tr>\n",
       "  </tbody>\n",
       "</table>\n",
       "</div>"
      ],
      "text/plain": [
       "           Number of Itemizers  Number of Non-Itemizers     Revenue  \\\n",
       "$0-50K                    3.57                   104.52   184714.26   \n",
       "$50K-100K                 8.11                    24.29   453012.48   \n",
       "$100K+                   17.74                    12.19  2066344.85   \n",
       "All                      29.42                   141.00  2704071.59   \n",
       "\n",
       "           Total Giving  Total Giving: Itemizers  Total Giving: Non-Itemizers  \n",
       "$0-50K         55624.30                  5597.96                     50026.34  \n",
       "$50K-100K      48952.55                 21286.80                     27665.76  \n",
       "$100K+        140300.51                118019.07                     22281.44  \n",
       "All           244877.37                144903.83                     99973.54  "
      ]
     },
     "execution_count": 31,
     "metadata": {},
     "output_type": "execute_result"
    }
   ],
   "source": [
    "# standard deduction change and the marginal rate decrease\n",
    "# elasticity: {'lower': -1.0, 'middle': -1.0, 'upper': -1.0}\n",
    "std_mtr_list[1]"
   ]
  },
  {
   "cell_type": "code",
   "execution_count": 32,
   "metadata": {
    "collapsed": false
   },
   "outputs": [
    {
     "data": {
      "text/html": [
       "<div>\n",
       "<table border=\"1\" class=\"dataframe\">\n",
       "  <thead>\n",
       "    <tr style=\"text-align: right;\">\n",
       "      <th></th>\n",
       "      <th>Number of Itemizers</th>\n",
       "      <th>Number of Non-Itemizers</th>\n",
       "      <th>Revenue</th>\n",
       "      <th>Total Giving</th>\n",
       "      <th>Total Giving: Itemizers</th>\n",
       "      <th>Total Giving: Non-Itemizers</th>\n",
       "    </tr>\n",
       "  </thead>\n",
       "  <tbody>\n",
       "    <tr>\n",
       "      <th>$0-50K</th>\n",
       "      <td>3.57</td>\n",
       "      <td>104.52</td>\n",
       "      <td>184714.26</td>\n",
       "      <td>54315.74</td>\n",
       "      <td>5597.96</td>\n",
       "      <td>48717.78</td>\n",
       "    </tr>\n",
       "    <tr>\n",
       "      <th>$50K-100K</th>\n",
       "      <td>8.11</td>\n",
       "      <td>24.29</td>\n",
       "      <td>453012.48</td>\n",
       "      <td>45712.42</td>\n",
       "      <td>21286.80</td>\n",
       "      <td>24425.62</td>\n",
       "    </tr>\n",
       "    <tr>\n",
       "      <th>$100K+</th>\n",
       "      <td>17.74</td>\n",
       "      <td>12.19</td>\n",
       "      <td>2067057.13</td>\n",
       "      <td>133930.24</td>\n",
       "      <td>116246.40</td>\n",
       "      <td>17683.84</td>\n",
       "    </tr>\n",
       "    <tr>\n",
       "      <th>All</th>\n",
       "      <td>29.41</td>\n",
       "      <td>141.01</td>\n",
       "      <td>2704783.87</td>\n",
       "      <td>233958.40</td>\n",
       "      <td>143131.16</td>\n",
       "      <td>90827.25</td>\n",
       "    </tr>\n",
       "  </tbody>\n",
       "</table>\n",
       "</div>"
      ],
      "text/plain": [
       "           Number of Itemizers  Number of Non-Itemizers     Revenue  \\\n",
       "$0-50K                    3.57                   104.52   184714.26   \n",
       "$50K-100K                 8.11                    24.29   453012.48   \n",
       "$100K+                   17.74                    12.19  2067057.13   \n",
       "All                      29.41                   141.01  2704783.87   \n",
       "\n",
       "           Total Giving  Total Giving: Itemizers  Total Giving: Non-Itemizers  \n",
       "$0-50K         54315.74                  5597.96                     48717.78  \n",
       "$50K-100K      45712.42                 21286.80                     24425.62  \n",
       "$100K+        133930.24                116246.40                     17683.84  \n",
       "All           233958.40                143131.16                     90827.25  "
      ]
     },
     "execution_count": 32,
     "metadata": {},
     "output_type": "execute_result"
    }
   ],
   "source": [
    "# standard deduction change and the marginal rate decrease\n",
    "# elasticity: {'lower': -2.236, 'middle': -1.490, 'upper': -1.182}\n",
    "std_mtr_list[2]"
   ]
  },
  {
   "cell_type": "markdown",
   "metadata": {},
   "source": [
    "# standard deduction change AND the non-itemizer deduction change"
   ]
  },
  {
   "cell_type": "code",
   "execution_count": 33,
   "metadata": {
    "collapsed": false,
    "scrolled": true
   },
   "outputs": [
    {
     "data": {
      "text/html": [
       "<div>\n",
       "<table border=\"1\" class=\"dataframe\">\n",
       "  <thead>\n",
       "    <tr style=\"text-align: right;\">\n",
       "      <th></th>\n",
       "      <th>Number of Itemizers</th>\n",
       "      <th>Number of Non-Itemizers</th>\n",
       "      <th>Revenue</th>\n",
       "      <th>Total Giving</th>\n",
       "      <th>Total Giving: Itemizers</th>\n",
       "      <th>Total Giving: Non-Itemizers</th>\n",
       "    </tr>\n",
       "  </thead>\n",
       "  <tbody>\n",
       "    <tr>\n",
       "      <th>$0-50K</th>\n",
       "      <td>2.79</td>\n",
       "      <td>105.30</td>\n",
       "      <td>182216.23</td>\n",
       "      <td>56327.77</td>\n",
       "      <td>2135.44</td>\n",
       "      <td>54192.33</td>\n",
       "    </tr>\n",
       "    <tr>\n",
       "      <th>$50K-100K</th>\n",
       "      <td>6.43</td>\n",
       "      <td>25.97</td>\n",
       "      <td>446558.06</td>\n",
       "      <td>50304.78</td>\n",
       "      <td>10525.83</td>\n",
       "      <td>39778.94</td>\n",
       "    </tr>\n",
       "    <tr>\n",
       "      <th>$100K+</th>\n",
       "      <td>15.70</td>\n",
       "      <td>14.23</td>\n",
       "      <td>2083103.27</td>\n",
       "      <td>140364.01</td>\n",
       "      <td>99556.59</td>\n",
       "      <td>40807.42</td>\n",
       "    </tr>\n",
       "    <tr>\n",
       "      <th>All</th>\n",
       "      <td>24.92</td>\n",
       "      <td>145.50</td>\n",
       "      <td>2711877.55</td>\n",
       "      <td>246996.56</td>\n",
       "      <td>112217.87</td>\n",
       "      <td>134778.70</td>\n",
       "    </tr>\n",
       "  </tbody>\n",
       "</table>\n",
       "</div>"
      ],
      "text/plain": [
       "           Number of Itemizers  Number of Non-Itemizers     Revenue  \\\n",
       "$0-50K                    2.79                   105.30   182216.23   \n",
       "$50K-100K                 6.43                    25.97   446558.06   \n",
       "$100K+                   15.70                    14.23  2083103.27   \n",
       "All                      24.92                   145.50  2711877.55   \n",
       "\n",
       "           Total Giving  Total Giving: Itemizers  Total Giving: Non-Itemizers  \n",
       "$0-50K         56327.77                  2135.44                     54192.33  \n",
       "$50K-100K      50304.78                 10525.83                     39778.94  \n",
       "$100K+        140364.01                 99556.59                     40807.42  \n",
       "All           246996.56                112217.87                    134778.70  "
      ]
     },
     "execution_count": 33,
     "metadata": {},
     "output_type": "execute_result"
    }
   ],
   "source": [
    "# standard deduction change AND the non-itemizer deduction change\n",
    "# elasticity: {'lower': -0.5, 'middle': -0.5, 'upper': -0.5}\n",
    "std_charitable_list[0]"
   ]
  },
  {
   "cell_type": "code",
   "execution_count": 34,
   "metadata": {
    "collapsed": false
   },
   "outputs": [
    {
     "data": {
      "text/html": [
       "<div>\n",
       "<table border=\"1\" class=\"dataframe\">\n",
       "  <thead>\n",
       "    <tr style=\"text-align: right;\">\n",
       "      <th></th>\n",
       "      <th>Number of Itemizers</th>\n",
       "      <th>Number of Non-Itemizers</th>\n",
       "      <th>Revenue</th>\n",
       "      <th>Total Giving</th>\n",
       "      <th>Total Giving: Itemizers</th>\n",
       "      <th>Total Giving: Non-Itemizers</th>\n",
       "    </tr>\n",
       "  </thead>\n",
       "  <tbody>\n",
       "    <tr>\n",
       "      <th>$0-50K</th>\n",
       "      <td>2.79</td>\n",
       "      <td>105.30</td>\n",
       "      <td>182321.55</td>\n",
       "      <td>55624.30</td>\n",
       "      <td>2135.44</td>\n",
       "      <td>53488.86</td>\n",
       "    </tr>\n",
       "    <tr>\n",
       "      <th>$50K-100K</th>\n",
       "      <td>6.43</td>\n",
       "      <td>25.97</td>\n",
       "      <td>446844.28</td>\n",
       "      <td>48952.55</td>\n",
       "      <td>10525.83</td>\n",
       "      <td>38426.72</td>\n",
       "    </tr>\n",
       "    <tr>\n",
       "      <th>$100K+</th>\n",
       "      <td>15.70</td>\n",
       "      <td>14.23</td>\n",
       "      <td>2083338.18</td>\n",
       "      <td>140300.51</td>\n",
       "      <td>99556.59</td>\n",
       "      <td>40743.92</td>\n",
       "    </tr>\n",
       "    <tr>\n",
       "      <th>All</th>\n",
       "      <td>24.92</td>\n",
       "      <td>145.50</td>\n",
       "      <td>2712504.01</td>\n",
       "      <td>244877.37</td>\n",
       "      <td>112217.87</td>\n",
       "      <td>132659.50</td>\n",
       "    </tr>\n",
       "  </tbody>\n",
       "</table>\n",
       "</div>"
      ],
      "text/plain": [
       "           Number of Itemizers  Number of Non-Itemizers     Revenue  \\\n",
       "$0-50K                    2.79                   105.30   182321.55   \n",
       "$50K-100K                 6.43                    25.97   446844.28   \n",
       "$100K+                   15.70                    14.23  2083338.18   \n",
       "All                      24.92                   145.50  2712504.01   \n",
       "\n",
       "           Total Giving  Total Giving: Itemizers  Total Giving: Non-Itemizers  \n",
       "$0-50K         55624.30                  2135.44                     53488.86  \n",
       "$50K-100K      48952.55                 10525.83                     38426.72  \n",
       "$100K+        140300.51                 99556.59                     40743.92  \n",
       "All           244877.37                112217.87                    132659.50  "
      ]
     },
     "execution_count": 34,
     "metadata": {},
     "output_type": "execute_result"
    }
   ],
   "source": [
    "# standard deduction change AND the non-itemizer deduction change\n",
    "# elasticity: {'lower': -1.0, 'middle': -1.0, 'upper': -1.0}\n",
    "std_charitable_list[1]"
   ]
  },
  {
   "cell_type": "code",
   "execution_count": 35,
   "metadata": {
    "collapsed": false
   },
   "outputs": [
    {
     "data": {
      "text/html": [
       "<div>\n",
       "<table border=\"1\" class=\"dataframe\">\n",
       "  <thead>\n",
       "    <tr style=\"text-align: right;\">\n",
       "      <th></th>\n",
       "      <th>Number of Itemizers</th>\n",
       "      <th>Number of Non-Itemizers</th>\n",
       "      <th>Revenue</th>\n",
       "      <th>Total Giving</th>\n",
       "      <th>Total Giving: Itemizers</th>\n",
       "      <th>Total Giving: Non-Itemizers</th>\n",
       "    </tr>\n",
       "  </thead>\n",
       "  <tbody>\n",
       "    <tr>\n",
       "      <th>$0-50K</th>\n",
       "      <td>2.79</td>\n",
       "      <td>105.30</td>\n",
       "      <td>181856.94</td>\n",
       "      <td>58770.23</td>\n",
       "      <td>2135.44</td>\n",
       "      <td>56634.79</td>\n",
       "    </tr>\n",
       "    <tr>\n",
       "      <th>$50K-100K</th>\n",
       "      <td>6.43</td>\n",
       "      <td>25.97</td>\n",
       "      <td>446002.06</td>\n",
       "      <td>52982.18</td>\n",
       "      <td>10525.83</td>\n",
       "      <td>42456.35</td>\n",
       "    </tr>\n",
       "    <tr>\n",
       "      <th>$100K+</th>\n",
       "      <td>15.70</td>\n",
       "      <td>14.23</td>\n",
       "      <td>2082922.06</td>\n",
       "      <td>140450.63</td>\n",
       "      <td>99556.59</td>\n",
       "      <td>40894.04</td>\n",
       "    </tr>\n",
       "    <tr>\n",
       "      <th>All</th>\n",
       "      <td>24.92</td>\n",
       "      <td>145.50</td>\n",
       "      <td>2710781.06</td>\n",
       "      <td>252203.04</td>\n",
       "      <td>112217.87</td>\n",
       "      <td>139985.17</td>\n",
       "    </tr>\n",
       "  </tbody>\n",
       "</table>\n",
       "</div>"
      ],
      "text/plain": [
       "           Number of Itemizers  Number of Non-Itemizers     Revenue  \\\n",
       "$0-50K                    2.79                   105.30   181856.94   \n",
       "$50K-100K                 6.43                    25.97   446002.06   \n",
       "$100K+                   15.70                    14.23  2082922.06   \n",
       "All                      24.92                   145.50  2710781.06   \n",
       "\n",
       "           Total Giving  Total Giving: Itemizers  Total Giving: Non-Itemizers  \n",
       "$0-50K         58770.23                  2135.44                     56634.79  \n",
       "$50K-100K      52982.18                 10525.83                     42456.35  \n",
       "$100K+        140450.63                 99556.59                     40894.04  \n",
       "All           252203.04                112217.87                    139985.17  "
      ]
     },
     "execution_count": 35,
     "metadata": {},
     "output_type": "execute_result"
    }
   ],
   "source": [
    "# standard deduction change AND the non-itemizer deduction change\n",
    "# elasticity: {'lower': -2.236, 'middle': -1.490, 'upper': -1.182}\n",
    "std_charitable_list[2]"
   ]
  },
  {
   "cell_type": "markdown",
   "metadata": {},
   "source": [
    "# all three changes (standard deduction increase, non-itemizer deductions, and marginal tax rate decrease)"
   ]
  },
  {
   "cell_type": "code",
   "execution_count": 36,
   "metadata": {
    "collapsed": false
   },
   "outputs": [
    {
     "data": {
      "text/html": [
       "<div>\n",
       "<table border=\"1\" class=\"dataframe\">\n",
       "  <thead>\n",
       "    <tr style=\"text-align: right;\">\n",
       "      <th></th>\n",
       "      <th>Number of Itemizers</th>\n",
       "      <th>Number of Non-Itemizers</th>\n",
       "      <th>Revenue</th>\n",
       "      <th>Total Giving</th>\n",
       "      <th>Total Giving: Itemizers</th>\n",
       "      <th>Total Giving: Non-Itemizers</th>\n",
       "    </tr>\n",
       "  </thead>\n",
       "  <tbody>\n",
       "    <tr>\n",
       "      <th>$0-50K</th>\n",
       "      <td>2.79</td>\n",
       "      <td>105.30</td>\n",
       "      <td>182216.23</td>\n",
       "      <td>56327.77</td>\n",
       "      <td>2135.44</td>\n",
       "      <td>54192.33</td>\n",
       "    </tr>\n",
       "    <tr>\n",
       "      <th>$50K-100K</th>\n",
       "      <td>6.43</td>\n",
       "      <td>25.97</td>\n",
       "      <td>446558.06</td>\n",
       "      <td>50304.78</td>\n",
       "      <td>10525.83</td>\n",
       "      <td>39778.94</td>\n",
       "    </tr>\n",
       "    <tr>\n",
       "      <th>$100K+</th>\n",
       "      <td>15.71</td>\n",
       "      <td>14.23</td>\n",
       "      <td>2058790.36</td>\n",
       "      <td>139610.92</td>\n",
       "      <td>99105.48</td>\n",
       "      <td>40505.44</td>\n",
       "    </tr>\n",
       "    <tr>\n",
       "      <th>All</th>\n",
       "      <td>24.92</td>\n",
       "      <td>145.50</td>\n",
       "      <td>2687564.65</td>\n",
       "      <td>246243.47</td>\n",
       "      <td>111766.76</td>\n",
       "      <td>134476.72</td>\n",
       "    </tr>\n",
       "  </tbody>\n",
       "</table>\n",
       "</div>"
      ],
      "text/plain": [
       "           Number of Itemizers  Number of Non-Itemizers     Revenue  \\\n",
       "$0-50K                    2.79                   105.30   182216.23   \n",
       "$50K-100K                 6.43                    25.97   446558.06   \n",
       "$100K+                   15.71                    14.23  2058790.36   \n",
       "All                      24.92                   145.50  2687564.65   \n",
       "\n",
       "           Total Giving  Total Giving: Itemizers  Total Giving: Non-Itemizers  \n",
       "$0-50K         56327.77                  2135.44                     54192.33  \n",
       "$50K-100K      50304.78                 10525.83                     39778.94  \n",
       "$100K+        139610.92                 99105.48                     40505.44  \n",
       "All           246243.47                111766.76                    134476.72  "
      ]
     },
     "execution_count": 36,
     "metadata": {},
     "output_type": "execute_result"
    }
   ],
   "source": [
    "# all three changes (standard deduction increase, non-itemizer deductions, and marginal tax rate decrease)\n",
    "# elasticity: {'lower': -0.5, 'middle': -0.5, 'upper': -0.5}\n",
    "all_three_list[0]"
   ]
  },
  {
   "cell_type": "code",
   "execution_count": 37,
   "metadata": {
    "collapsed": false
   },
   "outputs": [
    {
     "data": {
      "text/html": [
       "<div>\n",
       "<table border=\"1\" class=\"dataframe\">\n",
       "  <thead>\n",
       "    <tr style=\"text-align: right;\">\n",
       "      <th></th>\n",
       "      <th>Number of Itemizers</th>\n",
       "      <th>Number of Non-Itemizers</th>\n",
       "      <th>Revenue</th>\n",
       "      <th>Total Giving</th>\n",
       "      <th>Total Giving: Itemizers</th>\n",
       "      <th>Total Giving: Non-Itemizers</th>\n",
       "    </tr>\n",
       "  </thead>\n",
       "  <tbody>\n",
       "    <tr>\n",
       "      <th>$0-50K</th>\n",
       "      <td>2.79</td>\n",
       "      <td>105.30</td>\n",
       "      <td>182321.55</td>\n",
       "      <td>55624.30</td>\n",
       "      <td>2135.44</td>\n",
       "      <td>53488.86</td>\n",
       "    </tr>\n",
       "    <tr>\n",
       "      <th>$50K-100K</th>\n",
       "      <td>6.43</td>\n",
       "      <td>25.97</td>\n",
       "      <td>446844.28</td>\n",
       "      <td>48952.55</td>\n",
       "      <td>10525.83</td>\n",
       "      <td>38426.72</td>\n",
       "    </tr>\n",
       "    <tr>\n",
       "      <th>$100K+</th>\n",
       "      <td>15.71</td>\n",
       "      <td>14.23</td>\n",
       "      <td>2058710.78</td>\n",
       "      <td>140300.51</td>\n",
       "      <td>99765.43</td>\n",
       "      <td>40535.09</td>\n",
       "    </tr>\n",
       "    <tr>\n",
       "      <th>All</th>\n",
       "      <td>24.92</td>\n",
       "      <td>145.49</td>\n",
       "      <td>2687876.60</td>\n",
       "      <td>244877.37</td>\n",
       "      <td>112426.70</td>\n",
       "      <td>132450.67</td>\n",
       "    </tr>\n",
       "  </tbody>\n",
       "</table>\n",
       "</div>"
      ],
      "text/plain": [
       "           Number of Itemizers  Number of Non-Itemizers     Revenue  \\\n",
       "$0-50K                    2.79                   105.30   182321.55   \n",
       "$50K-100K                 6.43                    25.97   446844.28   \n",
       "$100K+                   15.71                    14.23  2058710.78   \n",
       "All                      24.92                   145.49  2687876.60   \n",
       "\n",
       "           Total Giving  Total Giving: Itemizers  Total Giving: Non-Itemizers  \n",
       "$0-50K         55624.30                  2135.44                     53488.86  \n",
       "$50K-100K      48952.55                 10525.83                     38426.72  \n",
       "$100K+        140300.51                 99765.43                     40535.09  \n",
       "All           244877.37                112426.70                    132450.67  "
      ]
     },
     "execution_count": 37,
     "metadata": {},
     "output_type": "execute_result"
    }
   ],
   "source": [
    "# all three changes (standard deduction increase, non-itemizer deductions, and marginal tax rate decrease)\n",
    "# elasticity: {'lower': -1.0, 'middle': -1.0, 'upper': -1.0}\n",
    "all_three_list[1]"
   ]
  },
  {
   "cell_type": "code",
   "execution_count": 38,
   "metadata": {
    "collapsed": false
   },
   "outputs": [
    {
     "data": {
      "text/html": [
       "<div>\n",
       "<table border=\"1\" class=\"dataframe\">\n",
       "  <thead>\n",
       "    <tr style=\"text-align: right;\">\n",
       "      <th></th>\n",
       "      <th>Number of Itemizers</th>\n",
       "      <th>Number of Non-Itemizers</th>\n",
       "      <th>Revenue</th>\n",
       "      <th>Total Giving</th>\n",
       "      <th>Total Giving: Itemizers</th>\n",
       "      <th>Total Giving: Non-Itemizers</th>\n",
       "    </tr>\n",
       "  </thead>\n",
       "  <tbody>\n",
       "    <tr>\n",
       "      <th>$0-50K</th>\n",
       "      <td>2.79</td>\n",
       "      <td>105.30</td>\n",
       "      <td>181856.94</td>\n",
       "      <td>58770.23</td>\n",
       "      <td>2135.44</td>\n",
       "      <td>56634.79</td>\n",
       "    </tr>\n",
       "    <tr>\n",
       "      <th>$50K-100K</th>\n",
       "      <td>6.43</td>\n",
       "      <td>25.97</td>\n",
       "      <td>446002.06</td>\n",
       "      <td>52982.18</td>\n",
       "      <td>10525.83</td>\n",
       "      <td>42456.35</td>\n",
       "    </tr>\n",
       "    <tr>\n",
       "      <th>$100K+</th>\n",
       "      <td>15.71</td>\n",
       "      <td>14.23</td>\n",
       "      <td>2059031.43</td>\n",
       "      <td>138670.33</td>\n",
       "      <td>98207.57</td>\n",
       "      <td>40462.76</td>\n",
       "    </tr>\n",
       "    <tr>\n",
       "      <th>All</th>\n",
       "      <td>24.92</td>\n",
       "      <td>145.50</td>\n",
       "      <td>2686890.43</td>\n",
       "      <td>250422.74</td>\n",
       "      <td>110868.85</td>\n",
       "      <td>139553.89</td>\n",
       "    </tr>\n",
       "  </tbody>\n",
       "</table>\n",
       "</div>"
      ],
      "text/plain": [
       "           Number of Itemizers  Number of Non-Itemizers     Revenue  \\\n",
       "$0-50K                    2.79                   105.30   181856.94   \n",
       "$50K-100K                 6.43                    25.97   446002.06   \n",
       "$100K+                   15.71                    14.23  2059031.43   \n",
       "All                      24.92                   145.50  2686890.43   \n",
       "\n",
       "           Total Giving  Total Giving: Itemizers  Total Giving: Non-Itemizers  \n",
       "$0-50K         58770.23                  2135.44                     56634.79  \n",
       "$50K-100K      52982.18                 10525.83                     42456.35  \n",
       "$100K+        138670.33                 98207.57                     40462.76  \n",
       "All           250422.74                110868.85                    139553.89  "
      ]
     },
     "execution_count": 38,
     "metadata": {},
     "output_type": "execute_result"
    }
   ],
   "source": [
    "# all three changes (standard deduction increase, non-itemizer deductions, and marginal tax rate decrease)\n",
    "# elasticity: {'lower': -2.236, 'middle': -1.490, 'upper': -1.182}\n",
    "all_three_list[2]"
   ]
  },
  {
   "cell_type": "code",
   "execution_count": null,
   "metadata": {
    "collapsed": true
   },
   "outputs": [],
   "source": []
  }
 ],
 "metadata": {
  "anaconda-cloud": {},
  "kernelspec": {
   "display_name": "Python [conda root]",
   "language": "python",
   "name": "conda-root-py"
  },
  "language_info": {
   "codemirror_mode": {
    "name": "ipython",
    "version": 2
   },
   "file_extension": ".py",
   "mimetype": "text/x-python",
   "name": "python",
   "nbconvert_exporter": "python",
   "pygments_lexer": "ipython2",
   "version": "2.7.13"
  }
 },
 "nbformat": 4,
 "nbformat_minor": 1
}
