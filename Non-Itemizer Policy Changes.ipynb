{
 "cells": [
  {
   "cell_type": "code",
   "execution_count": 1,
   "metadata": {
    "collapsed": false
   },
   "outputs": [],
   "source": [
    "from taxcalc import *\n",
    "import numpy as np\n",
    "import pandas as pd\n",
    "from pandas import DataFrame"
   ]
  },
  {
   "cell_type": "code",
   "execution_count": 2,
   "metadata": {
    "collapsed": false
   },
   "outputs": [],
   "source": [
    "# settings\n",
    "# Change year here if running simulations for any other year\n",
    "sim_year = 2017\n",
    "agi_brackets = [(-1e14, 50000), (50000, 100000), (100000, 1e14)]\n",
    "# list of dictionaries for each elasticity\n",
    "elasticities = [\n",
    "    {'lower': -0.5, 'middle': -0.5, 'upper': -0.5},\n",
    "    {'lower': -1.0, 'middle': -1.0, 'upper': -1.0},\n",
    "    {'lower': -2.236, 'middle': -1.490, 'upper': -1.182}]"
   ]
  },
  {
   "cell_type": "code",
   "execution_count": 3,
   "metadata": {
    "collapsed": true
   },
   "outputs": [],
   "source": [
    "# lists for each output\n",
    "base_list = list()\n",
    "std_list = list()\n",
    "charitable_list = list()\n",
    "lower_mtr_list = list()\n",
    "std_mtr_list = list()\n",
    "std_charitable_list = list()\n",
    "all_three_list = list()"
   ]
  },
  {
   "cell_type": "code",
   "execution_count": 4,
   "metadata": {
    "collapsed": true
   },
   "outputs": [],
   "source": [
    "# Reform dictionaries\n",
    "\n",
    "# 2: raise standard deduction\n",
    "std_reform = {\n",
    "    sim_year: {\n",
    "        '_STD': [[11000, 22000, 11000, 11000, 22000]]\n",
    "    }\n",
    "}\n",
    "\n",
    "# 3: allow non-itemizers charitable deduction\n",
    "charitable_reform = {\n",
    "    sim_year: {\n",
    "        '_STD_allow_charity_ded_nonitemizers': [True]\n",
    "    }\n",
    "}\n",
    "\n",
    "# 4: lower top MTR to 35%\n",
    "mtr_reform = {\n",
    "    sim_year: {\n",
    "        '_II_rt7': [0.35]\n",
    "    }\n",
    "}"
   ]
  },
  {
   "cell_type": "code",
   "execution_count": 5,
   "metadata": {
    "collapsed": false
   },
   "outputs": [
    {
     "data": {
      "text/plain": [
       "0     389.598564\n",
       "1     974.564405\n",
       "2    1801.177687\n",
       "dtype: float64"
      ]
     },
     "execution_count": 5,
     "metadata": {},
     "output_type": "execute_result"
    }
   ],
   "source": [
    "# average charitable contributions by AGI level\n",
    "contribs = pd.Series([342.96, 857.90, 1585.56])\n",
    "recs = Records()\n",
    "pol = Policy()\n",
    "\n",
    "# blow-up contributions to 2013 levels\n",
    "for year in range(2010, 2014):\n",
    "    contribs *= recs.gfactors.factor_value('ATXPY', year)\n",
    "contribs"
   ]
  },
  {
   "cell_type": "code",
   "execution_count": 6,
   "metadata": {
    "collapsed": false
   },
   "outputs": [
    {
     "name": "stdout",
     "output_type": "stream",
     "text": [
      "You loaded data for 2009.\n",
      "Tax-Calculator startup automatically extrapolated your data to 2013.\n"
     ]
    }
   ],
   "source": [
    "# intitalize calculator - used to assign charitable giving to non-itemizers\n",
    "calc = Calculator(records=recs, policy=pol)\n",
    "calc.calc_all()"
   ]
  },
  {
   "cell_type": "code",
   "execution_count": 7,
   "metadata": {
    "collapsed": true
   },
   "outputs": [],
   "source": [
    "# assign contribution amounts to non-itemizers based on AGI\n",
    "calc.records.e19800 = np.where((calc.records.c00100 < 50000) & (calc.records.c04470 == 0),\n",
    "                               contribs[0], calc.records.e19800)\n",
    "calc.records.e19800 = np.where((calc.records.c00100 >= 50000) & (calc.records.c00100 < 100000) &\n",
    "                               (calc.records.c04470 == 0),\n",
    "                               contribs[1], calc.records.e19800)\n",
    "calc.records.e19800 = np.where((calc.records.c00100 > 100000) & (calc.records.c04470 == 0),\n",
    "                               contribs[2], calc.records.e19800)"
   ]
  },
  {
   "cell_type": "code",
   "execution_count": 8,
   "metadata": {
    "collapsed": true
   },
   "outputs": [],
   "source": [
    "# generate output table\n",
    "# Total charitable giving only consists of cash contributions. Non-cash can be easily added\n",
    "\n",
    "def table(calc_table):\n",
    "    \n",
    "    dictionary = {'Revenue': [],\n",
    "                  'Total Giving': [], \n",
    "                  'Total Giving: Itemizers': [], \n",
    "                  'Total Giving: Non-Itemizers': [], \n",
    "                  'Number of Itemizers': [], \n",
    "                  'Number of Non-Itemizers': []}\n",
    "    # Loop through each AGI income bin to get values\n",
    "    for item in agi_brackets:\n",
    "        \n",
    "        val = calc_table.records._combined[(calc_table.records.c00100 >= item[0])&\n",
    "                                           (calc_table.records.c00100 < item[1])]\n",
    "        val *= calc_table.records.s006[(calc_table.records.c00100 >= item[0])&\n",
    "                                       (calc_table.records.c00100 < item[1])]\n",
    "        dictionary['Revenue'].append(val.sum() / 1000000)\n",
    "        \n",
    "        val = calc_table.records.e19800[(calc_table.records.c00100 >= item[0])&\n",
    "                                        (calc_table.records.c00100 < item[1])]\n",
    "        val *= calc_table.records.s006[(calc_table.records.c00100 >= item[0])&\n",
    "                                       (calc_table.records.c00100 < item[1])]\n",
    "        dictionary['Total Giving'].append(float(val.sum()) / 1000000)\n",
    "        \n",
    "        val = calc_table.records.e19800[(calc_table.records.c00100 >= item[0])&\n",
    "                                        (calc_table.records.c00100 < item[1])&\n",
    "                                        (calc_table.records.c04470 > 0)]\n",
    "        val *= calc_table.records.s006[(calc_table.records.c00100 >= item[0])&\n",
    "                                       (calc_table.records.c00100 < item[1])&\n",
    "                                       (calc_table.records.c04470 > 0)]\n",
    "        dictionary['Total Giving: Itemizers'].append(float(val.sum()) / 1000000)\n",
    "        \n",
    "        val = calc_table.records.s006[(calc_table.records.c00100 >= item[0])&\n",
    "                                      (calc_table.records.c00100 < item[1])&\n",
    "                                      (calc_table.records.c04470 > 0)]\n",
    "        dictionary['Number of Itemizers'].append(float(val.sum()) / 1000000)\n",
    "\n",
    "        val = calc_table.records.e19800[(calc_table.records.c00100 >= item[0])&\n",
    "                                        (calc_table.records.c00100 < item[1])&\n",
    "                                        (calc_table.records.c04470 == 0)]\n",
    "        val *= calc_table.records.s006[(calc_table.records.c00100 >= item[0])&\n",
    "                                       (calc_table.records.c00100 < item[1])&\n",
    "                                       (calc_table.records.c04470 == 0)]\n",
    "        dictionary['Total Giving: Non-Itemizers'].append(float(val.sum()) / 1000000)\n",
    "        \n",
    "        val = calc_table.records.s006[(calc_table.records.c00100 >= item[0])&\n",
    "                                      (calc_table.records.c00100 < item[1])&\n",
    "                                      (calc_table.records.c04470 == 0)]\n",
    "        dictionary['Number of Non-Itemizers'].append(float(val.sum()) / 1000000)\n",
    "        \n",
    "    df = DataFrame.from_dict(dictionary)\n",
    "    df.index = ['$0-50K', '$50K-100K', '$100K+']\n",
    "    df = df.round(2)\n",
    "        \n",
    "    return(df)\n"
   ]
  },
  {
   "cell_type": "markdown",
   "metadata": {},
   "source": [
    "# Begin Simulations"
   ]
  },
  {
   "cell_type": "code",
   "execution_count": 9,
   "metadata": {
    "collapsed": false
   },
   "outputs": [
    {
     "name": "stdout",
     "output_type": "stream",
     "text": [
      "You loaded data for 2009.\n",
      "Tax-Calculator startup automatically extrapolated your data to 2013.\n"
     ]
    }
   ],
   "source": [
    "# calculator with no reforms or elasticities to be used as base\n",
    "calc_noref = Calculator(records=Records(), policy=Policy())\n",
    "calc_noref.advance_to_year(sim_year)"
   ]
  },
  {
   "cell_type": "code",
   "execution_count": 10,
   "metadata": {
    "collapsed": false
   },
   "outputs": [],
   "source": [
    "# baseline function - no policy changes, but with elasticities\n",
    "def base(elast):\n",
    "    \"\"\"\n",
    "    elast: dictionary of elasticities\n",
    "    returns DF to make the table we're interested in\n",
    "    \"\"\"\n",
    "    # Set calculator\n",
    "    recs_base = Records()\n",
    "    pol_base = Policy()\n",
    "    beh_base = Behavior()\n",
    "    calc_base = Calculator(records=recs_base, policy=pol_base, behavior=beh_base,\n",
    "                          verbose=False)\n",
    "    beh_base.update_behavior({\n",
    "        sim_year: {\n",
    "            '_BE_charity': [[elast['lower'], elast['middle'], elast['upper']]]\n",
    "        }\n",
    "    })\n",
    "    calc_base.records.e19800 = calc.records.e19800\n",
    "    \n",
    "    # assuming we're doing the analysis for 2017\n",
    "    calc_base.advance_to_year(sim_year)\n",
    "    \n",
    "    # create calculator with behavioral response\n",
    "    calc_base_beh = Behavior.response(calc_noref, calc_base)\n",
    "    \n",
    "    # Create and append DF with information interested in\n",
    "    base_list.append(table(calc_base_beh))"
   ]
  },
  {
   "cell_type": "code",
   "execution_count": 11,
   "metadata": {
    "collapsed": true
   },
   "outputs": [],
   "source": [
    "# increase value of the standard deduction ($11,000 for individuals and $22,000 for joint filers,\n",
    "# following the Camp proposal)\n",
    "def std(elast):\n",
    "    recs_std = Records()\n",
    "    pol_std = Policy()\n",
    "    pol_std.implement_reform(std_reform)\n",
    "    beh_std = Behavior()\n",
    "    calc_std = Calculator(records=recs_std, policy=pol_std, behavior=beh_std,\n",
    "                          verbose=False)\n",
    "    beh_std.update_behavior({\n",
    "        sim_year: {\n",
    "            '_BE_charity': [[elast['lower'], elast['middle'], elast['upper']]]\n",
    "        }\n",
    "    })\n",
    "    calc_std.records.e19800 = calc.records.e19800\n",
    "    calc_std.advance_to_year(sim_year)\n",
    "    \n",
    "    # Create calculator with behavioral reform\n",
    "    calc_std_beh = Behavior.response(calc_noref, calc_std)\n",
    "    \n",
    "    # create and append DF with information interested in\n",
    "    std_list.append(table(calc_std_beh))"
   ]
  },
  {
   "cell_type": "code",
   "execution_count": 12,
   "metadata": {
    "collapsed": true
   },
   "outputs": [],
   "source": [
    "# ability for non-itemizers to itemize charitable deductions \n",
    "def charitable(elast):\n",
    "    recs_charitable = Records()\n",
    "    pol_charitable = Policy()\n",
    "    pol_charitable.implement_reform(charitable_reform)\n",
    "    beh_charitable = Behavior()\n",
    "    calc_charitable = Calculator(records=recs_charitable, policy=pol_charitable, behavior=beh_charitable,\n",
    "                                 verbose=False)\n",
    "    beh_charitable.update_behavior({\n",
    "        sim_year: {\n",
    "            '_BE_charity': [[elast['lower'], elast['middle'], elast['upper']]]\n",
    "        }\n",
    "    })\n",
    "    calc_charitable.records.e19800 = calc.records.e19800\n",
    "    calc_charitable.advance_to_year(sim_year)\n",
    "    \n",
    "    # Create calculator with behaviroal reform\n",
    "    calc_charitable_beh = Behavior.response(calc_noref, calc_charitable)\n",
    "    \n",
    "    # Create and append DF with information interested in\n",
    "    charitable_list.append(table(calc_charitable_beh))"
   ]
  },
  {
   "cell_type": "code",
   "execution_count": 13,
   "metadata": {
    "collapsed": true
   },
   "outputs": [],
   "source": [
    "# decrease of the highest marginal tax rate to 35% \n",
    "def lower_mtr(elast):\n",
    "    recs_mtr = Records()\n",
    "    pol_mtr = Policy()\n",
    "    pol_mtr.implement_reform(mtr_reform)\n",
    "    beh_mtr = Behavior()\n",
    "    calc_mtr = Calculator(records=recs_mtr, policy = pol_mtr, behavior=beh_mtr,\n",
    "                          verbose=False)\n",
    "    beh_mtr.update_behavior({\n",
    "        sim_year: {\n",
    "            '_BE_charity': [[elast['lower'], elast['middle'], elast['upper']]]\n",
    "        }\n",
    "    })\n",
    "    calc_mtr.records.e19800 = calc.records.e19800\n",
    "    calc_mtr.advance_to_year(sim_year)\n",
    "    \n",
    "    # Calculator with behavioral reform\n",
    "    calc_mtr_beh = Behavior.response(calc_noref, calc_mtr)\n",
    "    \n",
    "    # Create and append DF with information interested\n",
    "    lower_mtr_list.append(table(calc_mtr_beh))"
   ]
  },
  {
   "cell_type": "code",
   "execution_count": 14,
   "metadata": {
    "collapsed": true
   },
   "outputs": [],
   "source": [
    "# standard deduction change and the marginal rate decrease\n",
    "def std_mtr(elast):\n",
    "    recs_std_mtr = Records()\n",
    "    pol_std_mtr = Policy()\n",
    "    pol_std_mtr.implement_reform(std_reform)\n",
    "    pol_std_mtr.implement_reform(mtr_reform)\n",
    "    beh_std_mtr = Behavior()\n",
    "    calc_std_mtr = Calculator(records=recs_std_mtr, policy=pol_std_mtr, behavior=beh_std_mtr,\n",
    "                              verbose=False)\n",
    "    calc_std_mtr.records.e19800 = calc.records.e19800\n",
    "    beh_std_mtr.update_behavior({\n",
    "        sim_year: {\n",
    "            '_BE_charity': [[elast['lower'], elast['middle'], elast['upper']]]\n",
    "        }\n",
    "    })\n",
    "    calc_std_mtr.advance_to_year(sim_year)\n",
    "    \n",
    "    # Calculator with behavioral reform\n",
    "    calc_std_mtr_beh = Behavior.response(calc_noref, calc_std_mtr)\n",
    "    \n",
    "    # Create and append df with information interested in\n",
    "    std_mtr_list.append(table(calc_std_mtr_beh)) "
   ]
  },
  {
   "cell_type": "code",
   "execution_count": 15,
   "metadata": {
    "collapsed": true
   },
   "outputs": [],
   "source": [
    "# standard deduction change AND the non-itemizer deduction change\n",
    "def std_charitable(elast):\n",
    "    recs_std_charitable = Records()\n",
    "    pol_std_charitable = Policy()\n",
    "    pol_std_charitable.implement_reform(std_reform)\n",
    "    pol_std_charitable.implement_reform(charitable_reform)\n",
    "    beh_std_charitable = Behavior()\n",
    "    calc_std_charitable = Calculator(records=recs_std_charitable, policy=pol_std_charitable,\n",
    "                                     behavior=beh_std_charitable, verbose=False)\n",
    "    calc_std_charitable.records.e19800 = calc.records.e19800\n",
    "    beh_std_charitable.update_behavior({\n",
    "        sim_year: {\n",
    "            '_BE_charity': [[elast['lower'], elast['middle'], elast['upper']]]\n",
    "        }\n",
    "    })\n",
    "    calc_std_charitable.advance_to_year(sim_year)\n",
    "    \n",
    "    # Calculator with behavioral response\n",
    "    calc_std_charitable_beh = Behavior.response(calc_noref, calc_std_charitable)\n",
    "    \n",
    "    # Create and append DF with information\n",
    "    std_charitable_list.append(table(calc_std_charitable_beh))"
   ]
  },
  {
   "cell_type": "code",
   "execution_count": 16,
   "metadata": {
    "collapsed": true
   },
   "outputs": [],
   "source": [
    "# all three changes (standard deduction increase, non-itemizer deductions, and marginal tax rate decrease)\n",
    "def all_three(elast):\n",
    "    recs_three = Records()\n",
    "    pol_three = Policy()\n",
    "    pol_three.implement_reform(std_reform)\n",
    "    pol_three.implement_reform(charitable_reform)\n",
    "    pol_three.implement_reform(mtr_reform)\n",
    "    beh_three = Behavior()\n",
    "    calc_three = Calculator(records=recs_three, policy=pol_three, behavior=beh_three,\n",
    "                            verbose=False)\n",
    "    calc_three.records.e19800 = calc.records.e19800\n",
    "    beh_three.update_behavior({\n",
    "        sim_year: {\n",
    "            '_BE_charity': [[elast['lower'], elast['middle'], elast['upper']]]\n",
    "        }\n",
    "    })\n",
    "    calc_three.advance_to_year(sim_year)\n",
    "    \n",
    "    # Calculator with behavior reform\n",
    "    calc_three_beh = Behavior.response(calc_noref, calc_three)\n",
    "    \n",
    "    # Create and append DF with information\n",
    "    all_three_list.append(table(calc_three_beh))"
   ]
  },
  {
   "cell_type": "code",
   "execution_count": 17,
   "metadata": {
    "collapsed": false
   },
   "outputs": [
    {
     "name": "stderr",
     "output_type": "stream",
     "text": [
      "taxcalc/behavior.py:306: RuntimeWarning: invalid value encountered in divide\n",
      "  delta_income * calc.records.e00200 / agi_m_ided,\n",
      "taxcalc/behavior.py:310: RuntimeWarning: invalid value encountered in divide\n",
      "  delta_income * other_income / agi_m_ided,\n",
      "taxcalc/behavior.py:313: RuntimeWarning: invalid value encountered in divide\n",
      "  delta_income * ided / agi_m_ided,\n"
     ]
    }
   ],
   "source": [
    "# loop through each branch of elasticites, calling each function\n",
    "for item in elasticities:\n",
    "    base(item)\n",
    "    std(item)\n",
    "    charitable(item)\n",
    "    lower_mtr(item)\n",
    "    std_mtr(item)\n",
    "    std_charitable(item)\n",
    "    all_three(item)"
   ]
  },
  {
   "cell_type": "markdown",
   "metadata": {},
   "source": [
    "# Output (In Millions)"
   ]
  },
  {
   "cell_type": "markdown",
   "metadata": {},
   "source": [
    "Each table is in the form of a DataFrame and is ready to be exported if need be"
   ]
  },
  {
   "cell_type": "markdown",
   "metadata": {},
   "source": [
    "# baseline function"
   ]
  },
  {
   "cell_type": "code",
   "execution_count": 18,
   "metadata": {
    "collapsed": false,
    "scrolled": true
   },
   "outputs": [
    {
     "data": {
      "text/html": [
       "<div>\n",
       "<table border=\"1\" class=\"dataframe\">\n",
       "  <thead>\n",
       "    <tr style=\"text-align: right;\">\n",
       "      <th></th>\n",
       "      <th>Number of Itemizers</th>\n",
       "      <th>Number of Non-Itemizers</th>\n",
       "      <th>Revenue</th>\n",
       "      <th>Total Giving</th>\n",
       "      <th>Total Giving: Itemizers</th>\n",
       "      <th>Total Giving: Non-Itemizers</th>\n",
       "    </tr>\n",
       "  </thead>\n",
       "  <tbody>\n",
       "    <tr>\n",
       "      <th>$0-50K</th>\n",
       "      <td>7.45</td>\n",
       "      <td>100.64</td>\n",
       "      <td>206209.89</td>\n",
       "      <td>55614.84</td>\n",
       "      <td>10649.65</td>\n",
       "      <td>44965.19</td>\n",
       "    </tr>\n",
       "    <tr>\n",
       "      <th>$50K-100K</th>\n",
       "      <td>13.99</td>\n",
       "      <td>18.41</td>\n",
       "      <td>477848.85</td>\n",
       "      <td>48923.16</td>\n",
       "      <td>31852.92</td>\n",
       "      <td>17070.24</td>\n",
       "    </tr>\n",
       "    <tr>\n",
       "      <th>$100K+</th>\n",
       "      <td>23.85</td>\n",
       "      <td>6.08</td>\n",
       "      <td>2108964.96</td>\n",
       "      <td>140270.40</td>\n",
       "      <td>129947.25</td>\n",
       "      <td>10323.15</td>\n",
       "    </tr>\n",
       "  </tbody>\n",
       "</table>\n",
       "</div>"
      ],
      "text/plain": [
       "           Number of Itemizers  Number of Non-Itemizers     Revenue  \\\n",
       "$0-50K                    7.45                   100.64   206209.89   \n",
       "$50K-100K                13.99                    18.41   477848.85   \n",
       "$100K+                   23.85                     6.08  2108964.96   \n",
       "\n",
       "           Total Giving  Total Giving: Itemizers  Total Giving: Non-Itemizers  \n",
       "$0-50K         55614.84                 10649.65                     44965.19  \n",
       "$50K-100K      48923.16                 31852.92                     17070.24  \n",
       "$100K+        140270.40                129947.25                     10323.15  "
      ]
     },
     "execution_count": 18,
     "metadata": {},
     "output_type": "execute_result"
    }
   ],
   "source": [
    "# baseline function\n",
    "# elasticity: {'lower': -0.5, 'middle': -0.5, 'upper': -0.5}\n",
    "base_list[0]"
   ]
  },
  {
   "cell_type": "code",
   "execution_count": 19,
   "metadata": {
    "collapsed": false
   },
   "outputs": [
    {
     "data": {
      "text/html": [
       "<div>\n",
       "<table border=\"1\" class=\"dataframe\">\n",
       "  <thead>\n",
       "    <tr style=\"text-align: right;\">\n",
       "      <th></th>\n",
       "      <th>Number of Itemizers</th>\n",
       "      <th>Number of Non-Itemizers</th>\n",
       "      <th>Revenue</th>\n",
       "      <th>Total Giving</th>\n",
       "      <th>Total Giving: Itemizers</th>\n",
       "      <th>Total Giving: Non-Itemizers</th>\n",
       "    </tr>\n",
       "  </thead>\n",
       "  <tbody>\n",
       "    <tr>\n",
       "      <th>$0-50K</th>\n",
       "      <td>7.85</td>\n",
       "      <td>100.24</td>\n",
       "      <td>204888.89</td>\n",
       "      <td>140595.49</td>\n",
       "      <td>27562.02</td>\n",
       "      <td>113033.47</td>\n",
       "    </tr>\n",
       "    <tr>\n",
       "      <th>$50K-100K</th>\n",
       "      <td>14.37</td>\n",
       "      <td>18.03</td>\n",
       "      <td>470292.85</td>\n",
       "      <td>123732.04</td>\n",
       "      <td>81943.14</td>\n",
       "      <td>41788.90</td>\n",
       "    </tr>\n",
       "    <tr>\n",
       "      <th>$100K+</th>\n",
       "      <td>24.06</td>\n",
       "      <td>5.87</td>\n",
       "      <td>2055995.20</td>\n",
       "      <td>354622.34</td>\n",
       "      <td>329603.52</td>\n",
       "      <td>25018.81</td>\n",
       "    </tr>\n",
       "  </tbody>\n",
       "</table>\n",
       "</div>"
      ],
      "text/plain": [
       "           Number of Itemizers  Number of Non-Itemizers     Revenue  \\\n",
       "$0-50K                    7.85                   100.24   204888.89   \n",
       "$50K-100K                14.37                    18.03   470292.85   \n",
       "$100K+                   24.06                     5.87  2055995.20   \n",
       "\n",
       "           Total Giving  Total Giving: Itemizers  Total Giving: Non-Itemizers  \n",
       "$0-50K        140595.49                 27562.02                    113033.47  \n",
       "$50K-100K     123732.04                 81943.14                     41788.90  \n",
       "$100K+        354622.34                329603.52                     25018.81  "
      ]
     },
     "execution_count": 19,
     "metadata": {},
     "output_type": "execute_result"
    }
   ],
   "source": [
    "# baseline function\n",
    "# elasticity: {'lower': -1.0, 'middle': -1.0, 'upper': -1.0}\n",
    "base_list[1]"
   ]
  },
  {
   "cell_type": "code",
   "execution_count": 20,
   "metadata": {
    "collapsed": false,
    "scrolled": false
   },
   "outputs": [
    {
     "data": {
      "text/html": [
       "<div>\n",
       "<table border=\"1\" class=\"dataframe\">\n",
       "  <thead>\n",
       "    <tr style=\"text-align: right;\">\n",
       "      <th></th>\n",
       "      <th>Number of Itemizers</th>\n",
       "      <th>Number of Non-Itemizers</th>\n",
       "      <th>Revenue</th>\n",
       "      <th>Total Giving</th>\n",
       "      <th>Total Giving: Itemizers</th>\n",
       "      <th>Total Giving: Non-Itemizers</th>\n",
       "    </tr>\n",
       "  </thead>\n",
       "  <tbody>\n",
       "    <tr>\n",
       "      <th>$0-50K</th>\n",
       "      <td>8.15</td>\n",
       "      <td>99.94</td>\n",
       "      <td>203303.37</td>\n",
       "      <td>353179.66</td>\n",
       "      <td>68390.61</td>\n",
       "      <td>284789.06</td>\n",
       "    </tr>\n",
       "    <tr>\n",
       "      <th>$50K-100K</th>\n",
       "      <td>17.98</td>\n",
       "      <td>14.42</td>\n",
       "      <td>457965.68</td>\n",
       "      <td>306399.38</td>\n",
       "      <td>226190.28</td>\n",
       "      <td>80209.10</td>\n",
       "    </tr>\n",
       "    <tr>\n",
       "      <th>$100K+</th>\n",
       "      <td>27.25</td>\n",
       "      <td>2.68</td>\n",
       "      <td>1954969.38</td>\n",
       "      <td>867366.57</td>\n",
       "      <td>843994.49</td>\n",
       "      <td>23372.07</td>\n",
       "    </tr>\n",
       "  </tbody>\n",
       "</table>\n",
       "</div>"
      ],
      "text/plain": [
       "           Number of Itemizers  Number of Non-Itemizers     Revenue  \\\n",
       "$0-50K                    8.15                    99.94   203303.37   \n",
       "$50K-100K                17.98                    14.42   457965.68   \n",
       "$100K+                   27.25                     2.68  1954969.38   \n",
       "\n",
       "           Total Giving  Total Giving: Itemizers  Total Giving: Non-Itemizers  \n",
       "$0-50K        353179.66                 68390.61                    284789.06  \n",
       "$50K-100K     306399.38                226190.28                     80209.10  \n",
       "$100K+        867366.57                843994.49                     23372.07  "
      ]
     },
     "execution_count": 20,
     "metadata": {},
     "output_type": "execute_result"
    }
   ],
   "source": [
    "# baseline function\n",
    "# elasticity: {'lower': -2.236, 'middle': -1.490, 'upper': -1.182}\n",
    "base_list[2]"
   ]
  },
  {
   "cell_type": "markdown",
   "metadata": {},
   "source": [
    "# increase value of the standard deduction"
   ]
  },
  {
   "cell_type": "code",
   "execution_count": 21,
   "metadata": {
    "collapsed": false,
    "scrolled": true
   },
   "outputs": [
    {
     "data": {
      "text/html": [
       "<div>\n",
       "<table border=\"1\" class=\"dataframe\">\n",
       "  <thead>\n",
       "    <tr style=\"text-align: right;\">\n",
       "      <th></th>\n",
       "      <th>Number of Itemizers</th>\n",
       "      <th>Number of Non-Itemizers</th>\n",
       "      <th>Revenue</th>\n",
       "      <th>Total Giving</th>\n",
       "      <th>Total Giving: Itemizers</th>\n",
       "      <th>Total Giving: Non-Itemizers</th>\n",
       "    </tr>\n",
       "  </thead>\n",
       "  <tbody>\n",
       "    <tr>\n",
       "      <th>$0-50K</th>\n",
       "      <td>3.68</td>\n",
       "      <td>104.41</td>\n",
       "      <td>184630.41</td>\n",
       "      <td>63228.27</td>\n",
       "      <td>7062.05</td>\n",
       "      <td>56166.22</td>\n",
       "    </tr>\n",
       "    <tr>\n",
       "      <th>$50K-100K</th>\n",
       "      <td>8.33</td>\n",
       "      <td>24.07</td>\n",
       "      <td>452488.67</td>\n",
       "      <td>54918.92</td>\n",
       "      <td>25756.44</td>\n",
       "      <td>29162.48</td>\n",
       "    </tr>\n",
       "    <tr>\n",
       "      <th>$100K+</th>\n",
       "      <td>18.00</td>\n",
       "      <td>11.93</td>\n",
       "      <td>2086328.71</td>\n",
       "      <td>158215.23</td>\n",
       "      <td>136472.35</td>\n",
       "      <td>21742.88</td>\n",
       "    </tr>\n",
       "  </tbody>\n",
       "</table>\n",
       "</div>"
      ],
      "text/plain": [
       "           Number of Itemizers  Number of Non-Itemizers     Revenue  \\\n",
       "$0-50K                    3.68                   104.41   184630.41   \n",
       "$50K-100K                 8.33                    24.07   452488.67   \n",
       "$100K+                   18.00                    11.93  2086328.71   \n",
       "\n",
       "           Total Giving  Total Giving: Itemizers  Total Giving: Non-Itemizers  \n",
       "$0-50K         63228.27                  7062.05                     56166.22  \n",
       "$50K-100K      54918.92                 25756.44                     29162.48  \n",
       "$100K+        158215.23                136472.35                     21742.88  "
      ]
     },
     "execution_count": 21,
     "metadata": {},
     "output_type": "execute_result"
    }
   ],
   "source": [
    "# increase value of the standard deduction ($11,000 for individuals and $22,000 for joint filers,\n",
    "# following the Camp proposal)\n",
    "# elasticity: {'lower': -0.5, 'middle': -0.5, 'upper': -0.5}\n",
    "std_list[0]"
   ]
  },
  {
   "cell_type": "code",
   "execution_count": 22,
   "metadata": {
    "collapsed": false
   },
   "outputs": [
    {
     "data": {
      "text/html": [
       "<div>\n",
       "<table border=\"1\" class=\"dataframe\">\n",
       "  <thead>\n",
       "    <tr style=\"text-align: right;\">\n",
       "      <th></th>\n",
       "      <th>Number of Itemizers</th>\n",
       "      <th>Number of Non-Itemizers</th>\n",
       "      <th>Revenue</th>\n",
       "      <th>Total Giving</th>\n",
       "      <th>Total Giving: Itemizers</th>\n",
       "      <th>Total Giving: Non-Itemizers</th>\n",
       "    </tr>\n",
       "  </thead>\n",
       "  <tbody>\n",
       "    <tr>\n",
       "      <th>$0-50K</th>\n",
       "      <td>4.60</td>\n",
       "      <td>103.49</td>\n",
       "      <td>183598.12</td>\n",
       "      <td>160509.58</td>\n",
       "      <td>25263.11</td>\n",
       "      <td>135246.47</td>\n",
       "    </tr>\n",
       "    <tr>\n",
       "      <th>$50K-100K</th>\n",
       "      <td>10.01</td>\n",
       "      <td>22.39</td>\n",
       "      <td>445480.56</td>\n",
       "      <td>141257.57</td>\n",
       "      <td>86168.83</td>\n",
       "      <td>55088.74</td>\n",
       "    </tr>\n",
       "    <tr>\n",
       "      <th>$100K+</th>\n",
       "      <td>19.78</td>\n",
       "      <td>10.15</td>\n",
       "      <td>2029303.07</td>\n",
       "      <td>404851.39</td>\n",
       "      <td>368093.63</td>\n",
       "      <td>36757.76</td>\n",
       "    </tr>\n",
       "  </tbody>\n",
       "</table>\n",
       "</div>"
      ],
      "text/plain": [
       "           Number of Itemizers  Number of Non-Itemizers     Revenue  \\\n",
       "$0-50K                    4.60                   103.49   183598.12   \n",
       "$50K-100K                10.01                    22.39   445480.56   \n",
       "$100K+                   19.78                    10.15  2029303.07   \n",
       "\n",
       "           Total Giving  Total Giving: Itemizers  Total Giving: Non-Itemizers  \n",
       "$0-50K        160509.58                 25263.11                    135246.47  \n",
       "$50K-100K     141257.57                 86168.83                     55088.74  \n",
       "$100K+        404851.39                368093.63                     36757.76  "
      ]
     },
     "execution_count": 22,
     "metadata": {},
     "output_type": "execute_result"
    }
   ],
   "source": [
    "# increase value of the standard deduction ($11,000 for individuals and $22,000 for joint filers,\n",
    "# following the Camp proposal)\n",
    "# elasticity: {'lower': -1.0, 'middle': -1.0, 'upper': -1.0}\n",
    "std_list[1]"
   ]
  },
  {
   "cell_type": "code",
   "execution_count": 23,
   "metadata": {
    "collapsed": false,
    "scrolled": true
   },
   "outputs": [
    {
     "data": {
      "text/html": [
       "<div>\n",
       "<table border=\"1\" class=\"dataframe\">\n",
       "  <thead>\n",
       "    <tr style=\"text-align: right;\">\n",
       "      <th></th>\n",
       "      <th>Number of Itemizers</th>\n",
       "      <th>Number of Non-Itemizers</th>\n",
       "      <th>Revenue</th>\n",
       "      <th>Total Giving</th>\n",
       "      <th>Total Giving: Itemizers</th>\n",
       "      <th>Total Giving: Non-Itemizers</th>\n",
       "    </tr>\n",
       "  </thead>\n",
       "  <tbody>\n",
       "    <tr>\n",
       "      <th>$0-50K</th>\n",
       "      <td>5.19</td>\n",
       "      <td>102.90</td>\n",
       "      <td>182315.57</td>\n",
       "      <td>403326.95</td>\n",
       "      <td>65675.80</td>\n",
       "      <td>337651.15</td>\n",
       "    </tr>\n",
       "    <tr>\n",
       "      <th>$50K-100K</th>\n",
       "      <td>11.15</td>\n",
       "      <td>21.25</td>\n",
       "      <td>434763.60</td>\n",
       "      <td>349988.05</td>\n",
       "      <td>221904.60</td>\n",
       "      <td>128083.45</td>\n",
       "    </tr>\n",
       "    <tr>\n",
       "      <th>$100K+</th>\n",
       "      <td>21.81</td>\n",
       "      <td>8.12</td>\n",
       "      <td>1923863.66</td>\n",
       "      <td>991207.62</td>\n",
       "      <td>922548.68</td>\n",
       "      <td>68658.94</td>\n",
       "    </tr>\n",
       "  </tbody>\n",
       "</table>\n",
       "</div>"
      ],
      "text/plain": [
       "           Number of Itemizers  Number of Non-Itemizers     Revenue  \\\n",
       "$0-50K                    5.19                   102.90   182315.57   \n",
       "$50K-100K                11.15                    21.25   434763.60   \n",
       "$100K+                   21.81                     8.12  1923863.66   \n",
       "\n",
       "           Total Giving  Total Giving: Itemizers  Total Giving: Non-Itemizers  \n",
       "$0-50K        403326.95                 65675.80                    337651.15  \n",
       "$50K-100K     349988.05                221904.60                    128083.45  \n",
       "$100K+        991207.62                922548.68                     68658.94  "
      ]
     },
     "execution_count": 23,
     "metadata": {},
     "output_type": "execute_result"
    }
   ],
   "source": [
    "# increase value of the standard deduction ($11,000 for individuals and $22,000 for joint filers,\n",
    "# following the Camp proposal)\n",
    "# elasticity: {'lower': -2.236, 'middle': -1.490, 'upper': -1.182}\n",
    "std_list[2]"
   ]
  },
  {
   "cell_type": "markdown",
   "metadata": {},
   "source": [
    "# ability for non-itemizers to itemize charitable deductions "
   ]
  },
  {
   "cell_type": "code",
   "execution_count": 24,
   "metadata": {
    "collapsed": false,
    "scrolled": true
   },
   "outputs": [
    {
     "data": {
      "text/html": [
       "<div>\n",
       "<table border=\"1\" class=\"dataframe\">\n",
       "  <thead>\n",
       "    <tr style=\"text-align: right;\">\n",
       "      <th></th>\n",
       "      <th>Number of Itemizers</th>\n",
       "      <th>Number of Non-Itemizers</th>\n",
       "      <th>Revenue</th>\n",
       "      <th>Total Giving</th>\n",
       "      <th>Total Giving: Itemizers</th>\n",
       "      <th>Total Giving: Non-Itemizers</th>\n",
       "    </tr>\n",
       "  </thead>\n",
       "  <tbody>\n",
       "    <tr>\n",
       "      <th>$0-50K</th>\n",
       "      <td>6.17</td>\n",
       "      <td>101.92</td>\n",
       "      <td>202654.84</td>\n",
       "      <td>72444.21</td>\n",
       "      <td>6724.37</td>\n",
       "      <td>65719.85</td>\n",
       "    </tr>\n",
       "    <tr>\n",
       "      <th>$50K-100K</th>\n",
       "      <td>11.87</td>\n",
       "      <td>20.53</td>\n",
       "      <td>471194.43</td>\n",
       "      <td>63684.08</td>\n",
       "      <td>25138.02</td>\n",
       "      <td>38546.06</td>\n",
       "    </tr>\n",
       "    <tr>\n",
       "      <th>$100K+</th>\n",
       "      <td>22.36</td>\n",
       "      <td>7.57</td>\n",
       "      <td>2093164.92</td>\n",
       "      <td>182022.35</td>\n",
       "      <td>150374.36</td>\n",
       "      <td>31647.99</td>\n",
       "    </tr>\n",
       "  </tbody>\n",
       "</table>\n",
       "</div>"
      ],
      "text/plain": [
       "           Number of Itemizers  Number of Non-Itemizers     Revenue  \\\n",
       "$0-50K                    6.17                   101.92   202654.84   \n",
       "$50K-100K                11.87                    20.53   471194.43   \n",
       "$100K+                   22.36                     7.57  2093164.92   \n",
       "\n",
       "           Total Giving  Total Giving: Itemizers  Total Giving: Non-Itemizers  \n",
       "$0-50K         72444.21                  6724.37                     65719.85  \n",
       "$50K-100K      63684.08                 25138.02                     38546.06  \n",
       "$100K+        182022.35                150374.36                     31647.99  "
      ]
     },
     "execution_count": 24,
     "metadata": {},
     "output_type": "execute_result"
    }
   ],
   "source": [
    "# ability for non-itemizers to itemize charitable deductions \n",
    "# elasticity: {'lower': -0.5, 'middle': -0.5, 'upper': -0.5}\n",
    "charitable_list[0]"
   ]
  },
  {
   "cell_type": "code",
   "execution_count": 25,
   "metadata": {
    "collapsed": false
   },
   "outputs": [
    {
     "data": {
      "text/html": [
       "<div>\n",
       "<table border=\"1\" class=\"dataframe\">\n",
       "  <thead>\n",
       "    <tr style=\"text-align: right;\">\n",
       "      <th></th>\n",
       "      <th>Number of Itemizers</th>\n",
       "      <th>Number of Non-Itemizers</th>\n",
       "      <th>Revenue</th>\n",
       "      <th>Total Giving</th>\n",
       "      <th>Total Giving: Itemizers</th>\n",
       "      <th>Total Giving: Non-Itemizers</th>\n",
       "    </tr>\n",
       "  </thead>\n",
       "  <tbody>\n",
       "    <tr>\n",
       "      <th>$0-50K</th>\n",
       "      <td>5.91</td>\n",
       "      <td>102.18</td>\n",
       "      <td>196969.89</td>\n",
       "      <td>183244.31</td>\n",
       "      <td>14767.47</td>\n",
       "      <td>168476.84</td>\n",
       "    </tr>\n",
       "    <tr>\n",
       "      <th>$50K-100K</th>\n",
       "      <td>11.95</td>\n",
       "      <td>20.45</td>\n",
       "      <td>456110.21</td>\n",
       "      <td>161265.43</td>\n",
       "      <td>66525.13</td>\n",
       "      <td>94740.30</td>\n",
       "    </tr>\n",
       "    <tr>\n",
       "      <th>$100K+</th>\n",
       "      <td>22.88</td>\n",
       "      <td>7.05</td>\n",
       "      <td>2023055.45</td>\n",
       "      <td>462194.94</td>\n",
       "      <td>406708.84</td>\n",
       "      <td>55486.09</td>\n",
       "    </tr>\n",
       "  </tbody>\n",
       "</table>\n",
       "</div>"
      ],
      "text/plain": [
       "           Number of Itemizers  Number of Non-Itemizers     Revenue  \\\n",
       "$0-50K                    5.91                   102.18   196969.89   \n",
       "$50K-100K                11.95                    20.45   456110.21   \n",
       "$100K+                   22.88                     7.05  2023055.45   \n",
       "\n",
       "           Total Giving  Total Giving: Itemizers  Total Giving: Non-Itemizers  \n",
       "$0-50K        183244.31                 14767.47                    168476.84  \n",
       "$50K-100K     161265.43                 66525.13                     94740.30  \n",
       "$100K+        462194.94                406708.84                     55486.09  "
      ]
     },
     "execution_count": 25,
     "metadata": {},
     "output_type": "execute_result"
    }
   ],
   "source": [
    "# ability for non-itemizers to itemize charitable deductions\n",
    "# elasticity: {'lower': -1.0, 'middle': -1.0, 'upper': -1.0}\n",
    "charitable_list[1]"
   ]
  },
  {
   "cell_type": "code",
   "execution_count": 26,
   "metadata": {
    "collapsed": false
   },
   "outputs": [
    {
     "data": {
      "text/html": [
       "<div>\n",
       "<table border=\"1\" class=\"dataframe\">\n",
       "  <thead>\n",
       "    <tr style=\"text-align: right;\">\n",
       "      <th></th>\n",
       "      <th>Number of Itemizers</th>\n",
       "      <th>Number of Non-Itemizers</th>\n",
       "      <th>Revenue</th>\n",
       "      <th>Total Giving</th>\n",
       "      <th>Total Giving: Itemizers</th>\n",
       "      <th>Total Giving: Non-Itemizers</th>\n",
       "    </tr>\n",
       "  </thead>\n",
       "  <tbody>\n",
       "    <tr>\n",
       "      <th>$0-50K</th>\n",
       "      <td>5.50</td>\n",
       "      <td>102.59</td>\n",
       "      <td>185774.85</td>\n",
       "      <td>460865.31</td>\n",
       "      <td>30609.17</td>\n",
       "      <td>430256.14</td>\n",
       "    </tr>\n",
       "    <tr>\n",
       "      <th>$50K-100K</th>\n",
       "      <td>12.07</td>\n",
       "      <td>20.33</td>\n",
       "      <td>429127.89</td>\n",
       "      <td>400497.02</td>\n",
       "      <td>170398.17</td>\n",
       "      <td>230098.85</td>\n",
       "    </tr>\n",
       "    <tr>\n",
       "      <th>$100K+</th>\n",
       "      <td>23.62</td>\n",
       "      <td>6.31</td>\n",
       "      <td>1899458.03</td>\n",
       "      <td>1133977.58</td>\n",
       "      <td>1030397.46</td>\n",
       "      <td>103580.12</td>\n",
       "    </tr>\n",
       "  </tbody>\n",
       "</table>\n",
       "</div>"
      ],
      "text/plain": [
       "           Number of Itemizers  Number of Non-Itemizers     Revenue  \\\n",
       "$0-50K                    5.50                   102.59   185774.85   \n",
       "$50K-100K                12.07                    20.33   429127.89   \n",
       "$100K+                   23.62                     6.31  1899458.03   \n",
       "\n",
       "           Total Giving  Total Giving: Itemizers  Total Giving: Non-Itemizers  \n",
       "$0-50K        460865.31                 30609.17                    430256.14  \n",
       "$50K-100K     400497.02                170398.17                    230098.85  \n",
       "$100K+       1133977.58               1030397.46                    103580.12  "
      ]
     },
     "execution_count": 26,
     "metadata": {},
     "output_type": "execute_result"
    }
   ],
   "source": [
    "# ability for non-itemizers to itemize charitable deductions\n",
    "# elasticity: {'lower': -2.236, 'middle': -1.490, 'upper': -1.182}\n",
    "charitable_list[2]"
   ]
  },
  {
   "cell_type": "markdown",
   "metadata": {},
   "source": [
    "# decrease of the highest marginal tax rate to 35% # Lower MTR Results"
   ]
  },
  {
   "cell_type": "code",
   "execution_count": 27,
   "metadata": {
    "collapsed": false
   },
   "outputs": [
    {
     "data": {
      "text/html": [
       "<div>\n",
       "<table border=\"1\" class=\"dataframe\">\n",
       "  <thead>\n",
       "    <tr style=\"text-align: right;\">\n",
       "      <th></th>\n",
       "      <th>Number of Itemizers</th>\n",
       "      <th>Number of Non-Itemizers</th>\n",
       "      <th>Revenue</th>\n",
       "      <th>Total Giving</th>\n",
       "      <th>Total Giving: Itemizers</th>\n",
       "      <th>Total Giving: Non-Itemizers</th>\n",
       "    </tr>\n",
       "  </thead>\n",
       "  <tbody>\n",
       "    <tr>\n",
       "      <th>$0-50K</th>\n",
       "      <td>7.55</td>\n",
       "      <td>100.54</td>\n",
       "      <td>205716.29</td>\n",
       "      <td>82676.78</td>\n",
       "      <td>15935.73</td>\n",
       "      <td>66741.06</td>\n",
       "    </tr>\n",
       "    <tr>\n",
       "      <th>$50K-100K</th>\n",
       "      <td>14.18</td>\n",
       "      <td>18.22</td>\n",
       "      <td>475277.99</td>\n",
       "      <td>72634.14</td>\n",
       "      <td>47779.40</td>\n",
       "      <td>24854.74</td>\n",
       "    </tr>\n",
       "    <tr>\n",
       "      <th>$100K+</th>\n",
       "      <td>23.95</td>\n",
       "      <td>5.98</td>\n",
       "      <td>2067276.72</td>\n",
       "      <td>206871.08</td>\n",
       "      <td>191885.70</td>\n",
       "      <td>14985.38</td>\n",
       "    </tr>\n",
       "  </tbody>\n",
       "</table>\n",
       "</div>"
      ],
      "text/plain": [
       "           Number of Itemizers  Number of Non-Itemizers     Revenue  \\\n",
       "$0-50K                    7.55                   100.54   205716.29   \n",
       "$50K-100K                14.18                    18.22   475277.99   \n",
       "$100K+                   23.95                     5.98  2067276.72   \n",
       "\n",
       "           Total Giving  Total Giving: Itemizers  Total Giving: Non-Itemizers  \n",
       "$0-50K         82676.78                 15935.73                     66741.06  \n",
       "$50K-100K      72634.14                 47779.40                     24854.74  \n",
       "$100K+        206871.08                191885.70                     14985.38  "
      ]
     },
     "execution_count": 27,
     "metadata": {},
     "output_type": "execute_result"
    }
   ],
   "source": [
    "# decrease of the highest marginal tax rate to 35% \n",
    "# elasticity: {'lower': -0.5, 'middle': -0.5, 'upper': -0.5}\n",
    "lower_mtr_list[0]"
   ]
  },
  {
   "cell_type": "code",
   "execution_count": 28,
   "metadata": {
    "collapsed": false
   },
   "outputs": [
    {
     "data": {
      "text/html": [
       "<div>\n",
       "<table border=\"1\" class=\"dataframe\">\n",
       "  <thead>\n",
       "    <tr style=\"text-align: right;\">\n",
       "      <th></th>\n",
       "      <th>Number of Itemizers</th>\n",
       "      <th>Number of Non-Itemizers</th>\n",
       "      <th>Revenue</th>\n",
       "      <th>Total Giving</th>\n",
       "      <th>Total Giving: Itemizers</th>\n",
       "      <th>Total Giving: Non-Itemizers</th>\n",
       "    </tr>\n",
       "  </thead>\n",
       "  <tbody>\n",
       "    <tr>\n",
       "      <th>$0-50K</th>\n",
       "      <td>7.97</td>\n",
       "      <td>100.12</td>\n",
       "      <td>204184.95</td>\n",
       "      <td>209199.21</td>\n",
       "      <td>41208.10</td>\n",
       "      <td>167991.11</td>\n",
       "    </tr>\n",
       "    <tr>\n",
       "      <th>$50K-100K</th>\n",
       "      <td>14.47</td>\n",
       "      <td>17.93</td>\n",
       "      <td>465434.96</td>\n",
       "      <td>184107.22</td>\n",
       "      <td>122280.12</td>\n",
       "      <td>61827.11</td>\n",
       "    </tr>\n",
       "    <tr>\n",
       "      <th>$100K+</th>\n",
       "      <td>24.39</td>\n",
       "      <td>5.54</td>\n",
       "      <td>1995644.58</td>\n",
       "      <td>527660.68</td>\n",
       "      <td>492924.90</td>\n",
       "      <td>34735.78</td>\n",
       "    </tr>\n",
       "  </tbody>\n",
       "</table>\n",
       "</div>"
      ],
      "text/plain": [
       "           Number of Itemizers  Number of Non-Itemizers     Revenue  \\\n",
       "$0-50K                    7.97                   100.12   204184.95   \n",
       "$50K-100K                14.47                    17.93   465434.96   \n",
       "$100K+                   24.39                     5.54  1995644.58   \n",
       "\n",
       "           Total Giving  Total Giving: Itemizers  Total Giving: Non-Itemizers  \n",
       "$0-50K        209199.21                 41208.10                    167991.11  \n",
       "$50K-100K     184107.22                122280.12                     61827.11  \n",
       "$100K+        527660.68                492924.90                     34735.78  "
      ]
     },
     "execution_count": 28,
     "metadata": {},
     "output_type": "execute_result"
    }
   ],
   "source": [
    "# decrease of the highest marginal tax rate to 35% \n",
    "# elasticity: {'lower': -1.0, 'middle': -1.0, 'upper': -1.0}\n",
    "lower_mtr_list[1]"
   ]
  },
  {
   "cell_type": "code",
   "execution_count": 29,
   "metadata": {
    "collapsed": false
   },
   "outputs": [
    {
     "data": {
      "text/html": [
       "<div>\n",
       "<table border=\"1\" class=\"dataframe\">\n",
       "  <thead>\n",
       "    <tr style=\"text-align: right;\">\n",
       "      <th></th>\n",
       "      <th>Number of Itemizers</th>\n",
       "      <th>Number of Non-Itemizers</th>\n",
       "      <th>Revenue</th>\n",
       "      <th>Total Giving</th>\n",
       "      <th>Total Giving: Itemizers</th>\n",
       "      <th>Total Giving: Non-Itemizers</th>\n",
       "    </tr>\n",
       "  </thead>\n",
       "  <tbody>\n",
       "    <tr>\n",
       "      <th>$0-50K</th>\n",
       "      <td>8.24</td>\n",
       "      <td>99.85</td>\n",
       "      <td>202639.50</td>\n",
       "      <td>526413.02</td>\n",
       "      <td>102975.73</td>\n",
       "      <td>423437.28</td>\n",
       "    </tr>\n",
       "    <tr>\n",
       "      <th>$50K-100K</th>\n",
       "      <td>20.10</td>\n",
       "      <td>12.30</td>\n",
       "      <td>448909.77</td>\n",
       "      <td>457838.95</td>\n",
       "      <td>360757.54</td>\n",
       "      <td>97081.42</td>\n",
       "    </tr>\n",
       "    <tr>\n",
       "      <th>$100K+</th>\n",
       "      <td>28.13</td>\n",
       "      <td>1.80</td>\n",
       "      <td>1872765.36</td>\n",
       "      <td>1296044.39</td>\n",
       "      <td>1276739.84</td>\n",
       "      <td>19304.55</td>\n",
       "    </tr>\n",
       "  </tbody>\n",
       "</table>\n",
       "</div>"
      ],
      "text/plain": [
       "           Number of Itemizers  Number of Non-Itemizers     Revenue  \\\n",
       "$0-50K                    8.24                    99.85   202639.50   \n",
       "$50K-100K                20.10                    12.30   448909.77   \n",
       "$100K+                   28.13                     1.80  1872765.36   \n",
       "\n",
       "           Total Giving  Total Giving: Itemizers  Total Giving: Non-Itemizers  \n",
       "$0-50K        526413.02                102975.73                    423437.28  \n",
       "$50K-100K     457838.95                360757.54                     97081.42  \n",
       "$100K+       1296044.39               1276739.84                     19304.55  "
      ]
     },
     "execution_count": 29,
     "metadata": {},
     "output_type": "execute_result"
    }
   ],
   "source": [
    "# decrease of the highest marginal tax rate to 35% \n",
    "# elasticity: {'lower': -2.236, 'middle': -1.490, 'upper': -1.182}\n",
    "lower_mtr_list[2]"
   ]
  },
  {
   "cell_type": "markdown",
   "metadata": {},
   "source": [
    "# standard deduction change and the marginal rate decrease"
   ]
  },
  {
   "cell_type": "code",
   "execution_count": 30,
   "metadata": {
    "collapsed": false,
    "scrolled": true
   },
   "outputs": [
    {
     "data": {
      "text/html": [
       "<div>\n",
       "<table border=\"1\" class=\"dataframe\">\n",
       "  <thead>\n",
       "    <tr style=\"text-align: right;\">\n",
       "      <th></th>\n",
       "      <th>Number of Itemizers</th>\n",
       "      <th>Number of Non-Itemizers</th>\n",
       "      <th>Revenue</th>\n",
       "      <th>Total Giving</th>\n",
       "      <th>Total Giving: Itemizers</th>\n",
       "      <th>Total Giving: Non-Itemizers</th>\n",
       "    </tr>\n",
       "  </thead>\n",
       "  <tbody>\n",
       "    <tr>\n",
       "      <th>$0-50K</th>\n",
       "      <td>3.98</td>\n",
       "      <td>104.11</td>\n",
       "      <td>184280.60</td>\n",
       "      <td>94218.99</td>\n",
       "      <td>12563.29</td>\n",
       "      <td>81655.70</td>\n",
       "    </tr>\n",
       "    <tr>\n",
       "      <th>$50K-100K</th>\n",
       "      <td>9.15</td>\n",
       "      <td>23.25</td>\n",
       "      <td>450260.39</td>\n",
       "      <td>82412.16</td>\n",
       "      <td>45860.77</td>\n",
       "      <td>36551.40</td>\n",
       "    </tr>\n",
       "    <tr>\n",
       "      <th>$100K+</th>\n",
       "      <td>18.83</td>\n",
       "      <td>11.10</td>\n",
       "      <td>2043614.95</td>\n",
       "      <td>235155.51</td>\n",
       "      <td>209259.87</td>\n",
       "      <td>25895.64</td>\n",
       "    </tr>\n",
       "  </tbody>\n",
       "</table>\n",
       "</div>"
      ],
      "text/plain": [
       "           Number of Itemizers  Number of Non-Itemizers     Revenue  \\\n",
       "$0-50K                    3.98                   104.11   184280.60   \n",
       "$50K-100K                 9.15                    23.25   450260.39   \n",
       "$100K+                   18.83                    11.10  2043614.95   \n",
       "\n",
       "           Total Giving  Total Giving: Itemizers  Total Giving: Non-Itemizers  \n",
       "$0-50K         94218.99                 12563.29                     81655.70  \n",
       "$50K-100K      82412.16                 45860.77                     36551.40  \n",
       "$100K+        235155.51                209259.87                     25895.64  "
      ]
     },
     "execution_count": 30,
     "metadata": {},
     "output_type": "execute_result"
    }
   ],
   "source": [
    "# standard deduction change and the marginal rate decrease\n",
    "# elasticity: {'lower': -0.5, 'middle': -0.5, 'upper': -0.5}\n",
    "std_mtr_list[0]"
   ]
  },
  {
   "cell_type": "code",
   "execution_count": 31,
   "metadata": {
    "collapsed": false
   },
   "outputs": [
    {
     "data": {
      "text/html": [
       "<div>\n",
       "<table border=\"1\" class=\"dataframe\">\n",
       "  <thead>\n",
       "    <tr style=\"text-align: right;\">\n",
       "      <th></th>\n",
       "      <th>Number of Itemizers</th>\n",
       "      <th>Number of Non-Itemizers</th>\n",
       "      <th>Revenue</th>\n",
       "      <th>Total Giving</th>\n",
       "      <th>Total Giving: Itemizers</th>\n",
       "      <th>Total Giving: Non-Itemizers</th>\n",
       "    </tr>\n",
       "  </thead>\n",
       "  <tbody>\n",
       "    <tr>\n",
       "      <th>$0-50K</th>\n",
       "      <td>4.87</td>\n",
       "      <td>103.22</td>\n",
       "      <td>183013.59</td>\n",
       "      <td>238830.39</td>\n",
       "      <td>39014.48</td>\n",
       "      <td>199815.92</td>\n",
       "    </tr>\n",
       "    <tr>\n",
       "      <th>$50K-100K</th>\n",
       "      <td>10.54</td>\n",
       "      <td>21.86</td>\n",
       "      <td>440907.35</td>\n",
       "      <td>210184.35</td>\n",
       "      <td>132173.01</td>\n",
       "      <td>78011.34</td>\n",
       "    </tr>\n",
       "    <tr>\n",
       "      <th>$100K+</th>\n",
       "      <td>20.43</td>\n",
       "      <td>9.50</td>\n",
       "      <td>1966863.12</td>\n",
       "      <td>602399.05</td>\n",
       "      <td>552530.59</td>\n",
       "      <td>49868.46</td>\n",
       "    </tr>\n",
       "  </tbody>\n",
       "</table>\n",
       "</div>"
      ],
      "text/plain": [
       "           Number of Itemizers  Number of Non-Itemizers     Revenue  \\\n",
       "$0-50K                    4.87                   103.22   183013.59   \n",
       "$50K-100K                10.54                    21.86   440907.35   \n",
       "$100K+                   20.43                     9.50  1966863.12   \n",
       "\n",
       "           Total Giving  Total Giving: Itemizers  Total Giving: Non-Itemizers  \n",
       "$0-50K        238830.39                 39014.48                    199815.92  \n",
       "$50K-100K     210184.35                132173.01                     78011.34  \n",
       "$100K+        602399.05                552530.59                     49868.46  "
      ]
     },
     "execution_count": 31,
     "metadata": {},
     "output_type": "execute_result"
    }
   ],
   "source": [
    "# standard deduction change and the marginal rate decrease\n",
    "# elasticity: {'lower': -1.0, 'middle': -1.0, 'upper': -1.0}\n",
    "std_mtr_list[1]"
   ]
  },
  {
   "cell_type": "code",
   "execution_count": 32,
   "metadata": {
    "collapsed": false
   },
   "outputs": [
    {
     "data": {
      "text/html": [
       "<div>\n",
       "<table border=\"1\" class=\"dataframe\">\n",
       "  <thead>\n",
       "    <tr style=\"text-align: right;\">\n",
       "      <th></th>\n",
       "      <th>Number of Itemizers</th>\n",
       "      <th>Number of Non-Itemizers</th>\n",
       "      <th>Revenue</th>\n",
       "      <th>Total Giving</th>\n",
       "      <th>Total Giving: Itemizers</th>\n",
       "      <th>Total Giving: Non-Itemizers</th>\n",
       "    </tr>\n",
       "  </thead>\n",
       "  <tbody>\n",
       "    <tr>\n",
       "      <th>$0-50K</th>\n",
       "      <td>5.50</td>\n",
       "      <td>102.58</td>\n",
       "      <td>181788.88</td>\n",
       "      <td>601151.85</td>\n",
       "      <td>100284.08</td>\n",
       "      <td>500867.77</td>\n",
       "    </tr>\n",
       "    <tr>\n",
       "      <th>$50K-100K</th>\n",
       "      <td>16.72</td>\n",
       "      <td>15.68</td>\n",
       "      <td>428721.36</td>\n",
       "      <td>523236.93</td>\n",
       "      <td>398112.74</td>\n",
       "      <td>125124.20</td>\n",
       "    </tr>\n",
       "    <tr>\n",
       "      <th>$100K+</th>\n",
       "      <td>25.06</td>\n",
       "      <td>4.87</td>\n",
       "      <td>1844179.20</td>\n",
       "      <td>1482314.02</td>\n",
       "      <td>1441122.26</td>\n",
       "      <td>41191.76</td>\n",
       "    </tr>\n",
       "  </tbody>\n",
       "</table>\n",
       "</div>"
      ],
      "text/plain": [
       "           Number of Itemizers  Number of Non-Itemizers     Revenue  \\\n",
       "$0-50K                    5.50                   102.58   181788.88   \n",
       "$50K-100K                16.72                    15.68   428721.36   \n",
       "$100K+                   25.06                     4.87  1844179.20   \n",
       "\n",
       "           Total Giving  Total Giving: Itemizers  Total Giving: Non-Itemizers  \n",
       "$0-50K        601151.85                100284.08                    500867.77  \n",
       "$50K-100K     523236.93                398112.74                    125124.20  \n",
       "$100K+       1482314.02               1441122.26                     41191.76  "
      ]
     },
     "execution_count": 32,
     "metadata": {},
     "output_type": "execute_result"
    }
   ],
   "source": [
    "# standard deduction change and the marginal rate decrease\n",
    "# elasticity: {'lower': -2.236, 'middle': -1.490, 'upper': -1.182}\n",
    "std_mtr_list[2]"
   ]
  },
  {
   "cell_type": "markdown",
   "metadata": {},
   "source": [
    "# standard deduction change AND the non-itemizer deduction change"
   ]
  },
  {
   "cell_type": "code",
   "execution_count": 33,
   "metadata": {
    "collapsed": false,
    "scrolled": true
   },
   "outputs": [
    {
     "data": {
      "text/html": [
       "<div>\n",
       "<table border=\"1\" class=\"dataframe\">\n",
       "  <thead>\n",
       "    <tr style=\"text-align: right;\">\n",
       "      <th></th>\n",
       "      <th>Number of Itemizers</th>\n",
       "      <th>Number of Non-Itemizers</th>\n",
       "      <th>Revenue</th>\n",
       "      <th>Total Giving</th>\n",
       "      <th>Total Giving: Itemizers</th>\n",
       "      <th>Total Giving: Non-Itemizers</th>\n",
       "    </tr>\n",
       "  </thead>\n",
       "  <tbody>\n",
       "    <tr>\n",
       "      <th>$0-50K</th>\n",
       "      <td>2.75</td>\n",
       "      <td>105.34</td>\n",
       "      <td>180083.91</td>\n",
       "      <td>107627.14</td>\n",
       "      <td>3775.73</td>\n",
       "      <td>103851.41</td>\n",
       "    </tr>\n",
       "    <tr>\n",
       "      <th>$50K-100K</th>\n",
       "      <td>6.47</td>\n",
       "      <td>25.93</td>\n",
       "      <td>439566.50</td>\n",
       "      <td>94306.54</td>\n",
       "      <td>21378.94</td>\n",
       "      <td>72927.60</td>\n",
       "    </tr>\n",
       "    <tr>\n",
       "      <th>$100K+</th>\n",
       "      <td>16.34</td>\n",
       "      <td>13.59</td>\n",
       "      <td>2049491.58</td>\n",
       "      <td>268903.48</td>\n",
       "      <td>207915.48</td>\n",
       "      <td>60988.00</td>\n",
       "    </tr>\n",
       "  </tbody>\n",
       "</table>\n",
       "</div>"
      ],
      "text/plain": [
       "           Number of Itemizers  Number of Non-Itemizers     Revenue  \\\n",
       "$0-50K                    2.75                   105.34   180083.91   \n",
       "$50K-100K                 6.47                    25.93   439566.50   \n",
       "$100K+                   16.34                    13.59  2049491.58   \n",
       "\n",
       "           Total Giving  Total Giving: Itemizers  Total Giving: Non-Itemizers  \n",
       "$0-50K        107627.14                  3775.73                    103851.41  \n",
       "$50K-100K      94306.54                 21378.94                     72927.60  \n",
       "$100K+        268903.48                207915.48                     60988.00  "
      ]
     },
     "execution_count": 33,
     "metadata": {},
     "output_type": "execute_result"
    }
   ],
   "source": [
    "# standard deduction change AND the non-itemizer deduction change\n",
    "# elasticity: {'lower': -0.5, 'middle': -0.5, 'upper': -0.5}\n",
    "std_charitable_list[0]"
   ]
  },
  {
   "cell_type": "code",
   "execution_count": 34,
   "metadata": {
    "collapsed": false
   },
   "outputs": [
    {
     "data": {
      "text/html": [
       "<div>\n",
       "<table border=\"1\" class=\"dataframe\">\n",
       "  <thead>\n",
       "    <tr style=\"text-align: right;\">\n",
       "      <th></th>\n",
       "      <th>Number of Itemizers</th>\n",
       "      <th>Number of Non-Itemizers</th>\n",
       "      <th>Revenue</th>\n",
       "      <th>Total Giving</th>\n",
       "      <th>Total Giving: Itemizers</th>\n",
       "      <th>Total Giving: Non-Itemizers</th>\n",
       "    </tr>\n",
       "  </thead>\n",
       "  <tbody>\n",
       "    <tr>\n",
       "      <th>$0-50K</th>\n",
       "      <td>2.60</td>\n",
       "      <td>105.49</td>\n",
       "      <td>174271.74</td>\n",
       "      <td>272658.56</td>\n",
       "      <td>7809.63</td>\n",
       "      <td>264848.93</td>\n",
       "    </tr>\n",
       "    <tr>\n",
       "      <th>$50K-100K</th>\n",
       "      <td>6.76</td>\n",
       "      <td>25.64</td>\n",
       "      <td>420880.77</td>\n",
       "      <td>239955.07</td>\n",
       "      <td>66661.83</td>\n",
       "      <td>173293.24</td>\n",
       "    </tr>\n",
       "    <tr>\n",
       "      <th>$100K+</th>\n",
       "      <td>17.94</td>\n",
       "      <td>11.99</td>\n",
       "      <td>1959089.40</td>\n",
       "      <td>687723.44</td>\n",
       "      <td>591344.21</td>\n",
       "      <td>96379.23</td>\n",
       "    </tr>\n",
       "  </tbody>\n",
       "</table>\n",
       "</div>"
      ],
      "text/plain": [
       "           Number of Itemizers  Number of Non-Itemizers     Revenue  \\\n",
       "$0-50K                    2.60                   105.49   174271.74   \n",
       "$50K-100K                 6.76                    25.64   420880.77   \n",
       "$100K+                   17.94                    11.99  1959089.40   \n",
       "\n",
       "           Total Giving  Total Giving: Itemizers  Total Giving: Non-Itemizers  \n",
       "$0-50K        272658.56                  7809.63                    264848.93  \n",
       "$50K-100K     239955.07                 66661.83                    173293.24  \n",
       "$100K+        687723.44                591344.21                     96379.23  "
      ]
     },
     "execution_count": 34,
     "metadata": {},
     "output_type": "execute_result"
    }
   ],
   "source": [
    "# standard deduction change AND the non-itemizer deduction change\n",
    "# elasticity: {'lower': -1.0, 'middle': -1.0, 'upper': -1.0}\n",
    "std_charitable_list[1]"
   ]
  },
  {
   "cell_type": "code",
   "execution_count": 35,
   "metadata": {
    "collapsed": false
   },
   "outputs": [
    {
     "data": {
      "text/html": [
       "<div>\n",
       "<table border=\"1\" class=\"dataframe\">\n",
       "  <thead>\n",
       "    <tr style=\"text-align: right;\">\n",
       "      <th></th>\n",
       "      <th>Number of Itemizers</th>\n",
       "      <th>Number of Non-Itemizers</th>\n",
       "      <th>Revenue</th>\n",
       "      <th>Total Giving</th>\n",
       "      <th>Total Giving: Itemizers</th>\n",
       "      <th>Total Giving: Non-Itemizers</th>\n",
       "    </tr>\n",
       "  </thead>\n",
       "  <tbody>\n",
       "    <tr>\n",
       "      <th>$0-50K</th>\n",
       "      <td>2.47</td>\n",
       "      <td>105.62</td>\n",
       "      <td>163285.93</td>\n",
       "      <td>686640.34</td>\n",
       "      <td>17233.39</td>\n",
       "      <td>669406.95</td>\n",
       "    </tr>\n",
       "    <tr>\n",
       "      <th>$50K-100K</th>\n",
       "      <td>7.12</td>\n",
       "      <td>25.28</td>\n",
       "      <td>389903.90</td>\n",
       "      <td>598275.95</td>\n",
       "      <td>180852.16</td>\n",
       "      <td>417423.78</td>\n",
       "    </tr>\n",
       "    <tr>\n",
       "      <th>$100K+</th>\n",
       "      <td>20.09</td>\n",
       "      <td>9.84</td>\n",
       "      <td>1822406.39</td>\n",
       "      <td>1696219.63</td>\n",
       "      <td>1535961.76</td>\n",
       "      <td>160257.88</td>\n",
       "    </tr>\n",
       "  </tbody>\n",
       "</table>\n",
       "</div>"
      ],
      "text/plain": [
       "           Number of Itemizers  Number of Non-Itemizers     Revenue  \\\n",
       "$0-50K                    2.47                   105.62   163285.93   \n",
       "$50K-100K                 7.12                    25.28   389903.90   \n",
       "$100K+                   20.09                     9.84  1822406.39   \n",
       "\n",
       "           Total Giving  Total Giving: Itemizers  Total Giving: Non-Itemizers  \n",
       "$0-50K        686640.34                 17233.39                    669406.95  \n",
       "$50K-100K     598275.95                180852.16                    417423.78  \n",
       "$100K+       1696219.63               1535961.76                    160257.88  "
      ]
     },
     "execution_count": 35,
     "metadata": {},
     "output_type": "execute_result"
    }
   ],
   "source": [
    "# standard deduction change AND the non-itemizer deduction change\n",
    "# elasticity: {'lower': -2.236, 'middle': -1.490, 'upper': -1.182}\n",
    "std_charitable_list[2]"
   ]
  },
  {
   "cell_type": "markdown",
   "metadata": {},
   "source": [
    "# all three changes (standard deduction increase, non-itemizer deductions, and marginal tax rate decrease)"
   ]
  },
  {
   "cell_type": "code",
   "execution_count": 36,
   "metadata": {
    "collapsed": false
   },
   "outputs": [
    {
     "data": {
      "text/html": [
       "<div>\n",
       "<table border=\"1\" class=\"dataframe\">\n",
       "  <thead>\n",
       "    <tr style=\"text-align: right;\">\n",
       "      <th></th>\n",
       "      <th>Number of Itemizers</th>\n",
       "      <th>Number of Non-Itemizers</th>\n",
       "      <th>Revenue</th>\n",
       "      <th>Total Giving</th>\n",
       "      <th>Total Giving: Itemizers</th>\n",
       "      <th>Total Giving: Non-Itemizers</th>\n",
       "    </tr>\n",
       "  </thead>\n",
       "  <tbody>\n",
       "    <tr>\n",
       "      <th>$0-50K</th>\n",
       "      <td>2.73</td>\n",
       "      <td>105.35</td>\n",
       "      <td>179474.96</td>\n",
       "      <td>122868.96</td>\n",
       "      <td>4168.99</td>\n",
       "      <td>118699.96</td>\n",
       "    </tr>\n",
       "    <tr>\n",
       "      <th>$50K-100K</th>\n",
       "      <td>6.50</td>\n",
       "      <td>25.90</td>\n",
       "      <td>437565.29</td>\n",
       "      <td>107649.19</td>\n",
       "      <td>25108.42</td>\n",
       "      <td>82540.77</td>\n",
       "    </tr>\n",
       "    <tr>\n",
       "      <th>$100K+</th>\n",
       "      <td>16.50</td>\n",
       "      <td>13.43</td>\n",
       "      <td>2016655.47</td>\n",
       "      <td>306300.20</td>\n",
       "      <td>241008.05</td>\n",
       "      <td>65292.15</td>\n",
       "    </tr>\n",
       "  </tbody>\n",
       "</table>\n",
       "</div>"
      ],
      "text/plain": [
       "           Number of Itemizers  Number of Non-Itemizers     Revenue  \\\n",
       "$0-50K                    2.73                   105.35   179474.96   \n",
       "$50K-100K                 6.50                    25.90   437565.29   \n",
       "$100K+                   16.50                    13.43  2016655.47   \n",
       "\n",
       "           Total Giving  Total Giving: Itemizers  Total Giving: Non-Itemizers  \n",
       "$0-50K        122868.96                  4168.99                    118699.96  \n",
       "$50K-100K     107649.19                 25108.42                     82540.77  \n",
       "$100K+        306300.20                241008.05                     65292.15  "
      ]
     },
     "execution_count": 36,
     "metadata": {},
     "output_type": "execute_result"
    }
   ],
   "source": [
    "# all three changes (standard deduction increase, non-itemizer deductions, and marginal tax rate decrease)\n",
    "# elasticity: {'lower': -0.5, 'middle': -0.5, 'upper': -0.5}\n",
    "all_three_list[0]"
   ]
  },
  {
   "cell_type": "code",
   "execution_count": 37,
   "metadata": {
    "collapsed": false
   },
   "outputs": [
    {
     "data": {
      "text/html": [
       "<div>\n",
       "<table border=\"1\" class=\"dataframe\">\n",
       "  <thead>\n",
       "    <tr style=\"text-align: right;\">\n",
       "      <th></th>\n",
       "      <th>Number of Itemizers</th>\n",
       "      <th>Number of Non-Itemizers</th>\n",
       "      <th>Revenue</th>\n",
       "      <th>Total Giving</th>\n",
       "      <th>Total Giving: Itemizers</th>\n",
       "      <th>Total Giving: Non-Itemizers</th>\n",
       "    </tr>\n",
       "  </thead>\n",
       "  <tbody>\n",
       "    <tr>\n",
       "      <th>$0-50K</th>\n",
       "      <td>2.59</td>\n",
       "      <td>105.50</td>\n",
       "      <td>173093.73</td>\n",
       "      <td>311278.19</td>\n",
       "      <td>8815.38</td>\n",
       "      <td>302462.81</td>\n",
       "    </tr>\n",
       "    <tr>\n",
       "      <th>$50K-100K</th>\n",
       "      <td>6.81</td>\n",
       "      <td>25.59</td>\n",
       "      <td>417323.49</td>\n",
       "      <td>273942.54</td>\n",
       "      <td>77645.38</td>\n",
       "      <td>196297.16</td>\n",
       "    </tr>\n",
       "    <tr>\n",
       "      <th>$100K+</th>\n",
       "      <td>18.19</td>\n",
       "      <td>11.74</td>\n",
       "      <td>1920323.31</td>\n",
       "      <td>785133.26</td>\n",
       "      <td>682675.35</td>\n",
       "      <td>102457.91</td>\n",
       "    </tr>\n",
       "  </tbody>\n",
       "</table>\n",
       "</div>"
      ],
      "text/plain": [
       "           Number of Itemizers  Number of Non-Itemizers     Revenue  \\\n",
       "$0-50K                    2.59                   105.50   173093.73   \n",
       "$50K-100K                 6.81                    25.59   417323.49   \n",
       "$100K+                   18.19                    11.74  1920323.31   \n",
       "\n",
       "           Total Giving  Total Giving: Itemizers  Total Giving: Non-Itemizers  \n",
       "$0-50K        311278.19                  8815.38                    302462.81  \n",
       "$50K-100K     273942.54                 77645.38                    196297.16  \n",
       "$100K+        785133.26                682675.35                    102457.91  "
      ]
     },
     "execution_count": 37,
     "metadata": {},
     "output_type": "execute_result"
    }
   ],
   "source": [
    "# all three changes (standard deduction increase, non-itemizer deductions, and marginal tax rate decrease)\n",
    "# elasticity: {'lower': -1.0, 'middle': -1.0, 'upper': -1.0}\n",
    "all_three_list[1]"
   ]
  },
  {
   "cell_type": "code",
   "execution_count": 38,
   "metadata": {
    "collapsed": false
   },
   "outputs": [
    {
     "data": {
      "text/html": [
       "<div>\n",
       "<table border=\"1\" class=\"dataframe\">\n",
       "  <thead>\n",
       "    <tr style=\"text-align: right;\">\n",
       "      <th></th>\n",
       "      <th>Number of Itemizers</th>\n",
       "      <th>Number of Non-Itemizers</th>\n",
       "      <th>Revenue</th>\n",
       "      <th>Total Giving</th>\n",
       "      <th>Total Giving: Itemizers</th>\n",
       "      <th>Total Giving: Non-Itemizers</th>\n",
       "    </tr>\n",
       "  </thead>\n",
       "  <tbody>\n",
       "    <tr>\n",
       "      <th>$0-50K</th>\n",
       "      <td>2.46</td>\n",
       "      <td>105.63</td>\n",
       "      <td>161122.49</td>\n",
       "      <td>784217.46</td>\n",
       "      <td>19521.13</td>\n",
       "      <td>764696.33</td>\n",
       "    </tr>\n",
       "    <tr>\n",
       "      <th>$50K-100K</th>\n",
       "      <td>7.23</td>\n",
       "      <td>25.17</td>\n",
       "      <td>384081.92</td>\n",
       "      <td>683985.01</td>\n",
       "      <td>209512.01</td>\n",
       "      <td>474473.00</td>\n",
       "    </tr>\n",
       "    <tr>\n",
       "      <th>$100K+</th>\n",
       "      <td>20.71</td>\n",
       "      <td>9.22</td>\n",
       "      <td>1780679.04</td>\n",
       "      <td>1939830.13</td>\n",
       "      <td>1775687.52</td>\n",
       "      <td>164142.61</td>\n",
       "    </tr>\n",
       "  </tbody>\n",
       "</table>\n",
       "</div>"
      ],
      "text/plain": [
       "           Number of Itemizers  Number of Non-Itemizers     Revenue  \\\n",
       "$0-50K                    2.46                   105.63   161122.49   \n",
       "$50K-100K                 7.23                    25.17   384081.92   \n",
       "$100K+                   20.71                     9.22  1780679.04   \n",
       "\n",
       "           Total Giving  Total Giving: Itemizers  Total Giving: Non-Itemizers  \n",
       "$0-50K        784217.46                 19521.13                    764696.33  \n",
       "$50K-100K     683985.01                209512.01                    474473.00  \n",
       "$100K+       1939830.13               1775687.52                    164142.61  "
      ]
     },
     "execution_count": 38,
     "metadata": {},
     "output_type": "execute_result"
    }
   ],
   "source": [
    "# all three changes (standard deduction increase, non-itemizer deductions, and marginal tax rate decrease)\n",
    "# elasticity: {'lower': -2.236, 'middle': -1.490, 'upper': -1.182}\n",
    "all_three_list[2]"
   ]
  }
 ],
 "metadata": {
  "anaconda-cloud": {},
  "kernelspec": {
   "display_name": "Python [conda root]",
   "language": "python",
   "name": "conda-root-py"
  },
  "language_info": {
   "codemirror_mode": {
    "name": "ipython",
    "version": 2
   },
   "file_extension": ".py",
   "mimetype": "text/x-python",
   "name": "python",
   "nbconvert_exporter": "python",
   "pygments_lexer": "ipython2",
   "version": "2.7.13"
  }
 },
 "nbformat": 4,
 "nbformat_minor": 1
}
